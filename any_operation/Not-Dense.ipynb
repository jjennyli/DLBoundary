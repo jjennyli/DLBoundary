{
 "cells": [
  {
   "cell_type": "markdown",
   "metadata": {},
   "source": [
    "# Not Fully Connected"
   ]
  },
  {
   "cell_type": "markdown",
   "metadata": {},
   "source": [
    "## Imports\n"
   ]
  },
  {
   "cell_type": "code",
   "execution_count": 1,
   "metadata": {},
   "outputs": [],
   "source": [
    "from tensorflow.keras.layers import Input, Lambda, Dense, concatenate\n",
    "from tensorflow.keras.models import Model\n",
    "\n",
    "import matplotlib.pyplot as plt\n",
    "import random\n",
    "import numpy as np\n",
    "\n",
    "from tensorflow.keras.callbacks import EarlyStopping\n",
    "\n"
   ]
  },
  {
   "cell_type": "markdown",
   "metadata": {},
   "source": [
    "## Data"
   ]
  },
  {
   "cell_type": "code",
   "execution_count": 2,
   "metadata": {},
   "outputs": [],
   "source": [
    "def gen_data_add(num_examples, range_start, range_end):\n",
    "    X = []\n",
    "    y = []\n",
    "    for ex in range(num_examples):\n",
    "        num1 = int(random.random()*(range_end - range_start) + range_start)\n",
    "        num2 = int(random.random()*(range_end - range_start) + range_start)\n",
    "\n",
    "        X.append([num1,num2,43])        \n",
    "        y.append(num1+num2)\n",
    "    return np.array(X), np.array(y)\n",
    "\n",
    "def gen_data_sub(num_examples, range_start, range_end):\n",
    "    X = []\n",
    "    y = []\n",
    "    for ex in range(num_examples):\n",
    "        num1 = int(random.random()*(range_end - range_start) + range_start)\n",
    "        num2 = int(random.random()*(range_end - range_start) + range_start)\n",
    "\n",
    "        X.append([num1,num2,145])        \n",
    "        y.append(num1-num2)\n",
    "    return np.array(X), np.array(y)\n",
    "\n",
    "def gen_data_mult(num_examples, range_start, range_end):\n",
    "    X = []\n",
    "    y = []\n",
    "    for ex in range(num_examples):\n",
    "        num1 = int(random.random()*(range_end - range_start) + range_start)\n",
    "        num2 = int(random.random()*(range_end - range_start) + range_start)\n",
    "\n",
    "        X.append([num1,num2,242])        \n",
    "        y.append(num1*num2)\n",
    "    return np.array(X), np.array(y)\n",
    "\n",
    "def gen_data_div(num_examples, range_start, range_end):\n",
    "    X = []\n",
    "    y = []\n",
    "    for ex in range(num_examples):\n",
    "        num1 = int(random.random()*(range_end - range_start) + range_start)\n",
    "        num2 = int(random.random()*(range_end - range_start) + range_start)\n",
    "\n",
    "        X.append([num1,num2,347])        \n",
    "        y.append(num1/num2)\n",
    "    return np.array(X), np.array(y)\n",
    "\n",
    "def gen_data(num_examples, range_start, range_end):\n",
    "    num_examples = int(num_examples/4)\n",
    "    \n",
    "    ax, ay = gen_data_add(num_examples, range_start, range_end)\n",
    "    mx, my = gen_data_sub(num_examples, range_start, range_end)\n",
    "    mux, muy = gen_data_mult(num_examples, range_start, range_end)\n",
    "    dx, dy = gen_data_div(num_examples, range_start, range_end)\n",
    "    \n",
    "    X = np.concatenate((ax, mx, mux, dx))\n",
    "    y = np.concatenate((ay, my, muy, dy))\n",
    "    \n",
    "    return X, y"
   ]
  },
  {
   "cell_type": "code",
   "execution_count": 3,
   "metadata": {},
   "outputs": [
    {
     "data": {
      "text/plain": [
       "[(10, 1, 3), (10,), (10, 1, 3), (10,)]"
      ]
     },
     "execution_count": 3,
     "metadata": {},
     "output_type": "execute_result"
    }
   ],
   "source": [
    "x_train, y_train = gen_data_add(10, -50, 50)\n",
    "x_test, y_test = gen_data_add(10, 50, 200)\n",
    "\n",
    "x_train = x_train.reshape(x_train.shape[0], 1, x_train.shape[1])\n",
    "x_test = x_test.reshape(x_test.shape[0], 1,  x_test.shape[1])\n",
    "[a.shape for a in [x_train, y_train, x_test, y_test]]"
   ]
  },
  {
   "attachments": {
    "image.png": {
     "image/png": "[encoded data removed]"
    }
   },
   "cell_type": "markdown",
   "metadata": {},
   "source": [
    "## Sample Model\n",
    "![image.png](attachment:image.png)"
   ]
  },
  {
   "cell_type": "markdown",
   "metadata": {},
   "source": [
    "## Building The Model\n"
   ]
  },
  {
   "cell_type": "markdown",
   "metadata": {},
   "source": [
    "### Input Layer"
   ]
  },
  {
   "cell_type": "code",
   "execution_count": 4,
   "metadata": {},
   "outputs": [],
   "source": [
    "# Input layer of 3 neurons \n",
    "inp = Input(shape=(1,3))"
   ]
  },
  {
   "cell_type": "markdown",
   "metadata": {},
   "source": [
    "### Hidden Layers"
   ]
  },
  {
   "cell_type": "code",
   "execution_count": 5,
   "metadata": {},
   "outputs": [],
   "source": [
    "#128 layer\n",
    "d2_out = Dense(128)(inp)\n",
    "\n",
    "#grab first, 2nd half of the 128 layer\n",
    "d2_out_p1 = Lambda(lambda x: x[:,:,0:64])(d2_out)\n",
    "d2_out_p2 = Lambda(lambda x: x[:,:,64:128])(d2_out)\n",
    "\n",
    "#64 layer(s)\n",
    "d3_out = Dense(64)(d2_out_p1)\n",
    "d4_out = Dense(64)(d2_out_p2)\n",
    "\n",
    "#grab output nodes from both 64 layers\n",
    "d5_out = concatenate([d3_out, d4_out])"
   ]
  },
  {
   "cell_type": "markdown",
   "metadata": {},
   "source": [
    "### Output Layer"
   ]
  },
  {
   "cell_type": "code",
   "execution_count": 6,
   "metadata": {},
   "outputs": [],
   "source": [
    "o = Dense(1)(d5_out)"
   ]
  },
  {
   "cell_type": "markdown",
   "metadata": {},
   "source": [
    "### Keras Model"
   ]
  },
  {
   "cell_type": "code",
   "execution_count": 7,
   "metadata": {},
   "outputs": [],
   "source": [
    "model = Model(inp, o)\n",
    "\n",
    "model.compile(\n",
    "    loss=\"MeanSquaredError\",\n",
    "    metrics=['accuracy']\n",
    ")\n"
   ]
  },
  {
   "cell_type": "markdown",
   "metadata": {},
   "source": [
    "## Train Model"
   ]
  },
  {
   "cell_type": "code",
   "execution_count": 8,
   "metadata": {},
   "outputs": [
    {
     "name": "stdout",
     "output_type": "stream",
     "text": [
      "Epoch 1/100\n",
      "1/1 [==============================] - 1s 572ms/step - loss: 2323.4194 - accuracy: 0.0000e+00 - val_loss: 36488.9609 - val_accuracy: 0.0000e+00\n",
      "Epoch 2/100\n",
      "1/1 [==============================] - 0s 74ms/step - loss: 1373.3757 - accuracy: 0.0000e+00 - val_loss: 23627.9336 - val_accuracy: 0.0000e+00\n",
      "Epoch 3/100\n",
      "1/1 [==============================] - 0s 66ms/step - loss: 901.7826 - accuracy: 0.0000e+00 - val_loss: 15875.6934 - val_accuracy: 0.0000e+00\n",
      "Epoch 4/100\n",
      "1/1 [==============================] - 0s 75ms/step - loss: 599.9510 - accuracy: 0.0000e+00 - val_loss: 10448.7725 - val_accuracy: 0.0000e+00\n",
      "Epoch 5/100\n",
      "1/1 [==============================] - 0s 83ms/step - loss: 394.7541 - accuracy: 0.0000e+00 - val_loss: 6728.7031 - val_accuracy: 0.0000e+00\n",
      "Epoch 6/100\n",
      "1/1 [==============================] - 0s 117ms/step - loss: 253.6013 - accuracy: 0.0000e+00 - val_loss: 4188.3027 - val_accuracy: 0.0000e+00\n",
      "Epoch 7/100\n",
      "1/1 [==============================] - 0s 85ms/step - loss: 157.7183 - accuracy: 0.0000e+00 - val_loss: 2507.5664 - val_accuracy: 0.0000e+00\n",
      "Epoch 8/100\n",
      "1/1 [==============================] - 0s 69ms/step - loss: 94.3083 - accuracy: 0.0000e+00 - val_loss: 1434.1633 - val_accuracy: 0.0000e+00\n",
      "Epoch 9/100\n",
      "1/1 [==============================] - 0s 96ms/step - loss: 53.9086 - accuracy: 0.0000e+00 - val_loss: 780.4022 - val_accuracy: 0.0000e+00\n",
      "Epoch 10/100\n",
      "1/1 [==============================] - 0s 208ms/step - loss: 29.3126 - accuracy: 0.0000e+00 - val_loss: 401.9301 - val_accuracy: 0.0000e+00\n",
      "Epoch 11/100\n",
      "1/1 [==============================] - 0s 129ms/step - loss: 15.0972 - accuracy: 0.0000e+00 - val_loss: 195.4492 - val_accuracy: 0.0000e+00\n",
      "Epoch 12/100\n",
      "1/1 [==============================] - 0s 118ms/step - loss: 7.3384 - accuracy: 0.0000e+00 - val_loss: 89.2765 - val_accuracy: 0.0000e+00\n",
      "Epoch 13/100\n",
      "1/1 [==============================] - 0s 82ms/step - loss: 3.3555 - accuracy: 0.0000e+00 - val_loss: 38.3242 - val_accuracy: 0.0000e+00\n",
      "Epoch 14/100\n",
      "1/1 [==============================] - 0s 106ms/step - loss: 1.4389 - accuracy: 0.0000e+00 - val_loss: 15.2929 - val_accuracy: 0.0000e+00\n",
      "Epoch 15/100\n",
      "1/1 [==============================] - 0s 110ms/step - loss: 0.5768 - accuracy: 0.0000e+00 - val_loss: 5.7634 - val_accuracy: 0.0000e+00\n",
      "Epoch 16/100\n",
      "1/1 [==============================] - 0s 153ms/step - loss: 0.2154 - accuracy: 0.0000e+00 - val_loss: 1.9293 - val_accuracy: 0.0000e+00\n",
      "Epoch 17/100\n",
      "1/1 [==============================] - 0s 137ms/step - loss: 0.0750 - accuracy: 0.0000e+00 - val_loss: 0.6881 - val_accuracy: 0.0000e+00\n",
      "Epoch 18/100\n",
      "1/1 [==============================] - 0s 111ms/step - loss: 0.0259 - accuracy: 0.0000e+00 - val_loss: 0.1233 - val_accuracy: 0.0000e+00\n",
      "Epoch 19/100\n",
      "1/1 [==============================] - 0s 99ms/step - loss: 0.0173 - accuracy: 0.0000e+00 - val_loss: 0.1686 - val_accuracy: 0.0000e+00\n",
      "Epoch 20/100\n",
      "1/1 [==============================] - 0s 108ms/step - loss: 0.0610 - accuracy: 0.0000e+00 - val_loss: 0.1436 - val_accuracy: 0.0000e+00\n",
      "Epoch 21/100\n",
      "1/1 [==============================] - 0s 92ms/step - loss: 0.3796 - accuracy: 0.0000e+00 - val_loss: 1.5624 - val_accuracy: 0.0000e+00\n",
      "Epoch 22/100\n",
      "1/1 [==============================] - 0s 87ms/step - loss: 2.3838 - accuracy: 0.0000e+00 - val_loss: 4.8769 - val_accuracy: 0.0000e+00\n",
      "Epoch 23/100\n",
      "1/1 [==============================] - 0s 71ms/step - loss: 9.8619 - accuracy: 0.0000e+00 - val_loss: 7.6927 - val_accuracy: 0.0000e+00\n",
      "Epoch 24/100\n",
      "1/1 [==============================] - 0s 80ms/step - loss: 18.0614 - accuracy: 0.0000e+00 - val_loss: 3.7348 - val_accuracy: 0.0000e+00\n",
      "Epoch 25/100\n",
      "1/1 [==============================] - 0s 80ms/step - loss: 16.2428 - accuracy: 0.0000e+00 - val_loss: 2.9902 - val_accuracy: 0.0000e+00\n",
      "Epoch 26/100\n",
      "1/1 [==============================] - 0s 91ms/step - loss: 9.8183 - accuracy: 0.0000e+00 - val_loss: 0.9228 - val_accuracy: 0.0000e+00\n",
      "Epoch 27/100\n",
      "1/1 [==============================] - 0s 203ms/step - loss: 5.5997 - accuracy: 0.0000e+00 - val_loss: 0.8497 - val_accuracy: 0.0000e+00\n",
      "Epoch 28/100\n",
      "1/1 [==============================] - 0s 104ms/step - loss: 3.3390 - accuracy: 0.0000e+00 - val_loss: 0.3869 - val_accuracy: 0.0000e+00\n",
      "Epoch 29/100\n",
      "1/1 [==============================] - 0s 95ms/step - loss: 2.3041 - accuracy: 0.0000e+00 - val_loss: 0.3941 - val_accuracy: 0.0000e+00\n",
      "Epoch 30/100\n",
      "1/1 [==============================] - 0s 86ms/step - loss: 1.8339 - accuracy: 0.0000e+00 - val_loss: 0.2983 - val_accuracy: 0.0000e+00\n",
      "Epoch 31/100\n",
      "1/1 [==============================] - 0s 114ms/step - loss: 1.7265 - accuracy: 0.0000e+00 - val_loss: 0.3664 - val_accuracy: 0.0000e+00\n",
      "Epoch 32/100\n",
      "1/1 [==============================] - 0s 114ms/step - loss: 1.8779 - accuracy: 0.0000e+00 - val_loss: 0.3944 - val_accuracy: 0.0000e+00\n",
      "Epoch 33/100\n",
      "1/1 [==============================] - 0s 89ms/step - loss: 2.3626 - accuracy: 0.0000e+00 - val_loss: 0.5981 - val_accuracy: 0.0000e+00\n",
      "Epoch 34/100\n",
      "1/1 [==============================] - 0s 109ms/step - loss: 3.3057 - accuracy: 0.0000e+00 - val_loss: 0.7521 - val_accuracy: 0.0000e+00\n",
      "Epoch 35/100\n",
      "1/1 [==============================] - 0s 100ms/step - loss: 5.0249 - accuracy: 0.0000e+00 - val_loss: 1.2185 - val_accuracy: 0.0000e+00\n",
      "Epoch 36/100\n",
      "1/1 [==============================] - 0s 148ms/step - loss: 7.6694 - accuracy: 0.0000e+00 - val_loss: 1.2959 - val_accuracy: 0.0000e+00\n",
      "Epoch 37/100\n",
      "1/1 [==============================] - 0s 131ms/step - loss: 11.0571 - accuracy: 0.0000e+00 - val_loss: 1.6631 - val_accuracy: 0.0000e+00\n",
      "Epoch 38/100\n",
      "1/1 [==============================] - 0s 85ms/step - loss: 13.4904 - accuracy: 0.0000e+00 - val_loss: 1.2587 - val_accuracy: 0.0000e+00\n",
      "Epoch 39/100\n",
      "1/1 [==============================] - 0s 96ms/step - loss: 13.8988 - accuracy: 0.0000e+00 - val_loss: 1.1460 - val_accuracy: 0.0000e+00\n",
      "Epoch 40/100\n",
      "1/1 [==============================] - 0s 90ms/step - loss: 11.9142 - accuracy: 0.0000e+00 - val_loss: 0.8696 - val_accuracy: 0.0000e+00\n",
      "Epoch 41/100\n",
      "1/1 [==============================] - 0s 101ms/step - loss: 9.5833 - accuracy: 0.0000e+00 - val_loss: 0.6489 - val_accuracy: 0.0000e+00\n",
      "Epoch 42/100\n",
      "1/1 [==============================] - 0s 86ms/step - loss: 7.3972 - accuracy: 0.0000e+00 - val_loss: 0.5803 - val_accuracy: 0.0000e+00\n",
      "Epoch 43/100\n",
      "1/1 [==============================] - 0s 73ms/step - loss: 6.0552 - accuracy: 0.0000e+00 - val_loss: 0.4626 - val_accuracy: 0.0000e+00\n",
      "Epoch 44/100\n",
      "1/1 [==============================] - 0s 76ms/step - loss: 5.2065 - accuracy: 0.0000e+00 - val_loss: 0.4982 - val_accuracy: 0.0000e+00\n",
      "Epoch 45/100\n",
      "1/1 [==============================] - 0s 75ms/step - loss: 4.9495 - accuracy: 0.0000e+00 - val_loss: 0.4671 - val_accuracy: 0.0000e+00\n",
      "Epoch 46/100\n",
      "1/1 [==============================] - 0s 69ms/step - loss: 5.0400 - accuracy: 0.0000e+00 - val_loss: 0.6029 - val_accuracy: 0.0000e+00\n",
      "Epoch 47/100\n",
      "1/1 [==============================] - 0s 78ms/step - loss: 5.6178 - accuracy: 0.0000e+00 - val_loss: 0.6386 - val_accuracy: 0.0000e+00\n",
      "Epoch 48/100\n",
      "1/1 [==============================] - 0s 64ms/step - loss: 6.5256 - accuracy: 0.0000e+00 - val_loss: 0.9404 - val_accuracy: 0.0000e+00\n",
      "Epoch 49/100\n",
      "1/1 [==============================] - 0s 87ms/step - loss: 7.9213 - accuracy: 0.0000e+00 - val_loss: 0.9927 - val_accuracy: 0.0000e+00\n",
      "Epoch 50/100\n",
      "1/1 [==============================] - 0s 80ms/step - loss: 9.3866 - accuracy: 0.0000e+00 - val_loss: 1.5021 - val_accuracy: 0.0000e+00\n",
      "Epoch 51/100\n",
      "1/1 [==============================] - 0s 81ms/step - loss: 10.8568 - accuracy: 0.0000e+00 - val_loss: 1.3588 - val_accuracy: 0.0000e+00\n",
      "Epoch 52/100\n",
      "1/1 [==============================] - 0s 72ms/step - loss: 11.4574 - accuracy: 0.0000e+00 - val_loss: 1.8869 - val_accuracy: 0.0000e+00\n",
      "Epoch 53/100\n",
      "1/1 [==============================] - 0s 79ms/step - loss: 11.4444 - accuracy: 0.0000e+00 - val_loss: 1.4312 - val_accuracy: 0.0000e+00\n",
      "Epoch 54/100\n",
      "1/1 [==============================] - 0s 82ms/step - loss: 10.4459 - accuracy: 0.0000e+00 - val_loss: 1.7796 - val_accuracy: 0.0000e+00\n",
      "Epoch 55/100\n",
      "1/1 [==============================] - 0s 94ms/step - loss: 9.4113 - accuracy: 0.0000e+00 - val_loss: 1.2957 - val_accuracy: 0.0000e+00\n",
      "Epoch 56/100\n",
      "1/1 [==============================] - 0s 73ms/step - loss: 8.2121 - accuracy: 0.0000e+00 - val_loss: 1.5465 - val_accuracy: 0.0000e+00\n",
      "Epoch 57/100\n",
      "1/1 [==============================] - 0s 69ms/step - loss: 7.4679 - accuracy: 0.0000e+00 - val_loss: 1.2120 - val_accuracy: 0.0000e+00\n",
      "Epoch 58/100\n",
      "1/1 [==============================] - 0s 68ms/step - loss: 6.8889 - accuracy: 0.0000e+00 - val_loss: 1.4979 - val_accuracy: 0.0000e+00\n",
      "Epoch 59/100\n",
      "1/1 [==============================] - 0s 63ms/step - loss: 6.7801 - accuracy: 0.0000e+00 - val_loss: 1.2938 - val_accuracy: 0.0000e+00\n",
      "Epoch 60/100\n",
      "1/1 [==============================] - 0s 63ms/step - loss: 6.8453 - accuracy: 0.0000e+00 - val_loss: 1.6970 - val_accuracy: 0.0000e+00\n",
      "Epoch 61/100\n",
      "1/1 [==============================] - 0s 68ms/step - loss: 7.3161 - accuracy: 0.0000e+00 - val_loss: 1.5446 - val_accuracy: 0.0000e+00\n",
      "Epoch 62/100\n",
      "1/1 [==============================] - 0s 69ms/step - loss: 7.8673 - accuracy: 0.0000e+00 - val_loss: 2.0814 - val_accuracy: 0.0000e+00\n",
      "Epoch 63/100\n",
      "1/1 [==============================] - 0s 85ms/step - loss: 8.6947 - accuracy: 0.0000e+00 - val_loss: 1.8383 - val_accuracy: 0.0000e+00\n",
      "Epoch 64/100\n",
      "1/1 [==============================] - 0s 119ms/step - loss: 9.3179 - accuracy: 0.0000e+00 - val_loss: 2.3821 - val_accuracy: 0.0000e+00\n",
      "Epoch 65/100\n",
      "1/1 [==============================] - 0s 72ms/step - loss: 9.9318 - accuracy: 0.0000e+00 - val_loss: 1.9058 - val_accuracy: 0.0000e+00\n",
      "Epoch 66/100\n",
      "1/1 [==============================] - 0s 63ms/step - loss: 9.9881 - accuracy: 0.0000e+00 - val_loss: 2.2565 - val_accuracy: 0.0000e+00\n",
      "Epoch 67/100\n",
      "1/1 [==============================] - 0s 68ms/step - loss: 9.9069 - accuracy: 0.0000e+00 - val_loss: 1.6281 - val_accuracy: 0.0000e+00\n",
      "Epoch 68/100\n",
      "1/1 [==============================] - 0s 69ms/step - loss: 9.3330 - accuracy: 0.0000e+00 - val_loss: 1.7492 - val_accuracy: 0.0000e+00\n",
      "Epoch 69/100\n",
      "1/1 [==============================] - 0s 75ms/step - loss: 8.8549 - accuracy: 0.0000e+00 - val_loss: 1.1794 - val_accuracy: 0.0000e+00\n",
      "Epoch 70/100\n",
      "1/1 [==============================] - 0s 74ms/step - loss: 8.2162 - accuracy: 0.0000e+00 - val_loss: 1.1563 - val_accuracy: 0.0000e+00\n",
      "Epoch 71/100\n",
      "1/1 [==============================] - 0s 69ms/step - loss: 7.8739 - accuracy: 0.0000e+00 - val_loss: 0.7948 - val_accuracy: 0.0000e+00\n",
      "Epoch 72/100\n",
      "1/1 [==============================] - 0s 64ms/step - loss: 7.5614 - accuracy: 0.0000e+00 - val_loss: 0.8225 - val_accuracy: 0.0000e+00\n",
      "Epoch 73/100\n",
      "1/1 [==============================] - 0s 61ms/step - loss: 7.5786 - accuracy: 0.0000e+00 - val_loss: 1.2977 - val_accuracy: 0.0000e+00\n",
      "Epoch 74/100\n",
      "1/1 [==============================] - 0s 66ms/step - loss: 7.6716 - accuracy: 0.0000e+00 - val_loss: 2.6306 - val_accuracy: 0.0000e+00\n",
      "Epoch 75/100\n",
      "1/1 [==============================] - 0s 60ms/step - loss: 8.0461 - accuracy: 0.0000e+00 - val_loss: 6.7468 - val_accuracy: 0.0000e+00\n",
      "Epoch 76/100\n",
      "1/1 [==============================] - 0s 55ms/step - loss: 8.4523 - accuracy: 0.0000e+00 - val_loss: 11.6236 - val_accuracy: 0.0000e+00\n",
      "Epoch 77/100\n",
      "1/1 [==============================] - 0s 73ms/step - loss: 8.8899 - accuracy: 0.0000e+00 - val_loss: 18.2937 - val_accuracy: 0.0000e+00\n",
      "Epoch 78/100\n",
      "1/1 [==============================] - 0s 73ms/step - loss: 9.0376 - accuracy: 0.0000e+00 - val_loss: 18.2743 - val_accuracy: 0.0000e+00\n",
      "Epoch 79/100\n",
      "1/1 [==============================] - 0s 101ms/step - loss: 8.7272 - accuracy: 0.0000e+00 - val_loss: 15.9601 - val_accuracy: 0.0000e+00\n",
      "Epoch 80/100\n",
      "1/1 [==============================] - 0s 84ms/step - loss: 8.1474 - accuracy: 0.0000e+00 - val_loss: 8.1371 - val_accuracy: 0.0000e+00\n",
      "Epoch 81/100\n",
      "1/1 [==============================] - 0s 72ms/step - loss: 7.5209 - accuracy: 0.0000e+00 - val_loss: 2.4247 - val_accuracy: 0.0000e+00\n",
      "Epoch 82/100\n",
      "1/1 [==============================] - 0s 252ms/step - loss: 7.2694 - accuracy: 0.0000e+00 - val_loss: 1.9154 - val_accuracy: 0.0000e+00\n",
      "Epoch 83/100\n",
      "1/1 [==============================] - 0s 72ms/step - loss: 7.7543 - accuracy: 0.0000e+00 - val_loss: 17.5617 - val_accuracy: 0.0000e+00\n",
      "Epoch 84/100\n",
      "1/1 [==============================] - 0s 69ms/step - loss: 9.2532 - accuracy: 0.0000e+00 - val_loss: 64.9028 - val_accuracy: 0.0000e+00\n",
      "Epoch 85/100\n",
      "1/1 [==============================] - 0s 82ms/step - loss: 12.1228 - accuracy: 0.0000e+00 - val_loss: 103.1186 - val_accuracy: 0.0000e+00\n",
      "Epoch 86/100\n",
      "1/1 [==============================] - 0s 74ms/step - loss: 13.4014 - accuracy: 0.0000e+00 - val_loss: 102.4095 - val_accuracy: 0.0000e+00\n",
      "Epoch 87/100\n",
      "1/1 [==============================] - 0s 82ms/step - loss: 12.2687 - accuracy: 0.0000e+00 - val_loss: 57.8898 - val_accuracy: 0.0000e+00\n",
      "Epoch 88/100\n",
      "1/1 [==============================] - 0s 89ms/step - loss: 8.6697 - accuracy: 0.0000e+00 - val_loss: 31.7830 - val_accuracy: 0.0000e+00\n",
      "Epoch 89/100\n",
      "1/1 [==============================] - 0s 87ms/step - loss: 6.5538 - accuracy: 0.0000e+00 - val_loss: 12.8236 - val_accuracy: 0.0000e+00\n",
      "Epoch 90/100\n",
      "1/1 [==============================] - 0s 95ms/step - loss: 5.1174 - accuracy: 0.0000e+00 - val_loss: 4.7340 - val_accuracy: 0.0000e+00\n",
      "Epoch 91/100\n",
      "1/1 [==============================] - 0s 93ms/step - loss: 4.8186 - accuracy: 0.0000e+00 - val_loss: 0.6189 - val_accuracy: 0.0000e+00\n",
      "Epoch 92/100\n",
      "1/1 [==============================] - 0s 77ms/step - loss: 5.1405 - accuracy: 0.0000e+00 - val_loss: 1.1151 - val_accuracy: 0.0000e+00\n",
      "Epoch 93/100\n",
      "1/1 [==============================] - 0s 79ms/step - loss: 6.3215 - accuracy: 0.0000e+00 - val_loss: 7.1330 - val_accuracy: 0.0000e+00\n",
      "Epoch 94/100\n",
      "1/1 [==============================] - 0s 75ms/step - loss: 8.1989 - accuracy: 0.0000e+00 - val_loss: 15.3621 - val_accuracy: 0.0000e+00\n",
      "Epoch 95/100\n",
      "1/1 [==============================] - 0s 107ms/step - loss: 10.3628 - accuracy: 0.0000e+00 - val_loss: 22.8596 - val_accuracy: 0.0000e+00\n",
      "Epoch 96/100\n",
      "1/1 [==============================] - 0s 72ms/step - loss: 11.7101 - accuracy: 0.0000e+00 - val_loss: 17.5969 - val_accuracy: 0.0000e+00\n",
      "Epoch 97/100\n",
      "1/1 [==============================] - 0s 71ms/step - loss: 11.3471 - accuracy: 0.0000e+00 - val_loss: 10.9519 - val_accuracy: 0.0000e+00\n",
      "Epoch 98/100\n",
      "1/1 [==============================] - 0s 93ms/step - loss: 9.9625 - accuracy: 0.0000e+00 - val_loss: 3.2455 - val_accuracy: 0.0000e+00\n",
      "Epoch 99/100\n",
      "1/1 [==============================] - 0s 77ms/step - loss: 8.4202 - accuracy: 0.0000e+00 - val_loss: 0.7983 - val_accuracy: 0.0000e+00\n",
      "Epoch 100/100\n",
      "1/1 [==============================] - 0s 108ms/step - loss: 7.3030 - accuracy: 0.0000e+00 - val_loss: 2.6118 - val_accuracy: 0.0000e+00\n"
     ]
    }
   ],
   "source": [
    "es = EarlyStopping(monitor='val_loss', mode='min')\n",
    "\n",
    "history = model.fit(\n",
    "    x_train, y_train,\n",
    "    batch_size=10000,\n",
    "    epochs=100,\n",
    "    validation_data=(x_test,y_test)\n",
    "#     callbacks = [es]\n",
    ")"
   ]
  },
  {
   "cell_type": "markdown",
   "metadata": {},
   "source": [
    "## Test Model"
   ]
  },
  {
   "cell_type": "code",
   "execution_count": 9,
   "metadata": {},
   "outputs": [],
   "source": [
    "acc_range = 0.5"
   ]
  },
  {
   "cell_type": "code",
   "execution_count": 10,
   "metadata": {},
   "outputs": [],
   "source": [
    "pred = model.predict(x_test)"
   ]
  },
  {
   "cell_type": "code",
   "execution_count": 11,
   "metadata": {
    "scrolled": true
   },
   "outputs": [
    {
     "name": "stdout",
     "output_type": "stream",
     "text": [
      "input=[ 73 158  43] expected_output=[231] prediction=[230.47408] difference=[-0.5259247] %-different from actual=[0.00227673]\n",
      "\t accuracy=0.0\n",
      "input=[86 79 43] expected_output=[165] prediction=[164.32567] difference=[-0.67433167] %-different from actual=[0.00408686]\n",
      "\t accuracy=0.0\n",
      "input=[ 70 151  43] expected_output=[221] prediction=[220.58739] difference=[-0.41261292] %-different from actual=[0.00186703]\n",
      "\t accuracy=0.3333333333333333\n",
      "input=[126  82  43] expected_output=[208] prediction=[206.09804] difference=[-1.9019623] %-different from actual=[0.00914405]\n",
      "\t accuracy=0.25\n",
      "input=[119  95  43] expected_output=[214] prediction=[212.2705] difference=[-1.7295074] %-different from actual=[0.00808181]\n",
      "\t accuracy=0.2\n",
      "input=[162  85  43] expected_output=[247] prediction=[243.99222] difference=[-3.007782] %-different from actual=[0.01217726]\n",
      "\t accuracy=0.16666666666666666\n",
      "input=[122  69  43] expected_output=[191] prediction=[189.2606] difference=[-1.7393951] %-different from actual=[0.00910678]\n",
      "\t accuracy=0.14285714285714285\n",
      "input=[ 87 153  43] expected_output=[240] prediction=[239.06335] difference=[-0.9366455] %-different from actual=[0.00390269]\n",
      "\t accuracy=0.125\n",
      "input=[ 83 136  43] expected_output=[219] prediction=[218.23845] difference=[-0.7615509] %-different from actual=[0.0034774]\n",
      "\t accuracy=0.1111111111111111\n",
      "input=[136  97  43] expected_output=[233] prediction=[230.74648] difference=[-2.2535248] %-different from actual=[0.00967178]\n",
      "\t accuracy=0.1\n"
     ]
    }
   ],
   "source": [
    "test_total = 0\n",
    "acc_count = 0\n",
    "for a in range(len(x_test)):\n",
    "    x = x_test[a]\n",
    "    y = y_test[a]\n",
    "    yp = pred[a][0]\n",
    "    print(f\"input={x[0]} expected_output={[y]} prediction={yp} difference={yp - y} %-different from actual={abs(yp - y)/y}\")\n",
    "    \n",
    "    if abs(yp - y) <= acc_range:\n",
    "        acc_count = acc_count + 1\n",
    "    \n",
    "    test_total = test_total + 1\n",
    "        \n",
    "    print(f\"\\t accuracy={acc_count / test_total}\")"
   ]
  }
 ],
 "metadata": {
  "kernelspec": {
   "display_name": "Python 3",
   "language": "python",
   "name": "python3"
  },
  "language_info": {
   "codemirror_mode": {
    "name": "ipython",
    "version": 3
   },
   "file_extension": ".py",
   "mimetype": "text/x-python",
   "name": "python",
   "nbconvert_exporter": "python",
   "pygments_lexer": "ipython3",
   "version": "3.8.2"
  }
 },
 "nbformat": 4,
 "nbformat_minor": 4
}
