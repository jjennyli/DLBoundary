{
 "cells": [
  {
   "cell_type": "markdown",
   "metadata": {},
   "source": [
    "# Not Fully Connected"
   ]
  },
  {
   "cell_type": "markdown",
   "metadata": {},
   "source": [
    "## Imports\n"
   ]
  },
  {
   "cell_type": "code",
   "execution_count": 1,
   "metadata": {},
   "outputs": [],
   "source": [
    "from tensorflow.keras.layers import Input, Lambda, Dense, concatenate\n",
    "from tensorflow.keras.models import Model\n",
    "\n",
    "import matplotlib.pyplot as plt\n",
    "import random\n",
    "import numpy as np\n",
    "\n",
    "from tensorflow.keras.callbacks import EarlyStopping"
   ]
  },
  {
   "cell_type": "markdown",
   "metadata": {},
   "source": [
    "## Data"
   ]
  },
  {
   "cell_type": "code",
   "execution_count": 2,
   "metadata": {},
   "outputs": [],
   "source": [
    "def gen_data(num_examples, range_start, range_end):\n",
    "    X = []\n",
    "    y = []\n",
    "    for ex in range(num_examples):\n",
    "        num1 = int(random.random()*(range_end - range_start) + range_start)\n",
    "        num2 = int(random.random()*(range_end - range_start) + range_start)\n",
    "\n",
    "        X.append([num1,num2])        \n",
    "        y.append(num1+num2)\n",
    "    return np.array(X), np.array(y)"
   ]
  },
  {
   "cell_type": "code",
   "execution_count": 3,
   "metadata": {},
   "outputs": [
    {
     "data": {
      "text/plain": [
       "[(10, 1, 2), (10,), (10, 1, 2), (10,)]"
      ]
     },
     "execution_count": 3,
     "metadata": {},
     "output_type": "execute_result"
    }
   ],
   "source": [
    "x_train, y_train = gen_data(10, -50, 50)\n",
    "x_test, y_test = gen_data(10, 50, 200)\n",
    "\n",
    "x_train = x_train.reshape(x_train.shape[0], 1, x_train.shape[1])\n",
    "x_test = x_test.reshape(x_test.shape[0], 1,  x_test.shape[1])\n",
    "[a.shape for a in [x_train, y_train, x_test, y_test]]"
   ]
  },
  {
   "attachments": {
    "image.png": {
     "image/png": "[encoded data removed]"
    }
   },
   "cell_type": "markdown",
   "metadata": {},
   "source": [
    "## Sample Model\n",
    "![image.png](attachment:image.png)"
   ]
  },
  {
   "cell_type": "markdown",
   "metadata": {},
   "source": [
    "## Building The Model\n"
   ]
  },
  {
   "cell_type": "markdown",
   "metadata": {},
   "source": [
    "### Input Layer"
   ]
  },
  {
   "cell_type": "code",
   "execution_count": 4,
   "metadata": {},
   "outputs": [],
   "source": [
    "# Input layer of 2 neurons \n",
    "inp = Input(shape=(1,2))\n",
    "\n",
    "# get individual neurons from input layer\n",
    "\n",
    "inp_1 = Lambda(lambda x: x[:,:,0:1])(inp)  # first neuron (A)\n",
    "inp_2 = Lambda(lambda x: x[:,:,1:2])(inp) # second neuron (B)"
   ]
  },
  {
   "cell_type": "markdown",
   "metadata": {},
   "source": [
    "### Hidden Layers"
   ]
  },
  {
   "cell_type": "code",
   "execution_count": 5,
   "metadata": {},
   "outputs": [],
   "source": [
    "# Dense Layer for inp_1 (A)\n",
    "d_1 = Dense(64)(inp_1) #inp_1 is connected to this layer\n",
    "d_2 = Dense(64)(inp_2) #inp_2 is connected to this layer\n",
    "\n",
    "#concatenate output from d_1 and d_2\n",
    "d_out = concatenate([d_1, d_2])\n",
    "\n",
    "#128 layer\n",
    "d2_out = Dense(128)(d_out)\n",
    "\n",
    "#64 layer\n",
    "d3_out = Dense(64)(d_out)"
   ]
  },
  {
   "cell_type": "markdown",
   "metadata": {},
   "source": [
    "### Output Layer"
   ]
  },
  {
   "cell_type": "code",
   "execution_count": 6,
   "metadata": {},
   "outputs": [],
   "source": [
    "o = Dense(1)(d3_out)"
   ]
  },
  {
   "cell_type": "markdown",
   "metadata": {},
   "source": [
    "### Keras Model"
   ]
  },
  {
   "cell_type": "code",
   "execution_count": 7,
   "metadata": {},
   "outputs": [],
   "source": [
    "model = Model(inp, o)\n",
    "\n",
    "model.compile(\n",
    "    loss=\"MeanSquaredError\",\n",
    "    metrics=['accuracy']\n",
    ")\n"
   ]
  },
  {
   "cell_type": "markdown",
   "metadata": {},
   "source": [
    "## Train Model"
   ]
  },
  {
   "cell_type": "code",
   "execution_count": 8,
   "metadata": {},
   "outputs": [
    {
     "name": "stdout",
     "output_type": "stream",
     "text": [
      "Epoch 1/100\n",
      "1/1 [==============================] - 0s 301ms/step - loss: 1500.2698 - accuracy: 0.0000e+00 - val_loss: 20889.5215 - val_accuracy: 0.0000e+00\n",
      "Epoch 2/100\n",
      "1/1 [==============================] - 0s 49ms/step - loss: 594.8461 - accuracy: 0.0000e+00 - val_loss: 9712.4580 - val_accuracy: 0.0000e+00\n",
      "Epoch 3/100\n",
      "1/1 [==============================] - 0s 39ms/step - loss: 270.2571 - accuracy: 0.0000e+00 - val_loss: 4524.8208 - val_accuracy: 0.0000e+00\n",
      "Epoch 4/100\n",
      "1/1 [==============================] - 0s 45ms/step - loss: 124.2180 - accuracy: 0.0000e+00 - val_loss: 2055.1084 - val_accuracy: 0.0000e+00\n",
      "Epoch 5/100\n",
      "1/1 [==============================] - 0s 42ms/step - loss: 56.1706 - accuracy: 0.0000e+00 - val_loss: 904.0277 - val_accuracy: 0.0000e+00\n",
      "Epoch 6/100\n",
      "1/1 [==============================] - 0s 42ms/step - loss: 24.7023 - accuracy: 0.0000e+00 - val_loss: 386.2291 - val_accuracy: 0.0000e+00\n",
      "Epoch 7/100\n",
      "1/1 [==============================] - 0s 38ms/step - loss: 10.4739 - accuracy: 0.0000e+00 - val_loss: 161.8261 - val_accuracy: 0.0000e+00\n",
      "Epoch 8/100\n",
      "1/1 [==============================] - 0s 46ms/step - loss: 4.2472 - accuracy: 0.0000e+00 - val_loss: 67.6997 - val_accuracy: 0.0000e+00\n",
      "Epoch 9/100\n",
      "1/1 [==============================] - 0s 40ms/step - loss: 1.6390 - accuracy: 0.0000e+00 - val_loss: 29.1117 - val_accuracy: 0.0000e+00\n",
      "Epoch 10/100\n",
      "1/1 [==============================] - 0s 42ms/step - loss: 0.6055 - accuracy: 0.0000e+00 - val_loss: 13.4111 - val_accuracy: 0.0000e+00\n",
      "Epoch 11/100\n",
      "1/1 [==============================] - 0s 43ms/step - loss: 0.2224 - accuracy: 0.0000e+00 - val_loss: 6.9417 - val_accuracy: 0.0000e+00\n",
      "Epoch 12/100\n",
      "1/1 [==============================] - 0s 41ms/step - loss: 0.0907 - accuracy: 0.0000e+00 - val_loss: 4.1890 - val_accuracy: 0.0000e+00\n",
      "Epoch 13/100\n",
      "1/1 [==============================] - 0s 42ms/step - loss: 0.0490 - accuracy: 0.0000e+00 - val_loss: 2.9677 - val_accuracy: 0.0000e+00\n",
      "Epoch 14/100\n",
      "1/1 [==============================] - 0s 42ms/step - loss: 0.0369 - accuracy: 0.0000e+00 - val_loss: 2.4061 - val_accuracy: 0.0000e+00\n",
      "Epoch 15/100\n",
      "1/1 [==============================] - 0s 37ms/step - loss: 0.0336 - accuracy: 0.0000e+00 - val_loss: 2.1425 - val_accuracy: 0.0000e+00\n",
      "Epoch 16/100\n",
      "1/1 [==============================] - 0s 43ms/step - loss: 0.0327 - accuracy: 0.0000e+00 - val_loss: 2.0174 - val_accuracy: 0.0000e+00\n",
      "Epoch 17/100\n",
      "1/1 [==============================] - 0s 42ms/step - loss: 0.0323 - accuracy: 0.0000e+00 - val_loss: 1.9561 - val_accuracy: 0.0000e+00\n",
      "Epoch 18/100\n",
      "1/1 [==============================] - 0s 42ms/step - loss: 0.0321 - accuracy: 0.0000e+00 - val_loss: 1.9230 - val_accuracy: 0.0000e+00\n",
      "Epoch 19/100\n",
      "1/1 [==============================] - 0s 43ms/step - loss: 0.0318 - accuracy: 0.0000e+00 - val_loss: 1.9014 - val_accuracy: 0.0000e+00\n",
      "Epoch 20/100\n",
      "1/1 [==============================] - 0s 47ms/step - loss: 0.0316 - accuracy: 0.0000e+00 - val_loss: 1.8838 - val_accuracy: 0.0000e+00\n",
      "Epoch 21/100\n",
      "1/1 [==============================] - 0s 52ms/step - loss: 0.0313 - accuracy: 0.0000e+00 - val_loss: 1.8672 - val_accuracy: 0.0000e+00\n",
      "Epoch 22/100\n",
      "1/1 [==============================] - 0s 44ms/step - loss: 0.0311 - accuracy: 0.0000e+00 - val_loss: 1.8502 - val_accuracy: 0.0000e+00\n",
      "Epoch 23/100\n",
      "1/1 [==============================] - 0s 42ms/step - loss: 0.0308 - accuracy: 0.0000e+00 - val_loss: 1.8327 - val_accuracy: 0.0000e+00\n",
      "Epoch 24/100\n",
      "1/1 [==============================] - 0s 51ms/step - loss: 0.0305 - accuracy: 0.0000e+00 - val_loss: 1.8144 - val_accuracy: 0.0000e+00\n",
      "Epoch 25/100\n",
      "1/1 [==============================] - 0s 52ms/step - loss: 0.0302 - accuracy: 0.0000e+00 - val_loss: 1.7954 - val_accuracy: 0.0000e+00\n",
      "Epoch 26/100\n",
      "1/1 [==============================] - 0s 37ms/step - loss: 0.0299 - accuracy: 0.0000e+00 - val_loss: 1.7756 - val_accuracy: 0.0000e+00\n",
      "Epoch 27/100\n",
      "1/1 [==============================] - 0s 43ms/step - loss: 0.0295 - accuracy: 0.0000e+00 - val_loss: 1.7549 - val_accuracy: 0.0000e+00\n",
      "Epoch 28/100\n",
      "1/1 [==============================] - 0s 43ms/step - loss: 0.0292 - accuracy: 0.0000e+00 - val_loss: 1.7334 - val_accuracy: 0.0000e+00\n",
      "Epoch 29/100\n",
      "1/1 [==============================] - 0s 40ms/step - loss: 0.0288 - accuracy: 0.0000e+00 - val_loss: 1.7109 - val_accuracy: 0.0000e+00\n",
      "Epoch 30/100\n",
      "1/1 [==============================] - 0s 40ms/step - loss: 0.0285 - accuracy: 0.0000e+00 - val_loss: 1.6875 - val_accuracy: 0.0000e+00\n",
      "Epoch 31/100\n",
      "1/1 [==============================] - 0s 45ms/step - loss: 0.0281 - accuracy: 0.0000e+00 - val_loss: 1.6633 - val_accuracy: 0.0000e+00\n",
      "Epoch 32/100\n",
      "1/1 [==============================] - 0s 41ms/step - loss: 0.0277 - accuracy: 0.0000e+00 - val_loss: 1.6382 - val_accuracy: 0.0000e+00\n",
      "Epoch 33/100\n",
      "1/1 [==============================] - 0s 38ms/step - loss: 0.0273 - accuracy: 0.0000e+00 - val_loss: 1.6121 - val_accuracy: 0.0000e+00\n",
      "Epoch 34/100\n",
      "1/1 [==============================] - 0s 41ms/step - loss: 0.0268 - accuracy: 0.0000e+00 - val_loss: 1.5851 - val_accuracy: 0.0000e+00\n",
      "Epoch 35/100\n",
      "1/1 [==============================] - 0s 45ms/step - loss: 0.0264 - accuracy: 0.0000e+00 - val_loss: 1.5569 - val_accuracy: 0.0000e+00\n",
      "Epoch 36/100\n",
      "1/1 [==============================] - 0s 44ms/step - loss: 0.0259 - accuracy: 0.0000e+00 - val_loss: 1.5280 - val_accuracy: 0.0000e+00\n",
      "Epoch 37/100\n",
      "1/1 [==============================] - 0s 43ms/step - loss: 0.0254 - accuracy: 0.0000e+00 - val_loss: 1.4979 - val_accuracy: 0.0000e+00\n",
      "Epoch 38/100\n",
      "1/1 [==============================] - 0s 43ms/step - loss: 0.0249 - accuracy: 0.0000e+00 - val_loss: 1.4670 - val_accuracy: 0.0000e+00\n",
      "Epoch 39/100\n",
      "1/1 [==============================] - 0s 42ms/step - loss: 0.0244 - accuracy: 0.0000e+00 - val_loss: 1.4351 - val_accuracy: 0.0000e+00\n",
      "Epoch 40/100\n",
      "1/1 [==============================] - 0s 40ms/step - loss: 0.0239 - accuracy: 0.0000e+00 - val_loss: 1.4021 - val_accuracy: 0.0000e+00\n",
      "Epoch 41/100\n",
      "1/1 [==============================] - 0s 46ms/step - loss: 0.0233 - accuracy: 0.0000e+00 - val_loss: 1.3686 - val_accuracy: 0.0000e+00\n",
      "Epoch 42/100\n",
      "1/1 [==============================] - 0s 40ms/step - loss: 0.0228 - accuracy: 0.0000e+00 - val_loss: 1.3327 - val_accuracy: 0.0000e+00\n",
      "Epoch 43/100\n",
      "1/1 [==============================] - 0s 46ms/step - loss: 0.0222 - accuracy: 0.0000e+00 - val_loss: 1.3003 - val_accuracy: 0.0000e+00\n",
      "Epoch 44/100\n",
      "1/1 [==============================] - 0s 48ms/step - loss: 0.0216 - accuracy: 0.0000e+00 - val_loss: 1.2542 - val_accuracy: 0.0000e+00\n",
      "Epoch 45/100\n",
      "1/1 [==============================] - 0s 43ms/step - loss: 0.0210 - accuracy: 0.0000e+00 - val_loss: 1.2458 - val_accuracy: 0.0000e+00\n",
      "Epoch 46/100\n",
      "1/1 [==============================] - 0s 50ms/step - loss: 0.0204 - accuracy: 0.0000e+00 - val_loss: 1.1152 - val_accuracy: 0.0000e+00\n",
      "Epoch 47/100\n",
      "1/1 [==============================] - 0s 45ms/step - loss: 0.0199 - accuracy: 0.0000e+00 - val_loss: 1.4094 - val_accuracy: 0.0000e+00\n"
     ]
    }
   ],
   "source": [
    "es = EarlyStopping(monitor='val_loss', mode='min')\n",
    "\n",
    "history = model.fit(\n",
    "    x_train, y_train,\n",
    "    batch_size=10000,\n",
    "    epochs=100,\n",
    "    validation_data=(x_test,y_test),\n",
    "    callbacks = [es]\n",
    ")"
   ]
  },
  {
   "cell_type": "markdown",
   "metadata": {},
   "source": [
    "## Test Model"
   ]
  },
  {
   "cell_type": "code",
   "execution_count": 9,
   "metadata": {},
   "outputs": [],
   "source": [
    "acc_range = 0.5"
   ]
  },
  {
   "cell_type": "code",
   "execution_count": 10,
   "metadata": {},
   "outputs": [],
   "source": [
    "pred = model.predict(x_test)"
   ]
  },
  {
   "cell_type": "code",
   "execution_count": 11,
   "metadata": {
    "scrolled": true
   },
   "outputs": [
    {
     "name": "stdout",
     "output_type": "stream",
     "text": [
      "input=[187 150] expected_output=[337] prediction=[335.3595] difference=[-1.6405029] %-different from actual=[0.00486796]\n",
      "\t accuracy=0.0\n",
      "input=[79 78] expected_output=[157] prediction=[156.16472] difference=[-0.8352814] %-different from actual=[0.00532026]\n",
      "\t accuracy=0.0\n",
      "input=[151 128] expected_output=[279] prediction=[277.62598] difference=[-1.3740234] %-different from actual=[0.00492482]\n",
      "\t accuracy=0.0\n",
      "input=[130  81] expected_output=[211] prediction=[209.81451] difference=[-1.1854858] %-different from actual=[0.00561842]\n",
      "\t accuracy=0.0\n",
      "input=[103  71] expected_output=[174] prediction=[173.00807] difference=[-0.9919281] %-different from actual=[0.00570074]\n",
      "\t accuracy=0.0\n",
      "input=[104 100] expected_output=[204] prediction=[202.97316] difference=[-1.0268402] %-different from actual=[0.00503353]\n",
      "\t accuracy=0.0\n",
      "input=[68 56] expected_output=[124] prediction=[123.26093] difference=[-0.7390671] %-different from actual=[0.00596022]\n",
      "\t accuracy=0.0\n",
      "input=[158  90] expected_output=[248] prediction=[246.61511] difference=[-1.3848877] %-different from actual=[0.00558422]\n",
      "\t accuracy=0.0\n",
      "input=[57 50] expected_output=[107] prediction=[106.34167] difference=[-0.6583328] %-different from actual=[0.00615264]\n",
      "\t accuracy=0.0\n",
      "input=[187  81] expected_output=[268] prediction=[266.42636] difference=[-1.5736389] %-different from actual=[0.00587179]\n",
      "\t accuracy=0.0\n"
     ]
    }
   ],
   "source": [
    "test_total = 0\n",
    "acc_count = 0\n",
    "for a in range(len(x_test)):\n",
    "    x = x_test[a]\n",
    "    y = y_test[a]\n",
    "    yp = pred[a][0]\n",
    "    print(f\"input={x[0]} expected_output={[y]} prediction={yp} difference={yp - y} %-different from actual={abs(yp - y)/y}\")\n",
    "    \n",
    "    if abs(yp - y) <= acc_range:\n",
    "        acc_count = acc_count + 1\n",
    "    \n",
    "    test_total = test_total + 1\n",
    "        \n",
    "    print(f\"\\t accuracy={acc_count / test_total}\")"
   ]
  },
  {
   "cell_type": "code",
   "execution_count": null,
   "metadata": {},
   "outputs": [],
   "source": []
  }
 ],
 "metadata": {
  "kernelspec": {
   "display_name": "Python 3",
   "language": "python",
   "name": "python3"
  },
  "language_info": {
   "codemirror_mode": {
    "name": "ipython",
    "version": 3
   },
   "file_extension": ".py",
   "mimetype": "text/x-python",
   "name": "python",
   "nbconvert_exporter": "python",
   "pygments_lexer": "ipython3",
   "version": "3.8.2"
  }
 },
 "nbformat": 4,
 "nbformat_minor": 4
}
