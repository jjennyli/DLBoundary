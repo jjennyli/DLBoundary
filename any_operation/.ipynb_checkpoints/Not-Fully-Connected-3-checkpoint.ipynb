{
 "cells": [
  {
   "cell_type": "markdown",
   "metadata": {},
   "source": [
    "# Not Fully Connected"
   ]
  },
  {
   "cell_type": "markdown",
   "metadata": {},
   "source": [
    "## Imports\n"
   ]
  },
  {
   "cell_type": "code",
   "execution_count": 1,
   "metadata": {},
   "outputs": [],
   "source": [
    "from tensorflow.keras.layers import Input, Lambda, Dense, concatenate\n",
    "from tensorflow.keras.models import Model\n",
    "\n",
    "import matplotlib.pyplot as plt\n",
    "import random\n",
    "import numpy as np\n",
    "\n",
    "from tensorflow.keras.callbacks import EarlyStopping"
   ]
  },
  {
   "cell_type": "markdown",
   "metadata": {},
   "source": [
    "## Data"
   ]
  },
  {
   "cell_type": "code",
   "execution_count": 2,
   "metadata": {},
   "outputs": [],
   "source": [
    "def gen_data_add(num_examples, range_start, range_end):\n",
    "    X = []\n",
    "    y = []\n",
    "    for ex in range(num_examples):\n",
    "        num1 = int(random.random()*(range_end - range_start) + range_start)\n",
    "        num2 = int(random.random()*(range_end - range_start) + range_start)\n",
    "\n",
    "        X.append([num1,num2,43])        \n",
    "        y.append(num1+num2)\n",
    "    return np.array(X), np.array(y)\n",
    "\n",
    "def gen_data_sub(num_examples, range_start, range_end):\n",
    "    X = []\n",
    "    y = []\n",
    "    for ex in range(num_examples):\n",
    "        num1 = int(random.random()*(range_end - range_start) + range_start)\n",
    "        num2 = int(random.random()*(range_end - range_start) + range_start)\n",
    "\n",
    "        X.append([num1,num2,145])        \n",
    "        y.append(num1-num2)\n",
    "    return np.array(X), np.array(y)\n",
    "\n",
    "def gen_data_mult(num_examples, range_start, range_end):\n",
    "    X = []\n",
    "    y = []\n",
    "    for ex in range(num_examples):\n",
    "        num1 = int(random.random()*(range_end - range_start) + range_start)\n",
    "        num2 = int(random.random()*(range_end - range_start) + range_start)\n",
    "\n",
    "        X.append([num1,num2,242])        \n",
    "        y.append(num1*num2)\n",
    "    return np.array(X), np.array(y)\n",
    "\n",
    "def gen_data_div(num_examples, range_start, range_end):\n",
    "    X = []\n",
    "    y = []\n",
    "    for ex in range(num_examples):\n",
    "        num1 = int(random.random()*(range_end - range_start) + range_start)\n",
    "        num2 = int(random.random()*(range_end - range_start) + range_start)\n",
    "\n",
    "        X.append([num1,num2,347])        \n",
    "        y.append(num1/num2)\n",
    "    return np.array(X), np.array(y)\n",
    "\n",
    "def gen_data(num_examples, range_start, range_end):\n",
    "    num_examples = int(num_examples/4)\n",
    "    \n",
    "    ax, ay = gen_data_add(num_examples, range_start, range_end)\n",
    "    mx, my = gen_data_sub(num_examples, range_start, range_end)\n",
    "    mux, muy = gen_data_mult(num_examples, range_start, range_end)\n",
    "    dx, dy = gen_data_div(num_examples, range_start, range_end)\n",
    "    \n",
    "    X = np.concatenate((ax, mx, mux, dx))\n",
    "    y = np.concatenate((ay, my, muy, dy))\n",
    "    \n",
    "    return X, y"
   ]
  },
  {
   "cell_type": "code",
   "execution_count": 3,
   "metadata": {},
   "outputs": [
    {
     "data": {
      "text/plain": [
       "[(10, 1, 2), (10,), (10, 1, 2), (10,)]"
      ]
     },
     "execution_count": 3,
     "metadata": {},
     "output_type": "execute_result"
    }
   ],
   "source": [
    "x_train, y_train = gen_data(10, -50, 50)\n",
    "x_test, y_test = gen_data(10, 50, 200)\n",
    "\n",
    "x_train = x_train.reshape(x_train.shape[0], 1, x_train.shape[1])\n",
    "x_test = x_test.reshape(x_test.shape[0], 1,  x_test.shape[1])\n",
    "[a.shape for a in [x_train, y_train, x_test, y_test]]"
   ]
  },
  {
   "attachments": {
    "image.png": {
     "image/png": "[encoded data removed]"
    }
   },
   "cell_type": "markdown",
   "metadata": {},
   "source": [
    "## Sample Model\n",
    "![image.png](attachment:image.png)"
   ]
  },
  {
   "cell_type": "markdown",
   "metadata": {},
   "source": [
    "## Building The Model\n"
   ]
  },
  {
   "cell_type": "markdown",
   "metadata": {},
   "source": [
    "### Input Layer"
   ]
  },
  {
   "cell_type": "code",
   "execution_count": 4,
   "metadata": {},
   "outputs": [],
   "source": [
    "# Input layer of 3 neurons \n",
    "inp = Input(shape=(1,3))"
   ]
  },
  {
   "cell_type": "markdown",
   "metadata": {},
   "source": [
    "### Hidden Layers"
   ]
  },
  {
   "cell_type": "code",
   "execution_count": 5,
   "metadata": {},
   "outputs": [],
   "source": [
    "#128 layer\n",
    "d2_out = Dense(128)(inp)\n",
    "\n",
    "#grab first, 2nd half of the 128 layer\n",
    "d2_out_p1 = Lambda(lambda x: x[:,:,0:64])(d2_out)\n",
    "d2_out_p2 = Lambda(lambda x: x[:,:,64:128])(d2_out)\n",
    "\n",
    "#64 layer(s)\n",
    "d3_out = Dense(64)(d2_out_p1)\n",
    "d4_out = Dense(64)(d2_out_p2)\n",
    "\n",
    "#grab output nodes from both 64 layers\n",
    "d5_out = concatenate([d3_out, d4_out])"
   ]
  },
  {
   "cell_type": "markdown",
   "metadata": {},
   "source": [
    "### Output Layer"
   ]
  },
  {
   "cell_type": "code",
   "execution_count": 6,
   "metadata": {},
   "outputs": [],
   "source": [
    "o = Dense(1)(d5_out)"
   ]
  },
  {
   "cell_type": "markdown",
   "metadata": {},
   "source": [
    "### Keras Model"
   ]
  },
  {
   "cell_type": "code",
   "execution_count": 7,
   "metadata": {},
   "outputs": [],
   "source": [
    "model = Model(inp, o)\n",
    "\n",
    "model.compile(\n",
    "    loss=\"MeanSquaredError\",\n",
    "    metrics=['accuracy']\n",
    ")\n"
   ]
  },
  {
   "cell_type": "markdown",
   "metadata": {},
   "source": [
    "## Train Model"
   ]
  },
  {
   "cell_type": "code",
   "execution_count": 8,
   "metadata": {},
   "outputs": [
    {
     "name": "stdout",
     "output_type": "stream",
     "text": [
      "Epoch 1/100\n",
      "1/1 [==============================] - 0s 348ms/step - loss: 2585.5586 - accuracy: 0.0000e+00 - val_loss: 38731.8867 - val_accuracy: 0.0000e+00\n",
      "Epoch 2/100\n",
      "1/1 [==============================] - 0s 59ms/step - loss: 684.4351 - accuracy: 0.0000e+00 - val_loss: 10295.1357 - val_accuracy: 0.0000e+00\n",
      "Epoch 3/100\n",
      "1/1 [==============================] - 0s 51ms/step - loss: 178.5841 - accuracy: 0.0000e+00 - val_loss: 1724.4935 - val_accuracy: 0.0000e+00\n",
      "Epoch 4/100\n",
      "1/1 [==============================] - 0s 48ms/step - loss: 29.3028 - accuracy: 0.0000e+00 - val_loss: 161.3826 - val_accuracy: 0.0000e+00\n",
      "Epoch 5/100\n",
      "1/1 [==============================] - 0s 45ms/step - loss: 2.4808 - accuracy: 0.0000e+00 - val_loss: 11.3402 - val_accuracy: 0.0000e+00\n",
      "Epoch 6/100\n",
      "1/1 [==============================] - 0s 52ms/step - loss: 0.1512 - accuracy: 0.1000 - val_loss: 1.9174 - val_accuracy: 0.0000e+00\n",
      "Epoch 7/100\n",
      "1/1 [==============================] - 0s 49ms/step - loss: 0.0578 - accuracy: 0.1000 - val_loss: 1.1921 - val_accuracy: 0.0000e+00\n",
      "Epoch 8/100\n",
      "1/1 [==============================] - 0s 43ms/step - loss: 0.0555 - accuracy: 0.1000 - val_loss: 1.1294 - val_accuracy: 0.0000e+00\n",
      "Epoch 9/100\n",
      "1/1 [==============================] - 0s 48ms/step - loss: 0.0548 - accuracy: 0.1000 - val_loss: 1.1088 - val_accuracy: 0.0000e+00\n",
      "Epoch 10/100\n",
      "1/1 [==============================] - 0s 51ms/step - loss: 0.0542 - accuracy: 0.1000 - val_loss: 1.0993 - val_accuracy: 0.0000e+00\n",
      "Epoch 11/100\n",
      "1/1 [==============================] - 0s 45ms/step - loss: 0.0535 - accuracy: 0.1000 - val_loss: 1.0788 - val_accuracy: 0.0000e+00\n",
      "Epoch 12/100\n",
      "1/1 [==============================] - 0s 44ms/step - loss: 0.0527 - accuracy: 0.1000 - val_loss: 1.0701 - val_accuracy: 0.0000e+00\n",
      "Epoch 13/100\n",
      "1/1 [==============================] - 0s 44ms/step - loss: 0.0520 - accuracy: 0.1000 - val_loss: 1.0445 - val_accuracy: 0.0000e+00\n",
      "Epoch 14/100\n",
      "1/1 [==============================] - 0s 44ms/step - loss: 0.0512 - accuracy: 0.1000 - val_loss: 1.0419 - val_accuracy: 0.0000e+00\n",
      "Epoch 15/100\n",
      "1/1 [==============================] - 0s 53ms/step - loss: 0.0504 - accuracy: 0.1000 - val_loss: 1.0015 - val_accuracy: 0.0000e+00\n",
      "Epoch 16/100\n",
      "1/1 [==============================] - 0s 75ms/step - loss: 0.0496 - accuracy: 0.1000 - val_loss: 1.0252 - val_accuracy: 0.0000e+00\n"
     ]
    }
   ],
   "source": [
    "es = EarlyStopping(monitor='val_loss', mode='min')\n",
    "\n",
    "history = model.fit(\n",
    "    x_train, y_train,\n",
    "    batch_size=10000,\n",
    "    epochs=100,\n",
    "    validation_data=(x_test,y_test),\n",
    "    callbacks = [es]\n",
    ")"
   ]
  },
  {
   "cell_type": "markdown",
   "metadata": {},
   "source": [
    "## Test Model"
   ]
  },
  {
   "cell_type": "code",
   "execution_count": 9,
   "metadata": {},
   "outputs": [],
   "source": [
    "acc_range = 0.5"
   ]
  },
  {
   "cell_type": "code",
   "execution_count": 10,
   "metadata": {},
   "outputs": [],
   "source": [
    "pred = model.predict(x_test)"
   ]
  },
  {
   "cell_type": "code",
   "execution_count": 11,
   "metadata": {
    "scrolled": true
   },
   "outputs": [
    {
     "name": "stdout",
     "output_type": "stream",
     "text": [
      "input=[183 178] expected_output=[361] prediction=[359.54834] difference=[-1.4516602] %-different from actual=[0.00402122]\n",
      "\t accuracy=0.0\n",
      "input=[155 164] expected_output=[319] prediction=[317.76483] difference=[-1.2351685] %-different from actual=[0.003872]\n",
      "\t accuracy=0.0\n",
      "input=[176  56] expected_output=[232] prediction=[231.03174] difference=[-0.9682617] %-different from actual=[0.00417354]\n",
      "\t accuracy=0.0\n",
      "input=[ 55 150] expected_output=[205] prediction=[204.4077] difference=[-0.5923004] %-different from actual=[0.00288927]\n",
      "\t accuracy=0.0\n",
      "input=[156 153] expected_output=[309] prediction=[307.79877] difference=[-1.2012329] %-different from actual=[0.00388749]\n",
      "\t accuracy=0.0\n",
      "input=[77 80] expected_output=[157] prediction=[156.53098] difference=[-0.46902466] %-different from actual=[0.00298742]\n",
      "\t accuracy=0.16666666666666666\n",
      "input=[134  83] expected_output=[217] prediction=[216.1826] difference=[-0.8173981] %-different from actual=[0.00376681]\n",
      "\t accuracy=0.14285714285714285\n",
      "input=[92 93] expected_output=[185] prediction=[184.3951] difference=[-0.6049042] %-different from actual=[0.00326975]\n",
      "\t accuracy=0.125\n",
      "input=[103 186] expected_output=[289] prediction=[287.99307] difference=[-1.0069275] %-different from actual=[0.00348418]\n",
      "\t accuracy=0.1111111111111111\n",
      "input=[187 122] expected_output=[309] prediction=[307.72745] difference=[-1.2725525] %-different from actual=[0.00411829]\n",
      "\t accuracy=0.1\n"
     ]
    }
   ],
   "source": [
    "test_total = 0\n",
    "acc_count = 0\n",
    "for a in range(len(x_test)):\n",
    "    x = x_test[a]\n",
    "    y = y_test[a]\n",
    "    yp = pred[a][0]\n",
    "    print(f\"input={x[0]} expected_output={[y]} prediction={yp} difference={yp - y} %-different from actual={abs(yp - y)/y}\")\n",
    "    \n",
    "    if abs(yp - y) <= acc_range:\n",
    "        acc_count = acc_count + 1\n",
    "    \n",
    "    test_total = test_total + 1\n",
    "        \n",
    "    print(f\"\\t accuracy={acc_count / test_total}\")"
   ]
  }
 ],
 "metadata": {
  "kernelspec": {
   "display_name": "Python 3",
   "language": "python",
   "name": "python3"
  },
  "language_info": {
   "codemirror_mode": {
    "name": "ipython",
    "version": 3
   },
   "file_extension": ".py",
   "mimetype": "text/x-python",
   "name": "python",
   "nbconvert_exporter": "python",
   "pygments_lexer": "ipython3",
   "version": "3.8.2"
  }
 },
 "nbformat": 4,
 "nbformat_minor": 4
}
