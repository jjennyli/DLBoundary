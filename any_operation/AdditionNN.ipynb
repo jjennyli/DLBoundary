{
 "cells": [
  {
   "cell_type": "markdown",
   "metadata": {},
   "source": [
    "# Making Neural Network Model for Addition\n"
   ]
  },
  {
   "cell_type": "markdown",
   "metadata": {},
   "source": [
    "## Data"
   ]
  },
  {
   "cell_type": "code",
   "execution_count": 1,
   "metadata": {},
   "outputs": [
    {
     "name": "stderr",
     "output_type": "stream",
     "text": [
      "Using TensorFlow backend.\n"
     ]
    }
   ],
   "source": [
    "import numpy as np\n",
    "import tensorflow as tf\n",
    "import random\n",
    "import keras\n",
    "from tensorflow.keras.callbacks import EarlyStopping\n",
    "from tensorflow.keras.metrics import Metric"
   ]
  },
  {
   "cell_type": "code",
   "execution_count": 2,
   "metadata": {},
   "outputs": [],
   "source": [
    "def gen_data(num_examples, range_start, range_end):\n",
    "    X = []\n",
    "    y = []\n",
    "    for ex in range(num_examples):\n",
    "        num1 = int(random.random()*(range_end - range_start) + range_start)\n",
    "        num2 = int(random.random()*(range_end - range_start) + range_start)\n",
    "\n",
    "        X.append([num1,num2])        \n",
    "        y.append(num1+num2)\n",
    "    return np.array(X), np.array(y)"
   ]
  },
  {
   "cell_type": "code",
   "execution_count": 3,
   "metadata": {
    "scrolled": true
   },
   "outputs": [
    {
     "data": {
      "text/plain": [
       "[(10, 1, 2), (10,), (10, 1, 2), (10,)]"
      ]
     },
     "execution_count": 3,
     "metadata": {},
     "output_type": "execute_result"
    }
   ],
   "source": [
    "x_train, y_train = gen_data(10, -50, 50)\n",
    "x_test, y_test = gen_data(10, 50, 200)\n",
    "\n",
    "x_train = x_train.reshape(x_train.shape[0], 1, x_train.shape[1])\n",
    "x_test = x_test.reshape(x_test.shape[0], 1,  x_test.shape[1])\n",
    "[a.shape for a in [x_train, y_train, x_test, y_test]]"
   ]
  },
  {
   "cell_type": "markdown",
   "metadata": {},
   "source": [
    "## RangedAccuracy Metric"
   ]
  },
  {
   "cell_type": "code",
   "execution_count": 4,
   "metadata": {},
   "outputs": [],
   "source": [
    "class RangedAccuracy(Metric):\n",
    "    def __init__(self, arange=1, name=\"RangedAccuracy\", **kwargs):\n",
    "        super(RangedAccuracy, self).__init__(name=name, **kwargs)\n",
    "        self.arange = tf.constant(arange, dtype=tf.float32)\n",
    "        self.racc = self.add_weight(name='racc', initializer='zeros', dtype=tf.float32)\n",
    "        self.in_range = self.add_weight(name='racc_ir', initializer='zeros', dtype=tf.float32)\n",
    "        self.total = self.add_weight(name='racc_tot', initializer='zeros', dtype=tf.float32)\n",
    "        \n",
    "    def update_state(self, y_true, y_pred, sample_weight=None):\n",
    "        y_diff = tf.math.abs(y_true - y_pred)\n",
    "        in_range = tf.math.less(tf.cast(y_diff, dtype=tf.float32), self.arange)\n",
    "        trues = tf.reduce_sum(tf.cast(in_range, tf.float32))\n",
    "        \n",
    "        self.in_range = self.in_range + trues\n",
    "        self.total = self.total + tf.cast(tf.size(in_range), dtype=tf.float32)\n",
    "        self.racc = self.in_range / self.total\n",
    "        \n",
    "    \n",
    "    def result(self):\n",
    "        return self.racc"
   ]
  },
  {
   "cell_type": "code",
   "execution_count": 5,
   "metadata": {},
   "outputs": [],
   "source": [
    "Acc = RangedAccuracy()"
   ]
  },
  {
   "cell_type": "markdown",
   "metadata": {},
   "source": [
    "## Create Models"
   ]
  },
  {
   "cell_type": "markdown",
   "metadata": {},
   "source": [
    "### Model with 1 layer"
   ]
  },
  {
   "cell_type": "code",
   "execution_count": 6,
   "metadata": {},
   "outputs": [
    {
     "name": "stdout",
     "output_type": "stream",
     "text": [
      "Model: \"sequential\"\n",
      "_________________________________________________________________\n",
      "Layer (type)                 Output Shape              Param #   \n",
      "=================================================================\n",
      "dense (Dense)                (None, 1, 64)             192       \n",
      "_________________________________________________________________\n",
      "dense_1 (Dense)              (None, 1, 1)              65        \n",
      "=================================================================\n",
      "Total params: 257\n",
      "Trainable params: 257\n",
      "Non-trainable params: 0\n",
      "_________________________________________________________________\n"
     ]
    }
   ],
   "source": [
    "model_1layer = tf.keras.models.Sequential([\n",
    "    tf.keras.layers.Dense(64, input_shape=(1,2)),\n",
    "    tf.keras.layers.Dense(1)\n",
    "])\n",
    "\n",
    "model_1layer.compile(\n",
    "    loss=\"MeanSquaredError\",\n",
    "    metrics=['accuracy']\n",
    ")\n",
    "\n",
    "model_1layer.summary()"
   ]
  },
  {
   "cell_type": "markdown",
   "metadata": {},
   "source": [
    "### Model with 2 Layers"
   ]
  },
  {
   "cell_type": "code",
   "execution_count": 7,
   "metadata": {
    "scrolled": true
   },
   "outputs": [
    {
     "name": "stdout",
     "output_type": "stream",
     "text": [
      "Model: \"sequential_1\"\n",
      "_________________________________________________________________\n",
      "Layer (type)                 Output Shape              Param #   \n",
      "=================================================================\n",
      "dense_2 (Dense)              (None, 1, 128)            384       \n",
      "_________________________________________________________________\n",
      "dense_3 (Dense)              (None, 1, 64)             8256      \n",
      "_________________________________________________________________\n",
      "dense_4 (Dense)              (None, 1, 1)              65        \n",
      "=================================================================\n",
      "Total params: 8,705\n",
      "Trainable params: 8,705\n",
      "Non-trainable params: 0\n",
      "_________________________________________________________________\n"
     ]
    }
   ],
   "source": [
    "model = tf.keras.models.Sequential([\n",
    "  tf.keras.layers.Dense(128, input_shape=(1,2)),\n",
    "  tf.keras.layers.Dense(64),\n",
    "  tf.keras.layers.Dense(1)\n",
    "])\n",
    "model.compile(\n",
    "    loss=\"MeanSquaredError\",\n",
    "    metrics=['accuracy'] #Acc not working, in testing\n",
    ")\n",
    "\n",
    "model.summary()"
   ]
  },
  {
   "cell_type": "markdown",
   "metadata": {},
   "source": [
    "### Model 3 Layer\n"
   ]
  },
  {
   "cell_type": "code",
   "execution_count": 8,
   "metadata": {
    "scrolled": false
   },
   "outputs": [
    {
     "name": "stdout",
     "output_type": "stream",
     "text": [
      "Model: \"sequential_2\"\n",
      "_________________________________________________________________\n",
      "Layer (type)                 Output Shape              Param #   \n",
      "=================================================================\n",
      "dense_5 (Dense)              (None, 1, 256)            768       \n",
      "_________________________________________________________________\n",
      "dense_6 (Dense)              (None, 1, 128)            32896     \n",
      "_________________________________________________________________\n",
      "dense_7 (Dense)              (None, 1, 64)             8256      \n",
      "_________________________________________________________________\n",
      "dense_8 (Dense)              (None, 1, 1)              65        \n",
      "=================================================================\n",
      "Total params: 41,985\n",
      "Trainable params: 41,985\n",
      "Non-trainable params: 0\n",
      "_________________________________________________________________\n"
     ]
    }
   ],
   "source": [
    "model_3layer = tf.keras.models.Sequential([\n",
    "  tf.keras.layers.Dense(256, input_shape=(1,2)),\n",
    "  tf.keras.layers.Dense(128),\n",
    "  tf.keras.layers.Dense(64),\n",
    "  tf.keras.layers.Dense(1)\n",
    "])\n",
    "model_3layer.compile(\n",
    "    loss=\"MeanSquaredError\",\n",
    "    metrics=['accuracy'] #Acc not working, in testing\n",
    ")\n",
    "\n",
    "model_3layer.summary()"
   ]
  },
  {
   "cell_type": "markdown",
   "metadata": {},
   "source": [
    "### Model 4 Layer"
   ]
  },
  {
   "cell_type": "code",
   "execution_count": 9,
   "metadata": {
    "scrolled": false
   },
   "outputs": [
    {
     "name": "stdout",
     "output_type": "stream",
     "text": [
      "Model: \"sequential_3\"\n",
      "_________________________________________________________________\n",
      "Layer (type)                 Output Shape              Param #   \n",
      "=================================================================\n",
      "dense_9 (Dense)              (None, 1, 512)            1536      \n",
      "_________________________________________________________________\n",
      "dense_10 (Dense)             (None, 1, 256)            131328    \n",
      "_________________________________________________________________\n",
      "dense_11 (Dense)             (None, 1, 128)            32896     \n",
      "_________________________________________________________________\n",
      "dense_12 (Dense)             (None, 1, 64)             8256      \n",
      "_________________________________________________________________\n",
      "dense_13 (Dense)             (None, 1, 1)              65        \n",
      "=================================================================\n",
      "Total params: 174,081\n",
      "Trainable params: 174,081\n",
      "Non-trainable params: 0\n",
      "_________________________________________________________________\n"
     ]
    }
   ],
   "source": [
    "model_4layer = tf.keras.models.Sequential([\n",
    "  tf.keras.layers.Dense(512, input_shape=(1,2)),\n",
    "  tf.keras.layers.Dense(256),\n",
    "  tf.keras.layers.Dense(128),\n",
    "  tf.keras.layers.Dense(64),\n",
    "  tf.keras.layers.Dense(1)\n",
    "])\n",
    "model_4layer.compile(\n",
    "    loss=\"MeanSquaredError\",\n",
    "    metrics=['accuracy'] #Acc not working, in testing\n",
    ")\n",
    "\n",
    "model_4layer.summary()"
   ]
  },
  {
   "cell_type": "markdown",
   "metadata": {},
   "source": [
    "### Model 5 Layer"
   ]
  },
  {
   "cell_type": "code",
   "execution_count": 10,
   "metadata": {
    "scrolled": false
   },
   "outputs": [
    {
     "name": "stdout",
     "output_type": "stream",
     "text": [
      "Model: \"sequential_4\"\n",
      "_________________________________________________________________\n",
      "Layer (type)                 Output Shape              Param #   \n",
      "=================================================================\n",
      "dense_14 (Dense)             (None, 1, 1024)           3072      \n",
      "_________________________________________________________________\n",
      "dense_15 (Dense)             (None, 1, 512)            524800    \n",
      "_________________________________________________________________\n",
      "dense_16 (Dense)             (None, 1, 256)            131328    \n",
      "_________________________________________________________________\n",
      "dense_17 (Dense)             (None, 1, 128)            32896     \n",
      "_________________________________________________________________\n",
      "dense_18 (Dense)             (None, 1, 64)             8256      \n",
      "_________________________________________________________________\n",
      "dense_19 (Dense)             (None, 1, 1)              65        \n",
      "=================================================================\n",
      "Total params: 700,417\n",
      "Trainable params: 700,417\n",
      "Non-trainable params: 0\n",
      "_________________________________________________________________\n"
     ]
    }
   ],
   "source": [
    "model_5layer = tf.keras.models.Sequential([\n",
    "    tf.keras.layers.Dense(1024, input_shape=(1,2)),\n",
    "    tf.keras.layers.Dense(512),\n",
    "    tf.keras.layers.Dense(256),\n",
    "    tf.keras.layers.Dense(128),\n",
    "    tf.keras.layers.Dense(64),\n",
    "    tf.keras.layers.Dense(1)\n",
    "])\n",
    "model_5layer.compile(\n",
    "    loss=\"MeanSquaredError\",\n",
    "    metrics=['accuracy'] #Acc not working, in testing\n",
    ")\n",
    "\n",
    "model_5layer.summary()"
   ]
  },
  {
   "cell_type": "code",
   "execution_count": null,
   "metadata": {},
   "outputs": [],
   "source": []
  },
  {
   "cell_type": "markdown",
   "metadata": {},
   "source": [
    "## Train Model"
   ]
  },
  {
   "cell_type": "code",
   "execution_count": 11,
   "metadata": {},
   "outputs": [],
   "source": [
    "es = EarlyStopping(monitor='val_loss', mode='min')"
   ]
  },
  {
   "cell_type": "markdown",
   "metadata": {},
   "source": [
    "### Train 1 Layer Model"
   ]
  },
  {
   "cell_type": "code",
   "execution_count": 12,
   "metadata": {},
   "outputs": [
    {
     "name": "stdout",
     "output_type": "stream",
     "text": [
      "Epoch 1/100\n",
      "1/1 [==============================] - 0s 242ms/step - loss: 1601.2673 - accuracy: 0.0000e+00 - val_loss: 35343.4297 - val_accuracy: 0.0000e+00\n",
      "Epoch 2/100\n",
      "1/1 [==============================] - 0s 46ms/step - loss: 1372.2074 - accuracy: 0.0000e+00 - val_loss: 31670.9316 - val_accuracy: 0.0000e+00\n",
      "Epoch 3/100\n",
      "1/1 [==============================] - 0s 47ms/step - loss: 1222.4539 - accuracy: 0.0000e+00 - val_loss: 28811.6875 - val_accuracy: 0.0000e+00\n",
      "Epoch 4/100\n",
      "1/1 [==============================] - 0s 56ms/step - loss: 1106.2064 - accuracy: 0.0000e+00 - val_loss: 26424.1445 - val_accuracy: 0.0000e+00\n",
      "Epoch 5/100\n",
      "1/1 [==============================] - 0s 62ms/step - loss: 1009.4879 - accuracy: 0.0000e+00 - val_loss: 24352.9023 - val_accuracy: 0.0000e+00\n",
      "Epoch 6/100\n",
      "1/1 [==============================] - 0s 59ms/step - loss: 925.9329 - accuracy: 0.0000e+00 - val_loss: 22513.4258 - val_accuracy: 0.0000e+00\n",
      "Epoch 7/100\n",
      "1/1 [==============================] - 0s 75ms/step - loss: 852.0391 - accuracy: 0.0000e+00 - val_loss: 20854.1289 - val_accuracy: 0.0000e+00\n",
      "Epoch 8/100\n",
      "1/1 [==============================] - 0s 56ms/step - loss: 785.6510 - accuracy: 0.0000e+00 - val_loss: 19340.7695 - val_accuracy: 0.0000e+00\n",
      "Epoch 9/100\n",
      "1/1 [==============================] - 0s 41ms/step - loss: 725.3381 - accuracy: 0.0000e+00 - val_loss: 17949.2285 - val_accuracy: 0.0000e+00\n",
      "Epoch 10/100\n",
      "1/1 [==============================] - 0s 71ms/step - loss: 670.0974 - accuracy: 0.0000e+00 - val_loss: 16661.8086 - val_accuracy: 0.0000e+00\n",
      "Epoch 11/100\n",
      "1/1 [==============================] - 0s 65ms/step - loss: 619.1949 - accuracy: 0.0000e+00 - val_loss: 15465.1123 - val_accuracy: 0.0000e+00\n",
      "Epoch 12/100\n",
      "1/1 [==============================] - 0s 59ms/step - loss: 572.0756 - accuracy: 0.0000e+00 - val_loss: 14348.7285 - val_accuracy: 0.0000e+00\n",
      "Epoch 13/100\n",
      "1/1 [==============================] - 0s 43ms/step - loss: 528.3077 - accuracy: 0.0000e+00 - val_loss: 13304.4121 - val_accuracy: 0.0000e+00\n",
      "Epoch 14/100\n",
      "1/1 [==============================] - 0s 46ms/step - loss: 487.5487 - accuracy: 0.0000e+00 - val_loss: 12325.5068 - val_accuracy: 0.0000e+00\n",
      "Epoch 15/100\n",
      "1/1 [==============================] - 0s 47ms/step - loss: 449.5199 - accuracy: 0.0000e+00 - val_loss: 11406.5508 - val_accuracy: 0.0000e+00\n",
      "Epoch 16/100\n",
      "1/1 [==============================] - 0s 77ms/step - loss: 413.9914 - accuracy: 0.0000e+00 - val_loss: 10542.9971 - val_accuracy: 0.0000e+00\n",
      "Epoch 17/100\n",
      "1/1 [==============================] - 0s 85ms/step - loss: 380.7709 - accuracy: 0.0000e+00 - val_loss: 9731.0186 - val_accuracy: 0.0000e+00\n",
      "Epoch 18/100\n",
      "1/1 [==============================] - 0s 51ms/step - loss: 349.6945 - accuracy: 0.0000e+00 - val_loss: 8967.3467 - val_accuracy: 0.0000e+00\n",
      "Epoch 19/100\n",
      "1/1 [==============================] - 0s 58ms/step - loss: 320.6211 - accuracy: 0.0000e+00 - val_loss: 8249.1699 - val_accuracy: 0.0000e+00\n",
      "Epoch 20/100\n",
      "1/1 [==============================] - 0s 49ms/step - loss: 293.4279 - accuracy: 0.0000e+00 - val_loss: 7574.0303 - val_accuracy: 0.0000e+00\n",
      "Epoch 21/100\n",
      "1/1 [==============================] - 0s 63ms/step - loss: 268.0066 - accuracy: 0.0000e+00 - val_loss: 6939.7578 - val_accuracy: 0.0000e+00\n",
      "Epoch 22/100\n",
      "1/1 [==============================] - 0s 62ms/step - loss: 244.2603 - accuracy: 0.0000e+00 - val_loss: 6344.4268 - val_accuracy: 0.0000e+00\n",
      "Epoch 23/100\n",
      "1/1 [==============================] - 0s 56ms/step - loss: 222.1020 - accuracy: 0.0000e+00 - val_loss: 5786.2871 - val_accuracy: 0.0000e+00\n",
      "Epoch 24/100\n",
      "1/1 [==============================] - 0s 51ms/step - loss: 201.4519 - accuracy: 0.0000e+00 - val_loss: 5263.7495 - val_accuracy: 0.0000e+00\n",
      "Epoch 25/100\n",
      "1/1 [==============================] - 0s 43ms/step - loss: 182.2370 - accuracy: 0.0000e+00 - val_loss: 4775.3364 - val_accuracy: 0.0000e+00\n",
      "Epoch 26/100\n",
      "1/1 [==============================] - 0s 50ms/step - loss: 164.3888 - accuracy: 0.0000e+00 - val_loss: 4319.6665 - val_accuracy: 0.0000e+00\n",
      "Epoch 27/100\n",
      "1/1 [==============================] - 0s 51ms/step - loss: 147.8430 - accuracy: 0.0000e+00 - val_loss: 3895.4312 - val_accuracy: 0.0000e+00\n",
      "Epoch 28/100\n",
      "1/1 [==============================] - 0s 58ms/step - loss: 132.5385 - accuracy: 0.0000e+00 - val_loss: 3501.3765 - val_accuracy: 0.0000e+00\n",
      "Epoch 29/100\n",
      "1/1 [==============================] - 0s 58ms/step - loss: 118.4166 - accuracy: 0.0000e+00 - val_loss: 3136.2903 - val_accuracy: 0.0000e+00\n",
      "Epoch 30/100\n",
      "1/1 [==============================] - 0s 46ms/step - loss: 105.4206 - accuracy: 0.0000e+00 - val_loss: 2798.9937 - val_accuracy: 0.0000e+00\n",
      "Epoch 31/100\n",
      "1/1 [==============================] - 0s 47ms/step - loss: 93.4952 - accuracy: 0.0000e+00 - val_loss: 2488.3237 - val_accuracy: 0.0000e+00\n",
      "Epoch 32/100\n",
      "1/1 [==============================] - 0s 46ms/step - loss: 82.5865 - accuracy: 0.0000e+00 - val_loss: 2203.1338 - val_accuracy: 0.0000e+00\n",
      "Epoch 33/100\n",
      "1/1 [==============================] - 0s 46ms/step - loss: 72.6415 - accuracy: 0.0000e+00 - val_loss: 1942.2820 - val_accuracy: 0.0000e+00\n",
      "Epoch 34/100\n",
      "1/1 [==============================] - 0s 50ms/step - loss: 63.6081 - accuracy: 0.0000e+00 - val_loss: 1704.6215 - val_accuracy: 0.0000e+00\n",
      "Epoch 35/100\n",
      "1/1 [==============================] - 0s 46ms/step - loss: 55.4350 - accuracy: 0.0000e+00 - val_loss: 1488.9976 - val_accuracy: 0.0000e+00\n",
      "Epoch 36/100\n",
      "1/1 [==============================] - 0s 55ms/step - loss: 48.0714 - accuracy: 0.0000e+00 - val_loss: 1294.2504 - val_accuracy: 0.0000e+00\n",
      "Epoch 37/100\n",
      "1/1 [==============================] - 0s 48ms/step - loss: 41.4677 - accuracy: 0.0000e+00 - val_loss: 1119.2004 - val_accuracy: 0.0000e+00\n",
      "Epoch 38/100\n",
      "1/1 [==============================] - 0s 45ms/step - loss: 35.5743 - accuracy: 0.0000e+00 - val_loss: 962.6602 - val_accuracy: 0.0000e+00\n",
      "Epoch 39/100\n",
      "1/1 [==============================] - 0s 42ms/step - loss: 30.3425 - accuracy: 0.0000e+00 - val_loss: 823.4287 - val_accuracy: 0.0000e+00\n",
      "Epoch 40/100\n",
      "1/1 [==============================] - 0s 47ms/step - loss: 25.7242 - accuracy: 0.0000e+00 - val_loss: 700.3029 - val_accuracy: 0.0000e+00\n",
      "Epoch 41/100\n",
      "1/1 [==============================] - 0s 44ms/step - loss: 21.6717 - accuracy: 0.0000e+00 - val_loss: 592.0798 - val_accuracy: 0.0000e+00\n",
      "Epoch 42/100\n",
      "1/1 [==============================] - 0s 43ms/step - loss: 18.1383 - accuracy: 0.0000e+00 - val_loss: 497.5622 - val_accuracy: 0.0000e+00\n",
      "Epoch 43/100\n",
      "1/1 [==============================] - 0s 43ms/step - loss: 15.0780 - accuracy: 0.0000e+00 - val_loss: 415.5679 - val_accuracy: 0.0000e+00\n",
      "Epoch 44/100\n",
      "1/1 [==============================] - 0s 49ms/step - loss: 12.4463 - accuracy: 0.0000e+00 - val_loss: 344.9362 - val_accuracy: 0.0000e+00\n",
      "Epoch 45/100\n",
      "1/1 [==============================] - 0s 56ms/step - loss: 10.1999 - accuracy: 0.0000e+00 - val_loss: 284.5364 - val_accuracy: 0.0000e+00\n",
      "Epoch 46/100\n",
      "1/1 [==============================] - 0s 53ms/step - loss: 8.2973 - accuracy: 0.0000e+00 - val_loss: 233.2773 - val_accuracy: 0.0000e+00\n",
      "Epoch 47/100\n",
      "1/1 [==============================] - 0s 45ms/step - loss: 6.6990 - accuracy: 0.0000e+00 - val_loss: 190.1153 - val_accuracy: 0.0000e+00\n",
      "Epoch 48/100\n",
      "1/1 [==============================] - 0s 44ms/step - loss: 5.3678 - accuracy: 0.0000e+00 - val_loss: 154.0604 - val_accuracy: 0.0000e+00\n",
      "Epoch 49/100\n",
      "1/1 [==============================] - 0s 49ms/step - loss: 4.2690 - accuracy: 0.0000e+00 - val_loss: 124.1861 - val_accuracy: 0.0000e+00\n",
      "Epoch 50/100\n",
      "1/1 [==============================] - 0s 49ms/step - loss: 3.3703 - accuracy: 0.0000e+00 - val_loss: 99.6340 - val_accuracy: 0.0000e+00\n",
      "Epoch 51/100\n",
      "1/1 [==============================] - 0s 46ms/step - loss: 2.6425 - accuracy: 0.0000e+00 - val_loss: 79.6201 - val_accuracy: 0.0000e+00\n",
      "Epoch 52/100\n",
      "1/1 [==============================] - 0s 47ms/step - loss: 2.0591 - accuracy: 0.0000e+00 - val_loss: 63.4350 - val_accuracy: 0.0000e+00\n",
      "Epoch 53/100\n",
      "1/1 [==============================] - 0s 43ms/step - loss: 1.5963 - accuracy: 0.0000e+00 - val_loss: 50.4474 - val_accuracy: 0.0000e+00\n",
      "Epoch 54/100\n"
     ]
    },
    {
     "name": "stdout",
     "output_type": "stream",
     "text": [
      "1/1 [==============================] - 0s 47ms/step - loss: 1.2335 - accuracy: 0.0000e+00 - val_loss: 40.1021 - val_accuracy: 0.0000e+00\n",
      "Epoch 55/100\n",
      "1/1 [==============================] - 0s 41ms/step - loss: 0.9523 - accuracy: 0.0000e+00 - val_loss: 31.9178 - val_accuracy: 0.0000e+00\n",
      "Epoch 56/100\n",
      "1/1 [==============================] - 0s 44ms/step - loss: 0.7371 - accuracy: 0.0000e+00 - val_loss: 25.4838 - val_accuracy: 0.0000e+00\n",
      "Epoch 57/100\n",
      "1/1 [==============================] - 0s 45ms/step - loss: 0.5747 - accuracy: 0.0000e+00 - val_loss: 20.4536 - val_accuracy: 0.0000e+00\n",
      "Epoch 58/100\n",
      "1/1 [==============================] - 0s 52ms/step - loss: 0.4537 - accuracy: 0.0000e+00 - val_loss: 16.5393 - val_accuracy: 0.0000e+00\n",
      "Epoch 59/100\n",
      "1/1 [==============================] - 0s 41ms/step - loss: 0.3651 - accuracy: 0.0000e+00 - val_loss: 13.5051 - val_accuracy: 0.0000e+00\n",
      "Epoch 60/100\n",
      "1/1 [==============================] - 0s 43ms/step - loss: 0.3010 - accuracy: 0.0000e+00 - val_loss: 11.1600 - val_accuracy: 0.0000e+00\n",
      "Epoch 61/100\n",
      "1/1 [==============================] - 0s 44ms/step - loss: 0.2555 - accuracy: 0.0000e+00 - val_loss: 9.3514 - val_accuracy: 0.0000e+00\n",
      "Epoch 62/100\n",
      "1/1 [==============================] - 0s 42ms/step - loss: 0.2237 - accuracy: 0.0000e+00 - val_loss: 7.9587 - val_accuracy: 0.0000e+00\n",
      "Epoch 63/100\n",
      "1/1 [==============================] - 0s 42ms/step - loss: 0.2018 - accuracy: 0.0000e+00 - val_loss: 6.8870 - val_accuracy: 0.0000e+00\n",
      "Epoch 64/100\n",
      "1/1 [==============================] - 0s 45ms/step - loss: 0.1867 - accuracy: 0.0000e+00 - val_loss: 6.0624 - val_accuracy: 0.0000e+00\n",
      "Epoch 65/100\n",
      "1/1 [==============================] - 0s 44ms/step - loss: 0.1765 - accuracy: 0.0000e+00 - val_loss: 5.4280 - val_accuracy: 0.0000e+00\n",
      "Epoch 66/100\n",
      "1/1 [==============================] - 0s 43ms/step - loss: 0.1695 - accuracy: 0.0000e+00 - val_loss: 4.9395 - val_accuracy: 0.0000e+00\n",
      "Epoch 67/100\n",
      "1/1 [==============================] - 0s 38ms/step - loss: 0.1644 - accuracy: 0.0000e+00 - val_loss: 4.5627 - val_accuracy: 0.0000e+00\n",
      "Epoch 68/100\n",
      "1/1 [==============================] - 0s 47ms/step - loss: 0.1607 - accuracy: 0.0000e+00 - val_loss: 4.2711 - val_accuracy: 0.0000e+00\n",
      "Epoch 69/100\n",
      "1/1 [==============================] - 0s 46ms/step - loss: 0.1577 - accuracy: 0.0000e+00 - val_loss: 4.0442 - val_accuracy: 0.0000e+00\n",
      "Epoch 70/100\n",
      "1/1 [==============================] - 0s 45ms/step - loss: 0.1551 - accuracy: 0.0000e+00 - val_loss: 3.8655 - val_accuracy: 0.0000e+00\n",
      "Epoch 71/100\n",
      "1/1 [==============================] - 0s 45ms/step - loss: 0.1526 - accuracy: 0.0000e+00 - val_loss: 3.7229 - val_accuracy: 0.0000e+00\n",
      "Epoch 72/100\n",
      "1/1 [==============================] - 0s 52ms/step - loss: 0.1503 - accuracy: 0.0000e+00 - val_loss: 3.6063 - val_accuracy: 0.0000e+00\n",
      "Epoch 73/100\n",
      "1/1 [==============================] - 0s 43ms/step - loss: 0.1479 - accuracy: 0.0000e+00 - val_loss: 3.5082 - val_accuracy: 0.0000e+00\n",
      "Epoch 74/100\n",
      "1/1 [==============================] - 0s 43ms/step - loss: 0.1456 - accuracy: 0.0000e+00 - val_loss: 3.4227 - val_accuracy: 0.0000e+00\n",
      "Epoch 75/100\n",
      "1/1 [==============================] - 0s 45ms/step - loss: 0.1431 - accuracy: 0.0000e+00 - val_loss: 3.3454 - val_accuracy: 0.0000e+00\n",
      "Epoch 76/100\n",
      "1/1 [==============================] - 0s 38ms/step - loss: 0.1406 - accuracy: 0.0000e+00 - val_loss: 3.2732 - val_accuracy: 0.0000e+00\n",
      "Epoch 77/100\n",
      "1/1 [==============================] - 0s 44ms/step - loss: 0.1380 - accuracy: 0.0000e+00 - val_loss: 3.2037 - val_accuracy: 0.0000e+00\n",
      "Epoch 78/100\n",
      "1/1 [==============================] - 0s 44ms/step - loss: 0.1354 - accuracy: 0.0000e+00 - val_loss: 3.1353 - val_accuracy: 0.0000e+00\n",
      "Epoch 79/100\n",
      "1/1 [==============================] - 0s 42ms/step - loss: 0.1327 - accuracy: 0.0000e+00 - val_loss: 3.0669 - val_accuracy: 0.0000e+00\n",
      "Epoch 80/100\n",
      "1/1 [==============================] - 0s 43ms/step - loss: 0.1299 - accuracy: 0.0000e+00 - val_loss: 2.9982 - val_accuracy: 0.0000e+00\n",
      "Epoch 81/100\n",
      "1/1 [==============================] - 0s 49ms/step - loss: 0.1271 - accuracy: 0.0000e+00 - val_loss: 2.9285 - val_accuracy: 0.0000e+00\n",
      "Epoch 82/100\n",
      "1/1 [==============================] - 0s 43ms/step - loss: 0.1242 - accuracy: 0.0000e+00 - val_loss: 2.8578 - val_accuracy: 0.0000e+00\n",
      "Epoch 83/100\n",
      "1/1 [==============================] - 0s 42ms/step - loss: 0.1213 - accuracy: 0.0000e+00 - val_loss: 2.7862 - val_accuracy: 0.0000e+00\n",
      "Epoch 84/100\n",
      "1/1 [==============================] - 0s 42ms/step - loss: 0.1183 - accuracy: 0.0000e+00 - val_loss: 2.7134 - val_accuracy: 0.0000e+00\n",
      "Epoch 85/100\n",
      "1/1 [==============================] - 0s 43ms/step - loss: 0.1152 - accuracy: 0.0000e+00 - val_loss: 2.6398 - val_accuracy: 0.0000e+00\n",
      "Epoch 86/100\n",
      "1/1 [==============================] - 0s 42ms/step - loss: 0.1122 - accuracy: 0.0000e+00 - val_loss: 2.5653 - val_accuracy: 0.0000e+00\n",
      "Epoch 87/100\n",
      "1/1 [==============================] - 0s 44ms/step - loss: 0.1090 - accuracy: 0.0000e+00 - val_loss: 2.4901 - val_accuracy: 0.0000e+00\n",
      "Epoch 88/100\n",
      "1/1 [==============================] - 0s 45ms/step - loss: 0.1059 - accuracy: 0.0000e+00 - val_loss: 2.4143 - val_accuracy: 0.0000e+00\n",
      "Epoch 89/100\n",
      "1/1 [==============================] - 0s 41ms/step - loss: 0.1027 - accuracy: 0.0000e+00 - val_loss: 2.3381 - val_accuracy: 0.0000e+00\n",
      "Epoch 90/100\n",
      "1/1 [==============================] - 0s 40ms/step - loss: 0.0995 - accuracy: 0.0000e+00 - val_loss: 2.2616 - val_accuracy: 0.0000e+00\n",
      "Epoch 91/100\n",
      "1/1 [==============================] - 0s 48ms/step - loss: 0.0963 - accuracy: 0.0000e+00 - val_loss: 2.1849 - val_accuracy: 0.0000e+00\n",
      "Epoch 92/100\n",
      "1/1 [==============================] - 0s 42ms/step - loss: 0.0931 - accuracy: 0.0000e+00 - val_loss: 2.1082 - val_accuracy: 0.0000e+00\n",
      "Epoch 93/100\n",
      "1/1 [==============================] - 0s 42ms/step - loss: 0.0899 - accuracy: 0.0000e+00 - val_loss: 2.0318 - val_accuracy: 0.0000e+00\n",
      "Epoch 94/100\n",
      "1/1 [==============================] - 0s 43ms/step - loss: 0.0867 - accuracy: 0.0000e+00 - val_loss: 1.9555 - val_accuracy: 0.0000e+00\n",
      "Epoch 95/100\n",
      "1/1 [==============================] - 0s 52ms/step - loss: 0.0835 - accuracy: 0.0000e+00 - val_loss: 1.8797 - val_accuracy: 0.0000e+00\n",
      "Epoch 96/100\n",
      "1/1 [==============================] - 0s 42ms/step - loss: 0.0803 - accuracy: 0.0000e+00 - val_loss: 1.8044 - val_accuracy: 0.0000e+00\n",
      "Epoch 97/100\n",
      "1/1 [==============================] - 0s 47ms/step - loss: 0.0771 - accuracy: 0.0000e+00 - val_loss: 1.7299 - val_accuracy: 0.0000e+00\n",
      "Epoch 98/100\n",
      "1/1 [==============================] - 0s 44ms/step - loss: 0.0740 - accuracy: 0.0000e+00 - val_loss: 1.6561 - val_accuracy: 0.0000e+00\n",
      "Epoch 99/100\n",
      "1/1 [==============================] - 0s 44ms/step - loss: 0.0709 - accuracy: 0.0000e+00 - val_loss: 1.5834 - val_accuracy: 0.0000e+00\n",
      "Epoch 100/100\n",
      "1/1 [==============================] - 0s 41ms/step - loss: 0.0678 - accuracy: 0.0000e+00 - val_loss: 1.5115 - val_accuracy: 0.0000e+00\n"
     ]
    }
   ],
   "source": [
    "history1 = model_1layer.fit(\n",
    "    x_train, y_train,\n",
    "    batch_size=10000,\n",
    "    epochs=100,\n",
    "    validation_data=(x_test,y_test),\n",
    "    callbacks = [es]\n",
    ")"
   ]
  },
  {
   "cell_type": "markdown",
   "metadata": {},
   "source": [
    "### Train 2 Layer Model"
   ]
  },
  {
   "cell_type": "code",
   "execution_count": 13,
   "metadata": {},
   "outputs": [
    {
     "name": "stdout",
     "output_type": "stream",
     "text": [
      "Epoch 1/100\n",
      "1/1 [==============================] - 0s 212ms/step - loss: 2865.5996 - accuracy: 0.0000e+00 - val_loss: 30975.7285 - val_accuracy: 0.0000e+00\n",
      "Epoch 2/100\n",
      "1/1 [==============================] - 0s 45ms/step - loss: 1232.8372 - accuracy: 0.0000e+00 - val_loss: 15300.3340 - val_accuracy: 0.0000e+00\n",
      "Epoch 3/100\n",
      "1/1 [==============================] - 0s 42ms/step - loss: 589.9992 - accuracy: 0.0000e+00 - val_loss: 7411.9561 - val_accuracy: 0.0000e+00\n",
      "Epoch 4/100\n",
      "1/1 [==============================] - 0s 48ms/step - loss: 276.5892 - accuracy: 0.0000e+00 - val_loss: 3403.7202 - val_accuracy: 0.0000e+00\n",
      "Epoch 5/100\n",
      "1/1 [==============================] - 0s 61ms/step - loss: 122.5403 - accuracy: 0.0000e+00 - val_loss: 1461.4265 - val_accuracy: 0.0000e+00\n",
      "Epoch 6/100\n",
      "1/1 [==============================] - 0s 42ms/step - loss: 50.5276 - accuracy: 0.0000e+00 - val_loss: 585.1951 - val_accuracy: 0.0000e+00\n",
      "Epoch 7/100\n",
      "1/1 [==============================] - 0s 42ms/step - loss: 19.2789 - accuracy: 0.0000e+00 - val_loss: 220.1544 - val_accuracy: 0.0000e+00\n",
      "Epoch 8/100\n",
      "1/1 [==============================] - 0s 47ms/step - loss: 6.8083 - accuracy: 0.0000e+00 - val_loss: 79.3100 - val_accuracy: 0.0000e+00\n",
      "Epoch 9/100\n",
      "1/1 [==============================] - 0s 48ms/step - loss: 2.2395 - accuracy: 0.0000e+00 - val_loss: 28.3502 - val_accuracy: 0.0000e+00\n",
      "Epoch 10/100\n",
      "1/1 [==============================] - 0s 42ms/step - loss: 0.7016 - accuracy: 0.0000e+00 - val_loss: 10.6605 - val_accuracy: 0.0000e+00\n",
      "Epoch 11/100\n",
      "1/1 [==============================] - 0s 48ms/step - loss: 0.2259 - accuracy: 0.0000e+00 - val_loss: 4.5649 - val_accuracy: 0.0000e+00\n",
      "Epoch 12/100\n",
      "1/1 [==============================] - 0s 43ms/step - loss: 0.0910 - accuracy: 0.0000e+00 - val_loss: 2.3949 - val_accuracy: 0.0000e+00\n",
      "Epoch 13/100\n",
      "1/1 [==============================] - 0s 42ms/step - loss: 0.0560 - accuracy: 0.0000e+00 - val_loss: 1.5742 - val_accuracy: 0.0000e+00\n",
      "Epoch 14/100\n",
      "1/1 [==============================] - 0s 50ms/step - loss: 0.0475 - accuracy: 0.0000e+00 - val_loss: 1.2444 - val_accuracy: 0.0000e+00\n",
      "Epoch 15/100\n",
      "1/1 [==============================] - 0s 48ms/step - loss: 0.0454 - accuracy: 0.0000e+00 - val_loss: 1.1056 - val_accuracy: 0.0000e+00\n",
      "Epoch 16/100\n",
      "1/1 [==============================] - 0s 48ms/step - loss: 0.0445 - accuracy: 0.0000e+00 - val_loss: 1.0439 - val_accuracy: 0.0000e+00\n",
      "Epoch 17/100\n",
      "1/1 [==============================] - 0s 57ms/step - loss: 0.0439 - accuracy: 0.0000e+00 - val_loss: 1.0127 - val_accuracy: 0.0000e+00\n",
      "Epoch 18/100\n",
      "1/1 [==============================] - 0s 65ms/step - loss: 0.0433 - accuracy: 0.0000e+00 - val_loss: 0.9926 - val_accuracy: 0.0000e+00\n",
      "Epoch 19/100\n",
      "1/1 [==============================] - 0s 49ms/step - loss: 0.0427 - accuracy: 0.0000e+00 - val_loss: 0.9761 - val_accuracy: 0.0000e+00\n",
      "Epoch 20/100\n",
      "1/1 [==============================] - 0s 47ms/step - loss: 0.0421 - accuracy: 0.0000e+00 - val_loss: 0.9604 - val_accuracy: 0.0000e+00\n",
      "Epoch 21/100\n",
      "1/1 [==============================] - 0s 45ms/step - loss: 0.0414 - accuracy: 0.0000e+00 - val_loss: 0.9443 - val_accuracy: 0.0000e+00\n",
      "Epoch 22/100\n",
      "1/1 [==============================] - 0s 46ms/step - loss: 0.0407 - accuracy: 0.0000e+00 - val_loss: 0.9278 - val_accuracy: 0.0000e+00\n",
      "Epoch 23/100\n",
      "1/1 [==============================] - 0s 45ms/step - loss: 0.0400 - accuracy: 0.0000e+00 - val_loss: 0.9107 - val_accuracy: 0.0000e+00\n",
      "Epoch 24/100\n",
      "1/1 [==============================] - 0s 45ms/step - loss: 0.0393 - accuracy: 0.0000e+00 - val_loss: 0.8931 - val_accuracy: 0.0000e+00\n",
      "Epoch 25/100\n",
      "1/1 [==============================] - 0s 49ms/step - loss: 0.0385 - accuracy: 0.0000e+00 - val_loss: 0.8748 - val_accuracy: 0.0000e+00\n",
      "Epoch 26/100\n",
      "1/1 [==============================] - 0s 56ms/step - loss: 0.0377 - accuracy: 0.0000e+00 - val_loss: 0.8560 - val_accuracy: 0.0000e+00\n",
      "Epoch 27/100\n",
      "1/1 [==============================] - 0s 45ms/step - loss: 0.0369 - accuracy: 0.0000e+00 - val_loss: 0.8367 - val_accuracy: 0.0000e+00\n",
      "Epoch 28/100\n",
      "1/1 [==============================] - 0s 47ms/step - loss: 0.0361 - accuracy: 0.0000e+00 - val_loss: 0.8167 - val_accuracy: 0.0000e+00\n",
      "Epoch 29/100\n",
      "1/1 [==============================] - 0s 46ms/step - loss: 0.0352 - accuracy: 0.0000e+00 - val_loss: 0.7962 - val_accuracy: 0.0000e+00\n",
      "Epoch 30/100\n",
      "1/1 [==============================] - 0s 45ms/step - loss: 0.0344 - accuracy: 0.0000e+00 - val_loss: 0.7751 - val_accuracy: 0.0000e+00\n",
      "Epoch 31/100\n",
      "1/1 [==============================] - 0s 48ms/step - loss: 0.0334 - accuracy: 0.0000e+00 - val_loss: 0.7535 - val_accuracy: 0.0000e+00\n",
      "Epoch 32/100\n",
      "1/1 [==============================] - 0s 47ms/step - loss: 0.0325 - accuracy: 0.0000e+00 - val_loss: 0.7315 - val_accuracy: 0.0000e+00\n",
      "Epoch 33/100\n",
      "1/1 [==============================] - 0s 48ms/step - loss: 0.0316 - accuracy: 0.0000e+00 - val_loss: 0.7089 - val_accuracy: 0.0000e+00\n",
      "Epoch 34/100\n",
      "1/1 [==============================] - 0s 43ms/step - loss: 0.0306 - accuracy: 0.0000e+00 - val_loss: 0.6859 - val_accuracy: 0.0000e+00\n",
      "Epoch 35/100\n",
      "1/1 [==============================] - 0s 55ms/step - loss: 0.0296 - accuracy: 0.0000e+00 - val_loss: 0.6625 - val_accuracy: 0.0000e+00\n",
      "Epoch 36/100\n",
      "1/1 [==============================] - 0s 48ms/step - loss: 0.0286 - accuracy: 0.0000e+00 - val_loss: 0.6387 - val_accuracy: 0.0000e+00\n",
      "Epoch 37/100\n",
      "1/1 [==============================] - 0s 48ms/step - loss: 0.0276 - accuracy: 0.0000e+00 - val_loss: 0.6146 - val_accuracy: 0.0000e+00\n",
      "Epoch 38/100\n",
      "1/1 [==============================] - 0s 43ms/step - loss: 0.0265 - accuracy: 0.0000e+00 - val_loss: 0.5900 - val_accuracy: 0.0000e+00\n",
      "Epoch 39/100\n",
      "1/1 [==============================] - 0s 54ms/step - loss: 0.0255 - accuracy: 0.0000e+00 - val_loss: 0.5655 - val_accuracy: 0.0000e+00\n",
      "Epoch 40/100\n",
      "1/1 [==============================] - 0s 47ms/step - loss: 0.0244 - accuracy: 0.0000e+00 - val_loss: 0.5405 - val_accuracy: 0.0000e+00\n",
      "Epoch 41/100\n",
      "1/1 [==============================] - 0s 44ms/step - loss: 0.0233 - accuracy: 0.0000e+00 - val_loss: 0.5158 - val_accuracy: 0.0000e+00\n",
      "Epoch 42/100\n",
      "1/1 [==============================] - 0s 43ms/step - loss: 0.0223 - accuracy: 0.0000e+00 - val_loss: 0.4899 - val_accuracy: 0.0000e+00\n",
      "Epoch 43/100\n",
      "1/1 [==============================] - 0s 43ms/step - loss: 0.0212 - accuracy: 0.0000e+00 - val_loss: 0.4670 - val_accuracy: 0.0000e+00\n",
      "Epoch 44/100\n",
      "1/1 [==============================] - 0s 48ms/step - loss: 0.0201 - accuracy: 0.0000e+00 - val_loss: 0.4365 - val_accuracy: 0.0000e+00\n",
      "Epoch 45/100\n",
      "1/1 [==============================] - 0s 47ms/step - loss: 0.0190 - accuracy: 0.0000e+00 - val_loss: 0.4265 - val_accuracy: 0.0000e+00\n",
      "Epoch 46/100\n",
      "1/1 [==============================] - 0s 66ms/step - loss: 0.0180 - accuracy: 0.0000e+00 - val_loss: 0.3603 - val_accuracy: 0.0000e+00\n",
      "Epoch 47/100\n",
      "1/1 [==============================] - 0s 53ms/step - loss: 0.0171 - accuracy: 0.0000e+00 - val_loss: 0.4774 - val_accuracy: 0.0000e+00\n"
     ]
    }
   ],
   "source": [
    "history2 = model.fit(\n",
    "    x_train, y_train,\n",
    "    batch_size=10000,\n",
    "    epochs= 100,\n",
    "    validation_data=(x_test,y_test),\n",
    "    callbacks = [es]\n",
    ")"
   ]
  },
  {
   "cell_type": "markdown",
   "metadata": {},
   "source": [
    "### Train 3 Layer Model"
   ]
  },
  {
   "cell_type": "code",
   "execution_count": 14,
   "metadata": {},
   "outputs": [
    {
     "name": "stdout",
     "output_type": "stream",
     "text": [
      "Epoch 1/100\n",
      "1/1 [==============================] - 0s 248ms/step - loss: 3699.7563 - accuracy: 0.0000e+00 - val_loss: 1295.1689 - val_accuracy: 0.0000e+00\n",
      "Epoch 2/100\n",
      "1/1 [==============================] - 0s 54ms/step - loss: 184.2663 - accuracy: 0.0000e+00 - val_loss: 147.1606 - val_accuracy: 0.0000e+00\n",
      "Epoch 3/100\n",
      "1/1 [==============================] - 0s 64ms/step - loss: 13.0954 - accuracy: 0.0000e+00 - val_loss: 68.9003 - val_accuracy: 0.0000e+00\n",
      "Epoch 4/100\n",
      "1/1 [==============================] - 0s 73ms/step - loss: 5.7069 - accuracy: 0.0000e+00 - val_loss: 81.7460 - val_accuracy: 0.0000e+00\n"
     ]
    }
   ],
   "source": [
    "history3 = model_3layer.fit(\n",
    "    x_train, y_train,\n",
    "    batch_size=10000,\n",
    "    epochs= 100,\n",
    "    validation_data=(x_test,y_test),\n",
    "    callbacks = [es]\n",
    ")"
   ]
  },
  {
   "cell_type": "markdown",
   "metadata": {},
   "source": [
    "### Train 4 Layer Model"
   ]
  },
  {
   "cell_type": "code",
   "execution_count": 15,
   "metadata": {},
   "outputs": [
    {
     "name": "stdout",
     "output_type": "stream",
     "text": [
      "Epoch 1/100\n",
      "1/1 [==============================] - 0s 287ms/step - loss: 3311.8101 - accuracy: 0.0000e+00 - val_loss: 122103.3984 - val_accuracy: 0.0000e+00\n",
      "Epoch 2/100\n",
      "1/1 [==============================] - 0s 50ms/step - loss: 6856.1313 - accuracy: 0.0000e+00 - val_loss: 41539.4688 - val_accuracy: 0.0000e+00\n",
      "Epoch 3/100\n",
      "1/1 [==============================] - 0s 57ms/step - loss: 1944.6061 - accuracy: 0.0000e+00 - val_loss: 3556.5845 - val_accuracy: 0.0000e+00\n",
      "Epoch 4/100\n",
      "1/1 [==============================] - 0s 51ms/step - loss: 136.8992 - accuracy: 0.0000e+00 - val_loss: 340.9608 - val_accuracy: 0.0000e+00\n",
      "Epoch 5/100\n",
      "1/1 [==============================] - 0s 85ms/step - loss: 12.1644 - accuracy: 0.0000e+00 - val_loss: 17.7652 - val_accuracy: 0.0000e+00\n",
      "Epoch 6/100\n",
      "1/1 [==============================] - 0s 107ms/step - loss: 0.4837 - accuracy: 0.0000e+00 - val_loss: 1.3315 - val_accuracy: 0.0000e+00\n",
      "Epoch 7/100\n",
      "1/1 [==============================] - 0s 86ms/step - loss: 0.0294 - accuracy: 0.0000e+00 - val_loss: 0.5538 - val_accuracy: 0.0000e+00\n",
      "Epoch 8/100\n",
      "1/1 [==============================] - 0s 94ms/step - loss: 0.0220 - accuracy: 0.0000e+00 - val_loss: 0.5002 - val_accuracy: 0.0000e+00\n",
      "Epoch 9/100\n",
      "1/1 [==============================] - 0s 58ms/step - loss: 0.0216 - accuracy: 0.0000e+00 - val_loss: 0.4901 - val_accuracy: 0.0000e+00\n",
      "Epoch 10/100\n",
      "1/1 [==============================] - 0s 58ms/step - loss: 0.0212 - accuracy: 0.0000e+00 - val_loss: 0.4809 - val_accuracy: 0.0000e+00\n",
      "Epoch 11/100\n",
      "1/1 [==============================] - 0s 56ms/step - loss: 0.0208 - accuracy: 0.0000e+00 - val_loss: 0.4713 - val_accuracy: 0.0000e+00\n",
      "Epoch 12/100\n",
      "1/1 [==============================] - 0s 59ms/step - loss: 0.0204 - accuracy: 0.0000e+00 - val_loss: 0.4614 - val_accuracy: 0.0000e+00\n",
      "Epoch 13/100\n",
      "1/1 [==============================] - 0s 56ms/step - loss: 0.0200 - accuracy: 0.0000e+00 - val_loss: 0.4512 - val_accuracy: 0.0000e+00\n",
      "Epoch 14/100\n",
      "1/1 [==============================] - 0s 63ms/step - loss: 0.0195 - accuracy: 0.0000e+00 - val_loss: 0.4407 - val_accuracy: 0.0000e+00\n",
      "Epoch 15/100\n",
      "1/1 [==============================] - 0s 55ms/step - loss: 0.0191 - accuracy: 0.0000e+00 - val_loss: 0.4299 - val_accuracy: 0.0000e+00\n",
      "Epoch 16/100\n",
      "1/1 [==============================] - 0s 64ms/step - loss: 0.0186 - accuracy: 0.0000e+00 - val_loss: 0.4187 - val_accuracy: 0.0000e+00\n",
      "Epoch 17/100\n",
      "1/1 [==============================] - 0s 63ms/step - loss: 0.0181 - accuracy: 0.0000e+00 - val_loss: 0.4073 - val_accuracy: 0.0000e+00\n",
      "Epoch 18/100\n",
      "1/1 [==============================] - 0s 63ms/step - loss: 0.0176 - accuracy: 0.0000e+00 - val_loss: 0.3957 - val_accuracy: 0.0000e+00\n",
      "Epoch 19/100\n",
      "1/1 [==============================] - 0s 47ms/step - loss: 0.0171 - accuracy: 0.0000e+00 - val_loss: 0.3836 - val_accuracy: 0.0000e+00\n",
      "Epoch 20/100\n",
      "1/1 [==============================] - 0s 51ms/step - loss: 0.0166 - accuracy: 0.0000e+00 - val_loss: 0.3715 - val_accuracy: 0.0000e+00\n",
      "Epoch 21/100\n",
      "1/1 [==============================] - 0s 55ms/step - loss: 0.0161 - accuracy: 0.0000e+00 - val_loss: 0.3588 - val_accuracy: 0.0000e+00\n",
      "Epoch 22/100\n",
      "1/1 [==============================] - 0s 44ms/step - loss: 0.0155 - accuracy: 0.0000e+00 - val_loss: 0.3464 - val_accuracy: 0.0000e+00\n",
      "Epoch 23/100\n",
      "1/1 [==============================] - 0s 58ms/step - loss: 0.0150 - accuracy: 0.0000e+00 - val_loss: 0.3332 - val_accuracy: 0.0000e+00\n",
      "Epoch 24/100\n",
      "1/1 [==============================] - 0s 64ms/step - loss: 0.0144 - accuracy: 0.0000e+00 - val_loss: 0.3204 - val_accuracy: 0.0000e+00\n",
      "Epoch 25/100\n",
      "1/1 [==============================] - 0s 59ms/step - loss: 0.0139 - accuracy: 0.0000e+00 - val_loss: 0.3068 - val_accuracy: 0.0000e+00\n",
      "Epoch 26/100\n",
      "1/1 [==============================] - 0s 53ms/step - loss: 0.0133 - accuracy: 0.0000e+00 - val_loss: 0.2939 - val_accuracy: 0.0000e+00\n",
      "Epoch 27/100\n",
      "1/1 [==============================] - 0s 49ms/step - loss: 0.0127 - accuracy: 0.0000e+00 - val_loss: 0.2796 - val_accuracy: 0.0000e+00\n",
      "Epoch 28/100\n",
      "1/1 [==============================] - 0s 51ms/step - loss: 0.0121 - accuracy: 0.0000e+00 - val_loss: 0.2673 - val_accuracy: 0.0000e+00\n",
      "Epoch 29/100\n",
      "1/1 [==============================] - 0s 53ms/step - loss: 0.0115 - accuracy: 0.0000e+00 - val_loss: 0.2514 - val_accuracy: 0.0000e+00\n",
      "Epoch 30/100\n",
      "1/1 [==============================] - 0s 48ms/step - loss: 0.0110 - accuracy: 0.0000e+00 - val_loss: 0.2425 - val_accuracy: 0.0000e+00\n",
      "Epoch 31/100\n",
      "1/1 [==============================] - 0s 61ms/step - loss: 0.0104 - accuracy: 0.0000e+00 - val_loss: 0.2189 - val_accuracy: 0.0000e+00\n",
      "Epoch 32/100\n",
      "1/1 [==============================] - 0s 74ms/step - loss: 0.0098 - accuracy: 0.0000e+00 - val_loss: 0.2299 - val_accuracy: 0.0000e+00\n"
     ]
    }
   ],
   "source": [
    "history4 = model_4layer.fit(\n",
    "    x_train, y_train,\n",
    "    batch_size=10000,\n",
    "    epochs= 100,\n",
    "    validation_data=(x_test,y_test),\n",
    "    callbacks = [es]\n",
    ")"
   ]
  },
  {
   "cell_type": "markdown",
   "metadata": {},
   "source": [
    "### Train 5 Layer Model"
   ]
  },
  {
   "cell_type": "code",
   "execution_count": 16,
   "metadata": {},
   "outputs": [
    {
     "name": "stdout",
     "output_type": "stream",
     "text": [
      "Epoch 1/100\n",
      "1/1 [==============================] - 0s 282ms/step - loss: 2542.1179 - accuracy: 0.0000e+00 - val_loss: 1143758.2500 - val_accuracy: 0.0000e+00\n",
      "Epoch 2/100\n",
      "1/1 [==============================] - 0s 71ms/step - loss: 57784.2617 - accuracy: 0.0000e+00 - val_loss: 409004.6875 - val_accuracy: 0.0000e+00\n",
      "Epoch 3/100\n",
      "1/1 [==============================] - 0s 50ms/step - loss: 20066.2422 - accuracy: 0.0000e+00 - val_loss: 16670.1934 - val_accuracy: 0.0000e+00\n",
      "Epoch 4/100\n",
      "1/1 [==============================] - 0s 49ms/step - loss: 603.9953 - accuracy: 0.0000e+00 - val_loss: 4116.3447 - val_accuracy: 0.0000e+00\n",
      "Epoch 5/100\n",
      "1/1 [==============================] - 0s 54ms/step - loss: 143.4178 - accuracy: 0.0000e+00 - val_loss: 560.9528 - val_accuracy: 0.0000e+00\n",
      "Epoch 6/100\n",
      "1/1 [==============================] - 0s 47ms/step - loss: 19.2190 - accuracy: 0.0000e+00 - val_loss: 43.2561 - val_accuracy: 0.0000e+00\n",
      "Epoch 7/100\n",
      "1/1 [==============================] - 0s 69ms/step - loss: 1.5681 - accuracy: 0.0000e+00 - val_loss: 3.2249 - val_accuracy: 0.0000e+00\n",
      "Epoch 8/100\n",
      "1/1 [==============================] - 0s 60ms/step - loss: 0.1083 - accuracy: 0.0000e+00 - val_loss: 0.5440 - val_accuracy: 0.0000e+00\n",
      "Epoch 9/100\n",
      "1/1 [==============================] - 0s 68ms/step - loss: 0.0146 - accuracy: 0.0000e+00 - val_loss: 0.2705 - val_accuracy: 0.0000e+00\n",
      "Epoch 10/100\n",
      "1/1 [==============================] - 0s 58ms/step - loss: 0.0100 - accuracy: 0.0000e+00 - val_loss: 0.2294 - val_accuracy: 0.0000e+00\n",
      "Epoch 11/100\n",
      "1/1 [==============================] - 0s 55ms/step - loss: 0.0098 - accuracy: 0.0000e+00 - val_loss: 0.2221 - val_accuracy: 0.0000e+00\n",
      "Epoch 12/100\n",
      "1/1 [==============================] - 0s 49ms/step - loss: 0.0097 - accuracy: 0.0000e+00 - val_loss: 0.2195 - val_accuracy: 0.0000e+00\n",
      "Epoch 13/100\n",
      "1/1 [==============================] - 0s 51ms/step - loss: 0.0096 - accuracy: 0.0000e+00 - val_loss: 0.2171 - val_accuracy: 0.0000e+00\n",
      "Epoch 14/100\n",
      "1/1 [==============================] - 0s 56ms/step - loss: 0.0095 - accuracy: 0.0000e+00 - val_loss: 0.2146 - val_accuracy: 0.0000e+00\n",
      "Epoch 15/100\n",
      "1/1 [==============================] - 0s 49ms/step - loss: 0.0094 - accuracy: 0.0000e+00 - val_loss: 0.2120 - val_accuracy: 0.0000e+00\n",
      "Epoch 16/100\n",
      "1/1 [==============================] - 0s 44ms/step - loss: 0.0092 - accuracy: 0.0000e+00 - val_loss: 0.2093 - val_accuracy: 0.0000e+00\n",
      "Epoch 17/100\n",
      "1/1 [==============================] - 0s 51ms/step - loss: 0.0091 - accuracy: 0.0000e+00 - val_loss: 0.2065 - val_accuracy: 0.0000e+00\n",
      "Epoch 18/100\n",
      "1/1 [==============================] - 0s 52ms/step - loss: 0.0090 - accuracy: 0.0000e+00 - val_loss: 0.2036 - val_accuracy: 0.0000e+00\n",
      "Epoch 19/100\n",
      "1/1 [==============================] - 0s 56ms/step - loss: 0.0089 - accuracy: 0.0000e+00 - val_loss: 0.2006 - val_accuracy: 0.0000e+00\n",
      "Epoch 20/100\n",
      "1/1 [==============================] - 0s 56ms/step - loss: 0.0087 - accuracy: 0.0000e+00 - val_loss: 0.1975 - val_accuracy: 0.0000e+00\n",
      "Epoch 21/100\n",
      "1/1 [==============================] - 0s 71ms/step - loss: 0.0086 - accuracy: 0.0000e+00 - val_loss: 0.1942 - val_accuracy: 0.0000e+00\n",
      "Epoch 22/100\n",
      "1/1 [==============================] - 0s 45ms/step - loss: 0.0085 - accuracy: 0.0000e+00 - val_loss: 0.1908 - val_accuracy: 0.0000e+00\n",
      "Epoch 23/100\n",
      "1/1 [==============================] - 0s 46ms/step - loss: 0.0083 - accuracy: 0.0000e+00 - val_loss: 0.1874 - val_accuracy: 0.0000e+00\n",
      "Epoch 24/100\n",
      "1/1 [==============================] - 0s 45ms/step - loss: 0.0082 - accuracy: 0.0000e+00 - val_loss: 0.1837 - val_accuracy: 0.0000e+00\n",
      "Epoch 25/100\n",
      "1/1 [==============================] - 0s 52ms/step - loss: 0.0080 - accuracy: 0.0000e+00 - val_loss: 0.1801 - val_accuracy: 0.0000e+00\n",
      "Epoch 26/100\n",
      "1/1 [==============================] - 0s 52ms/step - loss: 0.0078 - accuracy: 0.0000e+00 - val_loss: 0.1761 - val_accuracy: 0.0000e+00\n",
      "Epoch 27/100\n",
      "1/1 [==============================] - 0s 52ms/step - loss: 0.0077 - accuracy: 0.0000e+00 - val_loss: 0.1723 - val_accuracy: 0.0000e+00\n",
      "Epoch 28/100\n",
      "1/1 [==============================] - 0s 56ms/step - loss: 0.0075 - accuracy: 0.0000e+00 - val_loss: 0.1679 - val_accuracy: 0.0000e+00\n",
      "Epoch 29/100\n",
      "1/1 [==============================] - 0s 49ms/step - loss: 0.0073 - accuracy: 0.0000e+00 - val_loss: 0.1644 - val_accuracy: 0.0000e+00\n",
      "Epoch 30/100\n",
      "1/1 [==============================] - 0s 46ms/step - loss: 0.0071 - accuracy: 0.0000e+00 - val_loss: 0.1585 - val_accuracy: 0.0000e+00\n",
      "Epoch 31/100\n",
      "1/1 [==============================] - 0s 46ms/step - loss: 0.0070 - accuracy: 0.0000e+00 - val_loss: 0.1576 - val_accuracy: 0.0000e+00\n",
      "Epoch 32/100\n",
      "1/1 [==============================] - 0s 53ms/step - loss: 0.0068 - accuracy: 0.0000e+00 - val_loss: 0.1446 - val_accuracy: 0.0000e+00\n",
      "Epoch 33/100\n",
      "1/1 [==============================] - 0s 54ms/step - loss: 0.0066 - accuracy: 0.0000e+00 - val_loss: 0.1628 - val_accuracy: 0.0000e+00\n"
     ]
    }
   ],
   "source": [
    "history5 = model_5layer.fit(\n",
    "    x_train, y_train,\n",
    "    batch_size=10000,\n",
    "    epochs= 100,\n",
    "    validation_data=(x_test,y_test),\n",
    "    callbacks = [es]\n",
    ")"
   ]
  },
  {
   "cell_type": "code",
   "execution_count": null,
   "metadata": {},
   "outputs": [],
   "source": []
  },
  {
   "cell_type": "markdown",
   "metadata": {},
   "source": [
    "## Test Model"
   ]
  },
  {
   "cell_type": "code",
   "execution_count": 28,
   "metadata": {},
   "outputs": [],
   "source": [
    "acc_range = 0.5"
   ]
  },
  {
   "cell_type": "markdown",
   "metadata": {},
   "source": [
    "### Test 1 Layer Model"
   ]
  },
  {
   "cell_type": "code",
   "execution_count": 29,
   "metadata": {},
   "outputs": [],
   "source": [
    "pred = model_1layer.predict(x_test)"
   ]
  },
  {
   "cell_type": "code",
   "execution_count": 30,
   "metadata": {},
   "outputs": [
    {
     "name": "stdout",
     "output_type": "stream",
     "text": [
      "input=[101 102] expected_output=[203] prediction=[202.02402] difference=[-0.97598267] %-different from actual=[0.0048078]\n",
      "\t accuracy=0.0\n",
      "input=[184 183] expected_output=[367] prediction=[365.4932] difference=[-1.5068054] %-different from actual=[0.00410574]\n",
      "\t accuracy=0.0\n",
      "input=[179  60] expected_output=[239] prediction=[237.26515] difference=[-1.734848] %-different from actual=[0.00725878]\n",
      "\t accuracy=0.0\n",
      "input=[110 130] expected_output=[240] prediction=[239.00874] difference=[-0.9912567] %-different from actual=[0.00413024]\n",
      "\t accuracy=0.0\n",
      "input=[113 122] expected_output=[235] prediction=[233.9655] difference=[-1.0345001] %-different from actual=[0.00440213]\n",
      "\t accuracy=0.0\n",
      "input=[160 184] expected_output=[344] prediction=[342.70047] difference=[-1.29953] %-different from actual=[0.0037777]\n",
      "\t accuracy=0.0\n",
      "input=[129 160] expected_output=[289] prediction=[287.91248] difference=[-1.0875244] %-different from actual=[0.00376306]\n",
      "\t accuracy=0.0\n",
      "input=[51 58] expected_output=[109] prediction=[108.35434] difference=[-0.6456604] %-different from actual=[0.00592349]\n",
      "\t accuracy=0.0\n",
      "input=[ 99 170] expected_output=[269] prediction=[268.1908] difference=[-0.8092041] %-different from actual=[0.00300819]\n",
      "\t accuracy=0.0\n",
      "input=[198 150] expected_output=[348] prediction=[346.30096] difference=[-1.6990356] %-different from actual=[0.00488229]\n",
      "\t accuracy=0.0\n"
     ]
    }
   ],
   "source": [
    "test_total = 0\n",
    "acc_count = 0\n",
    "for a in range(len(x_test)):\n",
    "    x = x_test[a]\n",
    "    y = y_test[a]\n",
    "    yp = pred[a][0]\n",
    "    print(f\"input={x[0]} expected_output={[y]} prediction={yp} difference={yp - y} %-different from actual={abs(yp - y)/y}\")\n",
    "    \n",
    "    if abs(yp - y) <= acc_range:\n",
    "        acc_count = acc_count + 1\n",
    "    \n",
    "    test_total = test_total + 1\n",
    "        \n",
    "    print(f\"\\t accuracy={acc_count / test_total}\")"
   ]
  },
  {
   "cell_type": "markdown",
   "metadata": {},
   "source": [
    "### Test 2 Layer Model"
   ]
  },
  {
   "cell_type": "code",
   "execution_count": 31,
   "metadata": {},
   "outputs": [],
   "source": [
    "pred = model.predict(x_test)"
   ]
  },
  {
   "cell_type": "code",
   "execution_count": 32,
   "metadata": {},
   "outputs": [
    {
     "name": "stdout",
     "output_type": "stream",
     "text": [
      "input=[101 102] expected_output=[203] prediction=[202.44739] difference=[-0.5526123] %-different from actual=[0.00272223]\n",
      "\t accuracy=0.0\n",
      "input=[184 183] expected_output=[367] prediction=[366.13144] difference=[-0.8685608] %-different from actual=[0.00236665]\n",
      "\t accuracy=0.0\n",
      "input=[179  60] expected_output=[239] prediction=[238.18655] difference=[-0.81344604] %-different from actual=[0.00340354]\n",
      "\t accuracy=0.0\n",
      "input=[110 130] expected_output=[240] prediction=[239.4072] difference=[-0.59280396] %-different from actual=[0.00247002]\n",
      "\t accuracy=0.0\n",
      "input=[113 122] expected_output=[235] prediction=[234.39912] difference=[-0.60087585] %-different from actual=[0.00255692]\n",
      "\t accuracy=0.0\n",
      "input=[160 184] expected_output=[344] prediction=[343.2153] difference=[-0.7846985] %-different from actual=[0.0022811]\n",
      "\t accuracy=0.0\n",
      "input=[129 160] expected_output=[289] prediction=[288.33142] difference=[-0.6685791] %-different from actual=[0.00231342]\n",
      "\t accuracy=0.0\n",
      "input=[51 58] expected_output=[109] prediction=[108.63622] difference=[-0.36377716] %-different from actual=[0.00333741]\n",
      "\t accuracy=0.125\n",
      "input=[ 99 170] expected_output=[269] prediction=[268.4336] difference=[-0.56640625] %-different from actual=[0.0021056]\n",
      "\t accuracy=0.1111111111111111\n",
      "input=[198 150] expected_output=[348] prediction=[347.09238] difference=[-0.9076233] %-different from actual=[0.00260811]\n",
      "\t accuracy=0.1\n"
     ]
    }
   ],
   "source": [
    "test_total = 0\n",
    "acc_count = 0\n",
    "for a in range(len(x_test)):\n",
    "    x = x_test[a]\n",
    "    y = y_test[a]\n",
    "    yp = pred[a][0]\n",
    "    print(f\"input={x[0]} expected_output={[y]} prediction={yp} difference={yp - y} %-different from actual={abs(yp - y)/y}\")\n",
    "    \n",
    "    if abs(yp - y) <= acc_range:\n",
    "        acc_count = acc_count + 1\n",
    "    \n",
    "    test_total = test_total + 1\n",
    "        \n",
    "    print(f\"\\t accuracy={acc_count / test_total}\")"
   ]
  },
  {
   "cell_type": "markdown",
   "metadata": {},
   "source": [
    "### Test 3 Layer Model"
   ]
  },
  {
   "cell_type": "code",
   "execution_count": 33,
   "metadata": {},
   "outputs": [],
   "source": [
    "pred = model_3layer.predict(x_test)"
   ]
  },
  {
   "cell_type": "code",
   "execution_count": 34,
   "metadata": {},
   "outputs": [
    {
     "name": "stdout",
     "output_type": "stream",
     "text": [
      "input=[101 102] expected_output=[203] prediction=[196.23782] difference=[-6.7621765] %-different from actual=[0.03331121]\n",
      "\t accuracy=0.0\n",
      "input=[184 183] expected_output=[367] prediction=[355.0253] difference=[-11.974701] %-different from actual=[0.03262861]\n",
      "\t accuracy=0.0\n",
      "input=[179  60] expected_output=[239] prediction=[232.82709] difference=[-6.1729126] %-different from actual=[0.02582809]\n",
      "\t accuracy=0.0\n",
      "input=[110 130] expected_output=[240] prediction=[231.7798] difference=[-8.2202] %-different from actual=[0.03425083]\n",
      "\t accuracy=0.0\n",
      "input=[113 122] expected_output=[235] prediction=[227.09912] difference=[-7.900879] %-different from actual=[0.03362076]\n",
      "\t accuracy=0.0\n",
      "input=[160 184] expected_output=[344] prediction=[332.39795] difference=[-11.602051] %-different from actual=[0.03372689]\n",
      "\t accuracy=0.0\n",
      "input=[129 160] expected_output=[289] prediction=[279.05432] difference=[-9.945679] %-different from actual=[0.03441411]\n",
      "\t accuracy=0.0\n",
      "input=[51 58] expected_output=[109] prediction=[105.15508] difference=[-3.8449173] %-different from actual=[0.03527447]\n",
      "\t accuracy=0.0\n",
      "input=[ 99 170] expected_output=[269] prediction=[259.11353] difference=[-9.886475] %-different from actual=[0.03675269]\n",
      "\t accuracy=0.0\n",
      "input=[198 150] expected_output=[348] prediction=[337.3141] difference=[-10.685913] %-different from actual=[0.03070665]\n",
      "\t accuracy=0.0\n"
     ]
    }
   ],
   "source": [
    "test_total = 0\n",
    "acc_count = 0\n",
    "for a in range(len(x_test)):\n",
    "    x = x_test[a]\n",
    "    y = y_test[a]\n",
    "    yp = pred[a][0]\n",
    "    print(f\"input={x[0]} expected_output={[y]} prediction={yp} difference={yp - y} %-different from actual={abs(yp - y)/y}\")\n",
    "    \n",
    "    if abs(yp - y) <= acc_range:\n",
    "        acc_count = acc_count + 1\n",
    "    \n",
    "    test_total = test_total + 1\n",
    "        \n",
    "    print(f\"\\t accuracy={acc_count / test_total}\")"
   ]
  },
  {
   "cell_type": "markdown",
   "metadata": {},
   "source": [
    "### Test 4 Layer Model"
   ]
  },
  {
   "cell_type": "code",
   "execution_count": 35,
   "metadata": {},
   "outputs": [],
   "source": [
    "pred = model_4layer.predict(x_test)"
   ]
  },
  {
   "cell_type": "code",
   "execution_count": 36,
   "metadata": {},
   "outputs": [
    {
     "name": "stdout",
     "output_type": "stream",
     "text": [
      "input=[101 102] expected_output=[203] prediction=[202.61955] difference=[-0.3804474] %-different from actual=[0.00187413]\n",
      "\t accuracy=1.0\n",
      "input=[184 183] expected_output=[367] prediction=[366.40942] difference=[-0.5905762] %-different from actual=[0.0016092]\n",
      "\t accuracy=0.5\n",
      "input=[179  60] expected_output=[239] prediction=[238.33676] difference=[-0.6632385] %-different from actual=[0.00277506]\n",
      "\t accuracy=0.3333333333333333\n",
      "input=[110 130] expected_output=[240] prediction=[239.61063] difference=[-0.38937378] %-different from actual=[0.00162239]\n",
      "\t accuracy=0.5\n",
      "input=[113 122] expected_output=[235] prediction=[234.59517] difference=[-0.40483093] %-different from actual=[0.00172268]\n",
      "\t accuracy=0.6\n",
      "input=[160 184] expected_output=[344] prediction=[343.4878] difference=[-0.51220703] %-different from actual=[0.00148897]\n",
      "\t accuracy=0.5\n",
      "input=[129 160] expected_output=[289] prediction=[288.5708] difference=[-0.42919922] %-different from actual=[0.00148512]\n",
      "\t accuracy=0.5714285714285714\n",
      "input=[51 58] expected_output=[109] prediction=[108.749565] difference=[-0.25043488] %-different from actual=[0.00229757]\n",
      "\t accuracy=0.625\n",
      "input=[ 99 170] expected_output=[269] prediction=[268.6751] difference=[-0.32489014] %-different from actual=[0.00120777]\n",
      "\t accuracy=0.6666666666666666\n",
      "input=[198 150] expected_output=[348] prediction=[347.34024] difference=[-0.6597595] %-different from actual=[0.00189586]\n",
      "\t accuracy=0.6\n"
     ]
    }
   ],
   "source": [
    "test_total = 0\n",
    "acc_count = 0\n",
    "for a in range(len(x_test)):\n",
    "    x = x_test[a]\n",
    "    y = y_test[a]\n",
    "    yp = pred[a][0]\n",
    "    print(f\"input={x[0]} expected_output={[y]} prediction={yp} difference={yp - y} %-different from actual={abs(yp - y)/y}\")\n",
    "    \n",
    "    if abs(yp - y) <= acc_range:\n",
    "        acc_count = acc_count + 1\n",
    "    \n",
    "    test_total = test_total + 1\n",
    "        \n",
    "    print(f\"\\t accuracy={acc_count / test_total}\")"
   ]
  },
  {
   "cell_type": "markdown",
   "metadata": {},
   "source": [
    "### Test 5 Layer Model"
   ]
  },
  {
   "cell_type": "code",
   "execution_count": 37,
   "metadata": {},
   "outputs": [],
   "source": [
    "pred = model_5layer.predict(x_test)"
   ]
  },
  {
   "cell_type": "code",
   "execution_count": 38,
   "metadata": {
    "scrolled": true
   },
   "outputs": [
    {
     "name": "stdout",
     "output_type": "stream",
     "text": [
      "input=[101 102] expected_output=[203] prediction=[202.67967] difference=[-0.32032776] %-different from actual=[0.00157797]\n",
      "\t accuracy=1.0\n",
      "input=[184 183] expected_output=[367] prediction=[366.5019] difference=[-0.4981079] %-different from actual=[0.00135724]\n",
      "\t accuracy=1.0\n",
      "input=[179  60] expected_output=[239] prediction=[238.44882] difference=[-0.551178] %-different from actual=[0.00230618]\n",
      "\t accuracy=0.6666666666666666\n",
      "input=[110 130] expected_output=[240] prediction=[239.67079] difference=[-0.32920837] %-different from actual=[0.0013717]\n",
      "\t accuracy=0.75\n",
      "input=[113 122] expected_output=[235] prediction=[234.65846] difference=[-0.34153748] %-different from actual=[0.00145335]\n",
      "\t accuracy=0.8\n",
      "input=[160 184] expected_output=[344] prediction=[343.56653] difference=[-0.43347168] %-different from actual=[0.00126009]\n",
      "\t accuracy=0.8333333333333334\n",
      "input=[129 160] expected_output=[289] prediction=[288.6363] difference=[-0.3637085] %-different from actual=[0.00125851]\n",
      "\t accuracy=0.8571428571428571\n",
      "input=[51 58] expected_output=[109] prediction=[108.78936] difference=[-0.21063995] %-different from actual=[0.00193248]\n",
      "\t accuracy=0.875\n",
      "input=[ 99 170] expected_output=[269] prediction=[268.72174] difference=[-0.27825928] %-different from actual=[0.00103442]\n",
      "\t accuracy=0.8888888888888888\n",
      "input=[198 150] expected_output=[348] prediction=[347.44678] difference=[-0.55322266] %-different from actual=[0.00158972]\n",
      "\t accuracy=0.8\n"
     ]
    }
   ],
   "source": [
    "test_total = 0\n",
    "acc_count = 0\n",
    "for a in range(len(x_test)):\n",
    "    x = x_test[a]\n",
    "    y = y_test[a]\n",
    "    yp = pred[a][0]\n",
    "    print(f\"input={x[0]} expected_output={[y]} prediction={yp} difference={yp - y} %-different from actual={abs(yp - y)/y}\")\n",
    "    \n",
    "    if abs(yp - y) <= acc_range:\n",
    "        acc_count = acc_count + 1\n",
    "    \n",
    "    test_total = test_total + 1\n",
    "        \n",
    "    print(f\"\\t accuracy={acc_count / test_total}\")"
   ]
  }
 ],
 "metadata": {
  "kernelspec": {
   "display_name": "Python 3",
   "language": "python",
   "name": "python3"
  },
  "language_info": {
   "codemirror_mode": {
    "name": "ipython",
    "version": 3
   },
   "file_extension": ".py",
   "mimetype": "text/x-python",
   "name": "python",
   "nbconvert_exporter": "python",
   "pygments_lexer": "ipython3",
   "version": "3.8.2"
  }
 },
 "nbformat": 4,
 "nbformat_minor": 4
}
