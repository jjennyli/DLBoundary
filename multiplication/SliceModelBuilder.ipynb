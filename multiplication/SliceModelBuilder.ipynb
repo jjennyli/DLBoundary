{
 "cells": [
  {
   "cell_type": "markdown",
   "metadata": {},
   "source": [
    "# Slice Model\n",
    "My name for a non-dense model that is just a dense model with set of connections that are *sliced* from layer to layer"
   ]
  },
  {
   "cell_type": "markdown",
   "metadata": {},
   "source": [
    "## Imports"
   ]
  },
  {
   "cell_type": "code",
   "execution_count": 3,
   "metadata": {},
   "outputs": [
    {
     "name": "stderr",
     "output_type": "stream",
     "text": [
      "Using TensorFlow backend.\n"
     ]
    }
   ],
   "source": [
    "import arithmetic_datasets as ad\n",
    "\n",
    "from tensorflow.keras.layers import Input, Lambda, Dense, concatenate\n",
    "from tensorflow.keras.models import Model\n",
    "\n",
    "import matplotlib.pyplot as plt\n",
    "import random\n",
    "import numpy as np\n",
    "\n",
    "from tensorflow.keras.callbacks import EarlyStopping\n",
    "\n",
    "import numpy as np\n",
    "import tensorflow as tf\n",
    "import random\n",
    "import keras\n",
    "from tensorflow.keras.callbacks import EarlyStopping\n",
    "from tensorflow.keras.metrics import Metric"
   ]
  },
  {
   "cell_type": "markdown",
   "metadata": {},
   "source": [
    "## SliceModelBuilder"
   ]
  },
  {
   "cell_type": "code",
   "execution_count": 25,
   "metadata": {},
   "outputs": [],
   "source": [
    "class SliceModelBuilder:\n",
    "    def __init__(self, input_shape):\n",
    "        self.input_layer = Input(shape=input_shape)\n",
    "        self.output_layer = self.input_layer\n",
    "        \n",
    "    def dense(self, output_dims):\n",
    "        self.next_layer = Dense(output_dims)(self.input_layer)\n",
    "        return self\n",
    "        \n",
    "    def slice(self, ranges):\n",
    "        layers = []\n",
    "        for rng in ranges:\n",
    "            layers.append( Lambda(lambda x: x[:,:,rng[0] : rng[1]])(self.next_layer) )\n",
    "        \n",
    "        if len(layers) > 1:\n",
    "            self.next_layer = concatenate(layers)\n",
    "        else:\n",
    "            self.next_layer = layers[0]\n",
    "        \n",
    "        return self\n",
    "    \n",
    "    def make(self):\n",
    "        return Model(self.input_layer, self.output_layer)"
   ]
  },
  {
   "cell_type": "code",
   "execution_count": 26,
   "metadata": {},
   "outputs": [
    {
     "data": {
      "text/plain": [
       "<tensorflow.python.keras.engine.training.Model at 0x165b25dc040>"
      ]
     },
     "execution_count": 26,
     "metadata": {},
     "output_type": "execute_result"
    }
   ],
   "source": [
    "model = SliceModelBuilder((1,3))\n",
    "model = model.dense(64).dense(32).dense(1).make()\n",
    "model"
   ]
  },
  {
   "cell_type": "code",
   "execution_count": 27,
   "metadata": {},
   "outputs": [
    {
     "data": {
      "text/plain": [
       "<tensorflow.python.keras.engine.training.Model at 0x165b2650ee0>"
      ]
     },
     "execution_count": 27,
     "metadata": {},
     "output_type": "execute_result"
    }
   ],
   "source": [
    "model = SliceModelBuilder((1,3)).dense(64).slice([(0,60)]).dense(32).slice([(0,10)]).dense(1).make()\n",
    "model"
   ]
  },
  {
   "cell_type": "code",
   "execution_count": null,
   "metadata": {},
   "outputs": [],
   "source": []
  }
 ],
 "metadata": {
  "kernelspec": {
   "display_name": "Python 3",
   "language": "python",
   "name": "python3"
  },
  "language_info": {
   "codemirror_mode": {
    "name": "ipython",
    "version": 3
   },
   "file_extension": ".py",
   "mimetype": "text/x-python",
   "name": "python",
   "nbconvert_exporter": "python",
   "pygments_lexer": "ipython3",
   "version": "3.8.2"
  }
 },
 "nbformat": 4,
 "nbformat_minor": 4
}
