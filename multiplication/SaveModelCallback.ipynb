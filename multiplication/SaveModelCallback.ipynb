{
 "cells": [
  {
   "cell_type": "markdown",
   "metadata": {},
   "source": [
    "# Save Model Callback"
   ]
  },
  {
   "cell_type": "code",
   "execution_count": 1,
   "metadata": {},
   "outputs": [],
   "source": [
    "from keras.callbacks import Callback"
   ]
  },
  {
   "cell_type": "code",
   "execution_count": 2,
   "metadata": {},
   "outputs": [],
   "source": [
    "class SaveModelCallback(Callback):\n",
    "    def __init__(self, filepath,  n=5):\n",
    "        super(SaveModelCallback, self).__init__()\n",
    "        self.num_epochs = 5\n",
    "        self.filepath = filepath\n",
    "    \n",
    "    def on_epoch_end(self, epoch, logs = None):\n",
    "        if epoch % 5 == 0:\n",
    "            self.model.save(f\"{self.filepath}-{epoch}.model\")\n",
    "            print(f\"model saved: {self.filepath}-{epoch}.model\")"
   ]
  },
  {
   "cell_type": "code",
   "execution_count": 3,
   "metadata": {},
   "outputs": [],
   "source": [
    "smc = SaveModelCallback(\"checkpoints/chkpt\")"
   ]
  },
  {
   "cell_type": "markdown",
   "metadata": {},
   "source": [
    "## Test Model"
   ]
  },
  {
   "cell_type": "code",
   "execution_count": 4,
   "metadata": {},
   "outputs": [],
   "source": [
    "from keras.models import Sequential\n",
    "from keras.layers import Input, Dense"
   ]
  },
  {
   "cell_type": "code",
   "execution_count": 13,
   "metadata": {},
   "outputs": [],
   "source": [
    "def build_model():\n",
    "    model = Sequential()\n",
    "\n",
    "    model.add(Input(shape=(1,2)))\n",
    "    model.add(Dense(64))\n",
    "    model.add(Dense(1))\n",
    "\n",
    "    model.compile(\n",
    "        loss=\"MeanSquaredError\",\n",
    "        metrics=['accuracy']\n",
    "    )\n",
    "    \n",
    "    return model\n",
    "\n",
    "model = build_model()"
   ]
  },
  {
   "cell_type": "markdown",
   "metadata": {},
   "source": [
    "## Train Data (Garbage)"
   ]
  },
  {
   "cell_type": "code",
   "execution_count": 15,
   "metadata": {},
   "outputs": [],
   "source": [
    "import numpy as np\n",
    "from keras.models import load_model"
   ]
  },
  {
   "cell_type": "code",
   "execution_count": 19,
   "metadata": {
    "scrolled": true
   },
   "outputs": [
    {
     "name": "stdout",
     "output_type": "stream",
     "text": [
      "Epoch 1/25\n",
      "WARNING:tensorflow:Model was constructed with shape (None, 1, 2) for input Tensor(\"input_1_1:0\", shape=(None, 1, 2), dtype=float32), but it was called on an input with incompatible shape (1, 2).\n",
      "WARNING:tensorflow:Model was constructed with shape (None, 1, 2) for input Tensor(\"input_1_1:0\", shape=(None, 1, 2), dtype=float32), but it was called on an input with incompatible shape (1, 2).\n",
      " 76/100 [=====================>........] - ETA: 0s - loss: 3.5982e-04 - accuracy: 1.0000INFO:tensorflow:Assets written to: checkpoints/chkpt-0.model/assets\n",
      "model saved: checkpoints/chkpt-0.model\n",
      "100/100 [==============================] - 0s 5ms/step - loss: 3.4529e-04 - accuracy: 1.0000\n",
      "Epoch 2/25\n",
      "100/100 [==============================] - 0s 698us/step - loss: 2.9945e-04 - accuracy: 1.0000\n",
      "Epoch 3/25\n",
      "100/100 [==============================] - 0s 700us/step - loss: 2.9459e-04 - accuracy: 1.0000\n",
      "Epoch 4/25\n",
      "100/100 [==============================] - 0s 745us/step - loss: 2.9118e-04 - accuracy: 1.0000\n",
      "Epoch 5/25\n",
      "100/100 [==============================] - 0s 745us/step - loss: 2.8765e-04 - accuracy: 1.0000\n",
      "Epoch 6/25\n",
      " 68/100 [===================>..........] - ETA: 0s - loss: 2.8447e-04 - accuracy: 1.0000INFO:tensorflow:Assets written to: checkpoints/chkpt-5.model/assets\n",
      "model saved: checkpoints/chkpt-5.model\n",
      "100/100 [==============================] - 1s 5ms/step - loss: 2.8379e-04 - accuracy: 1.0000\n",
      "Epoch 7/25\n",
      "100/100 [==============================] - 0s 1ms/step - loss: 2.8007e-04 - accuracy: 1.0000\n",
      "Epoch 8/25\n",
      "100/100 [==============================] - 0s 710us/step - loss: 2.7696e-04 - accuracy: 1.0000\n",
      "Epoch 9/25\n",
      "100/100 [==============================] - 0s 665us/step - loss: 2.7379e-04 - accuracy: 1.0000\n",
      "Epoch 10/25\n",
      "100/100 [==============================] - 0s 674us/step - loss: 2.7052e-04 - accuracy: 1.0000\n",
      "Epoch 11/25\n",
      " 77/100 [======================>.......] - ETA: 0s - loss: 2.6751e-04 - accuracy: 1.0000INFO:tensorflow:Assets written to: checkpoints/chkpt-10.model/assets\n",
      "model saved: checkpoints/chkpt-10.model\n",
      "100/100 [==============================] - 0s 5ms/step - loss: 2.6711e-04 - accuracy: 1.0000\n",
      "Epoch 12/25\n",
      "100/100 [==============================] - 0s 729us/step - loss: 2.6350e-04 - accuracy: 1.0000\n",
      "Epoch 13/25\n",
      "100/100 [==============================] - 0s 728us/step - loss: 2.5951e-04 - accuracy: 1.0000\n",
      "Epoch 14/25\n",
      "100/100 [==============================] - 0s 696us/step - loss: 2.5497e-04 - accuracy: 1.0000\n",
      "Epoch 15/25\n",
      "100/100 [==============================] - 0s 748us/step - loss: 2.5169e-04 - accuracy: 1.0000\n",
      "Epoch 16/25\n",
      " 61/100 [=================>............] - ETA: 0s - loss: 2.4919e-04 - accuracy: 1.0000INFO:tensorflow:Assets written to: checkpoints/chkpt-15.model/assets\n",
      "model saved: checkpoints/chkpt-15.model\n",
      "100/100 [==============================] - 0s 5ms/step - loss: 2.4857e-04 - accuracy: 1.0000\n",
      "Epoch 17/25\n",
      "100/100 [==============================] - 0s 753us/step - loss: 2.4512e-04 - accuracy: 1.0000\n",
      "Epoch 18/25\n",
      "100/100 [==============================] - 0s 773us/step - loss: 2.4201e-04 - accuracy: 1.0000\n",
      "Epoch 19/25\n",
      "100/100 [==============================] - 0s 709us/step - loss: 2.3874e-04 - accuracy: 1.0000\n",
      "Epoch 20/25\n",
      "100/100 [==============================] - 0s 740us/step - loss: 2.3530e-04 - accuracy: 1.0000\n",
      "Epoch 21/25\n",
      " 75/100 [=====================>........] - ETA: 0s - loss: 2.3280e-04 - accuracy: 1.0000INFO:tensorflow:Assets written to: checkpoints/chkpt-20.model/assets\n",
      "model saved: checkpoints/chkpt-20.model\n",
      "100/100 [==============================] - 0s 5ms/step - loss: 2.3239e-04 - accuracy: 1.0000\n",
      "Epoch 22/25\n",
      "100/100 [==============================] - 0s 708us/step - loss: 2.2943e-04 - accuracy: 1.0000\n",
      "Epoch 23/25\n",
      "100/100 [==============================] - 0s 670us/step - loss: 2.2717e-04 - accuracy: 1.0000\n",
      "Epoch 24/25\n",
      "100/100 [==============================] - 0s 671us/step - loss: 2.2489e-04 - accuracy: 1.0000\n",
      "Epoch 25/25\n",
      "100/100 [==============================] - 0s 683us/step - loss: 2.2253e-04 - accuracy: 1.0000\n"
     ]
    },
    {
     "data": {
      "text/plain": [
       "<tensorflow.python.keras.callbacks.History at 0x7fd1fabb2640>"
      ]
     },
     "execution_count": 19,
     "metadata": {},
     "output_type": "execute_result"
    }
   ],
   "source": [
    "X = np.ones((100,2))\n",
    "y = np.ones((100,1))\n",
    "\n",
    "model.fit(X, y, epochs=25, batch_size=1, callbacks=[smc])"
   ]
  },
  {
   "cell_type": "code",
   "execution_count": 20,
   "metadata": {
    "scrolled": true
   },
   "outputs": [],
   "source": [
    "model = load_model(\"checkpoints/chkpt-20.model\")"
   ]
  }
 ],
 "metadata": {
  "kernelspec": {
   "display_name": "Python 3",
   "language": "python",
   "name": "python3"
  },
  "language_info": {
   "codemirror_mode": {
    "name": "ipython",
    "version": 3
   },
   "file_extension": ".py",
   "mimetype": "text/x-python",
   "name": "python",
   "nbconvert_exporter": "python",
   "pygments_lexer": "ipython3",
   "version": "3.8.3"
  }
 },
 "nbformat": 4,
 "nbformat_minor": 4
}
