{
 "cells": [
  {
   "cell_type": "markdown",
   "metadata": {},
   "source": [
    "# Cut Model\n",
    "My name for a non-dense model that is just a dense model with set of connections that are *cut* from layer to layer"
   ]
  },
  {
   "cell_type": "markdown",
   "metadata": {},
   "source": [
    "## Imports"
   ]
  },
  {
   "cell_type": "code",
   "execution_count": null,
   "metadata": {},
   "outputs": [],
   "source": [
    "import arithmetic_datasets as ad\n",
    "\n",
    "from tensorflow.keras.layers import Input, Lambda, Dense, concatenate\n",
    "from tensorflow.keras.models import Model\n",
    "\n",
    "import matplotlib.pyplot as plt\n",
    "import random\n",
    "import numpy as np\n",
    "\n",
    "from tensorflow.keras.callbacks import EarlyStopping\n",
    "\n",
    "import numpy as np\n",
    "import tensorflow as tf\n",
    "import random\n",
    "import keras\n",
    "from tensorflow.keras.callbacks import EarlyStopping\n",
    "from tensorflow.keras.metrics import Metric"
   ]
  },
  {
   "cell_type": "markdown",
   "metadata": {},
   "source": [
    "## CutModelBuilder"
   ]
  },
  {
   "cell_type": "code",
   "execution_count": null,
   "metadata": {},
   "outputs": [],
   "source": [
    "class CutModelBuilder(Model):\n",
    "    def __init__(self, input_shape):\n",
    "        super(CutModelBuilder,Self).__init__()\n",
    "        self.input_layer = Input(shape=input_dims)\n",
    "        self.next_layer = input_layer\n",
    "        \n",
    "    def build(self, output_dims):\n",
    "        self.next_layer = Dense(output_dims)(self.input_layer)\n",
    "        return self\n",
    "    \n",
    "    def _cutOnce(self, cut_node):\n",
    "        layer1 = Lambda(lambda x: x[:,:,0:cut_node])\n",
    "        layer2 = Lambda(lambda x: x[:,:,0:])\n",
    "        \n",
    "    def cut(self, cut_nodes):\n",
    "        layer = Lambda(lambda x: x[:,:,0:64])"
   ]
  }
 ],
 "metadata": {
  "kernelspec": {
   "display_name": "Python 3",
   "language": "python",
   "name": "python3"
  },
  "language_info": {
   "codemirror_mode": {
    "name": "ipython",
    "version": 3
   },
   "file_extension": ".py",
   "mimetype": "text/x-python",
   "name": "python",
   "nbconvert_exporter": "python",
   "pygments_lexer": "ipython3",
   "version": "3.8.2"
  }
 },
 "nbformat": 4,
 "nbformat_minor": 4
}
