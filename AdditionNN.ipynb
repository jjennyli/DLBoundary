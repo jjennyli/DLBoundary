{
 "cells": [
  {
   "cell_type": "markdown",
   "metadata": {},
   "source": [
    "# Making Neural Network Model for Addition\n"
   ]
  },
  {
   "cell_type": "markdown",
   "metadata": {},
   "source": [
    "## Data"
   ]
  },
  {
   "cell_type": "code",
   "execution_count": 96,
   "metadata": {},
   "outputs": [],
   "source": [
    "import numpy as np\n",
    "import tensorflow as tf\n",
    "import random\n",
    "import keras\n",
    "from tensorflow.keras.callbacks import EarlyStopping\n",
    "from tensorflow.keras.metrics import Accuracy"
   ]
  },
  {
   "cell_type": "code",
   "execution_count": 97,
   "metadata": {},
   "outputs": [],
   "source": [
    "def gen_data(num_examples, range_start, range_end):\n",
    "    X = []\n",
    "    y = []\n",
    "    for ex in range(num_examples):\n",
    "        num1 = int(random.random()*(range_end - range_start) + range_start)\n",
    "        num2 = int(random.random()*(range_end - range_start) + range_start)\n",
    "\n",
    "        X.append([num1,num2])        \n",
    "        y.append(num1+num2)\n",
    "    return np.array(X), np.array(y)"
   ]
  },
  {
   "cell_type": "code",
   "execution_count": 98,
   "metadata": {
    "scrolled": true
   },
   "outputs": [
    {
     "data": {
      "text/plain": [
       "[(10, 1, 2), (10,), (10, 1, 2), (10,)]"
      ]
     },
     "execution_count": 98,
     "metadata": {},
     "output_type": "execute_result"
    }
   ],
   "source": [
    "x_train, y_train = gen_data(10, -50, 50)\n",
    "x_test, y_test = gen_data(10, 50, 200)\n",
    "\n",
    "x_train = x_train.reshape(x_train.shape[0], 1, x_train.shape[1])\n",
    "x_test = x_test.reshape(x_test.shape[0], 1,  x_test.shape[1])\n",
    "[a.shape for a in [x_train, y_train, x_test, y_test]]"
   ]
  },
  {
   "cell_type": "code",
   "execution_count": 99,
   "metadata": {},
   "outputs": [],
   "source": [
    "class RangeAccuracy(Accuracy):\n",
    "    def __init__(self,arange=(0,1)):\n",
    "        super(RangeAccuracy,self).__init__(name='RangeAccuracy')\n",
    "        self.range = arange\n",
    "    \n",
    "    def update_state(self, a, b, sample_weight=None):\n",
    "        valA = super(RangeAccuracy,self).result().numpy()\n",
    "        valB = super(RangeAccuracy,self).result().numpy()\n",
    "        if (valA - self.range <= valB and valB <= valA + self.range) or (valB - self.range <= valA and valA <= valB + self.range):\n",
    "            return super(RangeAccuracy,self).update_state(a,a)\n",
    "        else:\n",
    "            return super(RangeAccuracy,self).update_state(a,b)"
   ]
  },
  {
   "cell_type": "code",
   "execution_count": 100,
   "metadata": {},
   "outputs": [],
   "source": [
    "Acc = RangeAccuracy()"
   ]
  },
  {
   "cell_type": "code",
   "execution_count": 101,
   "metadata": {},
   "outputs": [],
   "source": [
    "class ModelTester:\n",
    "    def __init__(self):\n",
    "        pass\n",
    "        # test and compare models of different layers... etc..."
   ]
  },
  {
   "cell_type": "code",
   "execution_count": 102,
   "metadata": {
    "scrolled": true
   },
   "outputs": [
    {
     "name": "stdout",
     "output_type": "stream",
     "text": [
      "Model: \"sequential_11\"\n",
      "_________________________________________________________________\n",
      "Layer (type)                 Output Shape              Param #   \n",
      "=================================================================\n",
      "dense_36 (Dense)             (None, 1, 128)            384       \n",
      "_________________________________________________________________\n",
      "dense_37 (Dense)             (None, 1, 64)             8256      \n",
      "_________________________________________________________________\n",
      "dense_38 (Dense)             (None, 1, 1)              65        \n",
      "=================================================================\n",
      "Total params: 8,705\n",
      "Trainable params: 8,705\n",
      "Non-trainable params: 0\n",
      "_________________________________________________________________\n"
     ]
    }
   ],
   "source": [
    "model = tf.keras.models.Sequential([\n",
    "  tf.keras.layers.Dense(128, input_shape=(1,2)),\n",
    "  tf.keras.layers.Dense(64),\n",
    "  tf.keras.layers.Dense(1)\n",
    "])\n",
    "model.compile(\n",
    "    loss=\"MeanSquaredError\",\n",
    "    metrics=['accuracy'] #Acc not working, in testing\n",
    ")\n",
    "\n",
    "model.summary()"
   ]
  },
  {
   "cell_type": "code",
   "execution_count": 103,
   "metadata": {},
   "outputs": [],
   "source": [
    "es = EarlyStopping(monitor='val_loss', mode='min')"
   ]
  },
  {
   "cell_type": "code",
   "execution_count": 104,
   "metadata": {},
   "outputs": [
    {
     "name": "stdout",
     "output_type": "stream",
     "text": [
      "Epoch 1/100\n",
      "1/1 [==============================] - 0s 243ms/step - loss: 4024.3523 - accuracy: 0.0000e+00 - val_loss: 75484.3594 - val_accuracy: 0.0000e+00\n",
      "Epoch 2/100\n",
      "1/1 [==============================] - 0s 56ms/step - loss: 2194.1274 - accuracy: 0.0000e+00 - val_loss: 46240.3203 - val_accuracy: 0.0000e+00\n",
      "Epoch 3/100\n",
      "1/1 [==============================] - 0s 58ms/step - loss: 1343.0696 - accuracy: 0.0000e+00 - val_loss: 28764.8184 - val_accuracy: 0.0000e+00\n",
      "Epoch 4/100\n",
      "1/1 [==============================] - 0s 53ms/step - loss: 834.9658 - accuracy: 0.0000e+00 - val_loss: 17681.0859 - val_accuracy: 0.0000e+00\n",
      "Epoch 5/100\n",
      "1/1 [==============================] - 0s 55ms/step - loss: 512.1620 - accuracy: 0.0000e+00 - val_loss: 10580.2500 - val_accuracy: 0.0000e+00\n",
      "Epoch 6/100\n",
      "1/1 [==============================] - 0s 52ms/step - loss: 305.3519 - accuracy: 0.0000e+00 - val_loss: 6104.3062 - val_accuracy: 0.0000e+00\n",
      "Epoch 7/100\n",
      "1/1 [==============================] - 0s 51ms/step - loss: 175.1552 - accuracy: 0.0000e+00 - val_loss: 3371.9941 - val_accuracy: 0.0000e+00\n",
      "Epoch 8/100\n",
      "1/1 [==============================] - 0s 54ms/step - loss: 95.9089 - accuracy: 0.0000e+00 - val_loss: 1774.5955 - val_accuracy: 0.0000e+00\n",
      "Epoch 9/100\n",
      "1/1 [==============================] - 0s 51ms/step - loss: 49.8169 - accuracy: 0.0000e+00 - val_loss: 887.3275 - val_accuracy: 0.0000e+00\n",
      "Epoch 10/100\n",
      "1/1 [==============================] - 0s 64ms/step - loss: 24.4269 - accuracy: 0.0000e+00 - val_loss: 421.5611 - val_accuracy: 0.0000e+00\n",
      "Epoch 11/100\n",
      "1/1 [==============================] - 0s 76ms/step - loss: 11.2711 - accuracy: 0.0000e+00 - val_loss: 191.0418 - val_accuracy: 0.0000e+00\n",
      "Epoch 12/100\n",
      "1/1 [==============================] - 0s 73ms/step - loss: 4.8920 - accuracy: 0.0000e+00 - val_loss: 83.3879 - val_accuracy: 0.0000e+00\n",
      "Epoch 13/100\n",
      "1/1 [==============================] - 0s 59ms/step - loss: 2.0085 - accuracy: 0.0000e+00 - val_loss: 35.7173 - val_accuracy: 0.0000e+00\n",
      "Epoch 14/100\n",
      "1/1 [==============================] - 0s 219ms/step - loss: 0.7973 - accuracy: 0.0000e+00 - val_loss: 15.4969 - val_accuracy: 0.0000e+00\n",
      "Epoch 15/100\n",
      "1/1 [==============================] - 0s 61ms/step - loss: 0.3258 - accuracy: 0.0000e+00 - val_loss: 7.1402 - val_accuracy: 0.0000e+00\n",
      "Epoch 16/100\n",
      "1/1 [==============================] - 0s 60ms/step - loss: 0.1561 - accuracy: 0.0000e+00 - val_loss: 3.6947 - val_accuracy: 0.0000e+00\n",
      "Epoch 17/100\n",
      "1/1 [==============================] - 0s 58ms/step - loss: 0.0995 - accuracy: 0.0000e+00 - val_loss: 2.2414 - val_accuracy: 0.0000e+00\n",
      "Epoch 18/100\n",
      "1/1 [==============================] - 0s 57ms/step - loss: 0.0818 - accuracy: 0.0000e+00 - val_loss: 1.6038 - val_accuracy: 0.0000e+00\n",
      "Epoch 19/100\n",
      "1/1 [==============================] - 0s 65ms/step - loss: 0.0762 - accuracy: 0.0000e+00 - val_loss: 1.3121 - val_accuracy: 0.0000e+00\n",
      "Epoch 20/100\n",
      "1/1 [==============================] - 0s 58ms/step - loss: 0.0740 - accuracy: 0.0000e+00 - val_loss: 1.1732 - val_accuracy: 0.0000e+00\n",
      "Epoch 21/100\n",
      "1/1 [==============================] - 0s 59ms/step - loss: 0.0726 - accuracy: 0.0000e+00 - val_loss: 1.1031 - val_accuracy: 0.0000e+00\n",
      "Epoch 22/100\n",
      "1/1 [==============================] - 0s 66ms/step - loss: 0.0714 - accuracy: 0.0000e+00 - val_loss: 1.0635 - val_accuracy: 0.0000e+00\n",
      "Epoch 23/100\n",
      "1/1 [==============================] - 0s 66ms/step - loss: 0.0702 - accuracy: 0.0000e+00 - val_loss: 1.0365 - val_accuracy: 0.0000e+00\n",
      "Epoch 24/100\n",
      "1/1 [==============================] - 0s 56ms/step - loss: 0.0689 - accuracy: 0.0000e+00 - val_loss: 1.0142 - val_accuracy: 0.0000e+00\n",
      "Epoch 25/100\n",
      "1/1 [==============================] - 0s 72ms/step - loss: 0.0676 - accuracy: 0.0000e+00 - val_loss: 0.9932 - val_accuracy: 0.0000e+00\n",
      "Epoch 26/100\n",
      "1/1 [==============================] - 0s 91ms/step - loss: 0.0663 - accuracy: 0.0000e+00 - val_loss: 0.9722 - val_accuracy: 0.0000e+00\n",
      "Epoch 27/100\n",
      "1/1 [==============================] - 0s 76ms/step - loss: 0.0649 - accuracy: 0.0000e+00 - val_loss: 0.9507 - val_accuracy: 0.0000e+00\n",
      "Epoch 28/100\n",
      "1/1 [==============================] - 0s 61ms/step - loss: 0.0635 - accuracy: 0.0000e+00 - val_loss: 0.9287 - val_accuracy: 0.0000e+00\n",
      "Epoch 29/100\n",
      "1/1 [==============================] - 0s 54ms/step - loss: 0.0620 - accuracy: 0.0000e+00 - val_loss: 0.9058 - val_accuracy: 0.0000e+00\n",
      "Epoch 30/100\n",
      "1/1 [==============================] - 0s 65ms/step - loss: 0.0605 - accuracy: 0.0000e+00 - val_loss: 0.8831 - val_accuracy: 0.0000e+00\n",
      "Epoch 31/100\n",
      "1/1 [==============================] - 0s 69ms/step - loss: 0.0590 - accuracy: 0.0000e+00 - val_loss: 0.8578 - val_accuracy: 0.0000e+00\n",
      "Epoch 32/100\n",
      "1/1 [==============================] - 0s 57ms/step - loss: 0.0574 - accuracy: 0.0000e+00 - val_loss: 0.8368 - val_accuracy: 0.0000e+00\n",
      "Epoch 33/100\n",
      "1/1 [==============================] - 0s 64ms/step - loss: 0.0557 - accuracy: 0.0000e+00 - val_loss: 0.8025 - val_accuracy: 0.0000e+00\n",
      "Epoch 34/100\n",
      "1/1 [==============================] - 0s 65ms/step - loss: 0.0541 - accuracy: 0.0000e+00 - val_loss: 0.8044 - val_accuracy: 0.0000e+00\n"
     ]
    }
   ],
   "source": [
    "history = model.fit(\n",
    "    x_train, y_train,\n",
    "    batch_size=10000,\n",
    "    epochs= 100,\n",
    "    validation_data=(x_test,y_test),\n",
    "    callbacks = [es]\n",
    ")"
   ]
  },
  {
   "cell_type": "code",
   "execution_count": 105,
   "metadata": {},
   "outputs": [],
   "source": [
    "pred = model.predict(x_test)"
   ]
  },
  {
   "cell_type": "code",
   "execution_count": 106,
   "metadata": {},
   "outputs": [
    {
     "name": "stdout",
     "output_type": "stream",
     "text": [
      "input=[193 127] expected_output=[320] prediction=[318.88733] difference=[-1.1126709]\n",
      "input=[182  50] expected_output=[232] prediction=[230.78809] difference=[-1.2119141]\n",
      "input=[171  75] expected_output=[246] prediction=[244.90288] difference=[-1.0971222]\n",
      "input=[ 69 141] expected_output=[210] prediction=[209.61945] difference=[-0.3805542]\n",
      "input=[153 144] expected_output=[297] prediction=[296.14966] difference=[-0.8503418]\n",
      "input=[199 107] expected_output=[306] prediction=[304.81134] difference=[-1.1886597]\n",
      "input=[163 197] expected_output=[360] prediction=[359.2042] difference=[-0.7958069]\n",
      "input=[ 56 113] expected_output=[169] prediction=[168.63434] difference=[-0.36566162]\n",
      "input=[ 85 187] expected_output=[272] prediction=[271.6253] difference=[-0.37469482]\n",
      "input=[156  94] expected_output=[250] prediction=[249.02777] difference=[-0.972229]\n"
     ]
    }
   ],
   "source": [
    "for a in range(len(x_test)):\n",
    "    x = x_test[a]\n",
    "    y = y_test[a]\n",
    "    yp = pred[a][0]\n",
    "    print(f\"input={x[0]} expected_output={[y]} prediction={yp} difference={yp - y}\")"
   ]
  },
  {
   "cell_type": "code",
   "execution_count": null,
   "metadata": {},
   "outputs": [],
   "source": []
  }
 ],
 "metadata": {
  "kernelspec": {
   "display_name": "Python 3",
   "language": "python",
   "name": "python3"
  },
  "language_info": {
   "codemirror_mode": {
    "name": "ipython",
    "version": 3
   },
   "file_extension": ".py",
   "mimetype": "text/x-python",
   "name": "python",
   "nbconvert_exporter": "python",
   "pygments_lexer": "ipython3",
   "version": "3.8.2"
  }
 },
 "nbformat": 4,
 "nbformat_minor": 4
}
