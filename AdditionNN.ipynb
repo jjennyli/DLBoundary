{
 "cells": [
  {
   "cell_type": "markdown",
   "metadata": {},
   "source": [
    "# Making Neural Network Model for Addition\n"
   ]
  },
  {
   "cell_type": "markdown",
   "metadata": {},
   "source": [
    "## Data"
   ]
  },
  {
   "cell_type": "code",
   "execution_count": 1,
   "metadata": {},
   "outputs": [
    {
     "name": "stderr",
     "output_type": "stream",
     "text": [
      "Using TensorFlow backend.\n"
     ]
    }
   ],
   "source": [
    "import numpy as np\n",
    "import tensorflow as tf\n",
    "import random\n",
    "import keras\n",
    "from tensorflow.keras.callbacks import EarlyStopping\n",
    "from tensorflow.keras.metrics import Accuracy"
   ]
  },
  {
   "cell_type": "code",
   "execution_count": 2,
   "metadata": {},
   "outputs": [],
   "source": [
    "def gen_data(num_examples, range_start, range_end):\n",
    "    X = []\n",
    "    y = []\n",
    "    for ex in range(num_examples):\n",
    "        num1 = int(random.random()*(range_end - range_start) + range_start)\n",
    "        num2 = int(random.random()*(range_end - range_start) + range_start)\n",
    "\n",
    "        X.append([num1,num2])        \n",
    "        y.append(num1+num2)\n",
    "    return np.array(X), np.array(y)"
   ]
  },
  {
   "cell_type": "code",
   "execution_count": 3,
   "metadata": {
    "scrolled": true
   },
   "outputs": [
    {
     "data": {
      "text/plain": [
       "[(10, 1, 2), (10,), (10, 1, 2), (10,)]"
      ]
     },
     "execution_count": 3,
     "metadata": {},
     "output_type": "execute_result"
    }
   ],
   "source": [
    "x_train, y_train = gen_data(10, -50, 50)\n",
    "x_test, y_test = gen_data(10, 50, 200)\n",
    "\n",
    "x_train = x_train.reshape(x_train.shape[0], 1, x_train.shape[1])\n",
    "x_test = x_test.reshape(x_test.shape[0], 1,  x_test.shape[1])\n",
    "[a.shape for a in [x_train, y_train, x_test, y_test]]"
   ]
  },
  {
   "cell_type": "markdown",
   "metadata": {},
   "source": [
    "## Create Models"
   ]
  },
  {
   "cell_type": "markdown",
   "metadata": {},
   "source": [
    "### Model with 1 layer"
   ]
  },
  {
   "cell_type": "code",
   "execution_count": 4,
   "metadata": {},
   "outputs": [
    {
     "name": "stdout",
     "output_type": "stream",
     "text": [
      "Model: \"sequential\"\n",
      "_________________________________________________________________\n",
      "Layer (type)                 Output Shape              Param #   \n",
      "=================================================================\n",
      "dense (Dense)                (None, 1, 64)             192       \n",
      "_________________________________________________________________\n",
      "dense_1 (Dense)              (None, 1, 1)              65        \n",
      "=================================================================\n",
      "Total params: 257\n",
      "Trainable params: 257\n",
      "Non-trainable params: 0\n",
      "_________________________________________________________________\n"
     ]
    }
   ],
   "source": [
    "model_1layer = tf.keras.models.Sequential([\n",
    "    tf.keras.layers.Dense(64, input_shape=(1,2)),\n",
    "    tf.keras.layers.Dense(1)\n",
    "])\n",
    "\n",
    "model_1layer.compile(\n",
    "    loss=\"MeanSquaredError\",\n",
    "    metrics=['accuracy']\n",
    ")\n",
    "\n",
    "model_1layer.summary()"
   ]
  },
  {
   "cell_type": "markdown",
   "metadata": {},
   "source": [
    "### Model with 2 Layers"
   ]
  },
  {
   "cell_type": "code",
   "execution_count": 5,
   "metadata": {
    "scrolled": true
   },
   "outputs": [
    {
     "name": "stdout",
     "output_type": "stream",
     "text": [
      "Model: \"sequential_1\"\n",
      "_________________________________________________________________\n",
      "Layer (type)                 Output Shape              Param #   \n",
      "=================================================================\n",
      "dense_2 (Dense)              (None, 1, 128)            384       \n",
      "_________________________________________________________________\n",
      "dense_3 (Dense)              (None, 1, 64)             8256      \n",
      "_________________________________________________________________\n",
      "dense_4 (Dense)              (None, 1, 1)              65        \n",
      "=================================================================\n",
      "Total params: 8,705\n",
      "Trainable params: 8,705\n",
      "Non-trainable params: 0\n",
      "_________________________________________________________________\n"
     ]
    }
   ],
   "source": [
    "model = tf.keras.models.Sequential([\n",
    "  tf.keras.layers.Dense(128, input_shape=(1,2)),\n",
    "  tf.keras.layers.Dense(64),\n",
    "  tf.keras.layers.Dense(1)\n",
    "])\n",
    "model.compile(\n",
    "    loss=\"MeanSquaredError\",\n",
    "    metrics=['accuracy'] #Acc not working, in testing\n",
    ")\n",
    "\n",
    "model.summary()"
   ]
  },
  {
   "cell_type": "markdown",
   "metadata": {},
   "source": [
    "### Model 3 Layer\n"
   ]
  },
  {
   "cell_type": "code",
   "execution_count": 6,
   "metadata": {
    "scrolled": false
   },
   "outputs": [
    {
     "name": "stdout",
     "output_type": "stream",
     "text": [
      "Model: \"sequential_2\"\n",
      "_________________________________________________________________\n",
      "Layer (type)                 Output Shape              Param #   \n",
      "=================================================================\n",
      "dense_5 (Dense)              (None, 1, 256)            768       \n",
      "_________________________________________________________________\n",
      "dense_6 (Dense)              (None, 1, 128)            32896     \n",
      "_________________________________________________________________\n",
      "dense_7 (Dense)              (None, 1, 64)             8256      \n",
      "_________________________________________________________________\n",
      "dense_8 (Dense)              (None, 1, 1)              65        \n",
      "=================================================================\n",
      "Total params: 41,985\n",
      "Trainable params: 41,985\n",
      "Non-trainable params: 0\n",
      "_________________________________________________________________\n"
     ]
    }
   ],
   "source": [
    "model_3layer = tf.keras.models.Sequential([\n",
    "  tf.keras.layers.Dense(256, input_shape=(1,2)),\n",
    "  tf.keras.layers.Dense(128),\n",
    "  tf.keras.layers.Dense(64),\n",
    "  tf.keras.layers.Dense(1)\n",
    "])\n",
    "model_3layer.compile(\n",
    "    loss=\"MeanSquaredError\",\n",
    "    metrics=['accuracy'] #Acc not working, in testing\n",
    ")\n",
    "\n",
    "model_3layer.summary()"
   ]
  },
  {
   "cell_type": "markdown",
   "metadata": {},
   "source": [
    "### Model 4 Layer"
   ]
  },
  {
   "cell_type": "code",
   "execution_count": 7,
   "metadata": {
    "scrolled": false
   },
   "outputs": [
    {
     "name": "stdout",
     "output_type": "stream",
     "text": [
      "Model: \"sequential_3\"\n",
      "_________________________________________________________________\n",
      "Layer (type)                 Output Shape              Param #   \n",
      "=================================================================\n",
      "dense_9 (Dense)              (None, 1, 512)            1536      \n",
      "_________________________________________________________________\n",
      "dense_10 (Dense)             (None, 1, 256)            131328    \n",
      "_________________________________________________________________\n",
      "dense_11 (Dense)             (None, 1, 128)            32896     \n",
      "_________________________________________________________________\n",
      "dense_12 (Dense)             (None, 1, 64)             8256      \n",
      "_________________________________________________________________\n",
      "dense_13 (Dense)             (None, 1, 1)              65        \n",
      "=================================================================\n",
      "Total params: 174,081\n",
      "Trainable params: 174,081\n",
      "Non-trainable params: 0\n",
      "_________________________________________________________________\n"
     ]
    }
   ],
   "source": [
    "model_4layer = tf.keras.models.Sequential([\n",
    "  tf.keras.layers.Dense(512, input_shape=(1,2)),\n",
    "  tf.keras.layers.Dense(256),\n",
    "  tf.keras.layers.Dense(128),\n",
    "  tf.keras.layers.Dense(64),\n",
    "  tf.keras.layers.Dense(1)\n",
    "])\n",
    "model_4layer.compile(\n",
    "    loss=\"MeanSquaredError\",\n",
    "    metrics=['accuracy'] #Acc not working, in testing\n",
    ")\n",
    "\n",
    "model_4layer.summary()"
   ]
  },
  {
   "cell_type": "markdown",
   "metadata": {},
   "source": [
    "### Model 5 Layer"
   ]
  },
  {
   "cell_type": "code",
   "execution_count": 8,
   "metadata": {
    "scrolled": false
   },
   "outputs": [
    {
     "name": "stdout",
     "output_type": "stream",
     "text": [
      "Model: \"sequential_4\"\n",
      "_________________________________________________________________\n",
      "Layer (type)                 Output Shape              Param #   \n",
      "=================================================================\n",
      "dense_14 (Dense)             (None, 1, 1024)           3072      \n",
      "_________________________________________________________________\n",
      "dense_15 (Dense)             (None, 1, 512)            524800    \n",
      "_________________________________________________________________\n",
      "dense_16 (Dense)             (None, 1, 256)            131328    \n",
      "_________________________________________________________________\n",
      "dense_17 (Dense)             (None, 1, 128)            32896     \n",
      "_________________________________________________________________\n",
      "dense_18 (Dense)             (None, 1, 64)             8256      \n",
      "_________________________________________________________________\n",
      "dense_19 (Dense)             (None, 1, 1)              65        \n",
      "=================================================================\n",
      "Total params: 700,417\n",
      "Trainable params: 700,417\n",
      "Non-trainable params: 0\n",
      "_________________________________________________________________\n"
     ]
    }
   ],
   "source": [
    "model_5layer = tf.keras.models.Sequential([\n",
    "    tf.keras.layers.Dense(1024, input_shape=(1,2)),\n",
    "    tf.keras.layers.Dense(512),\n",
    "    tf.keras.layers.Dense(256),\n",
    "    tf.keras.layers.Dense(128),\n",
    "    tf.keras.layers.Dense(64),\n",
    "    tf.keras.layers.Dense(1)\n",
    "])\n",
    "model_5layer.compile(\n",
    "    loss=\"MeanSquaredError\",\n",
    "    metrics=['accuracy'] #Acc not working, in testing\n",
    ")\n",
    "\n",
    "model_5layer.summary()"
   ]
  },
  {
   "cell_type": "code",
   "execution_count": null,
   "metadata": {},
   "outputs": [],
   "source": []
  },
  {
   "cell_type": "markdown",
   "metadata": {},
   "source": [
    "## Train Model"
   ]
  },
  {
   "cell_type": "code",
   "execution_count": 9,
   "metadata": {},
   "outputs": [],
   "source": [
    "es = EarlyStopping(monitor='val_loss', mode='min')"
   ]
  },
  {
   "cell_type": "markdown",
   "metadata": {},
   "source": [
    "### Train 1 Layer Model"
   ]
  },
  {
   "cell_type": "code",
   "execution_count": 10,
   "metadata": {},
   "outputs": [
    {
     "name": "stdout",
     "output_type": "stream",
     "text": [
      "Epoch 1/100\n",
      "1/1 [==============================] - 0s 251ms/step - loss: 1819.0084 - accuracy: 0.0000e+00 - val_loss: 23985.2598 - val_accuracy: 0.0000e+00\n",
      "Epoch 2/100\n",
      "1/1 [==============================] - 0s 45ms/step - loss: 750.0142 - accuracy: 0.0000e+00 - val_loss: 12595.6377 - val_accuracy: 0.0000e+00\n",
      "Epoch 3/100\n",
      "1/1 [==============================] - 0s 46ms/step - loss: 363.8660 - accuracy: 0.0000e+00 - val_loss: 6541.1724 - val_accuracy: 0.0000e+00\n",
      "Epoch 4/100\n",
      "1/1 [==============================] - 0s 46ms/step - loss: 178.9668 - accuracy: 0.0000e+00 - val_loss: 3256.2053 - val_accuracy: 0.0000e+00\n",
      "Epoch 5/100\n",
      "1/1 [==============================] - 0s 48ms/step - loss: 85.8029 - accuracy: 0.0000e+00 - val_loss: 1529.3542 - val_accuracy: 0.0000e+00\n",
      "Epoch 6/100\n",
      "1/1 [==============================] - 0s 50ms/step - loss: 39.2577 - accuracy: 0.0000e+00 - val_loss: 671.4337 - val_accuracy: 0.0000e+00\n",
      "Epoch 7/100\n",
      "1/1 [==============================] - 0s 42ms/step - loss: 16.8994 - accuracy: 0.0000e+00 - val_loss: 274.2785 - val_accuracy: 0.0000e+00\n",
      "Epoch 8/100\n",
      "1/1 [==============================] - 0s 41ms/step - loss: 6.7876 - accuracy: 0.0000e+00 - val_loss: 104.2800 - val_accuracy: 0.0000e+00\n",
      "Epoch 9/100\n",
      "1/1 [==============================] - 0s 45ms/step - loss: 2.5447 - accuracy: 0.0000e+00 - val_loss: 37.1541 - val_accuracy: 0.0000e+00\n",
      "Epoch 10/100\n",
      "1/1 [==============================] - 0s 44ms/step - loss: 0.9084 - accuracy: 0.0000e+00 - val_loss: 12.6228 - val_accuracy: 0.0000e+00\n",
      "Epoch 11/100\n",
      "1/1 [==============================] - 0s 48ms/step - loss: 0.3314 - accuracy: 0.0000e+00 - val_loss: 4.2389 - val_accuracy: 0.0000e+00\n",
      "Epoch 12/100\n",
      "1/1 [==============================] - 0s 51ms/step - loss: 0.1456 - accuracy: 0.0000e+00 - val_loss: 1.5022 - val_accuracy: 0.0000e+00\n",
      "Epoch 13/100\n",
      "1/1 [==============================] - 0s 52ms/step - loss: 0.0903 - accuracy: 0.0000e+00 - val_loss: 0.6178 - val_accuracy: 0.0000e+00\n",
      "Epoch 14/100\n",
      "1/1 [==============================] - 0s 48ms/step - loss: 0.0744 - accuracy: 0.0000e+00 - val_loss: 0.3213 - val_accuracy: 0.0000e+00\n",
      "Epoch 15/100\n",
      "1/1 [==============================] - 0s 41ms/step - loss: 0.0690 - accuracy: 0.0000e+00 - val_loss: 0.2140 - val_accuracy: 0.0000e+00\n",
      "Epoch 16/100\n",
      "1/1 [==============================] - 0s 40ms/step - loss: 0.0660 - accuracy: 0.0000e+00 - val_loss: 0.1713 - val_accuracy: 0.0000e+00\n",
      "Epoch 17/100\n",
      "1/1 [==============================] - 0s 47ms/step - loss: 0.0636 - accuracy: 0.0000e+00 - val_loss: 0.1521 - val_accuracy: 0.0000e+00\n",
      "Epoch 18/100\n",
      "1/1 [==============================] - 0s 46ms/step - loss: 0.0613 - accuracy: 0.0000e+00 - val_loss: 0.1417 - val_accuracy: 0.0000e+00\n",
      "Epoch 19/100\n",
      "1/1 [==============================] - 0s 44ms/step - loss: 0.0589 - accuracy: 0.0000e+00 - val_loss: 0.1344 - val_accuracy: 0.0000e+00\n",
      "Epoch 20/100\n",
      "1/1 [==============================] - 0s 47ms/step - loss: 0.0565 - accuracy: 0.0000e+00 - val_loss: 0.1282 - val_accuracy: 0.0000e+00\n",
      "Epoch 21/100\n",
      "1/1 [==============================] - 0s 58ms/step - loss: 0.0541 - accuracy: 0.0000e+00 - val_loss: 0.1223 - val_accuracy: 0.0000e+00\n",
      "Epoch 22/100\n",
      "1/1 [==============================] - 0s 41ms/step - loss: 0.0517 - accuracy: 0.0000e+00 - val_loss: 0.1164 - val_accuracy: 0.0000e+00\n",
      "Epoch 23/100\n",
      "1/1 [==============================] - 0s 46ms/step - loss: 0.0492 - accuracy: 0.0000e+00 - val_loss: 0.1106 - val_accuracy: 0.0000e+00\n",
      "Epoch 24/100\n",
      "1/1 [==============================] - 0s 43ms/step - loss: 0.0468 - accuracy: 0.0000e+00 - val_loss: 0.1047 - val_accuracy: 0.0000e+00\n",
      "Epoch 25/100\n",
      "1/1 [==============================] - 0s 47ms/step - loss: 0.0444 - accuracy: 0.0000e+00 - val_loss: 0.0990 - val_accuracy: 0.0000e+00\n",
      "Epoch 26/100\n",
      "1/1 [==============================] - 0s 49ms/step - loss: 0.0419 - accuracy: 0.0000e+00 - val_loss: 0.0932 - val_accuracy: 0.0000e+00\n",
      "Epoch 27/100\n",
      "1/1 [==============================] - 0s 47ms/step - loss: 0.0395 - accuracy: 0.0000e+00 - val_loss: 0.0875 - val_accuracy: 0.0000e+00\n",
      "Epoch 28/100\n",
      "1/1 [==============================] - 0s 44ms/step - loss: 0.0372 - accuracy: 0.0000e+00 - val_loss: 0.0820 - val_accuracy: 0.0000e+00\n",
      "Epoch 29/100\n",
      "1/1 [==============================] - 0s 45ms/step - loss: 0.0348 - accuracy: 0.0000e+00 - val_loss: 0.0765 - val_accuracy: 0.0000e+00\n",
      "Epoch 30/100\n",
      "1/1 [==============================] - 0s 44ms/step - loss: 0.0325 - accuracy: 0.0000e+00 - val_loss: 0.0711 - val_accuracy: 0.0000e+00\n",
      "Epoch 31/100\n",
      "1/1 [==============================] - 0s 53ms/step - loss: 0.0303 - accuracy: 0.0000e+00 - val_loss: 0.0659 - val_accuracy: 0.0000e+00\n",
      "Epoch 32/100\n",
      "1/1 [==============================] - 0s 46ms/step - loss: 0.0280 - accuracy: 0.0000e+00 - val_loss: 0.0608 - val_accuracy: 0.0000e+00\n",
      "Epoch 33/100\n",
      "1/1 [==============================] - 0s 50ms/step - loss: 0.0259 - accuracy: 0.0000e+00 - val_loss: 0.0559 - val_accuracy: 0.0000e+00\n",
      "Epoch 34/100\n",
      "1/1 [==============================] - 0s 50ms/step - loss: 0.0238 - accuracy: 0.0000e+00 - val_loss: 0.0511 - val_accuracy: 0.0000e+00\n",
      "Epoch 35/100\n",
      "1/1 [==============================] - 0s 41ms/step - loss: 0.0218 - accuracy: 0.0000e+00 - val_loss: 0.0466 - val_accuracy: 0.0000e+00\n",
      "Epoch 36/100\n",
      "1/1 [==============================] - 0s 44ms/step - loss: 0.0199 - accuracy: 0.0000e+00 - val_loss: 0.0421 - val_accuracy: 0.0000e+00\n",
      "Epoch 37/100\n",
      "1/1 [==============================] - 0s 48ms/step - loss: 0.0181 - accuracy: 0.0000e+00 - val_loss: 0.0383 - val_accuracy: 0.0000e+00\n",
      "Epoch 38/100\n",
      "1/1 [==============================] - 0s 46ms/step - loss: 0.0163 - accuracy: 0.0000e+00 - val_loss: 0.0336 - val_accuracy: 0.0000e+00\n",
      "Epoch 39/100\n",
      "1/1 [==============================] - 0s 42ms/step - loss: 0.0147 - accuracy: 0.0000e+00 - val_loss: 0.0322 - val_accuracy: 0.0000e+00\n",
      "Epoch 40/100\n",
      "1/1 [==============================] - 0s 44ms/step - loss: 0.0131 - accuracy: 0.0000e+00 - val_loss: 0.0230 - val_accuracy: 0.0000e+00\n",
      "Epoch 41/100\n",
      "1/1 [==============================] - 0s 42ms/step - loss: 0.0119 - accuracy: 0.0000e+00 - val_loss: 0.0433 - val_accuracy: 0.0000e+00\n"
     ]
    }
   ],
   "source": [
    "history1 = model.fit(\n",
    "    x_train, y_train,\n",
    "    batch_size=10000,\n",
    "    epochs=100,\n",
    "    validation_data=(x_test,y_test),\n",
    "    callbacks = [es]\n",
    ")"
   ]
  },
  {
   "cell_type": "markdown",
   "metadata": {},
   "source": [
    "### Train 2 Layer Model"
   ]
  },
  {
   "cell_type": "code",
   "execution_count": 11,
   "metadata": {},
   "outputs": [
    {
     "name": "stdout",
     "output_type": "stream",
     "text": [
      "Epoch 1/100\n",
      "1/1 [==============================] - 0s 41ms/step - loss: 0.0129 - accuracy: 0.0000e+00 - val_loss: 0.0390 - val_accuracy: 0.0000e+00\n",
      "Epoch 2/100\n",
      "1/1 [==============================] - 0s 53ms/step - loss: 0.0410 - accuracy: 0.0000e+00 - val_loss: 1.0819 - val_accuracy: 0.0000e+00\n"
     ]
    }
   ],
   "source": [
    "history2 = model.fit(\n",
    "    x_train, y_train,\n",
    "    batch_size=10000,\n",
    "    epochs= 100,\n",
    "    validation_data=(x_test,y_test),\n",
    "    callbacks = [es]\n",
    ")"
   ]
  },
  {
   "cell_type": "markdown",
   "metadata": {},
   "source": [
    "### Train 3 Layer Model"
   ]
  },
  {
   "cell_type": "code",
   "execution_count": 12,
   "metadata": {},
   "outputs": [
    {
     "name": "stdout",
     "output_type": "stream",
     "text": [
      "Epoch 1/100\n",
      "1/1 [==============================] - 0s 316ms/step - loss: 1048.1448 - accuracy: 0.0000e+00 - val_loss: 807.5972 - val_accuracy: 0.0000e+00\n",
      "Epoch 2/100\n",
      "1/1 [==============================] - 0s 45ms/step - loss: 274.5759 - accuracy: 0.0000e+00 - val_loss: 776.7591 - val_accuracy: 0.0000e+00\n",
      "Epoch 3/100\n",
      "1/1 [==============================] - 0s 48ms/step - loss: 315.5811 - accuracy: 0.0000e+00 - val_loss: 172.9810 - val_accuracy: 0.0000e+00\n",
      "Epoch 4/100\n",
      "1/1 [==============================] - 0s 49ms/step - loss: 93.4987 - accuracy: 0.0000e+00 - val_loss: 122.8295 - val_accuracy: 0.0000e+00\n",
      "Epoch 5/100\n",
      "1/1 [==============================] - 0s 47ms/step - loss: 20.5657 - accuracy: 0.0000e+00 - val_loss: 10.9120 - val_accuracy: 0.0000e+00\n",
      "Epoch 6/100\n",
      "1/1 [==============================] - 0s 44ms/step - loss: 4.1633 - accuracy: 0.0000e+00 - val_loss: 5.6219 - val_accuracy: 0.0000e+00\n",
      "Epoch 7/100\n",
      "1/1 [==============================] - 0s 47ms/step - loss: 1.3302 - accuracy: 0.0000e+00 - val_loss: 1.5182 - val_accuracy: 0.0000e+00\n",
      "Epoch 8/100\n",
      "1/1 [==============================] - 0s 45ms/step - loss: 0.5392 - accuracy: 0.0000e+00 - val_loss: 1.2822 - val_accuracy: 0.0000e+00\n",
      "Epoch 9/100\n",
      "1/1 [==============================] - 0s 45ms/step - loss: 0.2965 - accuracy: 0.0000e+00 - val_loss: 0.5038 - val_accuracy: 0.0000e+00\n",
      "Epoch 10/100\n",
      "1/1 [==============================] - ETA: 0s - loss: 0.2035 - accuracy: 0.0000e+ - 0s 43ms/step - loss: 0.2035 - accuracy: 0.0000e+00 - val_loss: 0.7552 - val_accuracy: 0.0000e+00\n"
     ]
    }
   ],
   "source": [
    "history3 = model_3layer.fit(\n",
    "    x_train, y_train,\n",
    "    batch_size=10000,\n",
    "    epochs= 100,\n",
    "    validation_data=(x_test,y_test),\n",
    "    callbacks = [es]\n",
    ")"
   ]
  },
  {
   "cell_type": "markdown",
   "metadata": {},
   "source": [
    "### Train 4 Layer Model"
   ]
  },
  {
   "cell_type": "code",
   "execution_count": 13,
   "metadata": {},
   "outputs": [
    {
     "name": "stdout",
     "output_type": "stream",
     "text": [
      "Epoch 1/100\n",
      "1/1 [==============================] - 0s 238ms/step - loss: 1404.8245 - accuracy: 0.0000e+00 - val_loss: 28881.5664 - val_accuracy: 0.0000e+00\n",
      "Epoch 2/100\n",
      "1/1 [==============================] - 0s 45ms/step - loss: 2760.7715 - accuracy: 0.0000e+00 - val_loss: 10578.1973 - val_accuracy: 0.0000e+00\n",
      "Epoch 3/100\n",
      "1/1 [==============================] - 0s 46ms/step - loss: 963.9082 - accuracy: 0.0000e+00 - val_loss: 3009.7393 - val_accuracy: 0.0000e+00\n",
      "Epoch 4/100\n",
      "1/1 [==============================] - 0s 47ms/step - loss: 85.2351 - accuracy: 0.0000e+00 - val_loss: 70.8289 - val_accuracy: 0.0000e+00\n",
      "Epoch 5/100\n",
      "1/1 [==============================] - 0s 46ms/step - loss: 5.5540 - accuracy: 0.0000e+00 - val_loss: 4.7980 - val_accuracy: 0.0000e+00\n",
      "Epoch 6/100\n",
      "1/1 [==============================] - 0s 47ms/step - loss: 0.1676 - accuracy: 0.0000e+00 - val_loss: 0.0280 - val_accuracy: 0.0000e+00\n",
      "Epoch 7/100\n",
      "1/1 [==============================] - 0s 48ms/step - loss: 0.0717 - accuracy: 0.0000e+00 - val_loss: 0.2714 - val_accuracy: 0.0000e+00\n"
     ]
    }
   ],
   "source": [
    "history4 = model_4layer.fit(\n",
    "    x_train, y_train,\n",
    "    batch_size=10000,\n",
    "    epochs= 100,\n",
    "    validation_data=(x_test,y_test),\n",
    "    callbacks = [es]\n",
    ")"
   ]
  },
  {
   "cell_type": "markdown",
   "metadata": {},
   "source": [
    "### Train 5 Layer Model"
   ]
  },
  {
   "cell_type": "code",
   "execution_count": 14,
   "metadata": {},
   "outputs": [
    {
     "name": "stdout",
     "output_type": "stream",
     "text": [
      "Epoch 1/100\n",
      "1/1 [==============================] - 0s 256ms/step - loss: 1393.6136 - accuracy: 0.0000e+00 - val_loss: 647275.6875 - val_accuracy: 0.0000e+00\n",
      "Epoch 2/100\n",
      "1/1 [==============================] - 0s 49ms/step - loss: 31736.7070 - accuracy: 0.0000e+00 - val_loss: 365662.0312 - val_accuracy: 0.0000e+00\n",
      "Epoch 3/100\n",
      "1/1 [==============================] - 0s 44ms/step - loss: 24070.9727 - accuracy: 0.0000e+00 - val_loss: 15758.3623 - val_accuracy: 0.0000e+00\n",
      "Epoch 4/100\n",
      "1/1 [==============================] - 0s 47ms/step - loss: 422.6984 - accuracy: 0.0000e+00 - val_loss: 5836.3018 - val_accuracy: 0.0000e+00\n",
      "Epoch 5/100\n",
      "1/1 [==============================] - 0s 46ms/step - loss: 149.9106 - accuracy: 0.0000e+00 - val_loss: 1773.3359 - val_accuracy: 0.0000e+00\n",
      "Epoch 6/100\n",
      "1/1 [==============================] - 0s 47ms/step - loss: 44.8566 - accuracy: 0.0000e+00 - val_loss: 406.4229 - val_accuracy: 0.0000e+00\n",
      "Epoch 7/100\n",
      "1/1 [==============================] - 0s 50ms/step - loss: 10.1332 - accuracy: 0.0000e+00 - val_loss: 69.6555 - val_accuracy: 0.0000e+00\n",
      "Epoch 8/100\n",
      "1/1 [==============================] - 0s 47ms/step - loss: 1.6995 - accuracy: 0.0000e+00 - val_loss: 9.5169 - val_accuracy: 0.0000e+00\n",
      "Epoch 9/100\n",
      "1/1 [==============================] - 0s 42ms/step - loss: 0.2373 - accuracy: 0.0000e+00 - val_loss: 1.2444 - val_accuracy: 0.0000e+00\n",
      "Epoch 10/100\n",
      "1/1 [==============================] - 0s 49ms/step - loss: 0.0520 - accuracy: 0.0000e+00 - val_loss: 0.2370 - val_accuracy: 0.0000e+00\n",
      "Epoch 11/100\n",
      "1/1 [==============================] - 0s 43ms/step - loss: 0.0335 - accuracy: 0.0000e+00 - val_loss: 0.0992 - val_accuracy: 0.0000e+00\n",
      "Epoch 12/100\n",
      "1/1 [==============================] - 0s 56ms/step - loss: 0.0311 - accuracy: 0.0000e+00 - val_loss: 0.0741 - val_accuracy: 0.0000e+00\n",
      "Epoch 13/100\n",
      "1/1 [==============================] - 0s 47ms/step - loss: 0.0298 - accuracy: 0.0000e+00 - val_loss: 0.0674 - val_accuracy: 0.0000e+00\n",
      "Epoch 14/100\n",
      "1/1 [==============================] - 0s 52ms/step - loss: 0.0285 - accuracy: 0.0000e+00 - val_loss: 0.0638 - val_accuracy: 0.0000e+00\n",
      "Epoch 15/100\n",
      "1/1 [==============================] - 0s 49ms/step - loss: 0.0272 - accuracy: 0.0000e+00 - val_loss: 0.0607 - val_accuracy: 0.0000e+00\n",
      "Epoch 16/100\n",
      "1/1 [==============================] - ETA: 0s - loss: 0.0259 - accuracy: 0.0000e+ - 0s 45ms/step - loss: 0.0259 - accuracy: 0.0000e+00 - val_loss: 0.0576 - val_accuracy: 0.0000e+00\n",
      "Epoch 17/100\n",
      "1/1 [==============================] - 0s 51ms/step - loss: 0.0246 - accuracy: 0.0000e+00 - val_loss: 0.0546 - val_accuracy: 0.0000e+00\n",
      "Epoch 18/100\n",
      "1/1 [==============================] - 0s 46ms/step - loss: 0.0233 - accuracy: 0.0000e+00 - val_loss: 0.0515 - val_accuracy: 0.0000e+00\n",
      "Epoch 19/100\n",
      "1/1 [==============================] - 0s 48ms/step - loss: 0.0220 - accuracy: 0.0000e+00 - val_loss: 0.0485 - val_accuracy: 0.0000e+00\n",
      "Epoch 20/100\n",
      "1/1 [==============================] - 0s 57ms/step - loss: 0.0207 - accuracy: 0.0000e+00 - val_loss: 0.0455 - val_accuracy: 0.0000e+00\n",
      "Epoch 21/100\n",
      "1/1 [==============================] - 0s 50ms/step - loss: 0.0194 - accuracy: 0.0000e+00 - val_loss: 0.0425 - val_accuracy: 0.0000e+00\n",
      "Epoch 22/100\n",
      "1/1 [==============================] - 0s 52ms/step - loss: 0.0181 - accuracy: 0.0000e+00 - val_loss: 0.0395 - val_accuracy: 0.0000e+00\n",
      "Epoch 23/100\n",
      "1/1 [==============================] - 0s 46ms/step - loss: 0.0169 - accuracy: 0.0000e+00 - val_loss: 0.0367 - val_accuracy: 0.0000e+00\n",
      "Epoch 24/100\n",
      "1/1 [==============================] - 0s 49ms/step - loss: 0.0157 - accuracy: 0.0000e+00 - val_loss: 0.0339 - val_accuracy: 0.0000e+00\n",
      "Epoch 25/100\n",
      "1/1 [==============================] - 0s 51ms/step - loss: 0.0145 - accuracy: 0.0000e+00 - val_loss: 0.0311 - val_accuracy: 0.0000e+00\n",
      "Epoch 26/100\n",
      "1/1 [==============================] - 0s 46ms/step - loss: 0.0133 - accuracy: 0.0000e+00 - val_loss: 0.0285 - val_accuracy: 0.0000e+00\n",
      "Epoch 27/100\n",
      "1/1 [==============================] - 0s 47ms/step - loss: 0.0122 - accuracy: 0.0000e+00 - val_loss: 0.0260 - val_accuracy: 0.0000e+00\n",
      "Epoch 28/100\n",
      "1/1 [==============================] - 0s 48ms/step - loss: 0.0111 - accuracy: 0.0000e+00 - val_loss: 0.0235 - val_accuracy: 0.0000e+00\n",
      "Epoch 29/100\n",
      "1/1 [==============================] - 0s 49ms/step - loss: 0.0101 - accuracy: 0.0000e+00 - val_loss: 0.0212 - val_accuracy: 0.0000e+00\n",
      "Epoch 30/100\n",
      "1/1 [==============================] - 0s 44ms/step - loss: 0.0091 - accuracy: 0.0000e+00 - val_loss: 0.0190 - val_accuracy: 0.0000e+00\n",
      "Epoch 31/100\n",
      "1/1 [==============================] - 0s 48ms/step - loss: 0.0081 - accuracy: 0.0000e+00 - val_loss: 0.0169 - val_accuracy: 0.0000e+00\n",
      "Epoch 32/100\n",
      "1/1 [==============================] - 0s 52ms/step - loss: 0.0072 - accuracy: 0.0000e+00 - val_loss: 0.0150 - val_accuracy: 0.0000e+00\n",
      "Epoch 33/100\n",
      "1/1 [==============================] - 0s 41ms/step - loss: 0.0064 - accuracy: 0.0000e+00 - val_loss: 0.0132 - val_accuracy: 0.0000e+00\n",
      "Epoch 34/100\n",
      "1/1 [==============================] - 0s 55ms/step - loss: 0.0056 - accuracy: 0.0000e+00 - val_loss: 0.0114 - val_accuracy: 0.0000e+00\n",
      "Epoch 35/100\n",
      "1/1 [==============================] - 0s 48ms/step - loss: 0.0049 - accuracy: 0.0000e+00 - val_loss: 0.0100 - val_accuracy: 0.0000e+00\n",
      "Epoch 36/100\n",
      "1/1 [==============================] - 0s 53ms/step - loss: 0.0043 - accuracy: 0.0000e+00 - val_loss: 0.0086 - val_accuracy: 0.0000e+00\n",
      "Epoch 37/100\n",
      "1/1 [==============================] - 0s 46ms/step - loss: 0.0038 - accuracy: 0.0000e+00 - val_loss: 0.0090 - val_accuracy: 0.0000e+00\n"
     ]
    }
   ],
   "source": [
    "history5 = model_5layer.fit(\n",
    "    x_train, y_train,\n",
    "    batch_size=10000,\n",
    "    epochs= 100,\n",
    "    validation_data=(x_test,y_test),\n",
    "    callbacks = [es]\n",
    ")"
   ]
  },
  {
   "cell_type": "code",
   "execution_count": null,
   "metadata": {},
   "outputs": [],
   "source": []
  },
  {
   "cell_type": "markdown",
   "metadata": {},
   "source": [
    "## Test Model"
   ]
  },
  {
   "cell_type": "markdown",
   "metadata": {},
   "source": [
    "### Test 1 Layer Model"
   ]
  },
  {
   "cell_type": "code",
   "execution_count": 15,
   "metadata": {},
   "outputs": [],
   "source": [
    "pred = model_1layer.predict(x_test)"
   ]
  },
  {
   "cell_type": "code",
   "execution_count": 16,
   "metadata": {},
   "outputs": [
    {
     "name": "stdout",
     "output_type": "stream",
     "text": [
      "input=[ 60 106] expected_output=[166] prediction=[-4.273636] difference=[-170.27364] %-different from actual=[1.0257448]\n",
      "input=[ 82 194] expected_output=[276] prediction=[-14.266139] difference=[-290.26614] %-different from actual=[1.0516889]\n",
      "input=[53 92] expected_output=[145] prediction=[-3.494954] difference=[-148.49495] %-different from actual=[1.024103]\n",
      "input=[118 172] expected_output=[290] prediction=[-2.1514225] difference=[-292.15143] %-different from actual=[1.0074188]\n",
      "input=[192 111] expected_output=[303] prediction=[25.456663] difference=[-277.54333] %-different from actual=[0.91598463]\n",
      "input=[101  69] expected_output=[170] prediction=[11.571947] difference=[-158.42805] %-different from actual=[0.9319297]\n",
      "input=[123  50] expected_output=[173] prediction=[19.928068] difference=[-153.07193] %-different from actual=[0.88480884]\n",
      "input=[ 90 145] expected_output=[235] prediction=[-4.009701] difference=[-239.0097] %-different from actual=[1.0170625]\n",
      "input=[ 56 144] expected_output=[200] prediction=[-11.716871] difference=[-211.71687] %-different from actual=[1.0585843]\n",
      "input=[77 89] expected_output=[166] prediction=[2.5808945] difference=[-163.4191] %-different from actual=[0.9844524]\n"
     ]
    }
   ],
   "source": [
    "for a in range(len(x_test)):\n",
    "    x = x_test[a]\n",
    "    y = y_test[a]\n",
    "    yp = pred[a][0]\n",
    "    print(f\"input={x[0]} expected_output={[y]} prediction={yp} difference={yp - y} %-different from actual={abs(yp - y)/y}\")"
   ]
  },
  {
   "cell_type": "markdown",
   "metadata": {},
   "source": [
    "### Test 2 Layer Model"
   ]
  },
  {
   "cell_type": "code",
   "execution_count": 17,
   "metadata": {},
   "outputs": [],
   "source": [
    "pred = model.predict(x_test)"
   ]
  },
  {
   "cell_type": "code",
   "execution_count": 18,
   "metadata": {},
   "outputs": [
    {
     "name": "stdout",
     "output_type": "stream",
     "text": [
      "input=[ 60 106] expected_output=[166] prediction=[165.29663] difference=[-0.70336914] %-different from actual=[0.00423716]\n",
      "input=[ 82 194] expected_output=[276] prediction=[274.2031] difference=[-1.7969055] %-different from actual=[0.00651053]\n",
      "input=[53 92] expected_output=[145] prediction=[144.41641] difference=[-0.58358765] %-different from actual=[0.00402474]\n",
      "input=[118 172] expected_output=[290] prediction=[289.11877] difference=[-0.8812256] %-different from actual=[0.00303871]\n",
      "input=[192 111] expected_output=[303] prediction=[304.25806] difference=[1.2580566] %-different from actual=[0.004152]\n",
      "input=[101  69] expected_output=[170] prediction=[170.53409] difference=[0.53408813] %-different from actual=[0.00314169]\n",
      "input=[123  50] expected_output=[173] prediction=[174.18417] difference=[1.1841736] %-different from actual=[0.00684493]\n",
      "input=[ 90 145] expected_output=[235] prediction=[234.12538] difference=[-0.87461853] %-different from actual=[0.00372178]\n",
      "input=[ 56 144] expected_output=[200] prediction=[198.61548] difference=[-1.3845215] %-different from actual=[0.00692261]\n",
      "input=[77 89] expected_output=[166] prediction=[165.83672] difference=[-0.1632843] %-different from actual=[0.00098364]\n"
     ]
    }
   ],
   "source": [
    "for a in range(len(x_test)):\n",
    "    x = x_test[a]\n",
    "    y = y_test[a]\n",
    "    yp = pred[a][0]\n",
    "    print(f\"input={x[0]} expected_output={[y]} prediction={yp} difference={yp - y} %-different from actual={abs(yp - y)/y}\")"
   ]
  },
  {
   "cell_type": "markdown",
   "metadata": {},
   "source": [
    "### Test 3 Layer Model"
   ]
  },
  {
   "cell_type": "code",
   "execution_count": 19,
   "metadata": {},
   "outputs": [],
   "source": [
    "pred = model_3layer.predict(x_test)"
   ]
  },
  {
   "cell_type": "code",
   "execution_count": 20,
   "metadata": {},
   "outputs": [
    {
     "name": "stdout",
     "output_type": "stream",
     "text": [
      "input=[ 60 106] expected_output=[166] prediction=[165.6014] difference=[-0.39860535] %-different from actual=[0.00240124]\n",
      "input=[ 82 194] expected_output=[276] prediction=[275.40018] difference=[-0.599823] %-different from actual=[0.00217327]\n",
      "input=[53 92] expected_output=[145] prediction=[144.66995] difference=[-0.3300476] %-different from actual=[0.00227619]\n",
      "input=[118 172] expected_output=[290] prediction=[289.01703] difference=[-0.9829712] %-different from actual=[0.00338956]\n",
      "input=[192 111] expected_output=[303] prediction=[301.2242] difference=[-1.7757874] %-different from actual=[0.00586068]\n",
      "input=[101  69] expected_output=[170] prediction=[169.16113] difference=[-0.8388672] %-different from actual=[0.00493451]\n",
      "input=[123  50] expected_output=[173] prediction=[171.92517] difference=[-1.0748291] %-different from actual=[0.00621289]\n",
      "input=[ 90 145] expected_output=[235] prediction=[234.30072] difference=[-0.6992798] %-different from actual=[0.00297566]\n",
      "input=[ 56 144] expected_output=[200] prediction=[199.6555] difference=[-0.34449768] %-different from actual=[0.00172249]\n",
      "input=[77 89] expected_output=[166] prediction=[165.41829] difference=[-0.5817108] %-different from actual=[0.00350428]\n"
     ]
    }
   ],
   "source": [
    "for a in range(len(x_test)):\n",
    "    x = x_test[a]\n",
    "    y = y_test[a]\n",
    "    yp = pred[a][0]\n",
    "    print(f\"input={x[0]} expected_output={[y]} prediction={yp} difference={yp - y} %-different from actual={abs(yp - y)/y}\")"
   ]
  },
  {
   "cell_type": "markdown",
   "metadata": {},
   "source": [
    "### Test 4 Layer Model"
   ]
  },
  {
   "cell_type": "code",
   "execution_count": 21,
   "metadata": {},
   "outputs": [],
   "source": [
    "pred = model_4layer.predict(x_test)"
   ]
  },
  {
   "cell_type": "code",
   "execution_count": 22,
   "metadata": {},
   "outputs": [
    {
     "name": "stdout",
     "output_type": "stream",
     "text": [
      "input=[ 60 106] expected_output=[166] prediction=[165.62209] difference=[-0.37791443] %-different from actual=[0.00227659]\n",
      "input=[ 82 194] expected_output=[276] prediction=[275.0674] difference=[-0.93258667] %-different from actual=[0.00337894]\n",
      "input=[53 92] expected_output=[145] prediction=[144.70953] difference=[-0.2904663] %-different from actual=[0.00200322]\n",
      "input=[118 172] expected_output=[290] prediction=[289.2153] difference=[-0.7846985] %-different from actual=[0.00270586]\n",
      "input=[192 111] expected_output=[303] prediction=[302.61963] difference=[-0.3803711] %-different from actual=[0.00125535]\n",
      "input=[101  69] expected_output=[170] prediction=[169.86647] difference=[-0.13352966] %-different from actual=[0.00078547]\n",
      "input=[123  50] expected_output=[173] prediction=[172.9922] difference=[-0.00779724] %-different from actual=[4.507076e-05]\n",
      "input=[ 90 145] expected_output=[235] prediction=[234.38074] difference=[-0.6192627] %-different from actual=[0.00263516]\n",
      "input=[ 56 144] expected_output=[200] prediction=[199.37956] difference=[-0.6204376] %-different from actual=[0.00310219]\n",
      "input=[77 89] expected_output=[166] prediction=[165.73396] difference=[-0.266037] %-different from actual=[0.00160263]\n"
     ]
    }
   ],
   "source": [
    "for a in range(len(x_test)):\n",
    "    x = x_test[a]\n",
    "    y = y_test[a]\n",
    "    yp = pred[a][0]\n",
    "    print(f\"input={x[0]} expected_output={[y]} prediction={yp} difference={yp - y} %-different from actual={abs(yp - y)/y}\")"
   ]
  },
  {
   "cell_type": "markdown",
   "metadata": {},
   "source": [
    "### Test 5 Layer Model"
   ]
  },
  {
   "cell_type": "code",
   "execution_count": 23,
   "metadata": {},
   "outputs": [],
   "source": [
    "pred = model_5layer.predict(x_test)"
   ]
  },
  {
   "cell_type": "code",
   "execution_count": 24,
   "metadata": {},
   "outputs": [
    {
     "name": "stdout",
     "output_type": "stream",
     "text": [
      "input=[ 60 106] expected_output=[166] prediction=[165.93723] difference=[-0.06277466] %-different from actual=[0.00037816]\n",
      "input=[ 82 194] expected_output=[276] prediction=[275.81305] difference=[-0.18695068] %-different from actual=[0.00067736]\n",
      "input=[53 92] expected_output=[145] prediction=[144.95438] difference=[-0.04562378] %-different from actual=[0.00031465]\n",
      "input=[118 172] expected_output=[290] prediction=[289.87463] difference=[-0.12536621] %-different from actual=[0.0004323]\n",
      "input=[192 111] expected_output=[303] prediction=[303.02637] difference=[0.02636719] %-different from actual=[8.7020424e-05]\n",
      "input=[101  69] expected_output=[170] prediction=[170.02634] difference=[0.02633667] %-different from actual=[0.00015492]\n",
      "input=[123  50] expected_output=[173] prediction=[173.07285] difference=[0.07284546] %-different from actual=[0.00042107]\n",
      "input=[ 90 145] expected_output=[235] prediction=[234.8971] difference=[-0.10290527] %-different from actual=[0.00043789]\n",
      "input=[ 56 144] expected_output=[200] prediction=[199.87366] difference=[-0.12634277] %-different from actual=[0.00063171]\n",
      "input=[77 89] expected_output=[166] prediction=[165.97682] difference=[-0.0231781] %-different from actual=[0.00013963]\n"
     ]
    }
   ],
   "source": [
    "for a in range(len(x_test)):\n",
    "    x = x_test[a]\n",
    "    y = y_test[a]\n",
    "    yp = pred[a][0]\n",
    "    print(f\"input={x[0]} expected_output={[y]} prediction={yp} difference={yp - y} %-different from actual={abs(yp - y)/y}\")"
   ]
  },
  {
   "cell_type": "code",
   "execution_count": null,
   "metadata": {},
   "outputs": [],
   "source": []
  }
 ],
 "metadata": {
  "kernelspec": {
   "display_name": "Python 3",
   "language": "python",
   "name": "python3"
  },
  "language_info": {
   "codemirror_mode": {
    "name": "ipython",
    "version": 3
   },
   "file_extension": ".py",
   "mimetype": "text/x-python",
   "name": "python",
   "nbconvert_exporter": "python",
   "pygments_lexer": "ipython3",
   "version": "3.8.2"
  }
 },
 "nbformat": 4,
 "nbformat_minor": 4
}
