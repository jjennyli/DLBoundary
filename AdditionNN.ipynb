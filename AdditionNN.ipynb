{
 "cells": [
  {
   "cell_type": "markdown",
   "metadata": {},
   "source": [
    "# Making Neural Network Model for Addition\n"
   ]
  },
  {
   "cell_type": "markdown",
   "metadata": {},
   "source": [
    "## Data"
   ]
  },
  {
   "cell_type": "code",
   "execution_count": 1,
   "metadata": {},
   "outputs": [
    {
     "name": "stderr",
     "output_type": "stream",
     "text": [
      "Using TensorFlow backend.\n"
     ]
    }
   ],
   "source": [
    "import numpy as np\n",
    "import tensorflow as tf\n",
    "import random\n",
    "import keras\n",
    "from tensorflow.keras.callbacks import EarlyStopping\n",
    "from tensorflow.keras.metrics import Metric"
   ]
  },
  {
   "cell_type": "code",
   "execution_count": 2,
   "metadata": {},
   "outputs": [],
   "source": [
    "def gen_data(num_examples, range_start, range_end):\n",
    "    X = []\n",
    "    y = []\n",
    "    for ex in range(num_examples):\n",
    "        num1 = int(random.random()*(range_end - range_start) + range_start)\n",
    "        num2 = int(random.random()*(range_end - range_start) + range_start)\n",
    "\n",
    "        X.append([num1,num2])        \n",
    "        y.append(num1+num2)\n",
    "    return np.array(X), np.array(y)"
   ]
  },
  {
   "cell_type": "code",
   "execution_count": 3,
   "metadata": {
    "scrolled": true
   },
   "outputs": [
    {
     "data": {
      "text/plain": [
       "[(10, 1, 2), (10,), (10, 1, 2), (10,)]"
      ]
     },
     "execution_count": 3,
     "metadata": {},
     "output_type": "execute_result"
    }
   ],
   "source": [
    "x_train, y_train = gen_data(10, -50, 50)\n",
    "x_test, y_test = gen_data(10, 50, 200)\n",
    "\n",
    "x_train = x_train.reshape(x_train.shape[0], 1, x_train.shape[1])\n",
    "x_test = x_test.reshape(x_test.shape[0], 1,  x_test.shape[1])\n",
    "[a.shape for a in [x_train, y_train, x_test, y_test]]"
   ]
  },
  {
   "cell_type": "markdown",
   "metadata": {},
   "source": [
    "## RangedAccuracy Metric"
   ]
  },
  {
   "cell_type": "code",
   "execution_count": 4,
   "metadata": {},
   "outputs": [],
   "source": [
    "class RangedAccuracy(Metric):\n",
    "    def __init__(self, arange=1, name=\"RangedAccuracy\", **kwargs):\n",
    "        super(RangedAccuracy, self).__init__(name=name, **kwargs)\n",
    "        self.arange = tf.constant(arange, dtype=tf.float32)\n",
    "        self.racc = self.add_weight(name='racc', initializer='zeros')\n",
    "        self.in_range = self.add_weight(name='racc_ir', initializer='zeros')\n",
    "        self.total = self.add_weight(name='racc_tot', initializer='zeros')\n",
    "        \n",
    "    def update_state(self, y_true, y_pred, sample_weight=None):\n",
    "        y_diff = tf.math.abs(y_true - y_pred)\n",
    "        in_range = tf.math.less(tf.cast(y_diff, dtype=tf.float32), self.arange)\n",
    "        trues = tf.reduce_sum(tf.cast(in_range, tf.float32))\n",
    "        \n",
    "        self.in_range = self.in_range + trues\n",
    "        self.total = self.total + tf.size(in_range)\n",
    "        self.racc = self.in_range / self.total\n",
    "        \n",
    "    \n",
    "    def result(self):\n",
    "        return self.racc"
   ]
  },
  {
   "cell_type": "code",
   "execution_count": 5,
   "metadata": {},
   "outputs": [],
   "source": [
    "Acc = RangedAccuracy()"
   ]
  },
  {
   "cell_type": "markdown",
   "metadata": {},
   "source": [
    "## Create Models"
   ]
  },
  {
   "cell_type": "markdown",
   "metadata": {},
   "source": [
    "### Model with 1 layer"
   ]
  },
  {
   "cell_type": "code",
   "execution_count": 6,
   "metadata": {},
   "outputs": [
    {
     "name": "stdout",
     "output_type": "stream",
     "text": [
      "Model: \"sequential\"\n",
      "_________________________________________________________________\n",
      "Layer (type)                 Output Shape              Param #   \n",
      "=================================================================\n",
      "dense (Dense)                (None, 1, 64)             192       \n",
      "_________________________________________________________________\n",
      "dense_1 (Dense)              (None, 1, 1)              65        \n",
      "=================================================================\n",
      "Total params: 257\n",
      "Trainable params: 257\n",
      "Non-trainable params: 0\n",
      "_________________________________________________________________\n"
     ]
    }
   ],
   "source": [
    "model_1layer = tf.keras.models.Sequential([\n",
    "    tf.keras.layers.Dense(64, input_shape=(1,2)),\n",
    "    tf.keras.layers.Dense(1)\n",
    "])\n",
    "\n",
    "model_1layer.compile(\n",
    "    loss=\"MeanSquaredError\",\n",
    "    metrics=['accuracy']\n",
    ")\n",
    "\n",
    "model_1layer.summary()"
   ]
  },
  {
   "cell_type": "markdown",
   "metadata": {},
   "source": [
    "### Model with 2 Layers"
   ]
  },
  {
   "cell_type": "code",
   "execution_count": 7,
   "metadata": {
    "scrolled": true
   },
   "outputs": [
    {
     "name": "stdout",
     "output_type": "stream",
     "text": [
      "Model: \"sequential_1\"\n",
      "_________________________________________________________________\n",
      "Layer (type)                 Output Shape              Param #   \n",
      "=================================================================\n",
      "dense_2 (Dense)              (None, 1, 128)            384       \n",
      "_________________________________________________________________\n",
      "dense_3 (Dense)              (None, 1, 64)             8256      \n",
      "_________________________________________________________________\n",
      "dense_4 (Dense)              (None, 1, 1)              65        \n",
      "=================================================================\n",
      "Total params: 8,705\n",
      "Trainable params: 8,705\n",
      "Non-trainable params: 0\n",
      "_________________________________________________________________\n"
     ]
    }
   ],
   "source": [
    "model = tf.keras.models.Sequential([\n",
    "  tf.keras.layers.Dense(128, input_shape=(1,2)),\n",
    "  tf.keras.layers.Dense(64),\n",
    "  tf.keras.layers.Dense(1)\n",
    "])\n",
    "model.compile(\n",
    "    loss=\"MeanSquaredError\",\n",
    "    metrics=['accuracy'] #Acc not working, in testing\n",
    ")\n",
    "\n",
    "model.summary()"
   ]
  },
  {
   "cell_type": "markdown",
   "metadata": {},
   "source": [
    "### Model 3 Layer\n"
   ]
  },
  {
   "cell_type": "code",
   "execution_count": 8,
   "metadata": {
    "scrolled": false
   },
   "outputs": [
    {
     "name": "stdout",
     "output_type": "stream",
     "text": [
      "Model: \"sequential_2\"\n",
      "_________________________________________________________________\n",
      "Layer (type)                 Output Shape              Param #   \n",
      "=================================================================\n",
      "dense_5 (Dense)              (None, 1, 256)            768       \n",
      "_________________________________________________________________\n",
      "dense_6 (Dense)              (None, 1, 128)            32896     \n",
      "_________________________________________________________________\n",
      "dense_7 (Dense)              (None, 1, 64)             8256      \n",
      "_________________________________________________________________\n",
      "dense_8 (Dense)              (None, 1, 1)              65        \n",
      "=================================================================\n",
      "Total params: 41,985\n",
      "Trainable params: 41,985\n",
      "Non-trainable params: 0\n",
      "_________________________________________________________________\n"
     ]
    }
   ],
   "source": [
    "model_3layer = tf.keras.models.Sequential([\n",
    "  tf.keras.layers.Dense(256, input_shape=(1,2)),\n",
    "  tf.keras.layers.Dense(128),\n",
    "  tf.keras.layers.Dense(64),\n",
    "  tf.keras.layers.Dense(1)\n",
    "])\n",
    "model_3layer.compile(\n",
    "    loss=\"MeanSquaredError\",\n",
    "    metrics=['accuracy'] #Acc not working, in testing\n",
    ")\n",
    "\n",
    "model_3layer.summary()"
   ]
  },
  {
   "cell_type": "markdown",
   "metadata": {},
   "source": [
    "### Model 4 Layer"
   ]
  },
  {
   "cell_type": "code",
   "execution_count": 9,
   "metadata": {
    "scrolled": false
   },
   "outputs": [
    {
     "name": "stdout",
     "output_type": "stream",
     "text": [
      "Model: \"sequential_3\"\n",
      "_________________________________________________________________\n",
      "Layer (type)                 Output Shape              Param #   \n",
      "=================================================================\n",
      "dense_9 (Dense)              (None, 1, 512)            1536      \n",
      "_________________________________________________________________\n",
      "dense_10 (Dense)             (None, 1, 256)            131328    \n",
      "_________________________________________________________________\n",
      "dense_11 (Dense)             (None, 1, 128)            32896     \n",
      "_________________________________________________________________\n",
      "dense_12 (Dense)             (None, 1, 64)             8256      \n",
      "_________________________________________________________________\n",
      "dense_13 (Dense)             (None, 1, 1)              65        \n",
      "=================================================================\n",
      "Total params: 174,081\n",
      "Trainable params: 174,081\n",
      "Non-trainable params: 0\n",
      "_________________________________________________________________\n"
     ]
    }
   ],
   "source": [
    "model_4layer = tf.keras.models.Sequential([\n",
    "  tf.keras.layers.Dense(512, input_shape=(1,2)),\n",
    "  tf.keras.layers.Dense(256),\n",
    "  tf.keras.layers.Dense(128),\n",
    "  tf.keras.layers.Dense(64),\n",
    "  tf.keras.layers.Dense(1)\n",
    "])\n",
    "model_4layer.compile(\n",
    "    loss=\"MeanSquaredError\",\n",
    "    metrics=['accuracy'] #Acc not working, in testing\n",
    ")\n",
    "\n",
    "model_4layer.summary()"
   ]
  },
  {
   "cell_type": "markdown",
   "metadata": {},
   "source": [
    "### Model 5 Layer"
   ]
  },
  {
   "cell_type": "code",
   "execution_count": 10,
   "metadata": {
    "scrolled": false
   },
   "outputs": [
    {
     "name": "stdout",
     "output_type": "stream",
     "text": [
      "Model: \"sequential_4\"\n",
      "_________________________________________________________________\n",
      "Layer (type)                 Output Shape              Param #   \n",
      "=================================================================\n",
      "dense_14 (Dense)             (None, 1, 1024)           3072      \n",
      "_________________________________________________________________\n",
      "dense_15 (Dense)             (None, 1, 512)            524800    \n",
      "_________________________________________________________________\n",
      "dense_16 (Dense)             (None, 1, 256)            131328    \n",
      "_________________________________________________________________\n",
      "dense_17 (Dense)             (None, 1, 128)            32896     \n",
      "_________________________________________________________________\n",
      "dense_18 (Dense)             (None, 1, 64)             8256      \n",
      "_________________________________________________________________\n",
      "dense_19 (Dense)             (None, 1, 1)              65        \n",
      "=================================================================\n",
      "Total params: 700,417\n",
      "Trainable params: 700,417\n",
      "Non-trainable params: 0\n",
      "_________________________________________________________________\n"
     ]
    }
   ],
   "source": [
    "model_5layer = tf.keras.models.Sequential([\n",
    "    tf.keras.layers.Dense(1024, input_shape=(1,2)),\n",
    "    tf.keras.layers.Dense(512),\n",
    "    tf.keras.layers.Dense(256),\n",
    "    tf.keras.layers.Dense(128),\n",
    "    tf.keras.layers.Dense(64),\n",
    "    tf.keras.layers.Dense(1)\n",
    "])\n",
    "model_5layer.compile(\n",
    "    loss=\"MeanSquaredError\",\n",
    "    metrics=['accuracy'] #Acc not working, in testing\n",
    ")\n",
    "\n",
    "model_5layer.summary()"
   ]
  },
  {
   "cell_type": "code",
   "execution_count": null,
   "metadata": {},
   "outputs": [],
   "source": []
  },
  {
   "cell_type": "markdown",
   "metadata": {},
   "source": [
    "## Train Model"
   ]
  },
  {
   "cell_type": "code",
   "execution_count": 11,
   "metadata": {},
   "outputs": [],
   "source": [
    "es = EarlyStopping(monitor='val_loss', mode='min')"
   ]
  },
  {
   "cell_type": "markdown",
   "metadata": {},
   "source": [
    "### Train 1 Layer Model"
   ]
  },
  {
   "cell_type": "code",
   "execution_count": 12,
   "metadata": {},
   "outputs": [
    {
     "name": "stdout",
     "output_type": "stream",
     "text": [
      "Epoch 1/100\n",
      "1/1 [==============================] - 0s 238ms/step - loss: 3108.1526 - accuracy: 0.0000e+00 - val_loss: 136257.7969 - val_accuracy: 0.0000e+00\n",
      "Epoch 2/100\n",
      "1/1 [==============================] - 0s 49ms/step - loss: 2840.4751 - accuracy: 0.0000e+00 - val_loss: 127510.6641 - val_accuracy: 0.0000e+00\n",
      "Epoch 3/100\n",
      "1/1 [==============================] - 0s 51ms/step - loss: 2658.2520 - accuracy: 0.0000e+00 - val_loss: 120513.0391 - val_accuracy: 0.0000e+00\n",
      "Epoch 4/100\n",
      "1/1 [==============================] - 0s 51ms/step - loss: 2512.4526 - accuracy: 0.0000e+00 - val_loss: 114534.0234 - val_accuracy: 0.0000e+00\n",
      "Epoch 5/100\n",
      "1/1 [==============================] - 0s 51ms/step - loss: 2387.8572 - accuracy: 0.0000e+00 - val_loss: 109238.2734 - val_accuracy: 0.0000e+00\n",
      "Epoch 6/100\n",
      "1/1 [==============================] - 0s 49ms/step - loss: 2277.4829 - accuracy: 0.0000e+00 - val_loss: 104440.3984 - val_accuracy: 0.0000e+00\n",
      "Epoch 7/100\n",
      "1/1 [==============================] - 0s 51ms/step - loss: 2177.4653 - accuracy: 0.0000e+00 - val_loss: 100025.7188 - val_accuracy: 0.0000e+00\n",
      "Epoch 8/100\n",
      "1/1 [==============================] - 0s 46ms/step - loss: 2085.4155 - accuracy: 0.0000e+00 - val_loss: 95917.8125 - val_accuracy: 0.0000e+00\n",
      "Epoch 9/100\n",
      "1/1 [==============================] - 0s 50ms/step - loss: 1999.7405 - accuracy: 0.0000e+00 - val_loss: 92062.8906 - val_accuracy: 0.0000e+00\n",
      "Epoch 10/100\n",
      "1/1 [==============================] - 0s 49ms/step - loss: 1919.3187 - accuracy: 0.0000e+00 - val_loss: 88421.5078 - val_accuracy: 0.0000e+00\n",
      "Epoch 11/100\n",
      "1/1 [==============================] - 0s 50ms/step - loss: 1843.3289 - accuracy: 0.0000e+00 - val_loss: 84963.7500 - val_accuracy: 0.0000e+00\n",
      "Epoch 12/100\n",
      "1/1 [==============================] - 0s 57ms/step - loss: 1771.1514 - accuracy: 0.0000e+00 - val_loss: 81666.3906 - val_accuracy: 0.0000e+00\n",
      "Epoch 13/100\n",
      "1/1 [==============================] - 0s 61ms/step - loss: 1702.3053 - accuracy: 0.0000e+00 - val_loss: 78510.9531 - val_accuracy: 0.0000e+00\n",
      "Epoch 14/100\n",
      "1/1 [==============================] - 0s 56ms/step - loss: 1636.4119 - accuracy: 0.0000e+00 - val_loss: 75482.6172 - val_accuracy: 0.0000e+00\n",
      "Epoch 15/100\n",
      "1/1 [==============================] - 0s 51ms/step - loss: 1573.1677 - accuracy: 0.0000e+00 - val_loss: 72569.2656 - val_accuracy: 0.0000e+00\n",
      "Epoch 16/100\n",
      "1/1 [==============================] - 0s 50ms/step - loss: 1512.3254 - accuracy: 0.0000e+00 - val_loss: 69760.9688 - val_accuracy: 0.0000e+00\n",
      "Epoch 17/100\n",
      "1/1 [==============================] - 0s 51ms/step - loss: 1453.6814 - accuracy: 0.0000e+00 - val_loss: 67049.4219 - val_accuracy: 0.0000e+00\n",
      "Epoch 18/100\n",
      "1/1 [==============================] - 0s 51ms/step - loss: 1397.0660 - accuracy: 0.0000e+00 - val_loss: 64427.7266 - val_accuracy: 0.0000e+00\n",
      "Epoch 19/100\n",
      "1/1 [==============================] - 0s 48ms/step - loss: 1342.3363 - accuracy: 0.0000e+00 - val_loss: 61890.0000 - val_accuracy: 0.0000e+00\n",
      "Epoch 20/100\n",
      "1/1 [==============================] - 0s 50ms/step - loss: 1289.3708 - accuracy: 0.0000e+00 - val_loss: 59431.2266 - val_accuracy: 0.0000e+00\n",
      "Epoch 21/100\n",
      "1/1 [==============================] - 0s 61ms/step - loss: 1238.0659 - accuracy: 0.0000e+00 - val_loss: 57047.1562 - val_accuracy: 0.0000e+00\n",
      "Epoch 22/100\n",
      "1/1 [==============================] - 0s 49ms/step - loss: 1188.3319 - accuracy: 0.0000e+00 - val_loss: 54734.0859 - val_accuracy: 0.0000e+00\n",
      "Epoch 23/100\n",
      "1/1 [==============================] - 0s 44ms/step - loss: 1140.0913 - accuracy: 0.0000e+00 - val_loss: 52488.8203 - val_accuracy: 0.0000e+00\n",
      "Epoch 24/100\n",
      "1/1 [==============================] - 0s 48ms/step - loss: 1093.2766 - accuracy: 0.0000e+00 - val_loss: 50308.5742 - val_accuracy: 0.0000e+00\n",
      "Epoch 25/100\n",
      "1/1 [==============================] - 0s 48ms/step - loss: 1047.8289 - accuracy: 0.0000e+00 - val_loss: 48190.9609 - val_accuracy: 0.0000e+00\n",
      "Epoch 26/100\n",
      "1/1 [==============================] - 0s 48ms/step - loss: 1003.6965 - accuracy: 0.0000e+00 - val_loss: 46133.8633 - val_accuracy: 0.0000e+00\n",
      "Epoch 27/100\n",
      "1/1 [==============================] - 0s 51ms/step - loss: 960.8336 - accuracy: 0.0000e+00 - val_loss: 44135.4453 - val_accuracy: 0.0000e+00\n",
      "Epoch 28/100\n",
      "1/1 [==============================] - 0s 51ms/step - loss: 919.2007 - accuracy: 0.0000e+00 - val_loss: 42194.0781 - val_accuracy: 0.0000e+00\n",
      "Epoch 29/100\n",
      "1/1 [==============================] - 0s 50ms/step - loss: 878.7617 - accuracy: 0.0000e+00 - val_loss: 40308.3398 - val_accuracy: 0.0000e+00\n",
      "Epoch 30/100\n",
      "1/1 [==============================] - 0s 51ms/step - loss: 839.4854 - accuracy: 0.0000e+00 - val_loss: 38476.9414 - val_accuracy: 0.0000e+00\n",
      "Epoch 31/100\n",
      "1/1 [==============================] - 0s 49ms/step - loss: 801.3433 - accuracy: 0.0000e+00 - val_loss: 36698.7305 - val_accuracy: 0.0000e+00\n",
      "Epoch 32/100\n",
      "1/1 [==============================] - 0s 50ms/step - loss: 764.3102 - accuracy: 0.0000e+00 - val_loss: 34972.6602 - val_accuracy: 0.0000e+00\n",
      "Epoch 33/100\n",
      "1/1 [==============================] - 0s 56ms/step - loss: 728.3631 - accuracy: 0.0000e+00 - val_loss: 33297.7773 - val_accuracy: 0.0000e+00\n",
      "Epoch 34/100\n",
      "1/1 [==============================] - 0s 62ms/step - loss: 693.4814 - accuracy: 0.0000e+00 - val_loss: 31673.2090 - val_accuracy: 0.0000e+00\n",
      "Epoch 35/100\n",
      "1/1 [==============================] - 0s 50ms/step - loss: 659.6464 - accuracy: 0.0000e+00 - val_loss: 30098.1602 - val_accuracy: 0.0000e+00\n",
      "Epoch 36/100\n",
      "1/1 [==============================] - 0s 52ms/step - loss: 626.8406 - accuracy: 0.0000e+00 - val_loss: 28571.8633 - val_accuracy: 0.0000e+00\n",
      "Epoch 37/100\n",
      "1/1 [==============================] - 0s 51ms/step - loss: 595.0485 - accuracy: 0.0000e+00 - val_loss: 27093.6406 - val_accuracy: 0.0000e+00\n",
      "Epoch 38/100\n",
      "1/1 [==============================] - 0s 43ms/step - loss: 564.2557 - accuracy: 0.0000e+00 - val_loss: 25662.8457 - val_accuracy: 0.0000e+00\n",
      "Epoch 39/100\n",
      "1/1 [==============================] - 0s 49ms/step - loss: 534.4490 - accuracy: 0.0000e+00 - val_loss: 24278.8750 - val_accuracy: 0.0000e+00\n",
      "Epoch 40/100\n",
      "1/1 [==============================] - 0s 47ms/step - loss: 505.6157 - accuracy: 0.0000e+00 - val_loss: 22941.1543 - val_accuracy: 0.0000e+00\n",
      "Epoch 41/100\n",
      "1/1 [==============================] - 0s 48ms/step - loss: 477.7444 - accuracy: 0.0000e+00 - val_loss: 21649.1445 - val_accuracy: 0.0000e+00\n",
      "Epoch 42/100\n",
      "1/1 [==============================] - 0s 46ms/step - loss: 450.8240 - accuracy: 0.0000e+00 - val_loss: 20402.3340 - val_accuracy: 0.0000e+00\n",
      "Epoch 43/100\n",
      "1/1 [==============================] - 0s 44ms/step - loss: 424.8439 - accuracy: 0.0000e+00 - val_loss: 19200.2227 - val_accuracy: 0.0000e+00\n",
      "Epoch 44/100\n",
      "1/1 [==============================] - 0s 47ms/step - loss: 399.7940 - accuracy: 0.0000e+00 - val_loss: 18042.3164 - val_accuracy: 0.0000e+00\n",
      "Epoch 45/100\n",
      "1/1 [==============================] - 0s 58ms/step - loss: 375.6641 - accuracy: 0.0000e+00 - val_loss: 16928.1270 - val_accuracy: 0.0000e+00\n",
      "Epoch 46/100\n",
      "1/1 [==============================] - 0s 45ms/step - loss: 352.4443 - accuracy: 0.0000e+00 - val_loss: 15857.1777 - val_accuracy: 0.0000e+00\n",
      "Epoch 47/100\n",
      "1/1 [==============================] - 0s 64ms/step - loss: 330.1246 - accuracy: 0.0000e+00 - val_loss: 14828.9668 - val_accuracy: 0.0000e+00\n",
      "Epoch 48/100\n",
      "1/1 [==============================] - 0s 41ms/step - loss: 308.6950 - accuracy: 0.0000e+00 - val_loss: 13843.0029 - val_accuracy: 0.0000e+00\n",
      "Epoch 49/100\n",
      "1/1 [==============================] - 0s 43ms/step - loss: 288.1452 - accuracy: 0.0000e+00 - val_loss: 12898.7666 - val_accuracy: 0.0000e+00\n",
      "Epoch 50/100\n",
      "1/1 [==============================] - 0s 41ms/step - loss: 268.4648 - accuracy: 0.0000e+00 - val_loss: 11995.7432 - val_accuracy: 0.0000e+00\n",
      "Epoch 51/100\n",
      "1/1 [==============================] - 0s 38ms/step - loss: 249.6433 - accuracy: 0.0000e+00 - val_loss: 11133.3965 - val_accuracy: 0.0000e+00\n",
      "Epoch 52/100\n",
      "1/1 [==============================] - 0s 44ms/step - loss: 231.6695 - accuracy: 0.0000e+00 - val_loss: 10311.1660 - val_accuracy: 0.0000e+00\n",
      "Epoch 53/100\n",
      "1/1 [==============================] - 0s 63ms/step - loss: 214.5321 - accuracy: 0.0000e+00 - val_loss: 9528.4795 - val_accuracy: 0.0000e+00\n"
     ]
    },
    {
     "name": "stdout",
     "output_type": "stream",
     "text": [
      "Epoch 54/100\n",
      "1/1 [==============================] - 0s 50ms/step - loss: 198.2194 - accuracy: 0.0000e+00 - val_loss: 8784.7432 - val_accuracy: 0.0000e+00\n",
      "Epoch 55/100\n",
      "1/1 [==============================] - 0s 47ms/step - loss: 182.7189 - accuracy: 0.0000e+00 - val_loss: 8079.3281 - val_accuracy: 0.0000e+00\n",
      "Epoch 56/100\n",
      "1/1 [==============================] - 0s 31ms/step - loss: 168.0176 - accuracy: 0.0000e+00 - val_loss: 7411.5835 - val_accuracy: 0.0000e+00\n",
      "Epoch 57/100\n",
      "1/1 [==============================] - 0s 47ms/step - loss: 154.1021 - accuracy: 0.0000e+00 - val_loss: 6780.8306 - val_accuracy: 0.0000e+00\n",
      "Epoch 58/100\n",
      "1/1 [==============================] - 0s 49ms/step - loss: 140.9581 - accuracy: 0.0000e+00 - val_loss: 6186.3462 - val_accuracy: 0.0000e+00\n",
      "Epoch 59/100\n",
      "1/1 [==============================] - 0s 50ms/step - loss: 128.5705 - accuracy: 0.0000e+00 - val_loss: 5627.3818 - val_accuracy: 0.0000e+00\n",
      "Epoch 60/100\n",
      "1/1 [==============================] - 0s 56ms/step - loss: 116.9234 - accuracy: 0.0000e+00 - val_loss: 5103.1357 - val_accuracy: 0.0000e+00\n",
      "Epoch 61/100\n",
      "1/1 [==============================] - 0s 50ms/step - loss: 106.0002 - accuracy: 0.0000e+00 - val_loss: 4612.7729 - val_accuracy: 0.0000e+00\n",
      "Epoch 62/100\n",
      "1/1 [==============================] - 0s 50ms/step - loss: 95.7831 - accuracy: 0.0000e+00 - val_loss: 4155.4111 - val_accuracy: 0.0000e+00\n",
      "Epoch 63/100\n",
      "1/1 [==============================] - 0s 45ms/step - loss: 86.2537 - accuracy: 0.0000e+00 - val_loss: 3730.1184 - val_accuracy: 0.0000e+00\n",
      "Epoch 64/100\n",
      "1/1 [==============================] - 0s 45ms/step - loss: 77.3924 - accuracy: 0.0000e+00 - val_loss: 3335.9211 - val_accuracy: 0.0000e+00\n",
      "Epoch 65/100\n",
      "1/1 [==============================] - 0s 38ms/step - loss: 69.1789 - accuracy: 0.0000e+00 - val_loss: 2971.7917 - val_accuracy: 0.0000e+00\n",
      "Epoch 66/100\n",
      "1/1 [==============================] - 0s 47ms/step - loss: 61.5916 - accuracy: 0.0000e+00 - val_loss: 2636.6628 - val_accuracy: 0.0000e+00\n",
      "Epoch 67/100\n",
      "1/1 [==============================] - 0s 41ms/step - loss: 54.6082 - accuracy: 0.0000e+00 - val_loss: 2329.4121 - val_accuracy: 0.0000e+00\n",
      "Epoch 68/100\n",
      "1/1 [==============================] - 0s 31ms/step - loss: 48.2054 - accuracy: 0.0000e+00 - val_loss: 2048.8726 - val_accuracy: 0.0000e+00\n",
      "Epoch 69/100\n",
      "1/1 [==============================] - 0s 31ms/step - loss: 42.3589 - accuracy: 0.0000e+00 - val_loss: 1793.8328 - val_accuracy: 0.0000e+00\n",
      "Epoch 70/100\n",
      "1/1 [==============================] - 0s 47ms/step - loss: 37.0436 - accuracy: 0.0000e+00 - val_loss: 1563.0428 - val_accuracy: 0.0000e+00\n",
      "Epoch 71/100\n",
      "1/1 [==============================] - 0s 49ms/step - loss: 32.2336 - accuracy: 0.0000e+00 - val_loss: 1355.2112 - val_accuracy: 0.0000e+00\n",
      "Epoch 72/100\n",
      "1/1 [==============================] - 0s 48ms/step - loss: 27.9024 - accuracy: 0.0000e+00 - val_loss: 1169.0159 - val_accuracy: 0.0000e+00\n",
      "Epoch 73/100\n",
      "1/1 [==============================] - 0s 51ms/step - loss: 24.0226 - accuracy: 0.0000e+00 - val_loss: 1003.1110 - val_accuracy: 0.0000e+00\n",
      "Epoch 74/100\n",
      "1/1 [==============================] - 0s 45ms/step - loss: 20.5665 - accuracy: 0.0000e+00 - val_loss: 856.1265 - val_accuracy: 0.0000e+00\n",
      "Epoch 75/100\n",
      "1/1 [==============================] - 0s 68ms/step - loss: 17.5061 - accuracy: 0.0000e+00 - val_loss: 726.6863 - val_accuracy: 0.0000e+00\n",
      "Epoch 76/100\n",
      "1/1 [==============================] - 0s 66ms/step - loss: 14.8132 - accuracy: 0.0000e+00 - val_loss: 613.4094 - val_accuracy: 0.0000e+00\n",
      "Epoch 77/100\n",
      "1/1 [==============================] - 0s 49ms/step - loss: 12.4594 - accuracy: 0.0000e+00 - val_loss: 514.9255 - val_accuracy: 0.0000e+00\n",
      "Epoch 78/100\n",
      "1/1 [==============================] - 0s 52ms/step - loss: 10.4166 - accuracy: 0.0000e+00 - val_loss: 429.8835 - val_accuracy: 0.0000e+00\n",
      "Epoch 79/100\n",
      "1/1 [==============================] - 0s 51ms/step - loss: 8.6572 - accuracy: 0.0000e+00 - val_loss: 356.9632 - val_accuracy: 0.0000e+00\n",
      "Epoch 80/100\n",
      "1/1 [==============================] - 0s 54ms/step - loss: 7.1540 - accuracy: 0.0000e+00 - val_loss: 294.8875 - val_accuracy: 0.0000e+00\n",
      "Epoch 81/100\n",
      "1/1 [==============================] - 0s 44ms/step - loss: 5.8807 - accuracy: 0.0000e+00 - val_loss: 242.4314 - val_accuracy: 0.0000e+00\n",
      "Epoch 82/100\n",
      "1/1 [==============================] - 0s 39ms/step - loss: 4.8119 - accuracy: 0.0000e+00 - val_loss: 198.4343 - val_accuracy: 0.0000e+00\n",
      "Epoch 83/100\n",
      "1/1 [==============================] - 0s 42ms/step - loss: 3.9233 - accuracy: 0.0000e+00 - val_loss: 161.8084 - val_accuracy: 0.0000e+00\n",
      "Epoch 84/100\n",
      "1/1 [==============================] - 0s 52ms/step - loss: 3.1923 - accuracy: 0.0000e+00 - val_loss: 131.5449 - val_accuracy: 0.0000e+00\n",
      "Epoch 85/100\n",
      "1/1 [==============================] - 0s 26ms/step - loss: 2.5973 - accuracy: 0.0000e+00 - val_loss: 106.7217 - val_accuracy: 0.0000e+00\n",
      "Epoch 86/100\n",
      "1/1 [==============================] - 0s 31ms/step - loss: 2.1187 - accuracy: 0.0000e+00 - val_loss: 86.5056 - val_accuracy: 0.0000e+00\n",
      "Epoch 87/100\n",
      "1/1 [==============================] - 0s 47ms/step - loss: 1.7383 - accuracy: 0.0000e+00 - val_loss: 70.1522 - val_accuracy: 0.0000e+00\n",
      "Epoch 88/100\n",
      "1/1 [==============================] - 0s 31ms/step - loss: 1.4398 - accuracy: 0.0000e+00 - val_loss: 57.0080 - val_accuracy: 0.0000e+00\n",
      "Epoch 89/100\n",
      "1/1 [==============================] - 0s 31ms/step - loss: 1.2086 - accuracy: 0.0000e+00 - val_loss: 46.5043 - val_accuracy: 0.0000e+00\n",
      "Epoch 90/100\n",
      "1/1 [==============================] - 0s 47ms/step - loss: 1.0319 - accuracy: 0.0000e+00 - val_loss: 38.1547 - val_accuracy: 0.0000e+00\n",
      "Epoch 91/100\n",
      "1/1 [==============================] - 0s 47ms/step - loss: 0.8986 - accuracy: 0.0000e+00 - val_loss: 31.5470 - val_accuracy: 0.0000e+00\n",
      "Epoch 92/100\n",
      "1/1 [==============================] - 0s 40ms/step - loss: 0.7993 - accuracy: 0.0000e+00 - val_loss: 26.3375 - val_accuracy: 0.0000e+00\n",
      "Epoch 93/100\n",
      "1/1 [==============================] - 0s 45ms/step - loss: 0.7260 - accuracy: 0.0000e+00 - val_loss: 22.2420 - val_accuracy: 0.0000e+00\n",
      "Epoch 94/100\n",
      "1/1 [==============================] - 0s 31ms/step - loss: 0.6722 - accuracy: 0.0000e+00 - val_loss: 19.0297 - val_accuracy: 0.0000e+00\n",
      "Epoch 95/100\n",
      "1/1 [==============================] - 0s 31ms/step - loss: 0.6328 - accuracy: 0.0000e+00 - val_loss: 16.5134 - val_accuracy: 0.0000e+00\n",
      "Epoch 96/100\n",
      "1/1 [==============================] - 0s 31ms/step - loss: 0.6035 - accuracy: 0.0000e+00 - val_loss: 14.5440 - val_accuracy: 0.0000e+00\n",
      "Epoch 97/100\n",
      "1/1 [==============================] - 0s 47ms/step - loss: 0.5814 - accuracy: 0.0000e+00 - val_loss: 13.0017 - val_accuracy: 0.0000e+00\n",
      "Epoch 98/100\n",
      "1/1 [==============================] - 0s 47ms/step - loss: 0.5640 - accuracy: 0.0000e+00 - val_loss: 11.7929 - val_accuracy: 0.0000e+00\n",
      "Epoch 99/100\n",
      "1/1 [==============================] - 0s 64ms/step - loss: 0.5498 - accuracy: 0.0000e+00 - val_loss: 10.8426 - val_accuracy: 0.0000e+00\n",
      "Epoch 100/100\n",
      "1/1 [==============================] - 0s 42ms/step - loss: 0.5374 - accuracy: 0.0000e+00 - val_loss: 10.0923 - val_accuracy: 0.0000e+00\n"
     ]
    }
   ],
   "source": [
    "history1 = model_1layer.fit(\n",
    "    x_train, y_train,\n",
    "    batch_size=10000,\n",
    "    epochs=100,\n",
    "    validation_data=(x_test,y_test),\n",
    "    callbacks = [es]\n",
    ")"
   ]
  },
  {
   "cell_type": "markdown",
   "metadata": {},
   "source": [
    "### Train 2 Layer Model"
   ]
  },
  {
   "cell_type": "code",
   "execution_count": 13,
   "metadata": {},
   "outputs": [
    {
     "name": "stdout",
     "output_type": "stream",
     "text": [
      "Epoch 1/100\n",
      "1/1 [==============================] - 0s 223ms/step - loss: 2290.2166 - accuracy: 0.0000e+00 - val_loss: 52168.2852 - val_accuracy: 0.0000e+00\n",
      "Epoch 2/100\n",
      "1/1 [==============================] - 0s 31ms/step - loss: 1068.4316 - accuracy: 0.0000e+00 - val_loss: 26987.2559 - val_accuracy: 0.0000e+00\n",
      "Epoch 3/100\n",
      "1/1 [==============================] - 0s 31ms/step - loss: 554.6089 - accuracy: 0.0000e+00 - val_loss: 13913.8770 - val_accuracy: 0.0000e+00\n",
      "Epoch 4/100\n",
      "1/1 [==============================] - 0s 31ms/step - loss: 284.0939 - accuracy: 0.0000e+00 - val_loss: 6827.0439 - val_accuracy: 0.0000e+00\n",
      "Epoch 5/100\n",
      "1/1 [==============================] - 0s 47ms/step - loss: 138.7515 - accuracy: 0.0000e+00 - val_loss: 3153.8037 - val_accuracy: 0.0000e+00\n",
      "Epoch 6/100\n",
      "1/1 [==============================] - 0s 31ms/step - loss: 63.4359 - accuracy: 0.0000e+00 - val_loss: 1356.2103 - val_accuracy: 0.0000e+00\n",
      "Epoch 7/100\n",
      "1/1 [==============================] - 0s 31ms/step - loss: 26.8464 - accuracy: 0.0000e+00 - val_loss: 542.7926 - val_accuracy: 0.0000e+00\n",
      "Epoch 8/100\n",
      "1/1 [==============================] - 0s 47ms/step - loss: 10.4529 - accuracy: 0.0000e+00 - val_loss: 203.1065 - val_accuracy: 0.0000e+00\n",
      "Epoch 9/100\n",
      "1/1 [==============================] - 0s 31ms/step - loss: 3.7431 - accuracy: 0.0000e+00 - val_loss: 72.3217 - val_accuracy: 0.0000e+00\n",
      "Epoch 10/100\n",
      "1/1 [==============================] - 0s 47ms/step - loss: 1.2474 - accuracy: 0.0000e+00 - val_loss: 25.3124 - val_accuracy: 0.0000e+00\n",
      "Epoch 11/100\n",
      "1/1 [==============================] - 0s 31ms/step - loss: 0.4063 - accuracy: 0.0000e+00 - val_loss: 9.2593 - val_accuracy: 0.0000e+00\n",
      "Epoch 12/100\n",
      "1/1 [==============================] - 0s 47ms/step - loss: 0.1499 - accuracy: 0.0000e+00 - val_loss: 3.8478 - val_accuracy: 0.0000e+00\n",
      "Epoch 13/100\n",
      "1/1 [==============================] - 0s 31ms/step - loss: 0.0792 - accuracy: 0.0000e+00 - val_loss: 1.9831 - val_accuracy: 0.0000e+00\n",
      "Epoch 14/100\n",
      "1/1 [==============================] - 0s 63ms/step - loss: 0.0612 - accuracy: 0.0000e+00 - val_loss: 1.2911 - val_accuracy: 0.0000e+00\n",
      "Epoch 15/100\n",
      "1/1 [==============================] - 0s 53ms/step - loss: 0.0565 - accuracy: 0.0000e+00 - val_loss: 1.0255 - val_accuracy: 0.0000e+00\n",
      "Epoch 16/100\n",
      "1/1 [==============================] - 0s 47ms/step - loss: 0.0547 - accuracy: 0.0000e+00 - val_loss: 0.9043 - val_accuracy: 0.0000e+00\n",
      "Epoch 17/100\n",
      "1/1 [==============================] - 0s 47ms/step - loss: 0.0535 - accuracy: 0.0000e+00 - val_loss: 0.8612 - val_accuracy: 0.0000e+00\n",
      "Epoch 18/100\n",
      "1/1 [==============================] - 0s 50ms/step - loss: 0.0523 - accuracy: 0.0000e+00 - val_loss: 0.8124 - val_accuracy: 0.0000e+00\n",
      "Epoch 19/100\n",
      "1/1 [==============================] - 0s 33ms/step - loss: 0.0511 - accuracy: 0.0000e+00 - val_loss: 0.8221 - val_accuracy: 0.0000e+00\n"
     ]
    }
   ],
   "source": [
    "history2 = model.fit(\n",
    "    x_train, y_train,\n",
    "    batch_size=10000,\n",
    "    epochs= 100,\n",
    "    validation_data=(x_test,y_test),\n",
    "    callbacks = [es]\n",
    ")"
   ]
  },
  {
   "cell_type": "markdown",
   "metadata": {},
   "source": [
    "### Train 3 Layer Model"
   ]
  },
  {
   "cell_type": "code",
   "execution_count": 14,
   "metadata": {},
   "outputs": [
    {
     "name": "stdout",
     "output_type": "stream",
     "text": [
      "Epoch 1/100\n",
      "1/1 [==============================] - 0s 362ms/step - loss: 1946.1589 - accuracy: 0.0000e+00 - val_loss: 1931.7106 - val_accuracy: 0.0000e+00\n",
      "Epoch 2/100\n",
      "1/1 [==============================] - 0s 65ms/step - loss: 41.6376 - accuracy: 0.0000e+00 - val_loss: 282.0490 - val_accuracy: 0.0000e+00\n",
      "Epoch 3/100\n",
      "1/1 [==============================] - 0s 153ms/step - loss: 17.0334 - accuracy: 0.0000e+00 - val_loss: 162.6637 - val_accuracy: 0.0000e+00\n",
      "Epoch 4/100\n",
      "1/1 [==============================] - 0s 90ms/step - loss: 33.6494 - accuracy: 0.0000e+00 - val_loss: 116.1368 - val_accuracy: 0.0000e+00\n",
      "Epoch 5/100\n",
      "1/1 [==============================] - 0s 76ms/step - loss: 38.2581 - accuracy: 0.0000e+00 - val_loss: 90.7640 - val_accuracy: 0.0000e+00\n",
      "Epoch 6/100\n",
      "1/1 [==============================] - 0s 26ms/step - loss: 28.6873 - accuracy: 0.0000e+00 - val_loss: 109.5999 - val_accuracy: 0.0000e+00\n"
     ]
    }
   ],
   "source": [
    "history3 = model_3layer.fit(\n",
    "    x_train, y_train,\n",
    "    batch_size=10000,\n",
    "    epochs= 100,\n",
    "    validation_data=(x_test,y_test),\n",
    "    callbacks = [es]\n",
    ")"
   ]
  },
  {
   "cell_type": "markdown",
   "metadata": {},
   "source": [
    "### Train 4 Layer Model"
   ]
  },
  {
   "cell_type": "code",
   "execution_count": 15,
   "metadata": {},
   "outputs": [
    {
     "name": "stdout",
     "output_type": "stream",
     "text": [
      "Epoch 1/100\n",
      "1/1 [==============================] - 0s 352ms/step - loss: 2200.9519 - accuracy: 0.0000e+00 - val_loss: 123909.5469 - val_accuracy: 0.0000e+00\n",
      "Epoch 2/100\n",
      "1/1 [==============================] - 0s 60ms/step - loss: 2544.8579 - accuracy: 0.0000e+00 - val_loss: 46850.4922 - val_accuracy: 0.0000e+00\n",
      "Epoch 3/100\n",
      "1/1 [==============================] - 0s 57ms/step - loss: 995.5443 - accuracy: 0.0000e+00 - val_loss: 3316.7598 - val_accuracy: 0.0000e+00\n",
      "Epoch 4/100\n",
      "1/1 [==============================] - 0s 53ms/step - loss: 114.5033 - accuracy: 0.0000e+00 - val_loss: 372.8544 - val_accuracy: 0.0000e+00\n",
      "Epoch 5/100\n",
      "1/1 [==============================] - 0s 50ms/step - loss: 29.4392 - accuracy: 0.0000e+00 - val_loss: 45.8568 - val_accuracy: 0.0000e+00\n",
      "Epoch 6/100\n",
      "1/1 [==============================] - 0s 50ms/step - loss: 16.0580 - accuracy: 0.0000e+00 - val_loss: 39.8506 - val_accuracy: 0.0000e+00\n",
      "Epoch 7/100\n",
      "1/1 [==============================] - 0s 59ms/step - loss: 11.7724 - accuracy: 0.0000e+00 - val_loss: 26.1363 - val_accuracy: 0.0000e+00\n",
      "Epoch 8/100\n",
      "1/1 [==============================] - 0s 72ms/step - loss: 9.7140 - accuracy: 0.0000e+00 - val_loss: 30.1889 - val_accuracy: 0.0000e+00\n"
     ]
    }
   ],
   "source": [
    "history4 = model_4layer.fit(\n",
    "    x_train, y_train,\n",
    "    batch_size=10000,\n",
    "    epochs= 100,\n",
    "    validation_data=(x_test,y_test),\n",
    "    callbacks = [es]\n",
    ")"
   ]
  },
  {
   "cell_type": "markdown",
   "metadata": {},
   "source": [
    "### Train 5 Layer Model"
   ]
  },
  {
   "cell_type": "code",
   "execution_count": 16,
   "metadata": {},
   "outputs": [
    {
     "name": "stdout",
     "output_type": "stream",
     "text": [
      "Epoch 1/100\n",
      "1/1 [==============================] - 0s 487ms/step - loss: 1471.4043 - accuracy: 0.0000e+00 - val_loss: 1761230.7500 - val_accuracy: 0.0000e+00\n",
      "Epoch 2/100\n",
      "1/1 [==============================] - 0s 56ms/step - loss: 36270.9492 - accuracy: 0.0000e+00 - val_loss: 691347.6250 - val_accuracy: 0.0000e+00\n",
      "Epoch 3/100\n",
      "1/1 [==============================] - 0s 52ms/step - loss: 14626.6748 - accuracy: 0.0000e+00 - val_loss: 26164.8359 - val_accuracy: 0.0000e+00\n",
      "Epoch 4/100\n",
      "1/1 [==============================] - 0s 50ms/step - loss: 570.4966 - accuracy: 0.0000e+00 - val_loss: 7895.1377 - val_accuracy: 0.0000e+00\n",
      "Epoch 5/100\n",
      "1/1 [==============================] - 0s 47ms/step - loss: 161.4714 - accuracy: 0.0000e+00 - val_loss: 1651.1914 - val_accuracy: 0.0000e+00\n",
      "Epoch 6/100\n",
      "1/1 [==============================] - 0s 45ms/step - loss: 33.6370 - accuracy: 0.0000e+00 - val_loss: 202.2196 - val_accuracy: 0.0000e+00\n",
      "Epoch 7/100\n",
      "1/1 [==============================] - 0s 46ms/step - loss: 4.0386 - accuracy: 0.0000e+00 - val_loss: 14.7004 - val_accuracy: 0.0000e+00\n",
      "Epoch 8/100\n",
      "1/1 [==============================] - 0s 48ms/step - loss: 0.2736 - accuracy: 0.0000e+00 - val_loss: 0.8500 - val_accuracy: 0.0000e+00\n",
      "Epoch 9/100\n",
      "1/1 [==============================] - 0s 55ms/step - loss: 0.0133 - accuracy: 0.0000e+00 - val_loss: 0.0976 - val_accuracy: 0.0000e+00\n",
      "Epoch 10/100\n",
      "1/1 [==============================] - 0s 55ms/step - loss: 0.0030 - accuracy: 0.0000e+00 - val_loss: 0.0481 - val_accuracy: 0.0000e+00\n",
      "Epoch 11/100\n",
      "1/1 [==============================] - 0s 60ms/step - loss: 0.0028 - accuracy: 0.0000e+00 - val_loss: 0.0434 - val_accuracy: 0.0000e+00\n",
      "Epoch 12/100\n",
      "1/1 [==============================] - 0s 57ms/step - loss: 0.0028 - accuracy: 0.0000e+00 - val_loss: 0.0431 - val_accuracy: 0.0000e+00\n",
      "Epoch 13/100\n",
      "1/1 [==============================] - 0s 59ms/step - loss: 0.0028 - accuracy: 0.0000e+00 - val_loss: 0.0426 - val_accuracy: 0.0000e+00\n",
      "Epoch 14/100\n",
      "1/1 [==============================] - 0s 63ms/step - loss: 0.0027 - accuracy: 0.0000e+00 - val_loss: 0.0425 - val_accuracy: 0.0000e+00\n",
      "Epoch 15/100\n",
      "1/1 [==============================] - 0s 49ms/step - loss: 0.0027 - accuracy: 0.0000e+00 - val_loss: 0.0418 - val_accuracy: 0.0000e+00\n",
      "Epoch 16/100\n",
      "1/1 [==============================] - 0s 49ms/step - loss: 0.0027 - accuracy: 0.0000e+00 - val_loss: 0.0420 - val_accuracy: 0.0000e+00\n"
     ]
    }
   ],
   "source": [
    "history5 = model_5layer.fit(\n",
    "    x_train, y_train,\n",
    "    batch_size=10000,\n",
    "    epochs= 100,\n",
    "    validation_data=(x_test,y_test),\n",
    "    callbacks = [es]\n",
    ")"
   ]
  },
  {
   "cell_type": "code",
   "execution_count": null,
   "metadata": {},
   "outputs": [],
   "source": []
  },
  {
   "cell_type": "markdown",
   "metadata": {},
   "source": [
    "## Test Model"
   ]
  },
  {
   "cell_type": "markdown",
   "metadata": {},
   "source": [
    "### Test 1 Layer Model"
   ]
  },
  {
   "cell_type": "code",
   "execution_count": 17,
   "metadata": {},
   "outputs": [],
   "source": [
    "pred = model_1layer.predict(x_test)"
   ]
  },
  {
   "cell_type": "code",
   "execution_count": 18,
   "metadata": {},
   "outputs": [
    {
     "name": "stdout",
     "output_type": "stream",
     "text": [
      "input=[115 161] expected_output=[276] prediction=[272.54428] difference=[-3.455719] %-different from actual=[0.01252072]\n",
      "input=[198 122] expected_output=[320] prediction=[317.52304] difference=[-2.4769592] %-different from actual=[0.0077405]\n",
      "input=[166 169] expected_output=[335] prediction=[331.5582] difference=[-3.441803] %-different from actual=[0.01027404]\n",
      "input=[157  83] expected_output=[240] prediction=[238.11057] difference=[-1.8894348] %-different from actual=[0.00787264]\n",
      "input=[129 197] expected_output=[326] prediction=[321.92673] difference=[-4.0732727] %-different from actual=[0.0124947]\n",
      "input=[186 190] expected_output=[376] prediction=[372.2353] difference=[-3.7647095] %-different from actual=[0.01001253]\n",
      "input=[111 197] expected_output=[308] prediction=[303.86996] difference=[-4.1300354] %-different from actual=[0.01340921]\n",
      "input=[193 107] expected_output=[300] prediction=[297.783] difference=[-2.2170105] %-different from actual=[0.00739003]\n",
      "input=[112 161] expected_output=[273] prediction=[269.53482] difference=[-3.4651794] %-different from actual=[0.01269296]\n",
      "input=[120  63] expected_output=[183] prediction=[181.36142] difference=[-1.6385803] %-different from actual=[0.00895399]\n"
     ]
    }
   ],
   "source": [
    "for a in range(len(x_test)):\n",
    "    x = x_test[a]\n",
    "    y = y_test[a]\n",
    "    yp = pred[a][0]\n",
    "    print(f\"input={x[0]} expected_output={[y]} prediction={yp} difference={yp - y} %-different from actual={abs(yp - y)/y}\")"
   ]
  },
  {
   "cell_type": "markdown",
   "metadata": {},
   "source": [
    "### Test 2 Layer Model"
   ]
  },
  {
   "cell_type": "code",
   "execution_count": 19,
   "metadata": {},
   "outputs": [],
   "source": [
    "pred = model.predict(x_test)"
   ]
  },
  {
   "cell_type": "code",
   "execution_count": 20,
   "metadata": {},
   "outputs": [
    {
     "name": "stdout",
     "output_type": "stream",
     "text": [
      "input=[115 161] expected_output=[276] prediction=[275.0041] difference=[-0.99591064] %-different from actual=[0.00360837]\n",
      "input=[198 122] expected_output=[320] prediction=[319.3142] difference=[-0.685791] %-different from actual=[0.0021431]\n",
      "input=[166 169] expected_output=[335] prediction=[334.02222] difference=[-0.9777832] %-different from actual=[0.00291876]\n",
      "input=[157  83] expected_output=[240] prediction=[239.4754] difference=[-0.52459717] %-different from actual=[0.00218582]\n",
      "input=[129 197] expected_output=[326] prediction=[324.82672] difference=[-1.1732788] %-different from actual=[0.00359901]\n",
      "input=[186 190] expected_output=[376] prediction=[374.93292] difference=[-1.0670776] %-different from actual=[0.00283797]\n",
      "input=[111 197] expected_output=[308] prediction=[306.80508] difference=[-1.1949158] %-different from actual=[0.0038796]\n",
      "input=[193 107] expected_output=[300] prediction=[299.38916] difference=[-0.61083984] %-different from actual=[0.00203613]\n",
      "input=[112 161] expected_output=[273] prediction=[272.0005] difference=[-0.9995117] %-different from actual=[0.00366122]\n",
      "input=[120  63] expected_output=[183] prediction=[182.53885] difference=[-0.46115112] %-different from actual=[0.00251995]\n"
     ]
    }
   ],
   "source": [
    "for a in range(len(x_test)):\n",
    "    x = x_test[a]\n",
    "    y = y_test[a]\n",
    "    yp = pred[a][0]\n",
    "    print(f\"input={x[0]} expected_output={[y]} prediction={yp} difference={yp - y} %-different from actual={abs(yp - y)/y}\")"
   ]
  },
  {
   "cell_type": "markdown",
   "metadata": {},
   "source": [
    "### Test 3 Layer Model"
   ]
  },
  {
   "cell_type": "code",
   "execution_count": 21,
   "metadata": {},
   "outputs": [],
   "source": [
    "pred = model_3layer.predict(x_test)"
   ]
  },
  {
   "cell_type": "code",
   "execution_count": 22,
   "metadata": {},
   "outputs": [
    {
     "name": "stdout",
     "output_type": "stream",
     "text": [
      "input=[115 161] expected_output=[276] prediction=[273.40442] difference=[-2.595581] %-different from actual=[0.00940428]\n",
      "input=[198 122] expected_output=[320] prediction=[303.249] difference=[-16.751007] %-different from actual=[0.0523469]\n",
      "input=[166 169] expected_output=[335] prediction=[326.26376] difference=[-8.736237] %-different from actual=[0.02607832]\n",
      "input=[157  83] expected_output=[240] prediction=[225.57996] difference=[-14.420044] %-different from actual=[0.06008352]\n",
      "input=[129 197] expected_output=[326] prediction=[324.4232] difference=[-1.5768127] %-different from actual=[0.00483685]\n",
      "input=[186 190] expected_output=[376] prediction=[366.28482] difference=[-9.715179] %-different from actual=[0.02583824]\n",
      "input=[111 197] expected_output=[308] prediction=[308.81638] difference=[0.81637573] %-different from actual=[0.00265057]\n",
      "input=[193 107] expected_output=[300] prediction=[282.7137] difference=[-17.286285] %-different from actual=[0.05762095]\n",
      "input=[112 161] expected_output=[273] prediction=[270.8033] difference=[-2.1966858] %-different from actual=[0.00804647]\n",
      "input=[120  63] expected_output=[183] prediction=[171.8992] difference=[-11.1008] %-different from actual=[0.06066011]\n"
     ]
    }
   ],
   "source": [
    "for a in range(len(x_test)):\n",
    "    x = x_test[a]\n",
    "    y = y_test[a]\n",
    "    yp = pred[a][0]\n",
    "    print(f\"input={x[0]} expected_output={[y]} prediction={yp} difference={yp - y} %-different from actual={abs(yp - y)/y}\")"
   ]
  },
  {
   "cell_type": "markdown",
   "metadata": {},
   "source": [
    "### Test 4 Layer Model"
   ]
  },
  {
   "cell_type": "code",
   "execution_count": 23,
   "metadata": {},
   "outputs": [],
   "source": [
    "pred = model_4layer.predict(x_test)"
   ]
  },
  {
   "cell_type": "code",
   "execution_count": 24,
   "metadata": {},
   "outputs": [
    {
     "name": "stdout",
     "output_type": "stream",
     "text": [
      "input=[115 161] expected_output=[276] prediction=[270.23373] difference=[-5.766266] %-different from actual=[0.02089227]\n",
      "input=[198 122] expected_output=[320] prediction=[323.91028] difference=[3.9102783] %-different from actual=[0.01221962]\n",
      "input=[166 169] expected_output=[335] prediction=[332.34518] difference=[-2.6548157] %-different from actual=[0.00792482]\n",
      "input=[157  83] expected_output=[240] prediction=[244.29688] difference=[4.296875] %-different from actual=[0.01790365]\n",
      "input=[129 197] expected_output=[326] prediction=[318.0903] difference=[-7.9096985] %-different from actual=[0.02426288]\n",
      "input=[186 190] expected_output=[376] prediction=[372.98138] difference=[-3.0186157] %-different from actual=[0.00802823]\n",
      "input=[111 197] expected_output=[308] prediction=[298.74176] difference=[-9.25824] %-different from actual=[0.03005922]\n",
      "input=[193 107] expected_output=[300] prediction=[304.86575] difference=[4.865753] %-different from actual=[0.01621918]\n",
      "input=[112 161] expected_output=[273] prediction=[267.009] difference=[-5.9909973] %-different from actual=[0.02194504]\n",
      "input=[120  63] expected_output=[183] prediction=[186.29842] difference=[3.2984161] %-different from actual=[0.01802413]\n"
     ]
    }
   ],
   "source": [
    "for a in range(len(x_test)):\n",
    "    x = x_test[a]\n",
    "    y = y_test[a]\n",
    "    yp = pred[a][0]\n",
    "    print(f\"input={x[0]} expected_output={[y]} prediction={yp} difference={yp - y} %-different from actual={abs(yp - y)/y}\")"
   ]
  },
  {
   "cell_type": "markdown",
   "metadata": {},
   "source": [
    "### Test 5 Layer Model"
   ]
  },
  {
   "cell_type": "code",
   "execution_count": 25,
   "metadata": {},
   "outputs": [],
   "source": [
    "pred = model_5layer.predict(x_test)"
   ]
  },
  {
   "cell_type": "code",
   "execution_count": 26,
   "metadata": {
    "scrolled": true
   },
   "outputs": [
    {
     "name": "stdout",
     "output_type": "stream",
     "text": [
      "input=[115 161] expected_output=[276] prediction=[275.77936] difference=[-0.22064209] %-different from actual=[0.00079943]\n",
      "input=[198 122] expected_output=[320] prediction=[319.834] difference=[-0.1659851] %-different from actual=[0.0005187]\n",
      "input=[166 169] expected_output=[335] prediction=[334.77798] difference=[-0.22201538] %-different from actual=[0.00066273]\n",
      "input=[157  83] expected_output=[240] prediction=[239.87067] difference=[-0.1293335] %-different from actual=[0.00053889]\n",
      "input=[129 197] expected_output=[326] prediction=[325.74197] difference=[-0.25802612] %-different from actual=[0.00079149]\n",
      "input=[186 190] expected_output=[376] prediction=[375.75787] difference=[-0.24212646] %-different from actual=[0.00064395]\n",
      "input=[111 197] expected_output=[308] prediction=[307.7394] difference=[-0.2605896] %-different from actual=[0.00084607]\n",
      "input=[193 107] expected_output=[300] prediction=[299.84967] difference=[-0.15032959] %-different from actual=[0.0005011]\n",
      "input=[112 161] expected_output=[273] prediction=[272.77893] difference=[-0.22106934] %-different from actual=[0.00080978]\n",
      "input=[120  63] expected_output=[183] prediction=[182.88719] difference=[-0.11280823] %-different from actual=[0.00061644]\n"
     ]
    }
   ],
   "source": [
    "for a in range(len(x_test)):\n",
    "    x = x_test[a]\n",
    "    y = y_test[a]\n",
    "    yp = pred[a][0]\n",
    "    print(f\"input={x[0]} expected_output={[y]} prediction={yp} difference={yp - y} %-different from actual={abs(yp - y)/y}\")"
   ]
  }
 ],
 "metadata": {
  "kernelspec": {
   "display_name": "Python 3",
   "language": "python",
   "name": "python3"
  },
  "language_info": {
   "codemirror_mode": {
    "name": "ipython",
    "version": 3
   },
   "file_extension": ".py",
   "mimetype": "text/x-python",
   "name": "python",
   "nbconvert_exporter": "python",
   "pygments_lexer": "ipython3",
   "version": "3.8.2"
  }
 },
 "nbformat": 4,
 "nbformat_minor": 4
}
