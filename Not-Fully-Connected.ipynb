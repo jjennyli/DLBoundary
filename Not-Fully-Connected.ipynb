{
 "cells": [
  {
   "cell_type": "markdown",
   "metadata": {},
   "source": [
    "# Not Fully Connected"
   ]
  },
  {
   "cell_type": "markdown",
   "metadata": {},
   "source": [
    "## Imports\n"
   ]
  },
  {
   "cell_type": "code",
   "execution_count": 1,
   "metadata": {},
   "outputs": [],
   "source": [
    "from tensorflow.keras.layers import Input, Lambda, Dense, concatenate\n",
    "from tensorflow.keras.models import Model\n",
    "\n",
    "import matplotlib.pyplot as plt\n",
    "import random\n",
    "import numpy as np\n",
    "\n",
    "from tensorflow.keras.callbacks import EarlyStopping"
   ]
  },
  {
   "cell_type": "markdown",
   "metadata": {},
   "source": [
    "## Data"
   ]
  },
  {
   "cell_type": "code",
   "execution_count": 2,
   "metadata": {},
   "outputs": [],
   "source": [
    "def gen_data(num_examples, range_start, range_end):\n",
    "    X = []\n",
    "    y = []\n",
    "    for ex in range(num_examples):\n",
    "        num1 = int(random.random()*(range_end - range_start) + range_start)\n",
    "        num2 = int(random.random()*(range_end - range_start) + range_start)\n",
    "\n",
    "        X.append([num1,num2])        \n",
    "        y.append(num1+num2)\n",
    "    return np.array(X), np.array(y)"
   ]
  },
  {
   "cell_type": "code",
   "execution_count": 3,
   "metadata": {},
   "outputs": [
    {
     "data": {
      "text/plain": [
       "[(10, 1, 2), (10,), (10, 1, 2), (10,)]"
      ]
     },
     "execution_count": 3,
     "metadata": {},
     "output_type": "execute_result"
    }
   ],
   "source": [
    "x_train, y_train = gen_data(10, -50, 50)\n",
    "x_test, y_test = gen_data(10, 50, 200)\n",
    "\n",
    "x_train = x_train.reshape(x_train.shape[0], 1, x_train.shape[1])\n",
    "x_test = x_test.reshape(x_test.shape[0], 1,  x_test.shape[1])\n",
    "[a.shape for a in [x_train, y_train, x_test, y_test]]"
   ]
  },
  {
   "attachments": {
    "image.png": {
     "image/png": "[encoded data removed]"
    }
   },
   "cell_type": "markdown",
   "metadata": {},
   "source": [
    "## Sample Model\n",
    "![image.png](attachment:image.png)"
   ]
  },
  {
   "cell_type": "markdown",
   "metadata": {},
   "source": [
    "## Building The Model\n"
   ]
  },
  {
   "cell_type": "markdown",
   "metadata": {},
   "source": [
    "### Input Layer"
   ]
  },
  {
   "cell_type": "code",
   "execution_count": 4,
   "metadata": {},
   "outputs": [],
   "source": [
    "# Input layer of 2 neurons \n",
    "inp = Input(shape=(1,2))\n",
    "\n",
    "# get individual neurons from input layer\n",
    "\n",
    "inp_1 = Lambda(lambda x: x[:,:,0:1])(inp)  # first neuron (A)\n",
    "inp_2 = Lambda(lambda x: x[:,:,1:2])(inp) # second neuron (B)"
   ]
  },
  {
   "cell_type": "markdown",
   "metadata": {},
   "source": [
    "### Hidden Layers"
   ]
  },
  {
   "cell_type": "code",
   "execution_count": 5,
   "metadata": {},
   "outputs": [],
   "source": [
    "# Dense Layer for inp_1 (A)\n",
    "d_1 = Dense(64)(inp_1) #inp_1 is connected to this layer\n",
    "d_2 = Dense(64)(inp_2) #inp_2 is connected to this layer\n",
    "\n",
    "#concatenate output from d_1 and d_2\n",
    "d_out = concatenate([d_1, d_2])\n",
    "\n",
    "#128 layer\n",
    "d2_out = Dense(128)(d_out)"
   ]
  },
  {
   "cell_type": "markdown",
   "metadata": {},
   "source": [
    "### Output Layer"
   ]
  },
  {
   "cell_type": "code",
   "execution_count": 6,
   "metadata": {},
   "outputs": [],
   "source": [
    "o = Dense(1)(d2_out)"
   ]
  },
  {
   "cell_type": "markdown",
   "metadata": {},
   "source": [
    "### Keras Model"
   ]
  },
  {
   "cell_type": "code",
   "execution_count": 7,
   "metadata": {},
   "outputs": [
    {
     "name": "stdout",
     "output_type": "stream",
     "text": [
      "Model: \"model\"\n",
      "__________________________________________________________________________________________________\n",
      "Layer (type)                    Output Shape         Param #     Connected to                     \n",
      "==================================================================================================\n",
      "input_1 (InputLayer)            [(None, 1, 2)]       0                                            \n",
      "__________________________________________________________________________________________________\n",
      "lambda (Lambda)                 (None, 1, 1)         0           input_1[0][0]                    \n",
      "__________________________________________________________________________________________________\n",
      "lambda_1 (Lambda)               (None, 1, 1)         0           input_1[0][0]                    \n",
      "__________________________________________________________________________________________________\n",
      "dense (Dense)                   (None, 1, 64)        128         lambda[0][0]                     \n",
      "__________________________________________________________________________________________________\n",
      "dense_1 (Dense)                 (None, 1, 64)        128         lambda_1[0][0]                   \n",
      "__________________________________________________________________________________________________\n",
      "concatenate (Concatenate)       (None, 1, 128)       0           dense[0][0]                      \n",
      "                                                                 dense_1[0][0]                    \n",
      "__________________________________________________________________________________________________\n",
      "dense_2 (Dense)                 (None, 1, 128)       16512       concatenate[0][0]                \n",
      "__________________________________________________________________________________________________\n",
      "dense_3 (Dense)                 (None, 1, 1)         129         dense_2[0][0]                    \n",
      "==================================================================================================\n",
      "Total params: 16,897\n",
      "Trainable params: 16,897\n",
      "Non-trainable params: 0\n",
      "__________________________________________________________________________________________________\n"
     ]
    }
   ],
   "source": [
    "model = Model(inp, o)\n",
    "\n",
    "model.compile(\n",
    "    loss=\"MeanSquaredError\",\n",
    "    metrics=['accuracy']\n",
    ")\n",
    "\n",
    "model.summary()"
   ]
  },
  {
   "cell_type": "markdown",
   "metadata": {},
   "source": [
    "## Train Model"
   ]
  },
  {
   "cell_type": "code",
   "execution_count": 8,
   "metadata": {},
   "outputs": [
    {
     "name": "stdout",
     "output_type": "stream",
     "text": [
      "Epoch 1/100\n",
      "1/1 [==============================] - 0s 343ms/step - loss: 2307.6987 - accuracy: 0.0000e+00 - val_loss: 19747.1230 - val_accuracy: 0.0000e+00\n",
      "Epoch 2/100\n",
      "1/1 [==============================] - 0s 58ms/step - loss: 698.3929 - accuracy: 0.0000e+00 - val_loss: 6124.0771 - val_accuracy: 0.0000e+00\n",
      "Epoch 3/100\n",
      "1/1 [==============================] - 0s 42ms/step - loss: 245.3420 - accuracy: 0.0000e+00 - val_loss: 1806.1016 - val_accuracy: 0.0000e+00\n",
      "Epoch 4/100\n",
      "1/1 [==============================] - 0s 45ms/step - loss: 86.0212 - accuracy: 0.0000e+00 - val_loss: 507.0460 - val_accuracy: 0.0000e+00\n",
      "Epoch 5/100\n",
      "1/1 [==============================] - 0s 41ms/step - loss: 29.2110 - accuracy: 0.0000e+00 - val_loss: 138.4673 - val_accuracy: 0.0000e+00\n",
      "Epoch 6/100\n",
      "1/1 [==============================] - 0s 46ms/step - loss: 9.3602 - accuracy: 0.0000e+00 - val_loss: 37.4665 - val_accuracy: 0.0000e+00\n",
      "Epoch 7/100\n",
      "1/1 [==============================] - 0s 51ms/step - loss: 2.7769 - accuracy: 0.0000e+00 - val_loss: 10.2649 - val_accuracy: 0.0000e+00\n",
      "Epoch 8/100\n",
      "1/1 [==============================] - 0s 56ms/step - loss: 0.7667 - accuracy: 0.0000e+00 - val_loss: 2.9763 - val_accuracy: 0.0000e+00\n",
      "Epoch 9/100\n",
      "1/1 [==============================] - 0s 73ms/step - loss: 0.2125 - accuracy: 0.0000e+00 - val_loss: 0.9939 - val_accuracy: 0.0000e+00\n",
      "Epoch 10/100\n",
      "1/1 [==============================] - 0s 71ms/step - loss: 0.0757 - accuracy: 0.0000e+00 - val_loss: 0.4258 - val_accuracy: 0.0000e+00\n",
      "Epoch 11/100\n",
      "1/1 [==============================] - 0s 59ms/step - loss: 0.0450 - accuracy: 0.0000e+00 - val_loss: 0.2466 - val_accuracy: 0.0000e+00\n",
      "Epoch 12/100\n",
      "1/1 [==============================] - 0s 45ms/step - loss: 0.0381 - accuracy: 0.0000e+00 - val_loss: 0.1831 - val_accuracy: 0.0000e+00\n",
      "Epoch 13/100\n",
      "1/1 [==============================] - 0s 50ms/step - loss: 0.0358 - accuracy: 0.0000e+00 - val_loss: 0.1574 - val_accuracy: 0.0000e+00\n",
      "Epoch 14/100\n",
      "1/1 [==============================] - 0s 48ms/step - loss: 0.0342 - accuracy: 0.0000e+00 - val_loss: 0.1447 - val_accuracy: 0.0000e+00\n",
      "Epoch 15/100\n",
      "1/1 [==============================] - 0s 47ms/step - loss: 0.0327 - accuracy: 0.0000e+00 - val_loss: 0.1363 - val_accuracy: 0.0000e+00\n",
      "Epoch 16/100\n",
      "1/1 [==============================] - 0s 46ms/step - loss: 0.0312 - accuracy: 0.0000e+00 - val_loss: 0.1293 - val_accuracy: 0.0000e+00\n",
      "Epoch 17/100\n",
      "1/1 [==============================] - 0s 51ms/step - loss: 0.0297 - accuracy: 0.0000e+00 - val_loss: 0.1227 - val_accuracy: 0.0000e+00\n",
      "Epoch 18/100\n",
      "1/1 [==============================] - 0s 60ms/step - loss: 0.0282 - accuracy: 0.0000e+00 - val_loss: 0.1162 - val_accuracy: 0.0000e+00\n",
      "Epoch 19/100\n",
      "1/1 [==============================] - 0s 60ms/step - loss: 0.0267 - accuracy: 0.0000e+00 - val_loss: 0.1097 - val_accuracy: 0.0000e+00\n",
      "Epoch 20/100\n",
      "1/1 [==============================] - 0s 43ms/step - loss: 0.0253 - accuracy: 0.0000e+00 - val_loss: 0.1032 - val_accuracy: 0.0000e+00\n",
      "Epoch 21/100\n",
      "1/1 [==============================] - 0s 45ms/step - loss: 0.0238 - accuracy: 0.0000e+00 - val_loss: 0.0969 - val_accuracy: 0.0000e+00\n",
      "Epoch 22/100\n",
      "1/1 [==============================] - 0s 45ms/step - loss: 0.0223 - accuracy: 0.0000e+00 - val_loss: 0.0906 - val_accuracy: 0.0000e+00\n",
      "Epoch 23/100\n",
      "1/1 [==============================] - 0s 44ms/step - loss: 0.0209 - accuracy: 0.0000e+00 - val_loss: 0.0845 - val_accuracy: 0.0000e+00\n",
      "Epoch 24/100\n",
      "1/1 [==============================] - 0s 41ms/step - loss: 0.0195 - accuracy: 0.0000e+00 - val_loss: 0.0784 - val_accuracy: 0.0000e+00\n",
      "Epoch 25/100\n",
      "1/1 [==============================] - 0s 54ms/step - loss: 0.0181 - accuracy: 0.0000e+00 - val_loss: 0.0725 - val_accuracy: 0.0000e+00\n",
      "Epoch 26/100\n",
      "1/1 [==============================] - 0s 52ms/step - loss: 0.0167 - accuracy: 0.0000e+00 - val_loss: 0.0668 - val_accuracy: 0.0000e+00\n",
      "Epoch 27/100\n",
      "1/1 [==============================] - 0s 44ms/step - loss: 0.0154 - accuracy: 0.0000e+00 - val_loss: 0.0613 - val_accuracy: 0.0000e+00\n",
      "Epoch 28/100\n",
      "1/1 [==============================] - 0s 56ms/step - loss: 0.0141 - accuracy: 0.0000e+00 - val_loss: 0.0559 - val_accuracy: 0.0000e+00\n",
      "Epoch 29/100\n",
      "1/1 [==============================] - 0s 64ms/step - loss: 0.0129 - accuracy: 0.0000e+00 - val_loss: 0.0509 - val_accuracy: 0.0000e+00\n",
      "Epoch 30/100\n",
      "1/1 [==============================] - 0s 59ms/step - loss: 0.0117 - accuracy: 0.0000e+00 - val_loss: 0.0459 - val_accuracy: 0.0000e+00\n",
      "Epoch 31/100\n",
      "1/1 [==============================] - 0s 46ms/step - loss: 0.0106 - accuracy: 0.0000e+00 - val_loss: 0.0414 - val_accuracy: 0.0000e+00\n",
      "Epoch 32/100\n",
      "1/1 [==============================] - 0s 46ms/step - loss: 0.0096 - accuracy: 0.0000e+00 - val_loss: 0.0369 - val_accuracy: 0.0000e+00\n",
      "Epoch 33/100\n",
      "1/1 [==============================] - 0s 48ms/step - loss: 0.0085 - accuracy: 0.0000e+00 - val_loss: 0.0330 - val_accuracy: 0.0000e+00\n",
      "Epoch 34/100\n",
      "1/1 [==============================] - 0s 59ms/step - loss: 0.0076 - accuracy: 0.0000e+00 - val_loss: 0.0287 - val_accuracy: 0.0000e+00\n",
      "Epoch 35/100\n",
      "1/1 [==============================] - 0s 53ms/step - loss: 0.0067 - accuracy: 0.0000e+00 - val_loss: 0.0261 - val_accuracy: 0.0000e+00\n",
      "Epoch 36/100\n",
      "1/1 [==============================] - 0s 55ms/step - loss: 0.0059 - accuracy: 0.0000e+00 - val_loss: 0.0207 - val_accuracy: 0.0000e+00\n",
      "Epoch 37/100\n",
      "1/1 [==============================] - 0s 62ms/step - loss: 0.0051 - accuracy: 0.0000e+00 - val_loss: 0.0232 - val_accuracy: 0.0000e+00\n"
     ]
    }
   ],
   "source": [
    "es = EarlyStopping(monitor='val_loss', mode='min')\n",
    "\n",
    "history = model.fit(\n",
    "    x_train, y_train,\n",
    "    batch_size=10000,\n",
    "    epochs=100,\n",
    "    validation_data=(x_test,y_test),\n",
    "    callbacks = [es]\n",
    ")"
   ]
  },
  {
   "cell_type": "markdown",
   "metadata": {},
   "source": [
    "## Test Model"
   ]
  },
  {
   "cell_type": "code",
   "execution_count": 9,
   "metadata": {},
   "outputs": [],
   "source": [
    "pred = model.predict(x_test)"
   ]
  },
  {
   "cell_type": "code",
   "execution_count": 10,
   "metadata": {
    "scrolled": true
   },
   "outputs": [
    {
     "name": "stdout",
     "output_type": "stream",
     "text": [
      "input=[108 106] expected_output=[214] prediction=[213.85828] difference=[-0.14172363] %-different from actual=[0.00066226]\n",
      "input=[ 77 168] expected_output=[245] prediction=[244.85146] difference=[-0.14854431] %-different from actual=[0.0006063]\n",
      "input=[ 73 119] expected_output=[192] prediction=[191.86783] difference=[-0.13217163] %-different from actual=[0.00068839]\n",
      "input=[133 136] expected_output=[269] prediction=[268.83954] difference=[-0.16046143] %-different from actual=[0.00059651]\n",
      "input=[154 168] expected_output=[322] prediction=[321.82178] difference=[-0.17822266] %-different from actual=[0.00055349]\n",
      "input=[ 77 131] expected_output=[208] prediction=[207.86266] difference=[-0.13734436] %-different from actual=[0.00066031]\n",
      "input=[127 171] expected_output=[298] prediction=[297.83127] difference=[-0.16873169] %-different from actual=[0.00056621]\n",
      "input=[194  91] expected_output=[285] prediction=[284.82965] difference=[-0.17034912] %-different from actual=[0.00059772]\n",
      "input=[87 60] expected_output=[147] prediction=[146.88033] difference=[-0.11967468] %-different from actual=[0.00081411]\n",
      "input=[119 135] expected_output=[254] prediction=[253.84523] difference=[-0.1547699] %-different from actual=[0.00060933]\n"
     ]
    }
   ],
   "source": [
    "for a in range(len(x_test)):\n",
    "    x = x_test[a]\n",
    "    y = y_test[a]\n",
    "    yp = pred[a][0]\n",
    "    print(f\"input={x[0]} expected_output={[y]} prediction={yp} difference={yp - y} %-different from actual={abs(yp - y)/y}\")"
   ]
  },
  {
   "cell_type": "code",
   "execution_count": null,
   "metadata": {},
   "outputs": [],
   "source": []
  }
 ],
 "metadata": {
  "kernelspec": {
   "display_name": "Python 3",
   "language": "python",
   "name": "python3"
  },
  "language_info": {
   "codemirror_mode": {
    "name": "ipython",
    "version": 3
   },
   "file_extension": ".py",
   "mimetype": "text/x-python",
   "name": "python",
   "nbconvert_exporter": "python",
   "pygments_lexer": "ipython3",
   "version": "3.8.2"
  }
 },
 "nbformat": 4,
 "nbformat_minor": 4
}
