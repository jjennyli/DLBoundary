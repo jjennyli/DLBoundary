{
 "cells": [
  {
   "cell_type": "markdown",
   "metadata": {},
   "source": [
    "# Compare Models"
   ]
  },
  {
   "cell_type": "code",
   "execution_count": 1,
   "metadata": {},
   "outputs": [],
   "source": [
    "from modelcompare import ModelComparator\n",
    "from models import nondense_model, dense_model_5L, dense_model2, rnn_model, rnn_model_get_dictionary\n",
    "import arithmetic_datasets as ad\n",
    "\n",
    "import numpy as np"
   ]
  },
  {
   "cell_type": "markdown",
   "metadata": {},
   "source": [
    "#### Training Sets"
   ]
  },
  {
   "cell_type": "code",
   "execution_count": 2,
   "metadata": {
    "scrolled": true
   },
   "outputs": [],
   "source": [
    "num_examples = 20000\n",
    "rstart = 1\n",
    "rend = 10000\n",
    "\n",
    "# MULT\n",
    "mult_setX, mult_setY = ad.gen_data_mult(num_examples, rstart, rend)\n",
    "mult_setX = mult_setX.reshape(num_examples, 1, 3)\n",
    "\n",
    "# ALL\n",
    "all_setX, all_setY = ad.gen_data(num_examples, rstart, rend)\n",
    "all_setX = all_setX.reshape(num_examples, 1, 3)"
   ]
  },
  {
   "cell_type": "markdown",
   "metadata": {},
   "source": [
    "#### Testing Sets"
   ]
  },
  {
   "cell_type": "code",
   "execution_count": 3,
   "metadata": {},
   "outputs": [],
   "source": [
    "num_examples_test = 50\n",
    "rstart_test = 1\n",
    "rend_test = 10000\n",
    "\n",
    "# MULT\n",
    "mult_setX_test, mult_setY_test = ad.gen_data_mult(num_examples_test, rstart_test, rend_test)\n",
    "mult_setX_test = mult_setX_test.reshape(num_examples_test, 1, 3)\n",
    "\n",
    "# ALL\n",
    "all_setX_test, all_setY_test = ad.gen_data(num_examples_test, rstart_test, rend_test)\n",
    "all_setX_test = all_setX_test.reshape(num_examples_test, 1, 3)"
   ]
  },
  {
   "cell_type": "markdown",
   "metadata": {},
   "source": [
    "#### RNN Dictionary and Reverse Dictionary\n"
   ]
  },
  {
   "cell_type": "code",
   "execution_count": 4,
   "metadata": {},
   "outputs": [],
   "source": [
    "dictionary, reverse_dictionary = rnn_model_get_dictionary(mult_setX, mult_setY, all_setX, all_setY, mult_setX_test, mult_setY_test, all_setX_test, all_setY_test)"
   ]
  },
  {
   "cell_type": "markdown",
   "metadata": {},
   "source": [
    "### Build ModelComparator"
   ]
  },
  {
   "cell_type": "code",
   "execution_count": 8,
   "metadata": {},
   "outputs": [],
   "source": [
    "mc = ModelComparator()\n",
    "\n",
    "mc.add_model(\"nondense_model\", nondense_model)\n",
    "mc.add_model(\"dense_model\", dense_model_5L)\n",
    "mc.add_model(\"dense_model v2\", dense_model2)\n",
    "mc.add_model(\"rnn_model\", rnn_model(dictionary))\n",
    "\n",
    "mc.add_training_set(\"multiplication\", (mult_setX, mult_setY))\n",
    "mc.add_training_set(\"all operations (asmd)\", (all_setX, all_setY))\n",
    "\n",
    "mc.add_testing_set(\"multiplication\", (mult_setX_test, mult_setY_test))\n",
    "mc.add_testing_set(\"all operations (asmd)\", (all_setX_test, all_setY_test))\n",
    "\n",
    "mc.set_smc_params(\"checkpoints\", 10)"
   ]
  },
  {
   "cell_type": "markdown",
   "metadata": {},
   "source": [
    "### Train Models"
   ]
  },
  {
   "cell_type": "code",
   "execution_count": 9,
   "metadata": {
    "scrolled": true
   },
   "outputs": [
    {
     "name": "stdout",
     "output_type": "stream",
     "text": [
      "MODEL nondense_model TRAINING ON DATASET multiplication\n",
      "Restoring from checkpoints/multiplication/nondense_model/0.model\n",
      "Epoch 1/100\n",
      "1/1 [==============================] - ETA: 0s - loss: 1119851720474624.0000 - accuracy: 0.0000e+00INFO:tensorflow:Assets written to: checkpoints/multiplication/nondense_model/0.model\\assets\n"
     ]
    },
    {
     "name": "stderr",
     "output_type": "stream",
     "text": [
      "INFO:tensorflow:Assets written to: checkpoints/multiplication/nondense_model/0.model\\assets\n"
     ]
    },
    {
     "name": "stdout",
     "output_type": "stream",
     "text": [
      "model saved: checkpoints/multiplication/nondense_model/0.model\n",
      "1/1 [==============================] - 8s 8s/step - loss: 1119851720474624.0000 - accuracy: 0.0000e+00\n",
      "Epoch 2/100\n",
      "1/1 [==============================] - 0s 6ms/step - loss: 1119645696262144.0000 - accuracy: 0.0000e+00\n",
      "Epoch 3/100\n",
      "1/1 [==============================] - 0s 4ms/step - loss: 1119489198391296.0000 - accuracy: 0.0000e+00\n",
      "Epoch 4/100\n",
      "1/1 [==============================] - 0s 3ms/step - loss: 1119350350151680.0000 - accuracy: 0.0000e+00\n",
      "Epoch 5/100\n",
      "1/1 [==============================] - 0s 2ms/step - loss: 1119219957628928.0000 - accuracy: 0.0000e+00\n",
      "Epoch 6/100\n",
      "1/1 [==============================] - 0s 2ms/step - loss: 1119093591638016.0000 - accuracy: 0.0000e+00\n",
      "Epoch 7/100\n",
      "1/1 [==============================] - 0s 7ms/step - loss: 1118968836259840.0000 - accuracy: 0.0000e+00\n",
      "Epoch 8/100\n",
      "1/1 [==============================] - 0s 12ms/step - loss: 1118844147990528.0000 - accuracy: 0.0000e+00\n",
      "Epoch 9/100\n",
      "1/1 [==============================] - 0s 5ms/step - loss: 1118717983326208.0000 - accuracy: 0.0000e+00\n",
      "Epoch 10/100\n",
      "1/1 [==============================] - 0s 4ms/step - loss: 1118590476484608.0000 - accuracy: 0.0000e+00\n",
      "Epoch 11/100\n",
      "1/1 [==============================] - ETA: 0s - loss: 1118460620832768.0000 - accuracy: 0.0000e+00INFO:tensorflow:Assets written to: checkpoints/multiplication/nondense_model/10.model\\assets\n"
     ]
    },
    {
     "name": "stderr",
     "output_type": "stream",
     "text": [
      "INFO:tensorflow:Assets written to: checkpoints/multiplication/nondense_model/10.model\\assets\n"
     ]
    },
    {
     "name": "stdout",
     "output_type": "stream",
     "text": [
      "model saved: checkpoints/multiplication/nondense_model/10.model\n",
      "1/1 [==============================] - 6s 6s/step - loss: 1118460620832768.0000 - accuracy: 0.0000e+00\n",
      "Epoch 12/100\n",
      "1/1 [==============================] - 0s 3ms/step - loss: 1118328215044096.0000 - accuracy: 0.0000e+00\n",
      "Epoch 13/100\n",
      "1/1 [==============================] - 0s 8ms/step - loss: 1118193192009728.0000 - accuracy: 0.0000e+00\n",
      "Epoch 14/100\n",
      "1/1 [==============================] - 0s 989us/step - loss: 1118054679314432.0000 - accuracy: 0.0000e+00\n",
      "Epoch 15/100\n",
      "1/1 [==============================] - 0s 3ms/step - loss: 1117913079611392.0000 - accuracy: 0.0000e+00\n",
      "Epoch 16/100\n",
      "1/1 [==============================] - 0s 2ms/step - loss: 1117767923138560.0000 - accuracy: 0.0000e+00\n",
      "Epoch 17/100\n",
      "1/1 [==============================] - 0s 4ms/step - loss: 1117619142787072.0000 - accuracy: 0.0000e+00\n",
      "Epoch 18/100\n",
      "1/1 [==============================] - 0s 3ms/step - loss: 1117466738556928.0000 - accuracy: 0.0000e+00\n",
      "Epoch 19/100\n",
      "1/1 [==============================] - 0s 12ms/step - loss: 1117310509121536.0000 - accuracy: 0.0000e+00\n",
      "Epoch 20/100\n",
      "1/1 [==============================] - 0s 5ms/step - loss: 1117150186045440.0000 - accuracy: 0.0000e+00\n",
      "Epoch 21/100\n",
      "1/1 [==============================] - ETA: 0s - loss: 1116986373308416.0000 - accuracy: 0.0000e+00INFO:tensorflow:Assets written to: checkpoints/multiplication/nondense_model/20.model\\assets\n"
     ]
    },
    {
     "name": "stderr",
     "output_type": "stream",
     "text": [
      "INFO:tensorflow:Assets written to: checkpoints/multiplication/nondense_model/20.model\\assets\n"
     ]
    },
    {
     "name": "stdout",
     "output_type": "stream",
     "text": [
      "model saved: checkpoints/multiplication/nondense_model/20.model\n",
      "1/1 [==============================] - 9s 9s/step - loss: 1116986373308416.0000 - accuracy: 0.0000e+00\n",
      "Epoch 22/100\n",
      "1/1 [==============================] - 0s 8ms/step - loss: 1116818131386368.0000 - accuracy: 0.0000e+00\n",
      "Epoch 23/100\n",
      "1/1 [==============================] - 0s 3ms/step - loss: 1116645997150208.0000 - accuracy: 0.0000e+00\n",
      "Epoch 24/100\n",
      "1/1 [==============================] - 0s 6ms/step - loss: 1116469635055616.0000 - accuracy: 0.0000e+00\n",
      "Epoch 25/100\n",
      "1/1 [==============================] - 0s 4ms/step - loss: 1116288977993728.0000 - accuracy: 0.0000e+00\n",
      "Epoch 26/100\n",
      "1/1 [==============================] - 0s 4ms/step - loss: 1116104160182272.0000 - accuracy: 0.0000e+00\n",
      "Epoch 27/100\n",
      "1/1 [==============================] - 0s 6ms/step - loss: 1115914778968064.0000 - accuracy: 0.0000e+00\n",
      "Epoch 28/100\n",
      "1/1 [==============================] - 0s 7ms/step - loss: 1115720968568832.0000 - accuracy: 0.0000e+00\n",
      "Epoch 29/100\n",
      "1/1 [==============================] - 0s 4ms/step - loss: 1115522728984576.0000 - accuracy: 0.0000e+00\n",
      "Epoch 30/100\n",
      "1/1 [==============================] - 0s 998us/step - loss: 1115319993106432.0000 - accuracy: 0.0000e+00\n",
      "Epoch 31/100\n",
      "1/1 [==============================] - ETA: 0s - loss: 1115112828043264.0000 - accuracy: 0.0000e+00INFO:tensorflow:Assets written to: checkpoints/multiplication/nondense_model/30.model\\assets\n"
     ]
    },
    {
     "name": "stderr",
     "output_type": "stream",
     "text": [
      "INFO:tensorflow:Assets written to: checkpoints/multiplication/nondense_model/30.model\\assets\n"
     ]
    },
    {
     "name": "stdout",
     "output_type": "stream",
     "text": [
      "model saved: checkpoints/multiplication/nondense_model/30.model\n",
      "1/1 [==============================] - 7s 7s/step - loss: 1115112828043264.0000 - accuracy: 0.0000e+00\n",
      "Epoch 32/100\n",
      "1/1 [==============================] - 0s 6ms/step - loss: 1114900696924160.0000 - accuracy: 0.0000e+00\n",
      "Epoch 33/100\n",
      "1/1 [==============================] - 0s 7ms/step - loss: 1114683801075712.0000 - accuracy: 0.0000e+00\n",
      "Epoch 34/100\n",
      "1/1 [==============================] - 0s 4ms/step - loss: 1114462207606784.0000 - accuracy: 0.0000e+00\n",
      "Epoch 35/100\n",
      "1/1 [==============================] - 0s 10ms/step - loss: 1114235648081920.0000 - accuracy: 0.0000e+00\n",
      "Epoch 36/100\n",
      "1/1 [==============================] - 0s 9ms/step - loss: 1114004055392256.0000 - accuracy: 0.0000e+00\n",
      "Epoch 37/100\n",
      "1/1 [==============================] - 0s 19ms/step - loss: 1113767697973248.0000 - accuracy: 0.0000e+00\n",
      "Epoch 38/100\n",
      "1/1 [==============================] - 0s 6ms/step - loss: 1113526240280576.0000 - accuracy: 0.0000e+00\n",
      "Epoch 39/100\n",
      "1/1 [==============================] - 0s 6ms/step - loss: 1113279682314240.0000 - accuracy: 0.0000e+00\n",
      "Epoch 40/100\n",
      "1/1 [==============================] - 0s 3ms/step - loss: 1113027822747648.0000 - accuracy: 0.0000e+00\n",
      "Epoch 41/100\n",
      "1/1 [==============================] - ETA: 0s - loss: 1112770862907392.0000 - accuracy: 0.0000e+00INFO:tensorflow:Assets written to: checkpoints/multiplication/nondense_model/40.model\\assets\n"
     ]
    },
    {
     "name": "stderr",
     "output_type": "stream",
     "text": [
      "INFO:tensorflow:Assets written to: checkpoints/multiplication/nondense_model/40.model\\assets\n"
     ]
    },
    {
     "name": "stdout",
     "output_type": "stream",
     "text": [
      "model saved: checkpoints/multiplication/nondense_model/40.model\n",
      "1/1 [==============================] - 6s 6s/step - loss: 1112770862907392.0000 - accuracy: 0.0000e+00\n",
      "Epoch 42/100\n",
      "1/1 [==============================] - 0s 998us/step - loss: 1112508869902336.0000 - accuracy: 0.0000e+00\n",
      "Epoch 43/100\n",
      "1/1 [==============================] - 0s 998us/step - loss: 1112241441079296.0000 - accuracy: 0.0000e+00\n",
      "Epoch 44/100\n",
      "1/1 [==============================] - 0s 3ms/step - loss: 1111968844873728.0000 - accuracy: 0.0000e+00\n",
      "Epoch 45/100\n",
      "1/1 [==============================] - 0s 998us/step - loss: 1111691215503360.0000 - accuracy: 0.0000e+00\n",
      "Epoch 46/100\n",
      "1/1 [==============================] - 0s 5ms/step - loss: 1111408016097280.0000 - accuracy: 0.0000e+00\n",
      "Epoch 47/100\n",
      "1/1 [==============================] - 0s 7ms/step - loss: 1111119582199808.0000 - accuracy: 0.0000e+00\n",
      "Epoch 48/100\n",
      "1/1 [==============================] - 0s 4ms/step - loss: 1110826048028672.0000 - accuracy: 0.0000e+00\n",
      "Epoch 49/100\n",
      "1/1 [==============================] - 0s 5ms/step - loss: 1110526742495232.0000 - accuracy: 0.0000e+00\n",
      "Epoch 50/100\n",
      "1/1 [==============================] - 0s 3ms/step - loss: 1110222202470400.0000 - accuracy: 0.0000e+00\n",
      "Epoch 51/100\n",
      "1/1 [==============================] - ETA: 0s - loss: 1109912226627584.0000 - accuracy: 0.0000e+00INFO:tensorflow:Assets written to: checkpoints/multiplication/nondense_model/50.model\\assets\n"
     ]
    },
    {
     "name": "stderr",
     "output_type": "stream",
     "text": [
      "INFO:tensorflow:Assets written to: checkpoints/multiplication/nondense_model/50.model\\assets\n"
     ]
    },
    {
     "name": "stdout",
     "output_type": "stream",
     "text": [
      "model saved: checkpoints/multiplication/nondense_model/50.model\n",
      "1/1 [==============================] - 3s 3s/step - loss: 1109912226627584.0000 - accuracy: 0.0000e+00\n",
      "Epoch 52/100\n",
      "1/1 [==============================] - 0s 2ms/step - loss: 1109596814966784.0000 - accuracy: 0.0000e+00\n",
      "Epoch 53/100\n",
      "1/1 [==============================] - 0s 5ms/step - loss: 1109275833270272.0000 - accuracy: 0.0000e+00\n",
      "Epoch 54/100\n",
      "1/1 [==============================] - 0s 4ms/step - loss: 1108949415755776.0000 - accuracy: 0.0000e+00\n",
      "Epoch 55/100\n",
      "1/1 [==============================] - 0s 5ms/step - loss: 1108617562423296.0000 - accuracy: 0.0000e+00\n",
      "Epoch 56/100\n",
      "1/1 [==============================] - 0s 3ms/step - loss: 1108280004837376.0000 - accuracy: 0.0000e+00\n",
      "Epoch 57/100\n",
      "1/1 [==============================] - 0s 2ms/step - loss: 1107936944324608.0000 - accuracy: 0.0000e+00\n",
      "Epoch 58/100\n",
      "1/1 [==============================] - 0s 5ms/step - loss: 1107588179558400.0000 - accuracy: 0.0000e+00\n",
      "Epoch 59/100\n",
      "1/1 [==============================] - 0s 4ms/step - loss: 1107233844756480.0000 - accuracy: 0.0000e+00\n",
      "Epoch 60/100\n",
      "1/1 [==============================] - 0s 2ms/step - loss: 1106873872809984.0000 - accuracy: 0.0000e+00\n",
      "Epoch 61/100\n",
      "1/1 [==============================] - ETA: 0s - loss: 1106507793956864.0000 - accuracy: 0.0000e+00INFO:tensorflow:Assets written to: checkpoints/multiplication/nondense_model/60.model\\assets\n"
     ]
    },
    {
     "name": "stderr",
     "output_type": "stream",
     "text": [
      "INFO:tensorflow:Assets written to: checkpoints/multiplication/nondense_model/60.model\\assets\n"
     ]
    },
    {
     "name": "stdout",
     "output_type": "stream",
     "text": [
      "model saved: checkpoints/multiplication/nondense_model/60.model\n",
      "1/1 [==============================] - 4s 4s/step - loss: 1106507793956864.0000 - accuracy: 0.0000e+00\n",
      "Epoch 62/100\n",
      "1/1 [==============================] - 0s 2ms/step - loss: 1106136614830080.0000 - accuracy: 0.0000e+00\n",
      "Epoch 63/100\n",
      "1/1 [==============================] - 0s 2ms/step - loss: 1105759060361216.0000 - accuracy: 0.0000e+00\n",
      "Epoch 64/100\n",
      "1/1 [==============================] - 0s 997us/step - loss: 1105375868747776.0000 - accuracy: 0.0000e+00\n",
      "Epoch 65/100\n",
      "1/1 [==============================] - 0s 5ms/step - loss: 1104987107098624.0000 - accuracy: 0.0000e+00\n",
      "Epoch 66/100\n",
      "1/1 [==============================] - 0s 11ms/step - loss: 1104592037216256.0000 - accuracy: 0.0000e+00\n",
      "Epoch 67/100\n",
      "1/1 [==============================] - 0s 3ms/step - loss: 1104191263080448.0000 - accuracy: 0.0000e+00\n",
      "Epoch 68/100\n",
      "1/1 [==============================] - 0s 9ms/step - loss: 1103784650473472.0000 - accuracy: 0.0000e+00\n",
      "Epoch 69/100\n",
      "1/1 [==============================] - 0s 2ms/step - loss: 1103372266504192.0000 - accuracy: 0.0000e+00\n",
      "Epoch 70/100\n",
      "1/1 [==============================] - 0s 7ms/step - loss: 1102953305866240.0000 - accuracy: 0.0000e+00\n",
      "Epoch 71/100\n",
      "1/1 [==============================] - ETA: 0s - loss: 1102528708083712.0000 - accuracy: 0.0000e+00INFO:tensorflow:Assets written to: checkpoints/multiplication/nondense_model/70.model\\assets\n"
     ]
    },
    {
     "name": "stderr",
     "output_type": "stream",
     "text": [
      "INFO:tensorflow:Assets written to: checkpoints/multiplication/nondense_model/70.model\\assets\n"
     ]
    },
    {
     "name": "stdout",
     "output_type": "stream",
     "text": [
      "model saved: checkpoints/multiplication/nondense_model/70.model\n",
      "1/1 [==============================] - 5s 5s/step - loss: 1102528708083712.0000 - accuracy: 0.0000e+00\n",
      "Epoch 72/100\n",
      "1/1 [==============================] - 0s 961us/step - loss: 1102097869176832.0000 - accuracy: 0.0000e+00\n",
      "Epoch 73/100\n",
      "1/1 [==============================] - 0s 999us/step - loss: 1101661191798784.0000 - accuracy: 0.0000e+00\n",
      "Epoch 74/100\n",
      "1/1 [==============================] - 0s 997us/step - loss: 1101218071969792.0000 - accuracy: 0.0000e+00\n",
      "Epoch 75/100\n",
      "1/1 [==============================] - 0s 997us/step - loss: 1100768912343040.0000 - accuracy: 0.0000e+00\n",
      "Epoch 76/100\n",
      "1/1 [==============================] - 0s 7ms/step - loss: 1100313578700800.0000 - accuracy: 0.0000e+00\n",
      "Epoch 77/100\n",
      "1/1 [==============================] - 0s 7ms/step - loss: 1099852138151936.0000 - accuracy: 0.0000e+00\n",
      "Epoch 78/100\n",
      "1/1 [==============================] - 0s 6ms/step - loss: 1099384322260992.0000 - accuracy: 0.0000e+00\n",
      "Epoch 79/100\n",
      "1/1 [==============================] - 0s 7ms/step - loss: 1098910198136832.0000 - accuracy: 0.0000e+00\n",
      "Epoch 80/100\n",
      "1/1 [==============================] - 0s 14ms/step - loss: 1098429899997184.0000 - accuracy: 0.0000e+00\n",
      "Epoch 81/100\n",
      "1/1 [==============================] - ETA: 0s - loss: 1097943293624320.0000 - accuracy: 0.0000e+00INFO:tensorflow:Assets written to: checkpoints/multiplication/nondense_model/80.model\\assets\n"
     ]
    },
    {
     "name": "stderr",
     "output_type": "stream",
     "text": [
      "INFO:tensorflow:Assets written to: checkpoints/multiplication/nondense_model/80.model\\assets\n"
     ]
    },
    {
     "name": "stdout",
     "output_type": "stream",
     "text": [
      "model saved: checkpoints/multiplication/nondense_model/80.model\n",
      "1/1 [==============================] - 4s 4s/step - loss: 1097943293624320.0000 - accuracy: 0.0000e+00\n",
      "Epoch 82/100\n",
      "1/1 [==============================] - 0s 996us/step - loss: 1097450043473920.0000 - accuracy: 0.0000e+00\n",
      "Epoch 83/100\n",
      "1/1 [==============================] - 0s 2ms/step - loss: 1096950417981440.0000 - accuracy: 0.0000e+00\n",
      "Epoch 84/100\n",
      "1/1 [==============================] - 0s 997us/step - loss: 1096444752691200.0000 - accuracy: 0.0000e+00\n",
      "Epoch 85/100\n",
      "1/1 [==============================] - 0s 997us/step - loss: 1095932510732288.0000 - accuracy: 0.0000e+00\n",
      "Epoch 86/100\n",
      "1/1 [==============================] - 0s 3ms/step - loss: 1095413557886976.0000 - accuracy: 0.0000e+00\n",
      "Epoch 87/100\n",
      "1/1 [==============================] - 0s 6ms/step - loss: 1094888095481856.0000 - accuracy: 0.0000e+00\n",
      "Epoch 88/100\n",
      "1/1 [==============================] - 0s 12ms/step - loss: 1094356257734656.0000 - accuracy: 0.0000e+00\n",
      "Epoch 89/100\n",
      "1/1 [==============================] - 0s 3ms/step - loss: 1093817709101056.0000 - accuracy: 0.0000e+00\n",
      "Epoch 90/100\n",
      "1/1 [==============================] - 0s 5ms/step - loss: 1093272650907648.0000 - accuracy: 0.0000e+00\n",
      "Epoch 91/100\n",
      "1/1 [==============================] - ETA: 0s - loss: 1092720814718976.0000 - accuracy: 0.0000e+00INFO:tensorflow:Assets written to: checkpoints/multiplication/nondense_model/90.model\\assets\n"
     ]
    },
    {
     "name": "stderr",
     "output_type": "stream",
     "text": [
      "INFO:tensorflow:Assets written to: checkpoints/multiplication/nondense_model/90.model\\assets\n"
     ]
    },
    {
     "name": "stdout",
     "output_type": "stream",
     "text": [
      "model saved: checkpoints/multiplication/nondense_model/90.model\n",
      "1/1 [==============================] - 6s 6s/step - loss: 1092720814718976.0000 - accuracy: 0.0000e+00\n",
      "Epoch 92/100\n",
      "1/1 [==============================] - 0s 4ms/step - loss: 1092162267643904.0000 - accuracy: 0.0000e+00\n",
      "Epoch 93/100\n",
      "1/1 [==============================] - 0s 8ms/step - loss: 1091597345226752.0000 - accuracy: 0.0000e+00\n",
      "Epoch 94/100\n",
      "1/1 [==============================] - 0s 8ms/step - loss: 1091025711923200.0000 - accuracy: 0.0000e+00\n",
      "Epoch 95/100\n",
      "1/1 [==============================] - 0s 3ms/step - loss: 1090446897971200.0000 - accuracy: 0.0000e+00\n",
      "Epoch 96/100\n",
      "1/1 [==============================] - 0s 3ms/step - loss: 1089861574459392.0000 - accuracy: 0.0000e+00\n",
      "Epoch 97/100\n",
      "1/1 [==============================] - 0s 997us/step - loss: 1089269540061184.0000 - accuracy: 0.0000e+00\n",
      "Epoch 98/100\n",
      "1/1 [==============================] - 0s 11ms/step - loss: 1088670459232256.0000 - accuracy: 0.0000e+00\n",
      "Epoch 99/100\n",
      "1/1 [==============================] - 0s 5ms/step - loss: 1088064734625792.0000 - accuracy: 0.0000e+00\n",
      "Epoch 100/100\n",
      "1/1 [==============================] - 0s 996us/step - loss: 1087451963588608.0000 - accuracy: 0.0000e+00\n",
      "MODEL nondense_model TRAINING ON DATASET all operations (asmd)\n",
      "Epoch 1/100\n",
      "1/1 [==============================] - ETA: 0s - loss: 274817592852480.0000 - accuracy: 5.0000e-05INFO:tensorflow:Assets written to: checkpoints/multiplication/nondense_model/0.model\\assets\n"
     ]
    },
    {
     "name": "stderr",
     "output_type": "stream",
     "text": [
      "INFO:tensorflow:Assets written to: checkpoints/multiplication/nondense_model/0.model\\assets\n"
     ]
    },
    {
     "name": "stdout",
     "output_type": "stream",
     "text": [
      "model saved: checkpoints/multiplication/nondense_model/0.model\n",
      "INFO:tensorflow:Assets written to: checkpoints/all operations (asmd)/nondense_model/0.model\\assets\n"
     ]
    },
    {
     "name": "stderr",
     "output_type": "stream",
     "text": [
      "INFO:tensorflow:Assets written to: checkpoints/all operations (asmd)/nondense_model/0.model\\assets\n"
     ]
    },
    {
     "name": "stdout",
     "output_type": "stream",
     "text": [
      "model saved: checkpoints/all operations (asmd)/nondense_model/0.model\n",
      "1/1 [==============================] - 10s 10s/step - loss: 274817592852480.0000 - accuracy: 5.0000e-05\n",
      "Epoch 2/100\n",
      "1/1 [==============================] - 0s 999us/step - loss: 274768452386816.0000 - accuracy: 5.0000e-05\n",
      "Epoch 3/100\n",
      "1/1 [==============================] - 0s 6ms/step - loss: 274731760615424.0000 - accuracy: 5.0000e-05\n",
      "Epoch 4/100\n",
      "1/1 [==============================] - 0s 2ms/step - loss: 274699397365760.0000 - accuracy: 5.0000e-05\n",
      "Epoch 5/100\n",
      "1/1 [==============================] - 0s 998us/step - loss: 274669047382016.0000 - accuracy: 5.0000e-05\n",
      "Epoch 6/100\n",
      "1/1 [==============================] - 0s 2ms/step - loss: 274639636922368.0000 - accuracy: 5.0000e-05\n",
      "Epoch 7/100\n",
      "1/1 [==============================] - 0s 6ms/step - loss: 274610612338688.0000 - accuracy: 5.0000e-05\n",
      "Epoch 8/100\n",
      "1/1 [==============================] - 0s 5ms/step - loss: 274581755527168.0000 - accuracy: 5.0000e-05\n",
      "Epoch 9/100\n",
      "1/1 [==============================] - 0s 2ms/step - loss: 274552730943488.0000 - accuracy: 5.0000e-05\n",
      "Epoch 10/100\n",
      "1/1 [==============================] - 0s 996us/step - loss: 274523404369920.0000 - accuracy: 5.0000e-05\n",
      "Epoch 11/100\n",
      "1/1 [==============================] - ETA: 0s - loss: 274493658365952.0000 - accuracy: 5.0000e-05INFO:tensorflow:Assets written to: checkpoints/multiplication/nondense_model/10.model\\assets\n"
     ]
    },
    {
     "name": "stderr",
     "output_type": "stream",
     "text": [
      "INFO:tensorflow:Assets written to: checkpoints/multiplication/nondense_model/10.model\\assets\n"
     ]
    },
    {
     "name": "stdout",
     "output_type": "stream",
     "text": [
      "model saved: checkpoints/multiplication/nondense_model/10.model\n",
      "INFO:tensorflow:Assets written to: checkpoints/all operations (asmd)/nondense_model/10.model\\assets\n"
     ]
    },
    {
     "name": "stderr",
     "output_type": "stream",
     "text": [
      "INFO:tensorflow:Assets written to: checkpoints/all operations (asmd)/nondense_model/10.model\\assets\n"
     ]
    },
    {
     "name": "stdout",
     "output_type": "stream",
     "text": [
      "model saved: checkpoints/all operations (asmd)/nondense_model/10.model\n",
      "1/1 [==============================] - 10s 10s/step - loss: 274493658365952.0000 - accuracy: 5.0000e-05\n",
      "Epoch 12/100\n",
      "1/1 [==============================] - 0s 6ms/step - loss: 274463392268288.0000 - accuracy: 5.0000e-05\n",
      "Epoch 13/100\n",
      "1/1 [==============================] - 0s 8ms/step - loss: 274432488636416.0000 - accuracy: 5.0000e-05\n",
      "Epoch 14/100\n",
      "1/1 [==============================] - 0s 8ms/step - loss: 274400930693120.0000 - accuracy: 5.0000e-05\n",
      "Epoch 15/100\n",
      "1/1 [==============================] - 0s 8ms/step - loss: 274368668106752.0000 - accuracy: 5.0000e-05\n",
      "Epoch 16/100\n",
      "1/1 [==============================] - 0s 3ms/step - loss: 274335633768448.0000 - accuracy: 5.0000e-05\n",
      "Epoch 17/100\n",
      "1/1 [==============================] - 0s 5ms/step - loss: 274301760569344.0000 - accuracy: 5.0000e-05\n",
      "Epoch 18/100\n",
      "1/1 [==============================] - 0s 4ms/step - loss: 274267014955008.0000 - accuracy: 5.0000e-05\n",
      "Epoch 19/100\n",
      "1/1 [==============================] - 0s 8ms/step - loss: 274231447257088.0000 - accuracy: 5.0000e-05\n",
      "Epoch 20/100\n",
      "1/1 [==============================] - 0s 9ms/step - loss: 274194940035072.0000 - accuracy: 5.0000e-05\n",
      "Epoch 21/100\n",
      "1/1 [==============================] - ETA: 0s - loss: 274157510066176.0000 - accuracy: 5.0000e-05INFO:tensorflow:Assets written to: checkpoints/multiplication/nondense_model/20.model\\assets\n"
     ]
    },
    {
     "name": "stderr",
     "output_type": "stream",
     "text": [
      "INFO:tensorflow:Assets written to: checkpoints/multiplication/nondense_model/20.model\\assets\n"
     ]
    },
    {
     "name": "stdout",
     "output_type": "stream",
     "text": [
      "model saved: checkpoints/multiplication/nondense_model/20.model\n",
      "INFO:tensorflow:Assets written to: checkpoints/all operations (asmd)/nondense_model/20.model\\assets\n"
     ]
    },
    {
     "name": "stderr",
     "output_type": "stream",
     "text": [
      "INFO:tensorflow:Assets written to: checkpoints/all operations (asmd)/nondense_model/20.model\\assets\n"
     ]
    },
    {
     "name": "stdout",
     "output_type": "stream",
     "text": [
      "model saved: checkpoints/all operations (asmd)/nondense_model/20.model\n",
      "1/1 [==============================] - 11s 11s/step - loss: 274157510066176.0000 - accuracy: 5.0000e-05\n",
      "Epoch 22/100\n",
      "1/1 [==============================] - 0s 5ms/step - loss: 274119056687104.0000 - accuracy: 5.0000e-05\n",
      "Epoch 23/100\n",
      "1/1 [==============================] - 0s 2ms/step - loss: 274079579897856.0000 - accuracy: 5.0000e-05\n",
      "Epoch 24/100\n",
      "1/1 [==============================] - 0s 7ms/step - loss: 274039113252864.0000 - accuracy: 5.0000e-05\n",
      "Epoch 25/100\n",
      "1/1 [==============================] - 0s 5ms/step - loss: 273997589643264.0000 - accuracy: 5.0000e-05\n",
      "Epoch 26/100\n",
      "1/1 [==============================] - 0s 5ms/step - loss: 273955025846272.0000 - accuracy: 5.0000e-05\n",
      "Epoch 27/100\n",
      "1/1 [==============================] - 0s 2ms/step - loss: 273911405084672.0000 - accuracy: 5.0000e-05\n",
      "Epoch 28/100\n",
      "1/1 [==============================] - 0s 6ms/step - loss: 273866626695168.0000 - accuracy: 5.0000e-05\n",
      "Epoch 29/100\n",
      "1/1 [==============================] - 0s 6ms/step - loss: 273820774563840.0000 - accuracy: 5.0000e-05\n",
      "Epoch 30/100\n",
      "1/1 [==============================] - 0s 4ms/step - loss: 273773831913472.0000 - accuracy: 5.0000e-05\n",
      "Epoch 31/100\n",
      "1/1 [==============================] - ETA: 0s - loss: 273725731635200.0000 - accuracy: 5.0000e-05INFO:tensorflow:Assets written to: checkpoints/multiplication/nondense_model/30.model\\assets\n"
     ]
    },
    {
     "name": "stderr",
     "output_type": "stream",
     "text": [
      "INFO:tensorflow:Assets written to: checkpoints/multiplication/nondense_model/30.model\\assets\n"
     ]
    },
    {
     "name": "stdout",
     "output_type": "stream",
     "text": [
      "model saved: checkpoints/multiplication/nondense_model/30.model\n",
      "INFO:tensorflow:Assets written to: checkpoints/all operations (asmd)/nondense_model/30.model\\assets\n"
     ]
    },
    {
     "name": "stderr",
     "output_type": "stream",
     "text": [
      "INFO:tensorflow:Assets written to: checkpoints/all operations (asmd)/nondense_model/30.model\\assets\n"
     ]
    },
    {
     "name": "stdout",
     "output_type": "stream",
     "text": [
      "model saved: checkpoints/all operations (asmd)/nondense_model/30.model\n",
      "1/1 [==============================] - 9s 9s/step - loss: 273725731635200.0000 - accuracy: 5.0000e-05\n",
      "Epoch 32/100\n",
      "1/1 [==============================] - 0s 7ms/step - loss: 273676557615104.0000 - accuracy: 5.0000e-05\n",
      "Epoch 33/100\n",
      "1/1 [==============================] - 0s 3ms/step - loss: 273626175635456.0000 - accuracy: 5.0000e-05\n",
      "Epoch 34/100\n",
      "1/1 [==============================] - 0s 10ms/step - loss: 273574602473472.0000 - accuracy: 5.0000e-05\n",
      "Epoch 35/100\n",
      "1/1 [==============================] - 0s 8ms/step - loss: 273521871683584.0000 - accuracy: 5.0000e-05\n",
      "Epoch 36/100\n",
      "1/1 [==============================] - 0s 7ms/step - loss: 273467949711360.0000 - accuracy: 5.0000e-05\n",
      "Epoch 37/100\n",
      "1/1 [==============================] - 0s 4ms/step - loss: 273412803002368.0000 - accuracy: 5.0000e-05\n",
      "Epoch 38/100\n",
      "1/1 [==============================] - 0s 5ms/step - loss: 273356431556608.0000 - accuracy: 5.0000e-05\n",
      "Epoch 39/100\n",
      "1/1 [==============================] - 0s 6ms/step - loss: 273298902482944.0000 - accuracy: 5.0000e-05\n",
      "Epoch 40/100\n",
      "1/1 [==============================] - 0s 7ms/step - loss: 273240131895296.0000 - accuracy: 5.0000e-05\n",
      "Epoch 41/100\n",
      "1/1 [==============================] - ETA: 0s - loss: 273180153348096.0000 - accuracy: 5.0000e-05INFO:tensorflow:Assets written to: checkpoints/multiplication/nondense_model/40.model\\assets\n"
     ]
    },
    {
     "name": "stderr",
     "output_type": "stream",
     "text": [
      "INFO:tensorflow:Assets written to: checkpoints/multiplication/nondense_model/40.model\\assets\n"
     ]
    },
    {
     "name": "stdout",
     "output_type": "stream",
     "text": [
      "model saved: checkpoints/multiplication/nondense_model/40.model\n",
      "INFO:tensorflow:Assets written to: checkpoints/all operations (asmd)/nondense_model/40.model\\assets\n"
     ]
    },
    {
     "name": "stderr",
     "output_type": "stream",
     "text": [
      "INFO:tensorflow:Assets written to: checkpoints/all operations (asmd)/nondense_model/40.model\\assets\n"
     ]
    },
    {
     "name": "stdout",
     "output_type": "stream",
     "text": [
      "model saved: checkpoints/all operations (asmd)/nondense_model/40.model\n",
      "1/1 [==============================] - 11s 11s/step - loss: 273180153348096.0000 - accuracy: 5.0000e-05\n",
      "Epoch 42/100\n",
      "1/1 [==============================] - 0s 998us/step - loss: 273118966841344.0000 - accuracy: 5.0000e-05\n",
      "Epoch 43/100\n",
      "1/1 [==============================] - 0s 5ms/step - loss: 273056505266176.0000 - accuracy: 5.0000e-05\n",
      "Epoch 44/100\n",
      "1/1 [==============================] - 0s 4ms/step - loss: 272992902840320.0000 - accuracy: 5.0000e-05\n",
      "Epoch 45/100\n",
      "1/1 [==============================] - 0s 5ms/step - loss: 272928008568832.0000 - accuracy: 5.0000e-05\n",
      "Epoch 46/100\n",
      "1/1 [==============================] - 0s 4ms/step - loss: 272861923115008.0000 - accuracy: 5.0000e-05\n",
      "Epoch 47/100\n",
      "1/1 [==============================] - 0s 12ms/step - loss: 272794545815552.0000 - accuracy: 5.0000e-05\n",
      "Epoch 48/100\n",
      "1/1 [==============================] - 0s 9ms/step - loss: 272725994110976.0000 - accuracy: 5.0000e-05\n",
      "Epoch 49/100\n",
      "1/1 [==============================] - 0s 3ms/step - loss: 272656200892416.0000 - accuracy: 5.0000e-05\n",
      "Epoch 50/100\n",
      "1/1 [==============================] - 0s 6ms/step - loss: 272585099051008.0000 - accuracy: 5.0000e-05\n",
      "Epoch 51/100\n",
      "1/1 [==============================] - ETA: 0s - loss: 272512806027264.0000 - accuracy: 5.0000e-05INFO:tensorflow:Assets written to: checkpoints/multiplication/nondense_model/50.model\\assets\n"
     ]
    },
    {
     "name": "stderr",
     "output_type": "stream",
     "text": [
      "INFO:tensorflow:Assets written to: checkpoints/multiplication/nondense_model/50.model\\assets\n"
     ]
    },
    {
     "name": "stdout",
     "output_type": "stream",
     "text": [
      "model saved: checkpoints/multiplication/nondense_model/50.model\n",
      "INFO:tensorflow:Assets written to: checkpoints/all operations (asmd)/nondense_model/50.model\\assets\n"
     ]
    },
    {
     "name": "stderr",
     "output_type": "stream",
     "text": [
      "INFO:tensorflow:Assets written to: checkpoints/all operations (asmd)/nondense_model/50.model\\assets\n"
     ]
    },
    {
     "name": "stdout",
     "output_type": "stream",
     "text": [
      "model saved: checkpoints/all operations (asmd)/nondense_model/50.model\n",
      "1/1 [==============================] - 15s 15s/step - loss: 272512806027264.0000 - accuracy: 5.0000e-05\n",
      "Epoch 52/100\n",
      "1/1 [==============================] - 0s 5ms/step - loss: 272439237935104.0000 - accuracy: 5.0000e-05\n",
      "Epoch 53/100\n",
      "1/1 [==============================] - 0s 6ms/step - loss: 272364361220096.0000 - accuracy: 5.0000e-05\n",
      "Epoch 54/100\n",
      "1/1 [==============================] - 0s 7ms/step - loss: 272288276545536.0000 - accuracy: 5.0000e-05\n",
      "Epoch 55/100\n",
      "1/1 [==============================] - 0s 7ms/step - loss: 272210883248128.0000 - accuracy: 5.0000e-05\n",
      "Epoch 56/100\n",
      "1/1 [==============================] - 0s 6ms/step - loss: 272132181327872.0000 - accuracy: 5.0000e-05\n",
      "Epoch 57/100\n",
      "1/1 [==============================] - 0s 4ms/step - loss: 272052237893632.0000 - accuracy: 5.0000e-05\n",
      "Epoch 58/100\n",
      "1/1 [==============================] - 0s 5ms/step - loss: 271971019390976.0000 - accuracy: 5.0000e-05\n",
      "Epoch 59/100\n",
      "1/1 [==============================] - 0s 9ms/step - loss: 271888492265472.0000 - accuracy: 5.0000e-05\n",
      "Epoch 60/100\n",
      "1/1 [==============================] - 0s 12ms/step - loss: 271804690071552.0000 - accuracy: 5.0000e-05\n",
      "Epoch 61/100\n",
      "1/1 [==============================] - ETA: 0s - loss: 271719579254784.0000 - accuracy: 5.0000e-05INFO:tensorflow:Assets written to: checkpoints/multiplication/nondense_model/60.model\\assets\n"
     ]
    },
    {
     "name": "stderr",
     "output_type": "stream",
     "text": [
      "INFO:tensorflow:Assets written to: checkpoints/multiplication/nondense_model/60.model\\assets\n"
     ]
    },
    {
     "name": "stdout",
     "output_type": "stream",
     "text": [
      "model saved: checkpoints/multiplication/nondense_model/60.model\n",
      "INFO:tensorflow:Assets written to: checkpoints/all operations (asmd)/nondense_model/60.model\\assets\n"
     ]
    },
    {
     "name": "stderr",
     "output_type": "stream",
     "text": [
      "INFO:tensorflow:Assets written to: checkpoints/all operations (asmd)/nondense_model/60.model\\assets\n"
     ]
    },
    {
     "name": "stdout",
     "output_type": "stream",
     "text": [
      "model saved: checkpoints/all operations (asmd)/nondense_model/60.model\n",
      "1/1 [==============================] - 9s 9s/step - loss: 271719579254784.0000 - accuracy: 5.0000e-05\n",
      "Epoch 62/100\n",
      "1/1 [==============================] - 0s 4ms/step - loss: 271633226924032.0000 - accuracy: 5.0000e-05\n",
      "Epoch 63/100\n",
      "1/1 [==============================] - 0s 2ms/step - loss: 271545498861568.0000 - accuracy: 5.0000e-05\n",
      "Epoch 64/100\n",
      "1/1 [==============================] - 0s 4ms/step - loss: 271456411844608.0000 - accuracy: 5.0000e-05\n",
      "Epoch 65/100\n",
      "1/1 [==============================] - 0s 7ms/step - loss: 271366016204800.0000 - accuracy: 5.0000e-05\n",
      "Epoch 66/100\n",
      "1/1 [==============================] - 0s 3ms/step - loss: 271274362273792.0000 - accuracy: 5.0000e-05\n",
      "Epoch 67/100\n",
      "1/1 [==============================] - 0s 2ms/step - loss: 271181315833856.0000 - accuracy: 5.0000e-05\n",
      "Epoch 68/100\n",
      "1/1 [==============================] - 0s 6ms/step - loss: 271086893662208.0000 - accuracy: 5.0000e-05\n",
      "Epoch 69/100\n",
      "1/1 [==============================] - 0s 4ms/step - loss: 270991263531008.0000 - accuracy: 5.0000e-05\n",
      "Epoch 70/100\n",
      "1/1 [==============================] - 0s 10ms/step - loss: 270894207336448.0000 - accuracy: 5.0000e-05\n",
      "Epoch 71/100\n",
      "1/1 [==============================] - ETA: 0s - loss: 270795859296256.0000 - accuracy: 5.0000e-05INFO:tensorflow:Assets written to: checkpoints/multiplication/nondense_model/70.model\\assets\n"
     ]
    },
    {
     "name": "stderr",
     "output_type": "stream",
     "text": [
      "INFO:tensorflow:Assets written to: checkpoints/multiplication/nondense_model/70.model\\assets\n"
     ]
    },
    {
     "name": "stdout",
     "output_type": "stream",
     "text": [
      "model saved: checkpoints/multiplication/nondense_model/70.model\n",
      "INFO:tensorflow:Assets written to: checkpoints/all operations (asmd)/nondense_model/70.model\\assets\n"
     ]
    },
    {
     "name": "stderr",
     "output_type": "stream",
     "text": [
      "INFO:tensorflow:Assets written to: checkpoints/all operations (asmd)/nondense_model/70.model\\assets\n"
     ]
    },
    {
     "name": "stdout",
     "output_type": "stream",
     "text": [
      "model saved: checkpoints/all operations (asmd)/nondense_model/70.model\n",
      "1/1 [==============================] - 10s 10s/step - loss: 270795859296256.0000 - accuracy: 5.0000e-05\n",
      "Epoch 72/100\n",
      "1/1 [==============================] - 0s 3ms/step - loss: 270696085192704.0000 - accuracy: 5.0000e-05\n",
      "Epoch 73/100\n",
      "1/1 [==============================] - 0s 3ms/step - loss: 270595036020736.0000 - accuracy: 5.0000e-05\n",
      "Epoch 74/100\n",
      "1/1 [==============================] - 0s 7ms/step - loss: 270492560785408.0000 - accuracy: 5.0000e-05\n",
      "Epoch 75/100\n",
      "1/1 [==============================] - 0s 3ms/step - loss: 270388743372800.0000 - accuracy: 5.0000e-05\n",
      "Epoch 76/100\n",
      "1/1 [==============================] - 0s 6ms/step - loss: 270283600560128.0000 - accuracy: 5.0000e-05\n",
      "Epoch 77/100\n",
      "1/1 [==============================] - 0s 10ms/step - loss: 270177048461312.0000 - accuracy: 5.0000e-05\n",
      "Epoch 78/100\n",
      "1/1 [==============================] - 0s 3ms/step - loss: 270069137408000.0000 - accuracy: 5.0000e-05\n",
      "Epoch 79/100\n",
      "1/1 [==============================] - 0s 3ms/step - loss: 269959850622976.0000 - accuracy: 5.0000e-05\n",
      "Epoch 80/100\n",
      "1/1 [==============================] - 0s 3ms/step - loss: 269849120997376.0000 - accuracy: 5.0000e-05\n",
      "Epoch 81/100\n",
      "1/1 [==============================] - ETA: 0s - loss: 269737082748928.0000 - accuracy: 5.0000e-05INFO:tensorflow:Assets written to: checkpoints/multiplication/nondense_model/80.model\\assets\n"
     ]
    },
    {
     "name": "stderr",
     "output_type": "stream",
     "text": [
      "INFO:tensorflow:Assets written to: checkpoints/multiplication/nondense_model/80.model\\assets\n"
     ]
    },
    {
     "name": "stdout",
     "output_type": "stream",
     "text": [
      "model saved: checkpoints/multiplication/nondense_model/80.model\n",
      "INFO:tensorflow:Assets written to: checkpoints/all operations (asmd)/nondense_model/80.model\\assets\n"
     ]
    },
    {
     "name": "stderr",
     "output_type": "stream",
     "text": [
      "INFO:tensorflow:Assets written to: checkpoints/all operations (asmd)/nondense_model/80.model\\assets\n"
     ]
    },
    {
     "name": "stdout",
     "output_type": "stream",
     "text": [
      "model saved: checkpoints/all operations (asmd)/nondense_model/80.model\n",
      "1/1 [==============================] - 12s 12s/step - loss: 269737082748928.0000 - accuracy: 5.0000e-05\n",
      "Epoch 82/100\n",
      "1/1 [==============================] - 0s 5ms/step - loss: 269623635214336.0000 - accuracy: 5.0000e-05\n",
      "Epoch 83/100\n",
      "1/1 [==============================] - 0s 2ms/step - loss: 269508828725248.0000 - accuracy: 5.0000e-05\n",
      "Epoch 84/100\n",
      "1/1 [==============================] - 0s 8ms/step - loss: 269392612950016.0000 - accuracy: 5.0000e-05\n",
      "Epoch 85/100\n",
      "1/1 [==============================] - 0s 998us/step - loss: 269274954334208.0000 - accuracy: 5.0000e-05\n",
      "Epoch 86/100\n",
      "1/1 [==============================] - 0s 997us/step - loss: 269155936763904.0000 - accuracy: 5.0000e-05\n",
      "Epoch 87/100\n",
      "1/1 [==============================] - 0s 6ms/step - loss: 269035493130240.0000 - accuracy: 5.0000e-05\n",
      "Epoch 88/100\n",
      "1/1 [==============================] - 0s 8ms/step - loss: 268913656987648.0000 - accuracy: 5.0000e-05\n",
      "Epoch 89/100\n",
      "1/1 [==============================] - 0s 3ms/step - loss: 268790428336128.0000 - accuracy: 5.0000e-05\n",
      "Epoch 90/100\n",
      "1/1 [==============================] - 0s 997us/step - loss: 268665823952896.0000 - accuracy: 5.0000e-05\n",
      "Epoch 91/100\n",
      "1/1 [==============================] - ETA: 0s - loss: 268539709620224.0000 - accuracy: 5.0000e-05INFO:tensorflow:Assets written to: checkpoints/multiplication/nondense_model/90.model\\assets\n"
     ]
    },
    {
     "name": "stderr",
     "output_type": "stream",
     "text": [
      "INFO:tensorflow:Assets written to: checkpoints/multiplication/nondense_model/90.model\\assets\n"
     ]
    },
    {
     "name": "stdout",
     "output_type": "stream",
     "text": [
      "model saved: checkpoints/multiplication/nondense_model/90.model\n",
      "INFO:tensorflow:Assets written to: checkpoints/all operations (asmd)/nondense_model/90.model\\assets\n"
     ]
    },
    {
     "name": "stderr",
     "output_type": "stream",
     "text": [
      "INFO:tensorflow:Assets written to: checkpoints/all operations (asmd)/nondense_model/90.model\\assets\n"
     ]
    },
    {
     "name": "stdout",
     "output_type": "stream",
     "text": [
      "model saved: checkpoints/all operations (asmd)/nondense_model/90.model\n",
      "1/1 [==============================] - 10s 10s/step - loss: 268539709620224.0000 - accuracy: 5.0000e-05\n",
      "Epoch 92/100\n",
      "1/1 [==============================] - 0s 997us/step - loss: 268412303441920.0000 - accuracy: 5.0000e-05\n",
      "Epoch 93/100\n",
      "1/1 [==============================] - 0s 4ms/step - loss: 268283420868608.0000 - accuracy: 5.0000e-05\n",
      "Epoch 94/100\n",
      "1/1 [==============================] - 0s 7ms/step - loss: 268153078677504.0000 - accuracy: 5.0000e-05\n",
      "Epoch 95/100\n",
      "1/1 [==============================] - 0s 3ms/step - loss: 268021411086336.0000 - accuracy: 5.0000e-05\n",
      "Epoch 96/100\n",
      "1/1 [==============================] - 0s 3ms/step - loss: 267888250322944.0000 - accuracy: 5.0000e-05\n",
      "Epoch 97/100\n",
      "1/1 [==============================] - 0s 5ms/step - loss: 267753730605056.0000 - accuracy: 5.0000e-05\n",
      "Epoch 98/100\n",
      "1/1 [==============================] - 0s 2ms/step - loss: 267617784823808.0000 - accuracy: 5.0000e-05\n",
      "Epoch 99/100\n",
      "1/1 [==============================] - 0s 997us/step - loss: 267480345870336.0000 - accuracy: 5.0000e-05\n",
      "Epoch 100/100\n",
      "1/1 [==============================] - 0s 2ms/step - loss: 267341531185152.0000 - accuracy: 5.0000e-05\n",
      "MODEL dense_model TRAINING ON DATASET multiplication\n",
      "Epoch 1/100\n",
      "1/1 [==============================] - ETA: 0s - loss: 1120072038875136.0000 - accuracy: 0.0000e+00INFO:tensorflow:Assets written to: checkpoints/multiplication/nondense_model/0.model\\assets\n"
     ]
    },
    {
     "name": "stderr",
     "output_type": "stream",
     "text": [
      "INFO:tensorflow:Assets written to: checkpoints/multiplication/nondense_model/0.model\\assets\n"
     ]
    },
    {
     "name": "stdout",
     "output_type": "stream",
     "text": [
      "model saved: checkpoints/multiplication/nondense_model/0.model\n",
      "INFO:tensorflow:Assets written to: checkpoints/all operations (asmd)/nondense_model/0.model\\assets\n"
     ]
    },
    {
     "name": "stderr",
     "output_type": "stream",
     "text": [
      "INFO:tensorflow:Assets written to: checkpoints/all operations (asmd)/nondense_model/0.model\\assets\n"
     ]
    },
    {
     "name": "stdout",
     "output_type": "stream",
     "text": [
      "model saved: checkpoints/all operations (asmd)/nondense_model/0.model\n",
      "INFO:tensorflow:Assets written to: checkpoints/multiplication/dense_model/0.model\\assets\n"
     ]
    },
    {
     "name": "stderr",
     "output_type": "stream",
     "text": [
      "INFO:tensorflow:Assets written to: checkpoints/multiplication/dense_model/0.model\\assets\n"
     ]
    },
    {
     "name": "stdout",
     "output_type": "stream",
     "text": [
      "model saved: checkpoints/multiplication/dense_model/0.model\n",
      "1/1 [==============================] - 15s 15s/step - loss: 1120072038875136.0000 - accuracy: 0.0000e+00\n",
      "Epoch 2/100\n",
      "1/1 [==============================] - 0s 4ms/step - loss: 1117794833793024.0000 - accuracy: 0.0000e+00\n",
      "Epoch 3/100\n",
      "1/1 [==============================] - 0s 2ms/step - loss: 1108546292809728.0000 - accuracy: 0.0000e+00\n",
      "Epoch 4/100\n",
      "1/1 [==============================] - 0s 12ms/step - loss: 1081858775318528.0000 - accuracy: 0.0000e+00\n",
      "Epoch 5/100\n",
      "1/1 [==============================] - 0s 10ms/step - loss: 1018386473549824.0000 - accuracy: 0.0000e+00\n",
      "Epoch 6/100\n",
      "1/1 [==============================] - 0s 3ms/step - loss: 895009914093568.0000 - accuracy: 0.0000e+00\n",
      "Epoch 7/100\n",
      "1/1 [==============================] - 0s 2ms/step - loss: 698451473989632.0000 - accuracy: 0.0000e+00\n",
      "Epoch 8/100\n",
      "1/1 [==============================] - 0s 2ms/step - loss: 451467567693824.0000 - accuracy: 0.0000e+00\n",
      "Epoch 9/100\n",
      "1/1 [==============================] - 0s 3ms/step - loss: 239170119270400.0000 - accuracy: 0.0000e+00\n",
      "Epoch 10/100\n",
      "1/1 [==============================] - 0s 998us/step - loss: 163588140433408.0000 - accuracy: 0.0000e+00\n",
      "Epoch 11/100\n",
      "1/1 [==============================] - ETA: 0s - loss: 162663480950784.0000 - accuracy: 0.0000e+00INFO:tensorflow:Assets written to: checkpoints/multiplication/nondense_model/10.model\\assets\n"
     ]
    },
    {
     "name": "stderr",
     "output_type": "stream",
     "text": [
      "INFO:tensorflow:Assets written to: checkpoints/multiplication/nondense_model/10.model\\assets\n"
     ]
    },
    {
     "name": "stdout",
     "output_type": "stream",
     "text": [
      "model saved: checkpoints/multiplication/nondense_model/10.model\n",
      "INFO:tensorflow:Assets written to: checkpoints/all operations (asmd)/nondense_model/10.model\\assets\n"
     ]
    },
    {
     "name": "stderr",
     "output_type": "stream",
     "text": [
      "INFO:tensorflow:Assets written to: checkpoints/all operations (asmd)/nondense_model/10.model\\assets\n"
     ]
    },
    {
     "name": "stdout",
     "output_type": "stream",
     "text": [
      "model saved: checkpoints/all operations (asmd)/nondense_model/10.model\n",
      "INFO:tensorflow:Assets written to: checkpoints/multiplication/dense_model/10.model\\assets\n"
     ]
    },
    {
     "name": "stderr",
     "output_type": "stream",
     "text": [
      "INFO:tensorflow:Assets written to: checkpoints/multiplication/dense_model/10.model\\assets\n"
     ]
    },
    {
     "name": "stdout",
     "output_type": "stream",
     "text": [
      "model saved: checkpoints/multiplication/dense_model/10.model\n",
      "1/1 [==============================] - 16s 16s/step - loss: 162663480950784.0000 - accuracy: 0.0000e+00\n",
      "Epoch 12/100\n",
      "1/1 [==============================] - 0s 4ms/step - loss: 162428482486272.0000 - accuracy: 0.0000e+00\n",
      "Epoch 13/100\n",
      "1/1 [==============================] - 0s 5ms/step - loss: 162267102445568.0000 - accuracy: 0.0000e+00\n",
      "Epoch 14/100\n",
      "1/1 [==============================] - 0s 3ms/step - loss: 162127297904640.0000 - accuracy: 0.0000e+00\n",
      "Epoch 15/100\n",
      "1/1 [==============================] - 0s 2ms/step - loss: 161993617047552.0000 - accuracy: 0.0000e+00\n",
      "Epoch 16/100\n",
      "1/1 [==============================] - 0s 2ms/step - loss: 161863811727360.0000 - accuracy: 0.0000e+00\n",
      "Epoch 17/100\n",
      "1/1 [==============================] - 0s 8ms/step - loss: 161735969341440.0000 - accuracy: 0.0000e+00\n",
      "Epoch 18/100\n",
      "1/1 [==============================] - 0s 997us/step - loss: 161610257661952.0000 - accuracy: 0.0000e+00\n",
      "Epoch 19/100\n",
      "1/1 [==============================] - 0s 2ms/step - loss: 161486156595200.0000 - accuracy: 0.0000e+00\n",
      "Epoch 20/100\n",
      "1/1 [==============================] - 0s 3ms/step - loss: 161364622442496.0000 - accuracy: 0.0000e+00\n",
      "Epoch 21/100\n",
      "1/1 [==============================] - ETA: 0s - loss: 161247165153280.0000 - accuracy: 0.0000e+00INFO:tensorflow:Assets written to: checkpoints/multiplication/nondense_model/20.model\\assets\n"
     ]
    },
    {
     "name": "stderr",
     "output_type": "stream",
     "text": [
      "INFO:tensorflow:Assets written to: checkpoints/multiplication/nondense_model/20.model\\assets\n"
     ]
    },
    {
     "name": "stdout",
     "output_type": "stream",
     "text": [
      "model saved: checkpoints/multiplication/nondense_model/20.model\n",
      "INFO:tensorflow:Assets written to: checkpoints/all operations (asmd)/nondense_model/20.model\\assets\n"
     ]
    },
    {
     "name": "stderr",
     "output_type": "stream",
     "text": [
      "INFO:tensorflow:Assets written to: checkpoints/all operations (asmd)/nondense_model/20.model\\assets\n"
     ]
    },
    {
     "name": "stdout",
     "output_type": "stream",
     "text": [
      "model saved: checkpoints/all operations (asmd)/nondense_model/20.model\n",
      "INFO:tensorflow:Assets written to: checkpoints/multiplication/dense_model/20.model\\assets\n"
     ]
    },
    {
     "name": "stderr",
     "output_type": "stream",
     "text": [
      "INFO:tensorflow:Assets written to: checkpoints/multiplication/dense_model/20.model\\assets\n"
     ]
    },
    {
     "name": "stdout",
     "output_type": "stream",
     "text": [
      "model saved: checkpoints/multiplication/dense_model/20.model\n",
      "1/1 [==============================] - 12s 12s/step - loss: 161247165153280.0000 - accuracy: 0.0000e+00\n",
      "Epoch 22/100\n",
      "1/1 [==============================] - 0s 2ms/step - loss: 161141787459584.0000 - accuracy: 0.0000e+00\n",
      "Epoch 23/100\n",
      "1/1 [==============================] - 0s 2ms/step - loss: 161072262676480.0000 - accuracy: 0.0000e+00\n",
      "Epoch 24/100\n",
      "1/1 [==============================] - 0s 5ms/step - loss: 161147776925696.0000 - accuracy: 0.0000e+00\n",
      "Epoch 25/100\n",
      "1/1 [==============================] - 0s 4ms/step - loss: 161805041139712.0000 - accuracy: 0.0000e+00\n",
      "Epoch 26/100\n",
      "1/1 [==============================] - 0s 5ms/step - loss: 165353573318656.0000 - accuracy: 0.0000e+00\n",
      "Epoch 27/100\n",
      "1/1 [==============================] - 0s 4ms/step - loss: 178133164621824.0000 - accuracy: 0.0000e+00\n",
      "Epoch 28/100\n",
      "1/1 [==============================] - 0s 2ms/step - loss: 206862536409088.0000 - accuracy: 0.0000e+00\n",
      "Epoch 29/100\n",
      "1/1 [==============================] - 0s 2ms/step - loss: 176212810924032.0000 - accuracy: 0.0000e+00\n",
      "Epoch 30/100\n",
      "1/1 [==============================] - 0s 3ms/step - loss: 178835257556992.0000 - accuracy: 0.0000e+00\n",
      "Epoch 31/100\n",
      "1/1 [==============================] - ETA: 0s - loss: 166663857111040.0000 - accuracy: 0.0000e+00INFO:tensorflow:Assets written to: checkpoints/multiplication/nondense_model/30.model\\assets\n"
     ]
    },
    {
     "name": "stderr",
     "output_type": "stream",
     "text": [
      "INFO:tensorflow:Assets written to: checkpoints/multiplication/nondense_model/30.model\\assets\n"
     ]
    },
    {
     "name": "stdout",
     "output_type": "stream",
     "text": [
      "model saved: checkpoints/multiplication/nondense_model/30.model\n",
      "INFO:tensorflow:Assets written to: checkpoints/all operations (asmd)/nondense_model/30.model\\assets\n"
     ]
    },
    {
     "name": "stderr",
     "output_type": "stream",
     "text": [
      "INFO:tensorflow:Assets written to: checkpoints/all operations (asmd)/nondense_model/30.model\\assets\n"
     ]
    },
    {
     "name": "stdout",
     "output_type": "stream",
     "text": [
      "model saved: checkpoints/all operations (asmd)/nondense_model/30.model\n",
      "INFO:tensorflow:Assets written to: checkpoints/multiplication/dense_model/30.model\\assets\n"
     ]
    },
    {
     "name": "stderr",
     "output_type": "stream",
     "text": [
      "INFO:tensorflow:Assets written to: checkpoints/multiplication/dense_model/30.model\\assets\n"
     ]
    },
    {
     "name": "stdout",
     "output_type": "stream",
     "text": [
      "model saved: checkpoints/multiplication/dense_model/30.model\n",
      "1/1 [==============================] - 16s 16s/step - loss: 166663857111040.0000 - accuracy: 0.0000e+00\n",
      "Epoch 32/100\n",
      "1/1 [==============================] - 0s 3ms/step - loss: 166462815731712.0000 - accuracy: 0.0000e+00\n",
      "Epoch 33/100\n",
      "1/1 [==============================] - 0s 5ms/step - loss: 163711419416576.0000 - accuracy: 0.0000e+00\n",
      "Epoch 34/100\n",
      "1/1 [==============================] - 0s 997us/step - loss: 164058103808000.0000 - accuracy: 0.0000e+00\n",
      "Epoch 35/100\n",
      "1/1 [==============================] - 0s 3ms/step - loss: 163203757637632.0000 - accuracy: 0.0000e+00\n",
      "Epoch 36/100\n",
      "1/1 [==============================] - 0s 2ms/step - loss: 164338031656960.0000 - accuracy: 0.0000e+00\n",
      "Epoch 37/100\n",
      "1/1 [==============================] - 0s 2ms/step - loss: 164266728488960.0000 - accuracy: 0.0000e+00\n",
      "Epoch 38/100\n",
      "1/1 [==============================] - 0s 997us/step - loss: 166899375669248.0000 - accuracy: 0.0000e+00\n",
      "Epoch 39/100\n",
      "1/1 [==============================] - 0s 2ms/step - loss: 166935228579840.0000 - accuracy: 0.0000e+00\n",
      "Epoch 40/100\n",
      "1/1 [==============================] - 0s 3ms/step - loss: 171436891176960.0000 - accuracy: 0.0000e+00\n",
      "Epoch 41/100\n",
      "1/1 [==============================] - ETA: 0s - loss: 168914369642496.0000 - accuracy: 0.0000e+00INFO:tensorflow:Assets written to: checkpoints/multiplication/nondense_model/40.model\\assets\n"
     ]
    },
    {
     "name": "stderr",
     "output_type": "stream",
     "text": [
      "INFO:tensorflow:Assets written to: checkpoints/multiplication/nondense_model/40.model\\assets\n"
     ]
    },
    {
     "name": "stdout",
     "output_type": "stream",
     "text": [
      "model saved: checkpoints/multiplication/nondense_model/40.model\n",
      "INFO:tensorflow:Assets written to: checkpoints/all operations (asmd)/nondense_model/40.model\\assets\n"
     ]
    },
    {
     "name": "stderr",
     "output_type": "stream",
     "text": [
      "INFO:tensorflow:Assets written to: checkpoints/all operations (asmd)/nondense_model/40.model\\assets\n"
     ]
    },
    {
     "name": "stdout",
     "output_type": "stream",
     "text": [
      "model saved: checkpoints/all operations (asmd)/nondense_model/40.model\n",
      "INFO:tensorflow:Assets written to: checkpoints/multiplication/dense_model/40.model\\assets\n"
     ]
    },
    {
     "name": "stderr",
     "output_type": "stream",
     "text": [
      "INFO:tensorflow:Assets written to: checkpoints/multiplication/dense_model/40.model\\assets\n"
     ]
    },
    {
     "name": "stdout",
     "output_type": "stream",
     "text": [
      "model saved: checkpoints/multiplication/dense_model/40.model\n",
      "1/1 [==============================] - 15s 15s/step - loss: 168914369642496.0000 - accuracy: 0.0000e+00\n",
      "Epoch 42/100\n",
      "1/1 [==============================] - 0s 997us/step - loss: 172918688448512.0000 - accuracy: 0.0000e+00\n",
      "Epoch 43/100\n",
      "1/1 [==============================] - 0s 6ms/step - loss: 167565162708992.0000 - accuracy: 0.0000e+00\n",
      "Epoch 44/100\n",
      "1/1 [==============================] - 0s 4ms/step - loss: 169705381822464.0000 - accuracy: 0.0000e+00\n",
      "Epoch 45/100\n",
      "1/1 [==============================] - 0s 2ms/step - loss: 165540505059328.0000 - accuracy: 0.0000e+00\n",
      "Epoch 46/100\n",
      "1/1 [==============================] - 0s 3ms/step - loss: 167020909821952.0000 - accuracy: 0.0000e+00\n",
      "Epoch 47/100\n",
      "1/1 [==============================] - 0s 2ms/step - loss: 164486526795776.0000 - accuracy: 0.0000e+00\n",
      "Epoch 48/100\n",
      "1/1 [==============================] - 0s 997us/step - loss: 166125392363520.0000 - accuracy: 0.0000e+00\n",
      "Epoch 49/100\n",
      "1/1 [==============================] - 0s 997us/step - loss: 164423679344640.0000 - accuracy: 0.0000e+00\n",
      "Epoch 50/100\n",
      "1/1 [==============================] - 0s 3ms/step - loss: 166588292530176.0000 - accuracy: 0.0000e+00\n",
      "Epoch 51/100\n",
      "1/1 [==============================] - ETA: 0s - loss: 165014975545344.0000 - accuracy: 0.0000e+00INFO:tensorflow:Assets written to: checkpoints/multiplication/nondense_model/50.model\\assets\n"
     ]
    },
    {
     "name": "stderr",
     "output_type": "stream",
     "text": [
      "INFO:tensorflow:Assets written to: checkpoints/multiplication/nondense_model/50.model\\assets\n"
     ]
    },
    {
     "name": "stdout",
     "output_type": "stream",
     "text": [
      "model saved: checkpoints/multiplication/nondense_model/50.model\n",
      "INFO:tensorflow:Assets written to: checkpoints/all operations (asmd)/nondense_model/50.model\\assets\n"
     ]
    },
    {
     "name": "stderr",
     "output_type": "stream",
     "text": [
      "INFO:tensorflow:Assets written to: checkpoints/all operations (asmd)/nondense_model/50.model\\assets\n"
     ]
    },
    {
     "name": "stdout",
     "output_type": "stream",
     "text": [
      "model saved: checkpoints/all operations (asmd)/nondense_model/50.model\n",
      "INFO:tensorflow:Assets written to: checkpoints/multiplication/dense_model/50.model\\assets\n"
     ]
    },
    {
     "name": "stderr",
     "output_type": "stream",
     "text": [
      "INFO:tensorflow:Assets written to: checkpoints/multiplication/dense_model/50.model\\assets\n"
     ]
    },
    {
     "name": "stdout",
     "output_type": "stream",
     "text": [
      "model saved: checkpoints/multiplication/dense_model/50.model\n",
      "1/1 [==============================] - 12s 12s/step - loss: 165014975545344.0000 - accuracy: 0.0000e+00\n",
      "Epoch 52/100\n",
      "1/1 [==============================] - 0s 2ms/step - loss: 167748202135552.0000 - accuracy: 0.0000e+00\n",
      "Epoch 53/100\n",
      "1/1 [==============================] - 0s 3ms/step - loss: 165616723951616.0000 - accuracy: 0.0000e+00\n",
      "Epoch 54/100\n",
      "1/1 [==============================] - 0s 4ms/step - loss: 168503696949248.0000 - accuracy: 0.0000e+00\n",
      "Epoch 55/100\n",
      "1/1 [==============================] - 0s 2ms/step - loss: 165569328316416.0000 - accuracy: 0.0000e+00\n",
      "Epoch 56/100\n",
      "1/1 [==============================] - 0s 3ms/step - loss: 168117820981248.0000 - accuracy: 0.0000e+00\n",
      "Epoch 57/100\n",
      "1/1 [==============================] - 0s 3ms/step - loss: 164958167891968.0000 - accuracy: 0.0000e+00\n",
      "Epoch 58/100\n",
      "1/1 [==============================] - 0s 2ms/step - loss: 167137276592128.0000 - accuracy: 0.0000e+00\n",
      "Epoch 59/100\n",
      "1/1 [==============================] - 0s 3ms/step - loss: 164327462010880.0000 - accuracy: 0.0000e+00\n",
      "Epoch 60/100\n",
      "1/1 [==============================] - 0s 3ms/step - loss: 166393139953664.0000 - accuracy: 0.0000e+00\n",
      "Epoch 61/100\n",
      "1/1 [==============================] - ETA: 0s - loss: 163993192759296.0000 - accuracy: 0.0000e+00INFO:tensorflow:Assets written to: checkpoints/multiplication/nondense_model/60.model\\assets\n"
     ]
    },
    {
     "name": "stderr",
     "output_type": "stream",
     "text": [
      "INFO:tensorflow:Assets written to: checkpoints/multiplication/nondense_model/60.model\\assets\n"
     ]
    },
    {
     "name": "stdout",
     "output_type": "stream",
     "text": [
      "model saved: checkpoints/multiplication/nondense_model/60.model\n",
      "INFO:tensorflow:Assets written to: checkpoints/all operations (asmd)/nondense_model/60.model\\assets\n"
     ]
    },
    {
     "name": "stderr",
     "output_type": "stream",
     "text": [
      "INFO:tensorflow:Assets written to: checkpoints/all operations (asmd)/nondense_model/60.model\\assets\n"
     ]
    },
    {
     "name": "stdout",
     "output_type": "stream",
     "text": [
      "model saved: checkpoints/all operations (asmd)/nondense_model/60.model\n",
      "INFO:tensorflow:Assets written to: checkpoints/multiplication/dense_model/60.model\\assets\n"
     ]
    },
    {
     "name": "stderr",
     "output_type": "stream",
     "text": [
      "INFO:tensorflow:Assets written to: checkpoints/multiplication/dense_model/60.model\\assets\n"
     ]
    },
    {
     "name": "stdout",
     "output_type": "stream",
     "text": [
      "model saved: checkpoints/multiplication/dense_model/60.model\n",
      "1/1 [==============================] - 8s 8s/step - loss: 163993192759296.0000 - accuracy: 0.0000e+00\n",
      "Epoch 62/100\n",
      "1/1 [==============================] - 0s 997us/step - loss: 166167486398464.0000 - accuracy: 0.0000e+00\n",
      "Epoch 63/100\n",
      "1/1 [==============================] - 0s 2ms/step - loss: 163954940706816.0000 - accuracy: 0.0000e+00\n",
      "Epoch 64/100\n",
      "1/1 [==============================] - 0s 996us/step - loss: 166317122387968.0000 - accuracy: 0.0000e+00\n",
      "Epoch 65/100\n",
      "1/1 [==============================] - 0s 2ms/step - loss: 164026461978624.0000 - accuracy: 0.0000e+00\n",
      "Epoch 66/100\n",
      "1/1 [==============================] - 0s 2ms/step - loss: 166502544179200.0000 - accuracy: 0.0000e+00\n",
      "Epoch 67/100\n",
      "1/1 [==============================] - 0s 2ms/step - loss: 163988260257792.0000 - accuracy: 0.0000e+00\n",
      "Epoch 68/100\n",
      "1/1 [==============================] - 0s 2ms/step - loss: 166433824702464.0000 - accuracy: 0.0000e+00\n",
      "Epoch 69/100\n",
      "1/1 [==============================] - 0s 4ms/step - loss: 163760492773376.0000 - accuracy: 0.0000e+00\n",
      "Epoch 70/100\n",
      "1/1 [==============================] - 0s 4ms/step - loss: 166096149676032.0000 - accuracy: 0.0000e+00\n",
      "Epoch 71/100\n",
      "1/1 [==============================] - ETA: 0s - loss: 163436524732416.0000 - accuracy: 0.0000e+00INFO:tensorflow:Assets written to: checkpoints/multiplication/nondense_model/70.model\\assets\n"
     ]
    },
    {
     "name": "stderr",
     "output_type": "stream",
     "text": [
      "INFO:tensorflow:Assets written to: checkpoints/multiplication/nondense_model/70.model\\assets\n"
     ]
    },
    {
     "name": "stdout",
     "output_type": "stream",
     "text": [
      "model saved: checkpoints/multiplication/nondense_model/70.model\n",
      "INFO:tensorflow:Assets written to: checkpoints/all operations (asmd)/nondense_model/70.model\\assets\n"
     ]
    },
    {
     "name": "stderr",
     "output_type": "stream",
     "text": [
      "INFO:tensorflow:Assets written to: checkpoints/all operations (asmd)/nondense_model/70.model\\assets\n"
     ]
    },
    {
     "name": "stdout",
     "output_type": "stream",
     "text": [
      "model saved: checkpoints/all operations (asmd)/nondense_model/70.model\n",
      "INFO:tensorflow:Assets written to: checkpoints/multiplication/dense_model/70.model\\assets\n"
     ]
    },
    {
     "name": "stderr",
     "output_type": "stream",
     "text": [
      "INFO:tensorflow:Assets written to: checkpoints/multiplication/dense_model/70.model\\assets\n"
     ]
    },
    {
     "name": "stdout",
     "output_type": "stream",
     "text": [
      "model saved: checkpoints/multiplication/dense_model/70.model\n",
      "1/1 [==============================] - 8s 8s/step - loss: 163436524732416.0000 - accuracy: 0.0000e+00\n",
      "Epoch 72/100\n",
      "1/1 [==============================] - 0s 2ms/step - loss: 165691147681792.0000 - accuracy: 0.0000e+00\n",
      "Epoch 73/100\n",
      "1/1 [==============================] - 0s 2ms/step - loss: 163149047136256.0000 - accuracy: 0.0000e+00\n",
      "Epoch 74/100\n",
      "1/1 [==============================] - 0s 992us/step - loss: 165397798060032.0000 - accuracy: 0.0000e+00\n",
      "Epoch 75/100\n",
      "1/1 [==============================] - 0s 3ms/step - loss: 162957182894080.0000 - accuracy: 0.0000e+00\n",
      "Epoch 76/100\n",
      "1/1 [==============================] - 0s 3ms/step - loss: 165252423483392.0000 - accuracy: 0.0000e+00\n",
      "Epoch 77/100\n",
      "1/1 [==============================] - 0s 2ms/step - loss: 162833467703296.0000 - accuracy: 0.0000e+00\n",
      "Epoch 78/100\n",
      "1/1 [==============================] - 0s 3ms/step - loss: 165176791793664.0000 - accuracy: 0.0000e+00\n",
      "Epoch 79/100\n",
      "1/1 [==============================] - 0s 2ms/step - loss: 162710037725184.0000 - accuracy: 0.0000e+00\n",
      "Epoch 80/100\n",
      "1/1 [==============================] - 0s 3ms/step - loss: 165065827287040.0000 - accuracy: 0.0000e+00\n",
      "Epoch 81/100\n",
      "1/1 [==============================] - ETA: 0s - loss: 162538306142208.0000 - accuracy: 0.0000e+00INFO:tensorflow:Assets written to: checkpoints/multiplication/nondense_model/80.model\\assets\n"
     ]
    },
    {
     "name": "stderr",
     "output_type": "stream",
     "text": [
      "INFO:tensorflow:Assets written to: checkpoints/multiplication/nondense_model/80.model\\assets\n"
     ]
    },
    {
     "name": "stdout",
     "output_type": "stream",
     "text": [
      "model saved: checkpoints/multiplication/nondense_model/80.model\n",
      "INFO:tensorflow:Assets written to: checkpoints/all operations (asmd)/nondense_model/80.model\\assets\n"
     ]
    },
    {
     "name": "stderr",
     "output_type": "stream",
     "text": [
      "INFO:tensorflow:Assets written to: checkpoints/all operations (asmd)/nondense_model/80.model\\assets\n"
     ]
    },
    {
     "name": "stdout",
     "output_type": "stream",
     "text": [
      "model saved: checkpoints/all operations (asmd)/nondense_model/80.model\n",
      "INFO:tensorflow:Assets written to: checkpoints/multiplication/dense_model/80.model\\assets\n"
     ]
    },
    {
     "name": "stderr",
     "output_type": "stream",
     "text": [
      "INFO:tensorflow:Assets written to: checkpoints/multiplication/dense_model/80.model\\assets\n"
     ]
    },
    {
     "name": "stdout",
     "output_type": "stream",
     "text": [
      "model saved: checkpoints/multiplication/dense_model/80.model\n",
      "1/1 [==============================] - 8s 8s/step - loss: 162538306142208.0000 - accuracy: 0.0000e+00\n",
      "Epoch 82/100\n",
      "1/1 [==============================] - 0s 2ms/step - loss: 164870674710528.0000 - accuracy: 0.0000e+00\n",
      "Epoch 83/100\n",
      "1/1 [==============================] - 0s 2ms/step - loss: 162319749349376.0000 - accuracy: 0.0000e+00\n",
      "Epoch 84/100\n",
      "1/1 [==============================] - 0s 997us/step - loss: 164619838554112.0000 - accuracy: 0.0000e+00\n",
      "Epoch 85/100\n",
      "1/1 [==============================] - 0s 997us/step - loss: 162089616277504.0000 - accuracy: 0.0000e+00\n",
      "Epoch 86/100\n",
      "1/1 [==============================] - 0s 997us/step - loss: 164373280587776.0000 - accuracy: 0.0000e+00\n",
      "Epoch 87/100\n",
      "1/1 [==============================] - 0s 2ms/step - loss: 161879330652160.0000 - accuracy: 0.0000e+00\n",
      "Epoch 88/100\n",
      "1/1 [==============================] - 0s 3ms/step - loss: 164167591919616.0000 - accuracy: 0.0000e+00\n",
      "Epoch 89/100\n",
      "1/1 [==============================] - 0s 4ms/step - loss: 161695368478720.0000 - accuracy: 0.0000e+00\n",
      "Epoch 90/100\n",
      "1/1 [==============================] - 0s 4ms/step - loss: 163997470949376.0000 - accuracy: 0.0000e+00\n",
      "Epoch 91/100\n",
      "1/1 [==============================] - ETA: 0s - loss: 161522462490624.0000 - accuracy: 0.0000e+00INFO:tensorflow:Assets written to: checkpoints/multiplication/nondense_model/90.model\\assets\n"
     ]
    },
    {
     "name": "stderr",
     "output_type": "stream",
     "text": [
      "INFO:tensorflow:Assets written to: checkpoints/multiplication/nondense_model/90.model\\assets\n"
     ]
    },
    {
     "name": "stdout",
     "output_type": "stream",
     "text": [
      "model saved: checkpoints/multiplication/nondense_model/90.model\n",
      "INFO:tensorflow:Assets written to: checkpoints/all operations (asmd)/nondense_model/90.model\\assets\n"
     ]
    },
    {
     "name": "stderr",
     "output_type": "stream",
     "text": [
      "INFO:tensorflow:Assets written to: checkpoints/all operations (asmd)/nondense_model/90.model\\assets\n"
     ]
    },
    {
     "name": "stdout",
     "output_type": "stream",
     "text": [
      "model saved: checkpoints/all operations (asmd)/nondense_model/90.model\n",
      "INFO:tensorflow:Assets written to: checkpoints/multiplication/dense_model/90.model\\assets\n"
     ]
    },
    {
     "name": "stderr",
     "output_type": "stream",
     "text": [
      "INFO:tensorflow:Assets written to: checkpoints/multiplication/dense_model/90.model\\assets\n"
     ]
    },
    {
     "name": "stdout",
     "output_type": "stream",
     "text": [
      "model saved: checkpoints/multiplication/dense_model/90.model\n",
      "1/1 [==============================] - 9s 9s/step - loss: 161522462490624.0000 - accuracy: 0.0000e+00\n",
      "Epoch 92/100\n",
      "1/1 [==============================] - 0s 998us/step - loss: 163833305890816.0000 - accuracy: 0.0000e+00\n",
      "Epoch 93/100\n",
      "1/1 [==============================] - 0s 2ms/step - loss: 161341570547712.0000 - accuracy: 0.0000e+00\n",
      "Epoch 94/100\n",
      "1/1 [==============================] - 0s 997us/step - loss: 163649696038912.0000 - accuracy: 0.0000e+00\n",
      "Epoch 95/100\n",
      "1/1 [==============================] - 0s 3ms/step - loss: 161144673140736.0000 - accuracy: 0.0000e+00\n",
      "Epoch 96/100\n",
      "1/1 [==============================] - 0s 998us/step - loss: 163442698747904.0000 - accuracy: 0.0000e+00\n",
      "Epoch 97/100\n",
      "1/1 [==============================] - 0s 2ms/step - loss: 160937222864896.0000 - accuracy: 0.0000e+00\n",
      "Epoch 98/100\n",
      "1/1 [==============================] - 0s 3ms/step - loss: 163226054557696.0000 - accuracy: 0.0000e+00\n",
      "Epoch 99/100\n",
      "1/1 [==============================] - 0s 3ms/step - loss: 160729806143488.0000 - accuracy: 0.0000e+00\n",
      "Epoch 100/100\n",
      "1/1 [==============================] - 0s 3ms/step - loss: 163015248838656.0000 - accuracy: 0.0000e+00\n",
      "MODEL dense_model TRAINING ON DATASET all operations (asmd)\n",
      "Epoch 1/100\n",
      "1/1 [==============================] - ETA: 0s - loss: 274844419620864.0000 - accuracy: 0.0000e+00INFO:tensorflow:Assets written to: checkpoints/multiplication/nondense_model/0.model\\assets\n"
     ]
    },
    {
     "name": "stderr",
     "output_type": "stream",
     "text": [
      "INFO:tensorflow:Assets written to: checkpoints/multiplication/nondense_model/0.model\\assets\n"
     ]
    },
    {
     "name": "stdout",
     "output_type": "stream",
     "text": [
      "model saved: checkpoints/multiplication/nondense_model/0.model\n",
      "INFO:tensorflow:Assets written to: checkpoints/all operations (asmd)/nondense_model/0.model\\assets\n"
     ]
    },
    {
     "name": "stderr",
     "output_type": "stream",
     "text": [
      "INFO:tensorflow:Assets written to: checkpoints/all operations (asmd)/nondense_model/0.model\\assets\n"
     ]
    },
    {
     "name": "stdout",
     "output_type": "stream",
     "text": [
      "model saved: checkpoints/all operations (asmd)/nondense_model/0.model\n",
      "INFO:tensorflow:Assets written to: checkpoints/multiplication/dense_model/0.model\\assets\n"
     ]
    },
    {
     "name": "stderr",
     "output_type": "stream",
     "text": [
      "INFO:tensorflow:Assets written to: checkpoints/multiplication/dense_model/0.model\\assets\n"
     ]
    },
    {
     "name": "stdout",
     "output_type": "stream",
     "text": [
      "model saved: checkpoints/multiplication/dense_model/0.model\n",
      "INFO:tensorflow:Assets written to: checkpoints/all operations (asmd)/dense_model/0.model\\assets\n"
     ]
    },
    {
     "name": "stderr",
     "output_type": "stream",
     "text": [
      "INFO:tensorflow:Assets written to: checkpoints/all operations (asmd)/dense_model/0.model\\assets\n"
     ]
    },
    {
     "name": "stdout",
     "output_type": "stream",
     "text": [
      "model saved: checkpoints/all operations (asmd)/dense_model/0.model\n",
      "1/1 [==============================] - 12s 12s/step - loss: 274844419620864.0000 - accuracy: 0.0000e+00\n",
      "Epoch 2/100\n",
      "1/1 [==============================] - 0s 2ms/step - loss: 273971467517952.0000 - accuracy: 5.0000e-05\n",
      "Epoch 3/100\n",
      "1/1 [==============================] - 0s 2ms/step - loss: 270631862009856.0000 - accuracy: 5.0000e-05\n",
      "Epoch 4/100\n",
      "1/1 [==============================] - 0s 998us/step - loss: 261680831397888.0000 - accuracy: 5.0000e-05\n",
      "Epoch 5/100\n",
      "1/1 [==============================] - 0s 997us/step - loss: 243695202861056.0000 - accuracy: 5.0000e-05\n",
      "Epoch 6/100\n",
      "1/1 [==============================] - 0s 2ms/step - loss: 221717653880832.0000 - accuracy: 5.0000e-05\n",
      "Epoch 7/100\n",
      "1/1 [==============================] - 0s 2ms/step - loss: 216835232366592.0000 - accuracy: 5.0000e-05\n",
      "Epoch 8/100\n",
      "1/1 [==============================] - 0s 2ms/step - loss: 217470149328896.0000 - accuracy: 5.0000e-05\n",
      "Epoch 9/100\n",
      "1/1 [==============================] - 0s 2ms/step - loss: 216550606897152.0000 - accuracy: 5.0000e-05\n",
      "Epoch 10/100\n",
      "1/1 [==============================] - 0s 3ms/step - loss: 216847764946944.0000 - accuracy: 5.0000e-05\n",
      "Epoch 11/100\n",
      "1/1 [==============================] - ETA: 0s - loss: 216363641602048.0000 - accuracy: 5.0000e-05INFO:tensorflow:Assets written to: checkpoints/multiplication/nondense_model/10.model\\assets\n"
     ]
    },
    {
     "name": "stderr",
     "output_type": "stream",
     "text": [
      "INFO:tensorflow:Assets written to: checkpoints/multiplication/nondense_model/10.model\\assets\n"
     ]
    },
    {
     "name": "stdout",
     "output_type": "stream",
     "text": [
      "model saved: checkpoints/multiplication/nondense_model/10.model\n",
      "INFO:tensorflow:Assets written to: checkpoints/all operations (asmd)/nondense_model/10.model\\assets\n"
     ]
    },
    {
     "name": "stderr",
     "output_type": "stream",
     "text": [
      "INFO:tensorflow:Assets written to: checkpoints/all operations (asmd)/nondense_model/10.model\\assets\n"
     ]
    },
    {
     "name": "stdout",
     "output_type": "stream",
     "text": [
      "model saved: checkpoints/all operations (asmd)/nondense_model/10.model\n",
      "INFO:tensorflow:Assets written to: checkpoints/multiplication/dense_model/10.model\\assets\n"
     ]
    },
    {
     "name": "stderr",
     "output_type": "stream",
     "text": [
      "INFO:tensorflow:Assets written to: checkpoints/multiplication/dense_model/10.model\\assets\n"
     ]
    },
    {
     "name": "stdout",
     "output_type": "stream",
     "text": [
      "model saved: checkpoints/multiplication/dense_model/10.model\n",
      "INFO:tensorflow:Assets written to: checkpoints/all operations (asmd)/dense_model/10.model\\assets\n"
     ]
    },
    {
     "name": "stderr",
     "output_type": "stream",
     "text": [
      "INFO:tensorflow:Assets written to: checkpoints/all operations (asmd)/dense_model/10.model\\assets\n"
     ]
    },
    {
     "name": "stdout",
     "output_type": "stream",
     "text": [
      "model saved: checkpoints/all operations (asmd)/dense_model/10.model\n",
      "1/1 [==============================] - 10s 10s/step - loss: 216363641602048.0000 - accuracy: 5.0000e-05\n",
      "Epoch 12/100\n",
      "1/1 [==============================] - 0s 2ms/step - loss: 216594143772672.0000 - accuracy: 5.0000e-05\n",
      "Epoch 13/100\n",
      "1/1 [==============================] - 0s 2ms/step - loss: 216316178857984.0000 - accuracy: 5.0000e-05\n",
      "Epoch 14/100\n",
      "1/1 [==============================] - 0s 997us/step - loss: 216581896404992.0000 - accuracy: 5.0000e-05\n",
      "Epoch 15/100\n",
      "1/1 [==============================] - 0s 2ms/step - loss: 216364463685632.0000 - accuracy: 5.0000e-05\n",
      "Epoch 16/100\n",
      "1/1 [==============================] - 0s 2ms/step - loss: 216707272540160.0000 - accuracy: 5.0000e-05\n",
      "Epoch 17/100\n",
      "1/1 [==============================] - 0s 4ms/step - loss: 216449608056832.0000 - accuracy: 5.0000e-05\n",
      "Epoch 18/100\n",
      "1/1 [==============================] - 0s 4ms/step - loss: 216854693937152.0000 - accuracy: 5.0000e-05\n",
      "Epoch 19/100\n",
      "1/1 [==============================] - 0s 4ms/step - loss: 216491014225920.0000 - accuracy: 5.0000e-05\n",
      "Epoch 20/100\n",
      "1/1 [==============================] - 0s 3ms/step - loss: 216891838693376.0000 - accuracy: 5.0000e-05\n",
      "Epoch 21/100\n",
      "1/1 [==============================] - ETA: 0s - loss: 216464187457536.0000 - accuracy: 5.0000e-05INFO:tensorflow:Assets written to: checkpoints/multiplication/nondense_model/20.model\\assets\n"
     ]
    },
    {
     "name": "stderr",
     "output_type": "stream",
     "text": [
      "INFO:tensorflow:Assets written to: checkpoints/multiplication/nondense_model/20.model\\assets\n"
     ]
    },
    {
     "name": "stdout",
     "output_type": "stream",
     "text": [
      "model saved: checkpoints/multiplication/nondense_model/20.model\n",
      "INFO:tensorflow:Assets written to: checkpoints/all operations (asmd)/nondense_model/20.model\\assets\n"
     ]
    },
    {
     "name": "stderr",
     "output_type": "stream",
     "text": [
      "INFO:tensorflow:Assets written to: checkpoints/all operations (asmd)/nondense_model/20.model\\assets\n"
     ]
    },
    {
     "name": "stdout",
     "output_type": "stream",
     "text": [
      "model saved: checkpoints/all operations (asmd)/nondense_model/20.model\n",
      "INFO:tensorflow:Assets written to: checkpoints/multiplication/dense_model/20.model\\assets\n"
     ]
    },
    {
     "name": "stderr",
     "output_type": "stream",
     "text": [
      "INFO:tensorflow:Assets written to: checkpoints/multiplication/dense_model/20.model\\assets\n"
     ]
    },
    {
     "name": "stdout",
     "output_type": "stream",
     "text": [
      "model saved: checkpoints/multiplication/dense_model/20.model\n",
      "INFO:tensorflow:Assets written to: checkpoints/all operations (asmd)/dense_model/20.model\\assets\n"
     ]
    },
    {
     "name": "stderr",
     "output_type": "stream",
     "text": [
      "INFO:tensorflow:Assets written to: checkpoints/all operations (asmd)/dense_model/20.model\\assets\n"
     ]
    },
    {
     "name": "stdout",
     "output_type": "stream",
     "text": [
      "model saved: checkpoints/all operations (asmd)/dense_model/20.model\n",
      "1/1 [==============================] - 11s 11s/step - loss: 216464187457536.0000 - accuracy: 5.0000e-05\n",
      "Epoch 22/100\n",
      "1/1 [==============================] - 0s 4ms/step - loss: 216821240168448.0000 - accuracy: 5.0000e-05\n",
      "Epoch 23/100\n",
      "1/1 [==============================] - 0s 3ms/step - loss: 216417211252736.0000 - accuracy: 5.0000e-05\n",
      "Epoch 24/100\n",
      "1/1 [==============================] - 0s 2ms/step - loss: 216744752840704.0000 - accuracy: 5.0000e-05\n",
      "Epoch 25/100\n",
      "1/1 [==============================] - 0s 3ms/step - loss: 216389595955200.0000 - accuracy: 5.0000e-05\n",
      "Epoch 26/100\n",
      "1/1 [==============================] - 0s 2ms/step - loss: 216714839064576.0000 - accuracy: 5.0000e-05\n",
      "Epoch 27/100\n",
      "1/1 [==============================] - 0s 2ms/step - loss: 216387414917120.0000 - accuracy: 5.0000e-05\n",
      "Epoch 28/100\n",
      "1/1 [==============================] - 0s 3ms/step - loss: 216726214017024.0000 - accuracy: 5.0000e-05\n",
      "Epoch 29/100\n",
      "1/1 [==============================] - 0s 2ms/step - loss: 216397598687232.0000 - accuracy: 5.0000e-05\n",
      "Epoch 30/100\n",
      "1/1 [==============================] - 0s 2ms/step - loss: 216749366575104.0000 - accuracy: 5.0000e-05\n",
      "Epoch 31/100\n",
      "1/1 [==============================] - ETA: 0s - loss: 216403219054592.0000 - accuracy: 5.0000e-05INFO:tensorflow:Assets written to: checkpoints/multiplication/nondense_model/30.model\\assets\n"
     ]
    },
    {
     "name": "stderr",
     "output_type": "stream",
     "text": [
      "INFO:tensorflow:Assets written to: checkpoints/multiplication/nondense_model/30.model\\assets\n"
     ]
    },
    {
     "name": "stdout",
     "output_type": "stream",
     "text": [
      "model saved: checkpoints/multiplication/nondense_model/30.model\n",
      "INFO:tensorflow:Assets written to: checkpoints/all operations (asmd)/nondense_model/30.model\\assets\n"
     ]
    },
    {
     "name": "stderr",
     "output_type": "stream",
     "text": [
      "INFO:tensorflow:Assets written to: checkpoints/all operations (asmd)/nondense_model/30.model\\assets\n"
     ]
    },
    {
     "name": "stdout",
     "output_type": "stream",
     "text": [
      "model saved: checkpoints/all operations (asmd)/nondense_model/30.model\n",
      "INFO:tensorflow:Assets written to: checkpoints/multiplication/dense_model/30.model\\assets\n"
     ]
    },
    {
     "name": "stderr",
     "output_type": "stream",
     "text": [
      "INFO:tensorflow:Assets written to: checkpoints/multiplication/dense_model/30.model\\assets\n"
     ]
    },
    {
     "name": "stdout",
     "output_type": "stream",
     "text": [
      "model saved: checkpoints/multiplication/dense_model/30.model\n",
      "INFO:tensorflow:Assets written to: checkpoints/all operations (asmd)/dense_model/30.model\\assets\n"
     ]
    },
    {
     "name": "stderr",
     "output_type": "stream",
     "text": [
      "INFO:tensorflow:Assets written to: checkpoints/all operations (asmd)/dense_model/30.model\\assets\n"
     ]
    },
    {
     "name": "stdout",
     "output_type": "stream",
     "text": [
      "model saved: checkpoints/all operations (asmd)/dense_model/30.model\n",
      "1/1 [==============================] - 10s 10s/step - loss: 216403219054592.0000 - accuracy: 5.0000e-05\n",
      "Epoch 32/100\n",
      "1/1 [==============================] - 0s 3ms/step - loss: 216757352529920.0000 - accuracy: 5.0000e-05\n",
      "Epoch 33/100\n",
      "1/1 [==============================] - 0s 2ms/step - loss: 216397112147968.0000 - accuracy: 5.0000e-05\n",
      "Epoch 34/100\n",
      "1/1 [==============================] - 0s 2ms/step - loss: 216744685731840.0000 - accuracy: 5.0000e-05\n",
      "Epoch 35/100\n",
      "1/1 [==============================] - 0s 3ms/step - loss: 216383992365056.0000 - accuracy: 5.0000e-05\n",
      "Epoch 36/100\n",
      "1/1 [==============================] - 0s 2ms/step - loss: 216724217528320.0000 - accuracy: 5.0000e-05\n",
      "Epoch 37/100\n",
      "1/1 [==============================] - 0s 2ms/step - loss: 216371862437888.0000 - accuracy: 5.0000e-05\n",
      "Epoch 38/100\n",
      "1/1 [==============================] - 0s 3ms/step - loss: 216709453578240.0000 - accuracy: 5.0000e-05\n",
      "Epoch 39/100\n",
      "1/1 [==============================] - 0s 2ms/step - loss: 216365403209728.0000 - accuracy: 5.0000e-05\n",
      "Epoch 40/100\n",
      "1/1 [==============================] - 0s 3ms/step - loss: 216705326383104.0000 - accuracy: 5.0000e-05\n",
      "Epoch 41/100\n",
      "1/1 [==============================] - ETA: 0s - loss: 216363842928640.0000 - accuracy: 5.0000e-05INFO:tensorflow:Assets written to: checkpoints/multiplication/nondense_model/40.model\\assets\n"
     ]
    },
    {
     "name": "stderr",
     "output_type": "stream",
     "text": [
      "INFO:tensorflow:Assets written to: checkpoints/multiplication/nondense_model/40.model\\assets\n"
     ]
    },
    {
     "name": "stdout",
     "output_type": "stream",
     "text": [
      "model saved: checkpoints/multiplication/nondense_model/40.model\n",
      "INFO:tensorflow:Assets written to: checkpoints/all operations (asmd)/nondense_model/40.model\\assets\n"
     ]
    },
    {
     "name": "stderr",
     "output_type": "stream",
     "text": [
      "INFO:tensorflow:Assets written to: checkpoints/all operations (asmd)/nondense_model/40.model\\assets\n"
     ]
    },
    {
     "name": "stdout",
     "output_type": "stream",
     "text": [
      "model saved: checkpoints/all operations (asmd)/nondense_model/40.model\n",
      "INFO:tensorflow:Assets written to: checkpoints/multiplication/dense_model/40.model\\assets\n"
     ]
    },
    {
     "name": "stderr",
     "output_type": "stream",
     "text": [
      "INFO:tensorflow:Assets written to: checkpoints/multiplication/dense_model/40.model\\assets\n"
     ]
    },
    {
     "name": "stdout",
     "output_type": "stream",
     "text": [
      "model saved: checkpoints/multiplication/dense_model/40.model\n",
      "INFO:tensorflow:Assets written to: checkpoints/all operations (asmd)/dense_model/40.model\\assets\n"
     ]
    },
    {
     "name": "stderr",
     "output_type": "stream",
     "text": [
      "INFO:tensorflow:Assets written to: checkpoints/all operations (asmd)/dense_model/40.model\\assets\n"
     ]
    },
    {
     "name": "stdout",
     "output_type": "stream",
     "text": [
      "model saved: checkpoints/all operations (asmd)/dense_model/40.model\n",
      "1/1 [==============================] - 10s 10s/step - loss: 216363842928640.0000 - accuracy: 5.0000e-05\n",
      "Epoch 42/100\n",
      "1/1 [==============================] - 0s 2ms/step - loss: 216707356426240.0000 - accuracy: 5.0000e-05\n",
      "Epoch 43/100\n",
      "1/1 [==============================] - 0s 2ms/step - loss: 216359279525888.0000 - accuracy: 5.0000e-05\n",
      "Epoch 44/100\n",
      "1/1 [==============================] - 0s 2ms/step - loss: 216699689238528.0000 - accuracy: 5.0000e-05\n",
      "Epoch 45/100\n",
      "1/1 [==============================] - 0s 997us/step - loss: 216350505041920.0000 - accuracy: 5.0000e-05\n",
      "Epoch 46/100\n",
      "1/1 [==============================] - 0s 3ms/step - loss: 216689304141824.0000 - accuracy: 5.0000e-05\n",
      "Epoch 47/100\n",
      "1/1 [==============================] - 0s 2ms/step - loss: 216344314249216.0000 - accuracy: 5.0000e-05\n",
      "Epoch 48/100\n",
      "1/1 [==============================] - 0s 3ms/step - loss: 216680663875584.0000 - accuracy: 5.0000e-05\n",
      "Epoch 49/100\n",
      "1/1 [==============================] - 0s 2ms/step - loss: 216335489433600.0000 - accuracy: 5.0000e-05\n",
      "Epoch 50/100\n",
      "1/1 [==============================] - 0s 3ms/step - loss: 216670094229504.0000 - accuracy: 5.0000e-05\n",
      "Epoch 51/100\n",
      "1/1 [==============================] - ETA: 0s - loss: 216328744992768.0000 - accuracy: 5.0000e-05INFO:tensorflow:Assets written to: checkpoints/multiplication/nondense_model/50.model\\assets\n"
     ]
    },
    {
     "name": "stderr",
     "output_type": "stream",
     "text": [
      "INFO:tensorflow:Assets written to: checkpoints/multiplication/nondense_model/50.model\\assets\n"
     ]
    },
    {
     "name": "stdout",
     "output_type": "stream",
     "text": [
      "model saved: checkpoints/multiplication/nondense_model/50.model\n",
      "INFO:tensorflow:Assets written to: checkpoints/all operations (asmd)/nondense_model/50.model\\assets\n"
     ]
    },
    {
     "name": "stderr",
     "output_type": "stream",
     "text": [
      "INFO:tensorflow:Assets written to: checkpoints/all operations (asmd)/nondense_model/50.model\\assets\n"
     ]
    },
    {
     "name": "stdout",
     "output_type": "stream",
     "text": [
      "model saved: checkpoints/all operations (asmd)/nondense_model/50.model\n",
      "INFO:tensorflow:Assets written to: checkpoints/multiplication/dense_model/50.model\\assets\n"
     ]
    },
    {
     "name": "stderr",
     "output_type": "stream",
     "text": [
      "INFO:tensorflow:Assets written to: checkpoints/multiplication/dense_model/50.model\\assets\n"
     ]
    },
    {
     "name": "stdout",
     "output_type": "stream",
     "text": [
      "model saved: checkpoints/multiplication/dense_model/50.model\n",
      "INFO:tensorflow:Assets written to: checkpoints/all operations (asmd)/dense_model/50.model\\assets\n"
     ]
    },
    {
     "name": "stderr",
     "output_type": "stream",
     "text": [
      "INFO:tensorflow:Assets written to: checkpoints/all operations (asmd)/dense_model/50.model\\assets\n"
     ]
    },
    {
     "name": "stdout",
     "output_type": "stream",
     "text": [
      "model saved: checkpoints/all operations (asmd)/dense_model/50.model\n",
      "1/1 [==============================] - 10s 10s/step - loss: 216328744992768.0000 - accuracy: 5.0000e-05\n",
      "Epoch 52/100\n",
      "1/1 [==============================] - 0s 10ms/step - loss: 216663802773504.0000 - accuracy: 5.0000e-05\n",
      "Epoch 53/100\n",
      "1/1 [==============================] - 0s 997us/step - loss: 216324064149504.0000 - accuracy: 5.0000e-05\n",
      "Epoch 54/100\n",
      "1/1 [==============================] - 0s 2ms/step - loss: 216660413775872.0000 - accuracy: 5.0000e-05\n",
      "Epoch 55/100\n",
      "1/1 [==============================] - 0s 4ms/step - loss: 216320121503744.0000 - accuracy: 5.0000e-05\n",
      "Epoch 56/100\n",
      "1/1 [==============================] - 0s 2ms/step - loss: 216656873783296.0000 - accuracy: 5.0000e-05\n",
      "Epoch 57/100\n",
      "1/1 [==============================] - 0s 2ms/step - loss: 216314786349056.0000 - accuracy: 5.0000e-05\n",
      "Epoch 58/100\n",
      "1/1 [==============================] - 0s 2ms/step - loss: 216649760243712.0000 - accuracy: 5.0000e-05\n",
      "Epoch 59/100\n",
      "1/1 [==============================] - 0s 2ms/step - loss: 216306917834752.0000 - accuracy: 5.0000e-05\n",
      "Epoch 60/100\n",
      "1/1 [==============================] - 0s 3ms/step - loss: 216639257706496.0000 - accuracy: 5.0000e-05\n",
      "Epoch 61/100\n",
      "1/1 [==============================] - ETA: 0s - loss: 216298864771072.0000 - accuracy: 5.0000e-05INFO:tensorflow:Assets written to: checkpoints/multiplication/nondense_model/60.model\\assets\n"
     ]
    },
    {
     "name": "stderr",
     "output_type": "stream",
     "text": [
      "INFO:tensorflow:Assets written to: checkpoints/multiplication/nondense_model/60.model\\assets\n"
     ]
    },
    {
     "name": "stdout",
     "output_type": "stream",
     "text": [
      "model saved: checkpoints/multiplication/nondense_model/60.model\n",
      "INFO:tensorflow:Assets written to: checkpoints/all operations (asmd)/nondense_model/60.model\\assets\n"
     ]
    },
    {
     "name": "stderr",
     "output_type": "stream",
     "text": [
      "INFO:tensorflow:Assets written to: checkpoints/all operations (asmd)/nondense_model/60.model\\assets\n"
     ]
    },
    {
     "name": "stdout",
     "output_type": "stream",
     "text": [
      "model saved: checkpoints/all operations (asmd)/nondense_model/60.model\n",
      "INFO:tensorflow:Assets written to: checkpoints/multiplication/dense_model/60.model\\assets\n"
     ]
    },
    {
     "name": "stderr",
     "output_type": "stream",
     "text": [
      "INFO:tensorflow:Assets written to: checkpoints/multiplication/dense_model/60.model\\assets\n"
     ]
    },
    {
     "name": "stdout",
     "output_type": "stream",
     "text": [
      "model saved: checkpoints/multiplication/dense_model/60.model\n",
      "INFO:tensorflow:Assets written to: checkpoints/all operations (asmd)/dense_model/60.model\\assets\n"
     ]
    },
    {
     "name": "stderr",
     "output_type": "stream",
     "text": [
      "INFO:tensorflow:Assets written to: checkpoints/all operations (asmd)/dense_model/60.model\\assets\n"
     ]
    },
    {
     "name": "stdout",
     "output_type": "stream",
     "text": [
      "model saved: checkpoints/all operations (asmd)/dense_model/60.model\n",
      "1/1 [==============================] - 11s 11s/step - loss: 216298864771072.0000 - accuracy: 5.0000e-05\n",
      "Epoch 62/100\n",
      "1/1 [==============================] - 0s 3ms/step - loss: 216629526921216.0000 - accuracy: 5.0000e-05\n",
      "Epoch 63/100\n",
      "1/1 [==============================] - 0s 3ms/step - loss: 216292422320128.0000 - accuracy: 5.0000e-05\n",
      "Epoch 64/100\n",
      "1/1 [==============================] - 0s 3ms/step - loss: 216623134801920.0000 - accuracy: 5.0000e-05\n",
      "Epoch 65/100\n",
      "1/1 [==============================] - 0s 3ms/step - loss: 216286768398336.0000 - accuracy: 5.0000e-05\n",
      "Epoch 66/100\n",
      "1/1 [==============================] - 0s 2ms/step - loss: 216617480880128.0000 - accuracy: 5.0000e-05\n",
      "Epoch 67/100\n",
      "1/1 [==============================] - 0s 4ms/step - loss: 216281500352512.0000 - accuracy: 5.0000e-05\n",
      "Epoch 68/100\n",
      "1/1 [==============================] - 0s 2ms/step - loss: 216612028284928.0000 - accuracy: 5.0000e-05\n",
      "Epoch 69/100\n",
      "1/1 [==============================] - 0s 3ms/step - loss: 216276030980096.0000 - accuracy: 5.0000e-05\n",
      "Epoch 70/100\n",
      "1/1 [==============================] - 0s 2ms/step - loss: 216605199958016.0000 - accuracy: 5.0000e-05\n",
      "Epoch 71/100\n",
      "1/1 [==============================] - ETA: 0s - loss: 216268934217728.0000 - accuracy: 5.0000e-05INFO:tensorflow:Assets written to: checkpoints/multiplication/nondense_model/70.model\\assets\n"
     ]
    },
    {
     "name": "stderr",
     "output_type": "stream",
     "text": [
      "INFO:tensorflow:Assets written to: checkpoints/multiplication/nondense_model/70.model\\assets\n"
     ]
    },
    {
     "name": "stdout",
     "output_type": "stream",
     "text": [
      "model saved: checkpoints/multiplication/nondense_model/70.model\n",
      "INFO:tensorflow:Assets written to: checkpoints/all operations (asmd)/nondense_model/70.model\\assets\n"
     ]
    },
    {
     "name": "stderr",
     "output_type": "stream",
     "text": [
      "INFO:tensorflow:Assets written to: checkpoints/all operations (asmd)/nondense_model/70.model\\assets\n"
     ]
    },
    {
     "name": "stdout",
     "output_type": "stream",
     "text": [
      "model saved: checkpoints/all operations (asmd)/nondense_model/70.model\n",
      "INFO:tensorflow:Assets written to: checkpoints/multiplication/dense_model/70.model\\assets\n"
     ]
    },
    {
     "name": "stderr",
     "output_type": "stream",
     "text": [
      "INFO:tensorflow:Assets written to: checkpoints/multiplication/dense_model/70.model\\assets\n"
     ]
    },
    {
     "name": "stdout",
     "output_type": "stream",
     "text": [
      "model saved: checkpoints/multiplication/dense_model/70.model\n",
      "INFO:tensorflow:Assets written to: checkpoints/all operations (asmd)/dense_model/70.model\\assets\n"
     ]
    },
    {
     "name": "stderr",
     "output_type": "stream",
     "text": [
      "INFO:tensorflow:Assets written to: checkpoints/all operations (asmd)/dense_model/70.model\\assets\n"
     ]
    },
    {
     "name": "stdout",
     "output_type": "stream",
     "text": [
      "model saved: checkpoints/all operations (asmd)/dense_model/70.model\n",
      "1/1 [==============================] - 11s 11s/step - loss: 216268934217728.0000 - accuracy: 5.0000e-05\n",
      "Epoch 72/100\n",
      "1/1 [==============================] - 0s 9ms/step - loss: 216596358365184.0000 - accuracy: 5.0000e-05\n",
      "Epoch 73/100\n",
      "1/1 [==============================] - 0s 997us/step - loss: 216261904564224.0000 - accuracy: 5.0000e-05\n",
      "Epoch 74/100\n",
      "1/1 [==============================] - 0s 998us/step - loss: 216588070420480.0000 - accuracy: 5.0000e-05\n",
      "Epoch 75/100\n",
      "1/1 [==============================] - 0s 997us/step - loss: 216255545999360.0000 - accuracy: 5.0000e-05\n",
      "Epoch 76/100\n",
      "1/1 [==============================] - 0s 3ms/step - loss: 216581258870784.0000 - accuracy: 5.0000e-05\n",
      "Epoch 77/100\n",
      "1/1 [==============================] - 0s 3ms/step - loss: 216249858523136.0000 - accuracy: 5.0000e-05\n",
      "Epoch 78/100\n",
      "1/1 [==============================] - 0s 3ms/step - loss: 216575739166720.0000 - accuracy: 5.0000e-05\n",
      "Epoch 79/100\n",
      "1/1 [==============================] - 0s 3ms/step - loss: 216245110571008.0000 - accuracy: 5.0000e-05\n",
      "Epoch 80/100\n",
      "1/1 [==============================] - 0s 2ms/step - loss: 216570202685440.0000 - accuracy: 5.0000e-05\n",
      "Epoch 81/100\n",
      "1/1 [==============================] - ETA: 0s - loss: 216238366130176.0000 - accuracy: 5.0000e-05INFO:tensorflow:Assets written to: checkpoints/multiplication/nondense_model/80.model\\assets\n"
     ]
    },
    {
     "name": "stderr",
     "output_type": "stream",
     "text": [
      "INFO:tensorflow:Assets written to: checkpoints/multiplication/nondense_model/80.model\\assets\n"
     ]
    },
    {
     "name": "stdout",
     "output_type": "stream",
     "text": [
      "model saved: checkpoints/multiplication/nondense_model/80.model\n",
      "INFO:tensorflow:Assets written to: checkpoints/all operations (asmd)/nondense_model/80.model\\assets\n"
     ]
    },
    {
     "name": "stderr",
     "output_type": "stream",
     "text": [
      "INFO:tensorflow:Assets written to: checkpoints/all operations (asmd)/nondense_model/80.model\\assets\n"
     ]
    },
    {
     "name": "stdout",
     "output_type": "stream",
     "text": [
      "model saved: checkpoints/all operations (asmd)/nondense_model/80.model\n",
      "INFO:tensorflow:Assets written to: checkpoints/multiplication/dense_model/80.model\\assets\n"
     ]
    },
    {
     "name": "stderr",
     "output_type": "stream",
     "text": [
      "INFO:tensorflow:Assets written to: checkpoints/multiplication/dense_model/80.model\\assets\n"
     ]
    },
    {
     "name": "stdout",
     "output_type": "stream",
     "text": [
      "model saved: checkpoints/multiplication/dense_model/80.model\n",
      "INFO:tensorflow:Assets written to: checkpoints/all operations (asmd)/dense_model/80.model\\assets\n"
     ]
    },
    {
     "name": "stderr",
     "output_type": "stream",
     "text": [
      "INFO:tensorflow:Assets written to: checkpoints/all operations (asmd)/dense_model/80.model\\assets\n"
     ]
    },
    {
     "name": "stdout",
     "output_type": "stream",
     "text": [
      "model saved: checkpoints/all operations (asmd)/dense_model/80.model\n",
      "1/1 [==============================] - 10s 10s/step - loss: 216238366130176.0000 - accuracy: 5.0000e-05\n",
      "Epoch 82/100\n",
      "1/1 [==============================] - 0s 3ms/step - loss: 216561814077440.0000 - accuracy: 5.0000e-05\n",
      "Epoch 83/100\n",
      "1/1 [==============================] - 0s 3ms/step - loss: 216231521026048.0000 - accuracy: 5.0000e-05\n",
      "Epoch 84/100\n",
      "1/1 [==============================] - 0s 3ms/step - loss: 216553794568192.0000 - accuracy: 5.0000e-05\n",
      "Epoch 85/100\n",
      "1/1 [==============================] - 0s 2ms/step - loss: 216225414119424.0000 - accuracy: 5.0000e-05\n",
      "Epoch 86/100\n",
      "1/1 [==============================] - 0s 4ms/step - loss: 216546731360256.0000 - accuracy: 5.0000e-05\n",
      "Epoch 87/100\n",
      "1/1 [==============================] - 0s 3ms/step - loss: 216219240103936.0000 - accuracy: 5.0000e-05\n",
      "Epoch 88/100\n",
      "1/1 [==============================] - 0s 2ms/step - loss: 216539684929536.0000 - accuracy: 5.0000e-05\n",
      "Epoch 89/100\n",
      "1/1 [==============================] - 0s 2ms/step - loss: 216213284192256.0000 - accuracy: 5.0000e-05\n",
      "Epoch 90/100\n",
      "1/1 [==============================] - 0s 2ms/step - loss: 216533041152000.0000 - accuracy: 5.0000e-05\n",
      "Epoch 91/100\n",
      "1/1 [==============================] - ETA: 0s - loss: 216207345057792.0000 - accuracy: 5.0000e-05INFO:tensorflow:Assets written to: checkpoints/multiplication/nondense_model/90.model\\assets\n"
     ]
    },
    {
     "name": "stderr",
     "output_type": "stream",
     "text": [
      "INFO:tensorflow:Assets written to: checkpoints/multiplication/nondense_model/90.model\\assets\n"
     ]
    },
    {
     "name": "stdout",
     "output_type": "stream",
     "text": [
      "model saved: checkpoints/multiplication/nondense_model/90.model\n",
      "INFO:tensorflow:Assets written to: checkpoints/all operations (asmd)/nondense_model/90.model\\assets\n"
     ]
    },
    {
     "name": "stderr",
     "output_type": "stream",
     "text": [
      "INFO:tensorflow:Assets written to: checkpoints/all operations (asmd)/nondense_model/90.model\\assets\n"
     ]
    },
    {
     "name": "stdout",
     "output_type": "stream",
     "text": [
      "model saved: checkpoints/all operations (asmd)/nondense_model/90.model\n",
      "INFO:tensorflow:Assets written to: checkpoints/multiplication/dense_model/90.model\\assets\n"
     ]
    },
    {
     "name": "stderr",
     "output_type": "stream",
     "text": [
      "INFO:tensorflow:Assets written to: checkpoints/multiplication/dense_model/90.model\\assets\n"
     ]
    },
    {
     "name": "stdout",
     "output_type": "stream",
     "text": [
      "model saved: checkpoints/multiplication/dense_model/90.model\n",
      "INFO:tensorflow:Assets written to: checkpoints/all operations (asmd)/dense_model/90.model\\assets\n"
     ]
    },
    {
     "name": "stderr",
     "output_type": "stream",
     "text": [
      "INFO:tensorflow:Assets written to: checkpoints/all operations (asmd)/dense_model/90.model\\assets\n"
     ]
    },
    {
     "name": "stdout",
     "output_type": "stream",
     "text": [
      "model saved: checkpoints/all operations (asmd)/dense_model/90.model\n",
      "1/1 [==============================] - 10s 10s/step - loss: 216207345057792.0000 - accuracy: 5.0000e-05\n",
      "Epoch 92/100\n",
      "1/1 [==============================] - 0s 3ms/step - loss: 216526531592192.0000 - accuracy: 5.0000e-05\n",
      "Epoch 93/100\n",
      "1/1 [==============================] - 0s 997us/step - loss: 216201691136000.0000 - accuracy: 5.0000e-05\n",
      "Epoch 94/100\n",
      "1/1 [==============================] - 0s 2ms/step - loss: 216520424685568.0000 - accuracy: 5.0000e-05\n",
      "Epoch 95/100\n",
      "1/1 [==============================] - 0s 3ms/step - loss: 216196003659776.0000 - accuracy: 5.0000e-05\n",
      "Epoch 96/100\n",
      "1/1 [==============================] - 0s 3ms/step - loss: 216514200338432.0000 - accuracy: 5.0000e-05\n",
      "Epoch 97/100\n",
      "1/1 [==============================] - 0s 2ms/step - loss: 216190584619008.0000 - accuracy: 5.0000e-05\n",
      "Epoch 98/100\n",
      "1/1 [==============================] - 0s 2ms/step - loss: 216507523006464.0000 - accuracy: 5.0000e-05\n",
      "Epoch 99/100\n",
      "1/1 [==============================] - 0s 2ms/step - loss: 216184007950336.0000 - accuracy: 5.0000e-05\n",
      "Epoch 100/100\n",
      "1/1 [==============================] - 0s 3ms/step - loss: 216499251838976.0000 - accuracy: 5.0000e-05\n",
      "MODEL dense_model v2 TRAINING ON DATASET multiplication\n",
      "Epoch 1/100\n",
      "1/1 [==============================] - ETA: 0s - loss: 1120031035359232.0000 - accuracy: 0.0000e+00INFO:tensorflow:Assets written to: checkpoints/multiplication/nondense_model/0.model\\assets\n"
     ]
    },
    {
     "name": "stderr",
     "output_type": "stream",
     "text": [
      "INFO:tensorflow:Assets written to: checkpoints/multiplication/nondense_model/0.model\\assets\n"
     ]
    },
    {
     "name": "stdout",
     "output_type": "stream",
     "text": [
      "model saved: checkpoints/multiplication/nondense_model/0.model\n",
      "INFO:tensorflow:Assets written to: checkpoints/all operations (asmd)/nondense_model/0.model\\assets\n"
     ]
    },
    {
     "name": "stderr",
     "output_type": "stream",
     "text": [
      "INFO:tensorflow:Assets written to: checkpoints/all operations (asmd)/nondense_model/0.model\\assets\n"
     ]
    },
    {
     "name": "stdout",
     "output_type": "stream",
     "text": [
      "model saved: checkpoints/all operations (asmd)/nondense_model/0.model\n",
      "INFO:tensorflow:Assets written to: checkpoints/multiplication/dense_model/0.model\\assets\n"
     ]
    },
    {
     "name": "stderr",
     "output_type": "stream",
     "text": [
      "INFO:tensorflow:Assets written to: checkpoints/multiplication/dense_model/0.model\\assets\n"
     ]
    },
    {
     "name": "stdout",
     "output_type": "stream",
     "text": [
      "model saved: checkpoints/multiplication/dense_model/0.model\n",
      "INFO:tensorflow:Assets written to: checkpoints/all operations (asmd)/dense_model/0.model\\assets\n"
     ]
    },
    {
     "name": "stderr",
     "output_type": "stream",
     "text": [
      "INFO:tensorflow:Assets written to: checkpoints/all operations (asmd)/dense_model/0.model\\assets\n"
     ]
    },
    {
     "name": "stdout",
     "output_type": "stream",
     "text": [
      "model saved: checkpoints/all operations (asmd)/dense_model/0.model\n",
      "INFO:tensorflow:Assets written to: checkpoints/multiplication/dense_model v2/0.model\\assets\n"
     ]
    },
    {
     "name": "stderr",
     "output_type": "stream",
     "text": [
      "INFO:tensorflow:Assets written to: checkpoints/multiplication/dense_model v2/0.model\\assets\n"
     ]
    },
    {
     "name": "stdout",
     "output_type": "stream",
     "text": [
      "model saved: checkpoints/multiplication/dense_model v2/0.model\n",
      "1/1 [==============================] - 13s 13s/step - loss: 1120031035359232.0000 - accuracy: 0.0000e+00\n",
      "Epoch 2/100\n",
      "1/1 [==============================] - 0s 997us/step - loss: 1112810457137152.0000 - accuracy: 0.0000e+00\n",
      "Epoch 3/100\n",
      "1/1 [==============================] - 0s 999us/step - loss: 1050189431308288.0000 - accuracy: 0.0000e+00\n",
      "Epoch 4/100\n",
      "1/1 [==============================] - 0s 2ms/step - loss: 842620574105600.0000 - accuracy: 0.0000e+00\n",
      "Epoch 5/100\n",
      "1/1 [==============================] - 0s 2ms/step - loss: 406471309262848.0000 - accuracy: 0.0000e+00\n",
      "Epoch 6/100\n",
      "1/1 [==============================] - 0s 4ms/step - loss: 194833574526976.0000 - accuracy: 0.0000e+00\n",
      "Epoch 7/100\n",
      "1/1 [==============================] - 0s 3ms/step - loss: 262669697286144.0000 - accuracy: 0.0000e+00\n",
      "Epoch 8/100\n",
      "1/1 [==============================] - 0s 997us/step - loss: 187468175376384.0000 - accuracy: 0.0000e+00\n",
      "Epoch 9/100\n",
      "1/1 [==============================] - 0s 4ms/step - loss: 209338467614720.0000 - accuracy: 0.0000e+00\n",
      "Epoch 10/100\n",
      "1/1 [==============================] - 0s 4ms/step - loss: 180374198026240.0000 - accuracy: 0.0000e+00\n",
      "Epoch 11/100\n",
      "1/1 [==============================] - ETA: 0s - loss: 191244206604288.0000 - accuracy: 0.0000e+00INFO:tensorflow:Assets written to: checkpoints/multiplication/nondense_model/10.model\\assets\n"
     ]
    },
    {
     "name": "stderr",
     "output_type": "stream",
     "text": [
      "INFO:tensorflow:Assets written to: checkpoints/multiplication/nondense_model/10.model\\assets\n"
     ]
    },
    {
     "name": "stdout",
     "output_type": "stream",
     "text": [
      "model saved: checkpoints/multiplication/nondense_model/10.model\n",
      "INFO:tensorflow:Assets written to: checkpoints/all operations (asmd)/nondense_model/10.model\\assets\n"
     ]
    },
    {
     "name": "stderr",
     "output_type": "stream",
     "text": [
      "INFO:tensorflow:Assets written to: checkpoints/all operations (asmd)/nondense_model/10.model\\assets\n"
     ]
    },
    {
     "name": "stdout",
     "output_type": "stream",
     "text": [
      "model saved: checkpoints/all operations (asmd)/nondense_model/10.model\n",
      "INFO:tensorflow:Assets written to: checkpoints/multiplication/dense_model/10.model\\assets\n"
     ]
    },
    {
     "name": "stderr",
     "output_type": "stream",
     "text": [
      "INFO:tensorflow:Assets written to: checkpoints/multiplication/dense_model/10.model\\assets\n"
     ]
    },
    {
     "name": "stdout",
     "output_type": "stream",
     "text": [
      "model saved: checkpoints/multiplication/dense_model/10.model\n",
      "INFO:tensorflow:Assets written to: checkpoints/all operations (asmd)/dense_model/10.model\\assets\n"
     ]
    },
    {
     "name": "stderr",
     "output_type": "stream",
     "text": [
      "INFO:tensorflow:Assets written to: checkpoints/all operations (asmd)/dense_model/10.model\\assets\n"
     ]
    },
    {
     "name": "stdout",
     "output_type": "stream",
     "text": [
      "model saved: checkpoints/all operations (asmd)/dense_model/10.model\n",
      "INFO:tensorflow:Assets written to: checkpoints/multiplication/dense_model v2/10.model\\assets\n"
     ]
    },
    {
     "name": "stderr",
     "output_type": "stream",
     "text": [
      "INFO:tensorflow:Assets written to: checkpoints/multiplication/dense_model v2/10.model\\assets\n"
     ]
    },
    {
     "name": "stdout",
     "output_type": "stream",
     "text": [
      "model saved: checkpoints/multiplication/dense_model v2/10.model\n",
      "1/1 [==============================] - 15s 15s/step - loss: 191244206604288.0000 - accuracy: 0.0000e+00\n",
      "Epoch 12/100\n",
      "1/1 [==============================] - 0s 5ms/step - loss: 176828182429696.0000 - accuracy: 0.0000e+00\n",
      "Epoch 13/100\n",
      "1/1 [==============================] - 0s 2ms/step - loss: 185311766249472.0000 - accuracy: 0.0000e+00\n",
      "Epoch 14/100\n",
      "1/1 [==============================] - 0s 6ms/step - loss: 175843997384704.0000 - accuracy: 0.0000e+00\n",
      "Epoch 15/100\n",
      "1/1 [==============================] - 0s 998us/step - loss: 184637791928320.0000 - accuracy: 0.0000e+00\n",
      "Epoch 16/100\n",
      "1/1 [==============================] - 0s 3ms/step - loss: 176322819129344.0000 - accuracy: 0.0000e+00\n",
      "Epoch 17/100\n",
      "1/1 [==============================] - 0s 997us/step - loss: 186298853752832.0000 - accuracy: 0.0000e+00\n",
      "Epoch 18/100\n",
      "1/1 [==============================] - 0s 2ms/step - loss: 177076216791040.0000 - accuracy: 0.0000e+00\n",
      "Epoch 19/100\n",
      "1/1 [==============================] - 0s 997us/step - loss: 187882589388800.0000 - accuracy: 0.0000e+00\n",
      "Epoch 20/100\n",
      "1/1 [==============================] - 0s 2ms/step - loss: 177184647938048.0000 - accuracy: 0.0000e+00\n",
      "Epoch 21/100\n",
      "1/1 [==============================] - ETA: 0s - loss: 187921143431168.0000 - accuracy: 0.0000e+00INFO:tensorflow:Assets written to: checkpoints/multiplication/nondense_model/20.model\\assets\n"
     ]
    },
    {
     "name": "stderr",
     "output_type": "stream",
     "text": [
      "INFO:tensorflow:Assets written to: checkpoints/multiplication/nondense_model/20.model\\assets\n"
     ]
    },
    {
     "name": "stdout",
     "output_type": "stream",
     "text": [
      "model saved: checkpoints/multiplication/nondense_model/20.model\n",
      "INFO:tensorflow:Assets written to: checkpoints/all operations (asmd)/nondense_model/20.model\\assets\n"
     ]
    },
    {
     "name": "stderr",
     "output_type": "stream",
     "text": [
      "INFO:tensorflow:Assets written to: checkpoints/all operations (asmd)/nondense_model/20.model\\assets\n"
     ]
    },
    {
     "name": "stdout",
     "output_type": "stream",
     "text": [
      "model saved: checkpoints/all operations (asmd)/nondense_model/20.model\n"
     ]
    },
    {
     "ename": "KeyboardInterrupt",
     "evalue": "",
     "output_type": "error",
     "traceback": [
      "\u001b[1;31m---------------------------------------------------------------------------\u001b[0m",
      "\u001b[1;31mAttributeError\u001b[0m                            Traceback (most recent call last)",
      "\u001b[1;32mc:\\python38\\lib\\site-packages\\tensorflow\\python\\ops\\array_ops.py\u001b[0m in \u001b[0;36mgather\u001b[1;34m(***failed resolving arguments***)\u001b[0m\n\u001b[0;32m   4521\u001b[0m     \u001b[1;31m# without introducing a circular dependency.\u001b[0m\u001b[1;33m\u001b[0m\u001b[1;33m\u001b[0m\u001b[1;33m\u001b[0m\u001b[0m\n\u001b[1;32m-> 4522\u001b[1;33m     \u001b[1;32mreturn\u001b[0m \u001b[0mparams\u001b[0m\u001b[1;33m.\u001b[0m\u001b[0msparse_read\u001b[0m\u001b[1;33m(\u001b[0m\u001b[0mindices\u001b[0m\u001b[1;33m,\u001b[0m \u001b[0mname\u001b[0m\u001b[1;33m=\u001b[0m\u001b[0mname\u001b[0m\u001b[1;33m)\u001b[0m\u001b[1;33m\u001b[0m\u001b[1;33m\u001b[0m\u001b[0m\n\u001b[0m\u001b[0;32m   4523\u001b[0m   \u001b[1;32mexcept\u001b[0m \u001b[0mAttributeError\u001b[0m\u001b[1;33m:\u001b[0m\u001b[1;33m\u001b[0m\u001b[1;33m\u001b[0m\u001b[0m\n",
      "\u001b[1;31mAttributeError\u001b[0m: 'Tensor' object has no attribute 'sparse_read'",
      "\nDuring handling of the above exception, another exception occurred:\n",
      "\u001b[1;31mKeyboardInterrupt\u001b[0m                         Traceback (most recent call last)",
      "\u001b[1;32m<ipython-input-9-aaa7f7618bef>\u001b[0m in \u001b[0;36m<module>\u001b[1;34m\u001b[0m\n\u001b[0;32m      2\u001b[0m \u001b[0mbatch_size\u001b[0m \u001b[1;33m=\u001b[0m \u001b[0mnum_examples\u001b[0m\u001b[1;33m\u001b[0m\u001b[1;33m\u001b[0m\u001b[0m\n\u001b[0;32m      3\u001b[0m \u001b[1;33m\u001b[0m\u001b[0m\n\u001b[1;32m----> 4\u001b[1;33m mc.train_models(\n\u001b[0m\u001b[0;32m      5\u001b[0m     \u001b[0mbatch_size\u001b[0m\u001b[1;33m=\u001b[0m\u001b[0mbatch_size\u001b[0m\u001b[1;33m,\u001b[0m\u001b[1;33m\u001b[0m\u001b[1;33m\u001b[0m\u001b[0m\n\u001b[0;32m      6\u001b[0m     \u001b[0mepochs\u001b[0m\u001b[1;33m=\u001b[0m\u001b[0mnum_epochs\u001b[0m\u001b[1;33m\u001b[0m\u001b[1;33m\u001b[0m\u001b[0m\n",
      "\u001b[1;32m~\\Research\\AI_research_Summer2020\\repos\\DLBoundary\\main\\modelcompare.py\u001b[0m in \u001b[0;36mtrain_models\u001b[1;34m(self, **kwargs)\u001b[0m\n\u001b[0;32m     59\u001b[0m                     \u001b[0mkwargs\u001b[0m\u001b[1;33m[\u001b[0m\u001b[1;34m\"callbacks\"\u001b[0m\u001b[1;33m]\u001b[0m \u001b[1;33m=\u001b[0m \u001b[1;33m[\u001b[0m\u001b[0msmc\u001b[0m\u001b[1;33m]\u001b[0m\u001b[1;33m\u001b[0m\u001b[1;33m\u001b[0m\u001b[0m\n\u001b[0;32m     60\u001b[0m \u001b[1;33m\u001b[0m\u001b[0m\n\u001b[1;32m---> 61\u001b[1;33m                 history = model.fit(\n\u001b[0m\u001b[0;32m     62\u001b[0m                     \u001b[0mself\u001b[0m\u001b[1;33m.\u001b[0m\u001b[0mtraining_sets\u001b[0m\u001b[1;33m[\u001b[0m\u001b[0mtset_name\u001b[0m\u001b[1;33m]\u001b[0m\u001b[1;33m[\u001b[0m\u001b[1;36m0\u001b[0m\u001b[1;33m]\u001b[0m\u001b[1;33m,\u001b[0m \u001b[0mself\u001b[0m\u001b[1;33m.\u001b[0m\u001b[0mtraining_sets\u001b[0m\u001b[1;33m[\u001b[0m\u001b[0mtset_name\u001b[0m\u001b[1;33m]\u001b[0m\u001b[1;33m[\u001b[0m\u001b[1;36m1\u001b[0m\u001b[1;33m]\u001b[0m\u001b[1;33m,\u001b[0m\u001b[1;33m\u001b[0m\u001b[1;33m\u001b[0m\u001b[0m\n\u001b[0;32m     63\u001b[0m                     \u001b[1;33m**\u001b[0m\u001b[0mkwargs\u001b[0m\u001b[1;33m\u001b[0m\u001b[1;33m\u001b[0m\u001b[0m\n",
      "\u001b[1;32mc:\\python38\\lib\\site-packages\\tensorflow\\python\\keras\\engine\\training.py\u001b[0m in \u001b[0;36m_method_wrapper\u001b[1;34m(self, *args, **kwargs)\u001b[0m\n\u001b[0;32m     64\u001b[0m   \u001b[1;32mdef\u001b[0m \u001b[0m_method_wrapper\u001b[0m\u001b[1;33m(\u001b[0m\u001b[0mself\u001b[0m\u001b[1;33m,\u001b[0m \u001b[1;33m*\u001b[0m\u001b[0margs\u001b[0m\u001b[1;33m,\u001b[0m \u001b[1;33m**\u001b[0m\u001b[0mkwargs\u001b[0m\u001b[1;33m)\u001b[0m\u001b[1;33m:\u001b[0m\u001b[1;33m\u001b[0m\u001b[1;33m\u001b[0m\u001b[0m\n\u001b[0;32m     65\u001b[0m     \u001b[1;32mif\u001b[0m \u001b[1;32mnot\u001b[0m \u001b[0mself\u001b[0m\u001b[1;33m.\u001b[0m\u001b[0m_in_multi_worker_mode\u001b[0m\u001b[1;33m(\u001b[0m\u001b[1;33m)\u001b[0m\u001b[1;33m:\u001b[0m  \u001b[1;31m# pylint: disable=protected-access\u001b[0m\u001b[1;33m\u001b[0m\u001b[1;33m\u001b[0m\u001b[0m\n\u001b[1;32m---> 66\u001b[1;33m       \u001b[1;32mreturn\u001b[0m \u001b[0mmethod\u001b[0m\u001b[1;33m(\u001b[0m\u001b[0mself\u001b[0m\u001b[1;33m,\u001b[0m \u001b[1;33m*\u001b[0m\u001b[0margs\u001b[0m\u001b[1;33m,\u001b[0m \u001b[1;33m**\u001b[0m\u001b[0mkwargs\u001b[0m\u001b[1;33m)\u001b[0m\u001b[1;33m\u001b[0m\u001b[1;33m\u001b[0m\u001b[0m\n\u001b[0m\u001b[0;32m     67\u001b[0m \u001b[1;33m\u001b[0m\u001b[0m\n\u001b[0;32m     68\u001b[0m     \u001b[1;31m# Running inside `run_distribute_coordinator` already.\u001b[0m\u001b[1;33m\u001b[0m\u001b[1;33m\u001b[0m\u001b[1;33m\u001b[0m\u001b[0m\n",
      "\u001b[1;32mc:\\python38\\lib\\site-packages\\tensorflow\\python\\keras\\engine\\training.py\u001b[0m in \u001b[0;36mfit\u001b[1;34m(self, x, y, batch_size, epochs, verbose, callbacks, validation_split, validation_data, shuffle, class_weight, sample_weight, initial_epoch, steps_per_epoch, validation_steps, validation_batch_size, validation_freq, max_queue_size, workers, use_multiprocessing)\u001b[0m\n\u001b[0;32m    874\u001b[0m           \u001b[0mepoch_logs\u001b[0m\u001b[1;33m.\u001b[0m\u001b[0mupdate\u001b[0m\u001b[1;33m(\u001b[0m\u001b[0mval_logs\u001b[0m\u001b[1;33m)\u001b[0m\u001b[1;33m\u001b[0m\u001b[1;33m\u001b[0m\u001b[0m\n\u001b[0;32m    875\u001b[0m \u001b[1;33m\u001b[0m\u001b[0m\n\u001b[1;32m--> 876\u001b[1;33m         \u001b[0mcallbacks\u001b[0m\u001b[1;33m.\u001b[0m\u001b[0mon_epoch_end\u001b[0m\u001b[1;33m(\u001b[0m\u001b[0mepoch\u001b[0m\u001b[1;33m,\u001b[0m \u001b[0mepoch_logs\u001b[0m\u001b[1;33m)\u001b[0m\u001b[1;33m\u001b[0m\u001b[1;33m\u001b[0m\u001b[0m\n\u001b[0m\u001b[0;32m    877\u001b[0m         \u001b[1;32mif\u001b[0m \u001b[0mself\u001b[0m\u001b[1;33m.\u001b[0m\u001b[0mstop_training\u001b[0m\u001b[1;33m:\u001b[0m\u001b[1;33m\u001b[0m\u001b[1;33m\u001b[0m\u001b[0m\n\u001b[0;32m    878\u001b[0m           \u001b[1;32mbreak\u001b[0m\u001b[1;33m\u001b[0m\u001b[1;33m\u001b[0m\u001b[0m\n",
      "\u001b[1;32mc:\\python38\\lib\\site-packages\\tensorflow\\python\\keras\\callbacks.py\u001b[0m in \u001b[0;36mon_epoch_end\u001b[1;34m(self, epoch, logs)\u001b[0m\n\u001b[0;32m    363\u001b[0m     \u001b[0mlogs\u001b[0m \u001b[1;33m=\u001b[0m \u001b[0mself\u001b[0m\u001b[1;33m.\u001b[0m\u001b[0m_process_logs\u001b[0m\u001b[1;33m(\u001b[0m\u001b[0mlogs\u001b[0m\u001b[1;33m)\u001b[0m\u001b[1;33m\u001b[0m\u001b[1;33m\u001b[0m\u001b[0m\n\u001b[0;32m    364\u001b[0m     \u001b[1;32mfor\u001b[0m \u001b[0mcallback\u001b[0m \u001b[1;32min\u001b[0m \u001b[0mself\u001b[0m\u001b[1;33m.\u001b[0m\u001b[0mcallbacks\u001b[0m\u001b[1;33m:\u001b[0m\u001b[1;33m\u001b[0m\u001b[1;33m\u001b[0m\u001b[0m\n\u001b[1;32m--> 365\u001b[1;33m       \u001b[0mcallback\u001b[0m\u001b[1;33m.\u001b[0m\u001b[0mon_epoch_end\u001b[0m\u001b[1;33m(\u001b[0m\u001b[0mepoch\u001b[0m\u001b[1;33m,\u001b[0m \u001b[0mlogs\u001b[0m\u001b[1;33m)\u001b[0m\u001b[1;33m\u001b[0m\u001b[1;33m\u001b[0m\u001b[0m\n\u001b[0m\u001b[0;32m    366\u001b[0m \u001b[1;33m\u001b[0m\u001b[0m\n\u001b[0;32m    367\u001b[0m   \u001b[1;32mdef\u001b[0m \u001b[0mon_train_batch_begin\u001b[0m\u001b[1;33m(\u001b[0m\u001b[0mself\u001b[0m\u001b[1;33m,\u001b[0m \u001b[0mbatch\u001b[0m\u001b[1;33m,\u001b[0m \u001b[0mlogs\u001b[0m\u001b[1;33m=\u001b[0m\u001b[1;32mNone\u001b[0m\u001b[1;33m)\u001b[0m\u001b[1;33m:\u001b[0m\u001b[1;33m\u001b[0m\u001b[1;33m\u001b[0m\u001b[0m\n",
      "\u001b[1;32m~\\Research\\AI_research_Summer2020\\repos\\DLBoundary\\main\\savemodel.py\u001b[0m in \u001b[0;36mon_epoch_end\u001b[1;34m(self, epoch, logs)\u001b[0m\n\u001b[0;32m     12\u001b[0m         \u001b[0msuper\u001b[0m\u001b[1;33m(\u001b[0m\u001b[0mSaveModelCallback\u001b[0m\u001b[1;33m,\u001b[0m \u001b[0mself\u001b[0m\u001b[1;33m)\u001b[0m\u001b[1;33m.\u001b[0m\u001b[0mon_epoch_end\u001b[0m\u001b[1;33m(\u001b[0m\u001b[0mepoch\u001b[0m\u001b[1;33m,\u001b[0m \u001b[0mlogs\u001b[0m\u001b[1;33m)\u001b[0m\u001b[1;33m\u001b[0m\u001b[1;33m\u001b[0m\u001b[0m\n\u001b[0;32m     13\u001b[0m         \u001b[1;32mif\u001b[0m \u001b[0mepoch\u001b[0m \u001b[1;33m%\u001b[0m \u001b[0mself\u001b[0m\u001b[1;33m.\u001b[0m\u001b[0mnum_epochs\u001b[0m \u001b[1;33m==\u001b[0m \u001b[1;36m0\u001b[0m\u001b[1;33m:\u001b[0m\u001b[1;33m\u001b[0m\u001b[1;33m\u001b[0m\u001b[0m\n\u001b[1;32m---> 14\u001b[1;33m             \u001b[0mself\u001b[0m\u001b[1;33m.\u001b[0m\u001b[0mmodel\u001b[0m\u001b[1;33m.\u001b[0m\u001b[0msave\u001b[0m\u001b[1;33m(\u001b[0m\u001b[1;34mf\"{self.filepath}/{epoch}.model\"\u001b[0m\u001b[1;33m)\u001b[0m\u001b[1;33m\u001b[0m\u001b[1;33m\u001b[0m\u001b[0m\n\u001b[0m\u001b[0;32m     15\u001b[0m             \u001b[0mprint\u001b[0m\u001b[1;33m(\u001b[0m\u001b[1;34mf\"model saved: {self.filepath}/{epoch}.model\"\u001b[0m\u001b[1;33m)\u001b[0m\u001b[1;33m\u001b[0m\u001b[1;33m\u001b[0m\u001b[0m\n",
      "\u001b[1;32mc:\\python38\\lib\\site-packages\\tensorflow\\python\\keras\\engine\\network.py\u001b[0m in \u001b[0;36msave\u001b[1;34m(self, filepath, overwrite, include_optimizer, save_format, signatures, options)\u001b[0m\n\u001b[0;32m   1049\u001b[0m     \u001b[0;31m`\u001b[0m\u001b[0;31m`\u001b[0m\u001b[0;31m`\u001b[0m\u001b[1;33m\u001b[0m\u001b[1;33m\u001b[0m\u001b[0m\n\u001b[0;32m   1050\u001b[0m     \"\"\"\n\u001b[1;32m-> 1051\u001b[1;33m     save.save_model(self, filepath, overwrite, include_optimizer, save_format,\n\u001b[0m\u001b[0;32m   1052\u001b[0m                     signatures, options)\n\u001b[0;32m   1053\u001b[0m \u001b[1;33m\u001b[0m\u001b[0m\n",
      "\u001b[1;32mc:\\python38\\lib\\site-packages\\tensorflow\\python\\keras\\saving\\save.py\u001b[0m in \u001b[0;36msave_model\u001b[1;34m(model, filepath, overwrite, include_optimizer, save_format, signatures, options)\u001b[0m\n\u001b[0;32m    135\u001b[0m         model, filepath, overwrite, include_optimizer)\n\u001b[0;32m    136\u001b[0m   \u001b[1;32melse\u001b[0m\u001b[1;33m:\u001b[0m\u001b[1;33m\u001b[0m\u001b[1;33m\u001b[0m\u001b[0m\n\u001b[1;32m--> 137\u001b[1;33m     saved_model_save.save(model, filepath, overwrite, include_optimizer,\n\u001b[0m\u001b[0;32m    138\u001b[0m                           signatures, options)\n\u001b[0;32m    139\u001b[0m \u001b[1;33m\u001b[0m\u001b[0m\n",
      "\u001b[1;32mc:\\python38\\lib\\site-packages\\tensorflow\\python\\keras\\saving\\saved_model\\save.py\u001b[0m in \u001b[0;36msave\u001b[1;34m(model, filepath, overwrite, include_optimizer, signatures, options)\u001b[0m\n\u001b[0;32m     76\u001b[0m     \u001b[1;31m# we use the default replica context here.\u001b[0m\u001b[1;33m\u001b[0m\u001b[1;33m\u001b[0m\u001b[1;33m\u001b[0m\u001b[0m\n\u001b[0;32m     77\u001b[0m     \u001b[1;32mwith\u001b[0m \u001b[0mdistribution_strategy_context\u001b[0m\u001b[1;33m.\u001b[0m\u001b[0m_get_default_replica_context\u001b[0m\u001b[1;33m(\u001b[0m\u001b[1;33m)\u001b[0m\u001b[1;33m:\u001b[0m  \u001b[1;31m# pylint: disable=protected-access\u001b[0m\u001b[1;33m\u001b[0m\u001b[1;33m\u001b[0m\u001b[0m\n\u001b[1;32m---> 78\u001b[1;33m       \u001b[0msave_lib\u001b[0m\u001b[1;33m.\u001b[0m\u001b[0msave\u001b[0m\u001b[1;33m(\u001b[0m\u001b[0mmodel\u001b[0m\u001b[1;33m,\u001b[0m \u001b[0mfilepath\u001b[0m\u001b[1;33m,\u001b[0m \u001b[0msignatures\u001b[0m\u001b[1;33m,\u001b[0m \u001b[0moptions\u001b[0m\u001b[1;33m)\u001b[0m\u001b[1;33m\u001b[0m\u001b[1;33m\u001b[0m\u001b[0m\n\u001b[0m\u001b[0;32m     79\u001b[0m \u001b[1;33m\u001b[0m\u001b[0m\n\u001b[0;32m     80\u001b[0m   \u001b[1;32mif\u001b[0m \u001b[1;32mnot\u001b[0m \u001b[0minclude_optimizer\u001b[0m\u001b[1;33m:\u001b[0m\u001b[1;33m\u001b[0m\u001b[1;33m\u001b[0m\u001b[0m\n",
      "\u001b[1;32mc:\\python38\\lib\\site-packages\\tensorflow\\python\\saved_model\\save.py\u001b[0m in \u001b[0;36msave\u001b[1;34m(obj, export_dir, signatures, options)\u001b[0m\n\u001b[0;32m    948\u001b[0m   \u001b[0mmeta_graph_def\u001b[0m \u001b[1;33m=\u001b[0m \u001b[0msaved_model\u001b[0m\u001b[1;33m.\u001b[0m\u001b[0mmeta_graphs\u001b[0m\u001b[1;33m.\u001b[0m\u001b[0madd\u001b[0m\u001b[1;33m(\u001b[0m\u001b[1;33m)\u001b[0m\u001b[1;33m\u001b[0m\u001b[1;33m\u001b[0m\u001b[0m\n\u001b[0;32m    949\u001b[0m \u001b[1;33m\u001b[0m\u001b[0m\n\u001b[1;32m--> 950\u001b[1;33m   _, exported_graph, object_saver, asset_info = _build_meta_graph(\n\u001b[0m\u001b[0;32m    951\u001b[0m       obj, export_dir, signatures, options, meta_graph_def)\n\u001b[0;32m    952\u001b[0m   \u001b[0msaved_model\u001b[0m\u001b[1;33m.\u001b[0m\u001b[0msaved_model_schema_version\u001b[0m \u001b[1;33m=\u001b[0m \u001b[0mconstants\u001b[0m\u001b[1;33m.\u001b[0m\u001b[0mSAVED_MODEL_SCHEMA_VERSION\u001b[0m\u001b[1;33m\u001b[0m\u001b[1;33m\u001b[0m\u001b[0m\n",
      "\u001b[1;32mc:\\python38\\lib\\site-packages\\tensorflow\\python\\saved_model\\save.py\u001b[0m in \u001b[0;36m_build_meta_graph\u001b[1;34m(obj, export_dir, signatures, options, meta_graph_def)\u001b[0m\n\u001b[0;32m   1005\u001b[0m   \u001b[0mcheckpoint_graph_view\u001b[0m \u001b[1;33m=\u001b[0m \u001b[0m_AugmentedGraphView\u001b[0m\u001b[1;33m(\u001b[0m\u001b[0mobj\u001b[0m\u001b[1;33m)\u001b[0m\u001b[1;33m\u001b[0m\u001b[1;33m\u001b[0m\u001b[0m\n\u001b[0;32m   1006\u001b[0m   \u001b[1;32mif\u001b[0m \u001b[0msignatures\u001b[0m \u001b[1;32mis\u001b[0m \u001b[1;32mNone\u001b[0m\u001b[1;33m:\u001b[0m\u001b[1;33m\u001b[0m\u001b[1;33m\u001b[0m\u001b[0m\n\u001b[1;32m-> 1007\u001b[1;33m     signatures = signature_serialization.find_function_to_export(\n\u001b[0m\u001b[0;32m   1008\u001b[0m         checkpoint_graph_view)\n\u001b[0;32m   1009\u001b[0m \u001b[1;33m\u001b[0m\u001b[0m\n",
      "\u001b[1;32mc:\\python38\\lib\\site-packages\\tensorflow\\python\\saved_model\\signature_serialization.py\u001b[0m in \u001b[0;36mfind_function_to_export\u001b[1;34m(saveable_view)\u001b[0m\n\u001b[0;32m     73\u001b[0m   \u001b[1;31m# If the user did not specify signatures, check the root object for a function\u001b[0m\u001b[1;33m\u001b[0m\u001b[1;33m\u001b[0m\u001b[1;33m\u001b[0m\u001b[0m\n\u001b[0;32m     74\u001b[0m   \u001b[1;31m# that can be made into a signature.\u001b[0m\u001b[1;33m\u001b[0m\u001b[1;33m\u001b[0m\u001b[1;33m\u001b[0m\u001b[0m\n\u001b[1;32m---> 75\u001b[1;33m   \u001b[0mfunctions\u001b[0m \u001b[1;33m=\u001b[0m \u001b[0msaveable_view\u001b[0m\u001b[1;33m.\u001b[0m\u001b[0mlist_functions\u001b[0m\u001b[1;33m(\u001b[0m\u001b[0msaveable_view\u001b[0m\u001b[1;33m.\u001b[0m\u001b[0mroot\u001b[0m\u001b[1;33m)\u001b[0m\u001b[1;33m\u001b[0m\u001b[1;33m\u001b[0m\u001b[0m\n\u001b[0m\u001b[0;32m     76\u001b[0m   \u001b[0msignature\u001b[0m \u001b[1;33m=\u001b[0m \u001b[0mfunctions\u001b[0m\u001b[1;33m.\u001b[0m\u001b[0mget\u001b[0m\u001b[1;33m(\u001b[0m\u001b[0mDEFAULT_SIGNATURE_ATTR\u001b[0m\u001b[1;33m,\u001b[0m \u001b[1;32mNone\u001b[0m\u001b[1;33m)\u001b[0m\u001b[1;33m\u001b[0m\u001b[1;33m\u001b[0m\u001b[0m\n\u001b[0;32m     77\u001b[0m   \u001b[1;32mif\u001b[0m \u001b[0msignature\u001b[0m \u001b[1;32mis\u001b[0m \u001b[1;32mnot\u001b[0m \u001b[1;32mNone\u001b[0m\u001b[1;33m:\u001b[0m\u001b[1;33m\u001b[0m\u001b[1;33m\u001b[0m\u001b[0m\n",
      "\u001b[1;32mc:\\python38\\lib\\site-packages\\tensorflow\\python\\saved_model\\save.py\u001b[0m in \u001b[0;36mlist_functions\u001b[1;34m(self, obj)\u001b[0m\n\u001b[0;32m    140\u001b[0m     \u001b[0mobj_functions\u001b[0m \u001b[1;33m=\u001b[0m \u001b[0mself\u001b[0m\u001b[1;33m.\u001b[0m\u001b[0m_functions\u001b[0m\u001b[1;33m.\u001b[0m\u001b[0mget\u001b[0m\u001b[1;33m(\u001b[0m\u001b[0mobj\u001b[0m\u001b[1;33m,\u001b[0m \u001b[1;32mNone\u001b[0m\u001b[1;33m)\u001b[0m\u001b[1;33m\u001b[0m\u001b[1;33m\u001b[0m\u001b[0m\n\u001b[0;32m    141\u001b[0m     \u001b[1;32mif\u001b[0m \u001b[0mobj_functions\u001b[0m \u001b[1;32mis\u001b[0m \u001b[1;32mNone\u001b[0m\u001b[1;33m:\u001b[0m\u001b[1;33m\u001b[0m\u001b[1;33m\u001b[0m\u001b[0m\n\u001b[1;32m--> 142\u001b[1;33m       obj_functions = obj._list_functions_for_serialization(  # pylint: disable=protected-access\n\u001b[0m\u001b[0;32m    143\u001b[0m           self._serialization_cache)\n\u001b[0;32m    144\u001b[0m       \u001b[0mself\u001b[0m\u001b[1;33m.\u001b[0m\u001b[0m_functions\u001b[0m\u001b[1;33m[\u001b[0m\u001b[0mobj\u001b[0m\u001b[1;33m]\u001b[0m \u001b[1;33m=\u001b[0m \u001b[0mobj_functions\u001b[0m\u001b[1;33m\u001b[0m\u001b[1;33m\u001b[0m\u001b[0m\n",
      "\u001b[1;32mc:\\python38\\lib\\site-packages\\tensorflow\\python\\keras\\engine\\training.py\u001b[0m in \u001b[0;36m_list_functions_for_serialization\u001b[1;34m(self, serialization_cache)\u001b[0m\n\u001b[0;32m   1653\u001b[0m     \u001b[0mself\u001b[0m\u001b[1;33m.\u001b[0m\u001b[0mtest_function\u001b[0m \u001b[1;33m=\u001b[0m \u001b[1;32mNone\u001b[0m\u001b[1;33m\u001b[0m\u001b[1;33m\u001b[0m\u001b[0m\n\u001b[0;32m   1654\u001b[0m     \u001b[0mself\u001b[0m\u001b[1;33m.\u001b[0m\u001b[0mpredict_function\u001b[0m \u001b[1;33m=\u001b[0m \u001b[1;32mNone\u001b[0m\u001b[1;33m\u001b[0m\u001b[1;33m\u001b[0m\u001b[0m\n\u001b[1;32m-> 1655\u001b[1;33m     functions = super(\n\u001b[0m\u001b[0;32m   1656\u001b[0m         Model, self)._list_functions_for_serialization(serialization_cache)\n\u001b[0;32m   1657\u001b[0m     \u001b[0mself\u001b[0m\u001b[1;33m.\u001b[0m\u001b[0mtrain_function\u001b[0m \u001b[1;33m=\u001b[0m \u001b[0mtrain_function\u001b[0m\u001b[1;33m\u001b[0m\u001b[1;33m\u001b[0m\u001b[0m\n",
      "\u001b[1;32mc:\\python38\\lib\\site-packages\\tensorflow\\python\\keras\\engine\\base_layer.py\u001b[0m in \u001b[0;36m_list_functions_for_serialization\u001b[1;34m(self, serialization_cache)\u001b[0m\n\u001b[0;32m   2747\u001b[0m \u001b[1;33m\u001b[0m\u001b[0m\n\u001b[0;32m   2748\u001b[0m   \u001b[1;32mdef\u001b[0m \u001b[0m_list_functions_for_serialization\u001b[0m\u001b[1;33m(\u001b[0m\u001b[0mself\u001b[0m\u001b[1;33m,\u001b[0m \u001b[0mserialization_cache\u001b[0m\u001b[1;33m)\u001b[0m\u001b[1;33m:\u001b[0m\u001b[1;33m\u001b[0m\u001b[1;33m\u001b[0m\u001b[0m\n\u001b[1;32m-> 2749\u001b[1;33m     return (self._trackable_saved_model_saver\n\u001b[0m\u001b[0;32m   2750\u001b[0m             .list_functions_for_serialization(serialization_cache))\n\u001b[0;32m   2751\u001b[0m \u001b[1;33m\u001b[0m\u001b[0m\n",
      "\u001b[1;32mc:\\python38\\lib\\site-packages\\tensorflow\\python\\keras\\saving\\saved_model\\base_serialization.py\u001b[0m in \u001b[0;36mlist_functions_for_serialization\u001b[1;34m(self, serialization_cache)\u001b[0m\n\u001b[0;32m     85\u001b[0m         \u001b[0;31m`\u001b[0m\u001b[0mConcreteFunction\u001b[0m\u001b[0;31m`\u001b[0m\u001b[1;33m.\u001b[0m\u001b[1;33m\u001b[0m\u001b[1;33m\u001b[0m\u001b[0m\n\u001b[0;32m     86\u001b[0m     \"\"\"\n\u001b[1;32m---> 87\u001b[1;33m     \u001b[0mfns\u001b[0m \u001b[1;33m=\u001b[0m \u001b[0mself\u001b[0m\u001b[1;33m.\u001b[0m\u001b[0mfunctions_to_serialize\u001b[0m\u001b[1;33m(\u001b[0m\u001b[0mserialization_cache\u001b[0m\u001b[1;33m)\u001b[0m\u001b[1;33m\u001b[0m\u001b[1;33m\u001b[0m\u001b[0m\n\u001b[0m\u001b[0;32m     88\u001b[0m \u001b[1;33m\u001b[0m\u001b[0m\n\u001b[0;32m     89\u001b[0m     \u001b[1;31m# The parent AutoTrackable class saves all user-defined tf.functions, and\u001b[0m\u001b[1;33m\u001b[0m\u001b[1;33m\u001b[0m\u001b[1;33m\u001b[0m\u001b[0m\n",
      "\u001b[1;32mc:\\python38\\lib\\site-packages\\tensorflow\\python\\keras\\saving\\saved_model\\layer_serialization.py\u001b[0m in \u001b[0;36mfunctions_to_serialize\u001b[1;34m(self, serialization_cache)\u001b[0m\n\u001b[0;32m     74\u001b[0m \u001b[1;33m\u001b[0m\u001b[0m\n\u001b[0;32m     75\u001b[0m   \u001b[1;32mdef\u001b[0m \u001b[0mfunctions_to_serialize\u001b[0m\u001b[1;33m(\u001b[0m\u001b[0mself\u001b[0m\u001b[1;33m,\u001b[0m \u001b[0mserialization_cache\u001b[0m\u001b[1;33m)\u001b[0m\u001b[1;33m:\u001b[0m\u001b[1;33m\u001b[0m\u001b[1;33m\u001b[0m\u001b[0m\n\u001b[1;32m---> 76\u001b[1;33m     return (self._get_serialized_attributes(\n\u001b[0m\u001b[0;32m     77\u001b[0m         serialization_cache).functions_to_serialize)\n\u001b[0;32m     78\u001b[0m \u001b[1;33m\u001b[0m\u001b[0m\n",
      "\u001b[1;32mc:\\python38\\lib\\site-packages\\tensorflow\\python\\keras\\saving\\saved_model\\layer_serialization.py\u001b[0m in \u001b[0;36m_get_serialized_attributes\u001b[1;34m(self, serialization_cache)\u001b[0m\n\u001b[0;32m     89\u001b[0m       \u001b[1;32mreturn\u001b[0m \u001b[0mserialized_attr\u001b[0m\u001b[1;33m\u001b[0m\u001b[1;33m\u001b[0m\u001b[0m\n\u001b[0;32m     90\u001b[0m \u001b[1;33m\u001b[0m\u001b[0m\n\u001b[1;32m---> 91\u001b[1;33m     object_dict, function_dict = self._get_serialized_attributes_internal(\n\u001b[0m\u001b[0;32m     92\u001b[0m         serialization_cache)\n\u001b[0;32m     93\u001b[0m \u001b[1;33m\u001b[0m\u001b[0m\n",
      "\u001b[1;32mc:\\python38\\lib\\site-packages\\tensorflow\\python\\keras\\saving\\saved_model\\model_serialization.py\u001b[0m in \u001b[0;36m_get_serialized_attributes_internal\u001b[1;34m(self, serialization_cache)\u001b[0m\n\u001b[0;32m     45\u001b[0m     \u001b[1;31m# cache (i.e. this is the root level object).\u001b[0m\u001b[1;33m\u001b[0m\u001b[1;33m\u001b[0m\u001b[1;33m\u001b[0m\u001b[0m\n\u001b[0;32m     46\u001b[0m     \u001b[1;32mif\u001b[0m \u001b[0mlen\u001b[0m\u001b[1;33m(\u001b[0m\u001b[0mserialization_cache\u001b[0m\u001b[1;33m[\u001b[0m\u001b[0mconstants\u001b[0m\u001b[1;33m.\u001b[0m\u001b[0mKERAS_CACHE_KEY\u001b[0m\u001b[1;33m]\u001b[0m\u001b[1;33m)\u001b[0m \u001b[1;33m==\u001b[0m \u001b[1;36m1\u001b[0m\u001b[1;33m:\u001b[0m\u001b[1;33m\u001b[0m\u001b[1;33m\u001b[0m\u001b[0m\n\u001b[1;32m---> 47\u001b[1;33m       \u001b[0mdefault_signature\u001b[0m \u001b[1;33m=\u001b[0m \u001b[0msave_impl\u001b[0m\u001b[1;33m.\u001b[0m\u001b[0mdefault_save_signature\u001b[0m\u001b[1;33m(\u001b[0m\u001b[0mself\u001b[0m\u001b[1;33m.\u001b[0m\u001b[0mobj\u001b[0m\u001b[1;33m)\u001b[0m\u001b[1;33m\u001b[0m\u001b[1;33m\u001b[0m\u001b[0m\n\u001b[0m\u001b[0;32m     48\u001b[0m \u001b[1;33m\u001b[0m\u001b[0m\n\u001b[0;32m     49\u001b[0m     \u001b[1;31m# Other than the default signature function, all other attributes match with\u001b[0m\u001b[1;33m\u001b[0m\u001b[1;33m\u001b[0m\u001b[1;33m\u001b[0m\u001b[0m\n",
      "\u001b[1;32mc:\\python38\\lib\\site-packages\\tensorflow\\python\\keras\\saving\\saved_model\\save_impl.py\u001b[0m in \u001b[0;36mdefault_save_signature\u001b[1;34m(layer)\u001b[0m\n\u001b[0;32m    201\u001b[0m   \u001b[0moriginal_losses\u001b[0m \u001b[1;33m=\u001b[0m \u001b[0m_reset_layer_losses\u001b[0m\u001b[1;33m(\u001b[0m\u001b[0mlayer\u001b[0m\u001b[1;33m)\u001b[0m\u001b[1;33m\u001b[0m\u001b[1;33m\u001b[0m\u001b[0m\n\u001b[0;32m    202\u001b[0m   \u001b[0mfn\u001b[0m \u001b[1;33m=\u001b[0m \u001b[0msaving_utils\u001b[0m\u001b[1;33m.\u001b[0m\u001b[0mtrace_model_call\u001b[0m\u001b[1;33m(\u001b[0m\u001b[0mlayer\u001b[0m\u001b[1;33m)\u001b[0m\u001b[1;33m\u001b[0m\u001b[1;33m\u001b[0m\u001b[0m\n\u001b[1;32m--> 203\u001b[1;33m   \u001b[0mfn\u001b[0m\u001b[1;33m.\u001b[0m\u001b[0mget_concrete_function\u001b[0m\u001b[1;33m(\u001b[0m\u001b[1;33m)\u001b[0m\u001b[1;33m\u001b[0m\u001b[1;33m\u001b[0m\u001b[0m\n\u001b[0m\u001b[0;32m    204\u001b[0m   \u001b[0m_restore_layer_losses\u001b[0m\u001b[1;33m(\u001b[0m\u001b[0moriginal_losses\u001b[0m\u001b[1;33m)\u001b[0m\u001b[1;33m\u001b[0m\u001b[1;33m\u001b[0m\u001b[0m\n\u001b[0;32m    205\u001b[0m   \u001b[1;32mreturn\u001b[0m \u001b[0mfn\u001b[0m\u001b[1;33m\u001b[0m\u001b[1;33m\u001b[0m\u001b[0m\n",
      "\u001b[1;32mc:\\python38\\lib\\site-packages\\tensorflow\\python\\eager\\def_function.py\u001b[0m in \u001b[0;36mget_concrete_function\u001b[1;34m(self, *args, **kwargs)\u001b[0m\n\u001b[0;32m    957\u001b[0m       \u001b[0mValueError\u001b[0m\u001b[1;33m:\u001b[0m \u001b[1;32mif\u001b[0m \u001b[0mthis\u001b[0m \u001b[0mobject\u001b[0m \u001b[0mhas\u001b[0m \u001b[1;32mnot\u001b[0m \u001b[0myet\u001b[0m \u001b[0mbeen\u001b[0m \u001b[0mcalled\u001b[0m \u001b[0mon\u001b[0m \u001b[0mconcrete\u001b[0m \u001b[0mvalues\u001b[0m\u001b[1;33m.\u001b[0m\u001b[1;33m\u001b[0m\u001b[1;33m\u001b[0m\u001b[0m\n\u001b[0;32m    958\u001b[0m     \"\"\"\n\u001b[1;32m--> 959\u001b[1;33m     \u001b[0mconcrete\u001b[0m \u001b[1;33m=\u001b[0m \u001b[0mself\u001b[0m\u001b[1;33m.\u001b[0m\u001b[0m_get_concrete_function_garbage_collected\u001b[0m\u001b[1;33m(\u001b[0m\u001b[1;33m*\u001b[0m\u001b[0margs\u001b[0m\u001b[1;33m,\u001b[0m \u001b[1;33m**\u001b[0m\u001b[0mkwargs\u001b[0m\u001b[1;33m)\u001b[0m\u001b[1;33m\u001b[0m\u001b[1;33m\u001b[0m\u001b[0m\n\u001b[0m\u001b[0;32m    960\u001b[0m     \u001b[0mconcrete\u001b[0m\u001b[1;33m.\u001b[0m\u001b[0m_garbage_collector\u001b[0m\u001b[1;33m.\u001b[0m\u001b[0mrelease\u001b[0m\u001b[1;33m(\u001b[0m\u001b[1;33m)\u001b[0m  \u001b[1;31m# pylint: disable=protected-access\u001b[0m\u001b[1;33m\u001b[0m\u001b[1;33m\u001b[0m\u001b[0m\n\u001b[0;32m    961\u001b[0m     \u001b[1;32mreturn\u001b[0m \u001b[0mconcrete\u001b[0m\u001b[1;33m\u001b[0m\u001b[1;33m\u001b[0m\u001b[0m\n",
      "\u001b[1;32mc:\\python38\\lib\\site-packages\\tensorflow\\python\\eager\\def_function.py\u001b[0m in \u001b[0;36m_get_concrete_function_garbage_collected\u001b[1;34m(self, *args, **kwargs)\u001b[0m\n\u001b[0;32m    863\u001b[0m       \u001b[1;32mif\u001b[0m \u001b[0mself\u001b[0m\u001b[1;33m.\u001b[0m\u001b[0m_stateful_fn\u001b[0m \u001b[1;32mis\u001b[0m \u001b[1;32mNone\u001b[0m\u001b[1;33m:\u001b[0m\u001b[1;33m\u001b[0m\u001b[1;33m\u001b[0m\u001b[0m\n\u001b[0;32m    864\u001b[0m         \u001b[0minitializers\u001b[0m \u001b[1;33m=\u001b[0m \u001b[1;33m[\u001b[0m\u001b[1;33m]\u001b[0m\u001b[1;33m\u001b[0m\u001b[1;33m\u001b[0m\u001b[0m\n\u001b[1;32m--> 865\u001b[1;33m         \u001b[0mself\u001b[0m\u001b[1;33m.\u001b[0m\u001b[0m_initialize\u001b[0m\u001b[1;33m(\u001b[0m\u001b[0margs\u001b[0m\u001b[1;33m,\u001b[0m \u001b[0mkwargs\u001b[0m\u001b[1;33m,\u001b[0m \u001b[0madd_initializers_to\u001b[0m\u001b[1;33m=\u001b[0m\u001b[0minitializers\u001b[0m\u001b[1;33m)\u001b[0m\u001b[1;33m\u001b[0m\u001b[1;33m\u001b[0m\u001b[0m\n\u001b[0m\u001b[0;32m    866\u001b[0m         \u001b[0mself\u001b[0m\u001b[1;33m.\u001b[0m\u001b[0m_initialize_uninitialized_variables\u001b[0m\u001b[1;33m(\u001b[0m\u001b[0minitializers\u001b[0m\u001b[1;33m)\u001b[0m\u001b[1;33m\u001b[0m\u001b[1;33m\u001b[0m\u001b[0m\n\u001b[0;32m    867\u001b[0m \u001b[1;33m\u001b[0m\u001b[0m\n",
      "\u001b[1;32mc:\\python38\\lib\\site-packages\\tensorflow\\python\\eager\\def_function.py\u001b[0m in \u001b[0;36m_initialize\u001b[1;34m(self, args, kwds, add_initializers_to)\u001b[0m\n\u001b[0;32m    503\u001b[0m     \u001b[0mself\u001b[0m\u001b[1;33m.\u001b[0m\u001b[0m_graph_deleter\u001b[0m \u001b[1;33m=\u001b[0m \u001b[0mFunctionDeleter\u001b[0m\u001b[1;33m(\u001b[0m\u001b[0mself\u001b[0m\u001b[1;33m.\u001b[0m\u001b[0m_lifted_initializer_graph\u001b[0m\u001b[1;33m)\u001b[0m\u001b[1;33m\u001b[0m\u001b[1;33m\u001b[0m\u001b[0m\n\u001b[0;32m    504\u001b[0m     self._concrete_stateful_fn = (\n\u001b[1;32m--> 505\u001b[1;33m         self._stateful_fn._get_concrete_function_internal_garbage_collected(  # pylint: disable=protected-access\n\u001b[0m\u001b[0;32m    506\u001b[0m             *args, **kwds))\n\u001b[0;32m    507\u001b[0m \u001b[1;33m\u001b[0m\u001b[0m\n",
      "\u001b[1;32mc:\\python38\\lib\\site-packages\\tensorflow\\python\\eager\\function.py\u001b[0m in \u001b[0;36m_get_concrete_function_internal_garbage_collected\u001b[1;34m(self, *args, **kwargs)\u001b[0m\n\u001b[0;32m   2444\u001b[0m       \u001b[0margs\u001b[0m\u001b[1;33m,\u001b[0m \u001b[0mkwargs\u001b[0m \u001b[1;33m=\u001b[0m \u001b[1;32mNone\u001b[0m\u001b[1;33m,\u001b[0m \u001b[1;32mNone\u001b[0m\u001b[1;33m\u001b[0m\u001b[1;33m\u001b[0m\u001b[0m\n\u001b[0;32m   2445\u001b[0m     \u001b[1;32mwith\u001b[0m \u001b[0mself\u001b[0m\u001b[1;33m.\u001b[0m\u001b[0m_lock\u001b[0m\u001b[1;33m:\u001b[0m\u001b[1;33m\u001b[0m\u001b[1;33m\u001b[0m\u001b[0m\n\u001b[1;32m-> 2446\u001b[1;33m       \u001b[0mgraph_function\u001b[0m\u001b[1;33m,\u001b[0m \u001b[0m_\u001b[0m\u001b[1;33m,\u001b[0m \u001b[0m_\u001b[0m \u001b[1;33m=\u001b[0m \u001b[0mself\u001b[0m\u001b[1;33m.\u001b[0m\u001b[0m_maybe_define_function\u001b[0m\u001b[1;33m(\u001b[0m\u001b[0margs\u001b[0m\u001b[1;33m,\u001b[0m \u001b[0mkwargs\u001b[0m\u001b[1;33m)\u001b[0m\u001b[1;33m\u001b[0m\u001b[1;33m\u001b[0m\u001b[0m\n\u001b[0m\u001b[0;32m   2447\u001b[0m     \u001b[1;32mreturn\u001b[0m \u001b[0mgraph_function\u001b[0m\u001b[1;33m\u001b[0m\u001b[1;33m\u001b[0m\u001b[0m\n\u001b[0;32m   2448\u001b[0m \u001b[1;33m\u001b[0m\u001b[0m\n",
      "\u001b[1;32mc:\\python38\\lib\\site-packages\\tensorflow\\python\\eager\\function.py\u001b[0m in \u001b[0;36m_maybe_define_function\u001b[1;34m(self, args, kwargs)\u001b[0m\n\u001b[0;32m   2775\u001b[0m \u001b[1;33m\u001b[0m\u001b[0m\n\u001b[0;32m   2776\u001b[0m       \u001b[0mself\u001b[0m\u001b[1;33m.\u001b[0m\u001b[0m_function_cache\u001b[0m\u001b[1;33m.\u001b[0m\u001b[0mmissed\u001b[0m\u001b[1;33m.\u001b[0m\u001b[0madd\u001b[0m\u001b[1;33m(\u001b[0m\u001b[0mcall_context_key\u001b[0m\u001b[1;33m)\u001b[0m\u001b[1;33m\u001b[0m\u001b[1;33m\u001b[0m\u001b[0m\n\u001b[1;32m-> 2777\u001b[1;33m       \u001b[0mgraph_function\u001b[0m \u001b[1;33m=\u001b[0m \u001b[0mself\u001b[0m\u001b[1;33m.\u001b[0m\u001b[0m_create_graph_function\u001b[0m\u001b[1;33m(\u001b[0m\u001b[0margs\u001b[0m\u001b[1;33m,\u001b[0m \u001b[0mkwargs\u001b[0m\u001b[1;33m)\u001b[0m\u001b[1;33m\u001b[0m\u001b[1;33m\u001b[0m\u001b[0m\n\u001b[0m\u001b[0;32m   2778\u001b[0m       \u001b[0mself\u001b[0m\u001b[1;33m.\u001b[0m\u001b[0m_function_cache\u001b[0m\u001b[1;33m.\u001b[0m\u001b[0mprimary\u001b[0m\u001b[1;33m[\u001b[0m\u001b[0mcache_key\u001b[0m\u001b[1;33m]\u001b[0m \u001b[1;33m=\u001b[0m \u001b[0mgraph_function\u001b[0m\u001b[1;33m\u001b[0m\u001b[1;33m\u001b[0m\u001b[0m\n\u001b[0;32m   2779\u001b[0m       \u001b[1;32mreturn\u001b[0m \u001b[0mgraph_function\u001b[0m\u001b[1;33m,\u001b[0m \u001b[0margs\u001b[0m\u001b[1;33m,\u001b[0m \u001b[0mkwargs\u001b[0m\u001b[1;33m\u001b[0m\u001b[1;33m\u001b[0m\u001b[0m\n",
      "\u001b[1;32mc:\\python38\\lib\\site-packages\\tensorflow\\python\\eager\\function.py\u001b[0m in \u001b[0;36m_create_graph_function\u001b[1;34m(self, args, kwargs, override_flat_arg_shapes)\u001b[0m\n\u001b[0;32m   2655\u001b[0m     \u001b[0marg_names\u001b[0m \u001b[1;33m=\u001b[0m \u001b[0mbase_arg_names\u001b[0m \u001b[1;33m+\u001b[0m \u001b[0mmissing_arg_names\u001b[0m\u001b[1;33m\u001b[0m\u001b[1;33m\u001b[0m\u001b[0m\n\u001b[0;32m   2656\u001b[0m     graph_function = ConcreteFunction(\n\u001b[1;32m-> 2657\u001b[1;33m         func_graph_module.func_graph_from_py_func(\n\u001b[0m\u001b[0;32m   2658\u001b[0m             \u001b[0mself\u001b[0m\u001b[1;33m.\u001b[0m\u001b[0m_name\u001b[0m\u001b[1;33m,\u001b[0m\u001b[1;33m\u001b[0m\u001b[1;33m\u001b[0m\u001b[0m\n\u001b[0;32m   2659\u001b[0m             \u001b[0mself\u001b[0m\u001b[1;33m.\u001b[0m\u001b[0m_python_function\u001b[0m\u001b[1;33m,\u001b[0m\u001b[1;33m\u001b[0m\u001b[1;33m\u001b[0m\u001b[0m\n",
      "\u001b[1;32mc:\\python38\\lib\\site-packages\\tensorflow\\python\\framework\\func_graph.py\u001b[0m in \u001b[0;36mfunc_graph_from_py_func\u001b[1;34m(name, python_func, args, kwargs, signature, func_graph, autograph, autograph_options, add_control_dependencies, arg_names, op_return_value, collections, capture_by_value, override_flat_arg_shapes)\u001b[0m\n\u001b[0;32m    979\u001b[0m         \u001b[0m_\u001b[0m\u001b[1;33m,\u001b[0m \u001b[0moriginal_func\u001b[0m \u001b[1;33m=\u001b[0m \u001b[0mtf_decorator\u001b[0m\u001b[1;33m.\u001b[0m\u001b[0munwrap\u001b[0m\u001b[1;33m(\u001b[0m\u001b[0mpython_func\u001b[0m\u001b[1;33m)\u001b[0m\u001b[1;33m\u001b[0m\u001b[1;33m\u001b[0m\u001b[0m\n\u001b[0;32m    980\u001b[0m \u001b[1;33m\u001b[0m\u001b[0m\n\u001b[1;32m--> 981\u001b[1;33m       \u001b[0mfunc_outputs\u001b[0m \u001b[1;33m=\u001b[0m \u001b[0mpython_func\u001b[0m\u001b[1;33m(\u001b[0m\u001b[1;33m*\u001b[0m\u001b[0mfunc_args\u001b[0m\u001b[1;33m,\u001b[0m \u001b[1;33m**\u001b[0m\u001b[0mfunc_kwargs\u001b[0m\u001b[1;33m)\u001b[0m\u001b[1;33m\u001b[0m\u001b[1;33m\u001b[0m\u001b[0m\n\u001b[0m\u001b[0;32m    982\u001b[0m \u001b[1;33m\u001b[0m\u001b[0m\n\u001b[0;32m    983\u001b[0m       \u001b[1;31m# invariant: `func_outputs` contains only Tensors, CompositeTensors,\u001b[0m\u001b[1;33m\u001b[0m\u001b[1;33m\u001b[0m\u001b[1;33m\u001b[0m\u001b[0m\n",
      "\u001b[1;32mc:\\python38\\lib\\site-packages\\tensorflow\\python\\eager\\def_function.py\u001b[0m in \u001b[0;36mwrapped_fn\u001b[1;34m(*args, **kwds)\u001b[0m\n\u001b[0;32m    439\u001b[0m         \u001b[1;31m# __wrapped__ allows AutoGraph to swap in a converted function. We give\u001b[0m\u001b[1;33m\u001b[0m\u001b[1;33m\u001b[0m\u001b[1;33m\u001b[0m\u001b[0m\n\u001b[0;32m    440\u001b[0m         \u001b[1;31m# the function a weak reference to itself to avoid a reference cycle.\u001b[0m\u001b[1;33m\u001b[0m\u001b[1;33m\u001b[0m\u001b[1;33m\u001b[0m\u001b[0m\n\u001b[1;32m--> 441\u001b[1;33m         \u001b[1;32mreturn\u001b[0m \u001b[0mweak_wrapped_fn\u001b[0m\u001b[1;33m(\u001b[0m\u001b[1;33m)\u001b[0m\u001b[1;33m.\u001b[0m\u001b[0m__wrapped__\u001b[0m\u001b[1;33m(\u001b[0m\u001b[1;33m*\u001b[0m\u001b[0margs\u001b[0m\u001b[1;33m,\u001b[0m \u001b[1;33m**\u001b[0m\u001b[0mkwds\u001b[0m\u001b[1;33m)\u001b[0m\u001b[1;33m\u001b[0m\u001b[1;33m\u001b[0m\u001b[0m\n\u001b[0m\u001b[0;32m    442\u001b[0m     \u001b[0mweak_wrapped_fn\u001b[0m \u001b[1;33m=\u001b[0m \u001b[0mweakref\u001b[0m\u001b[1;33m.\u001b[0m\u001b[0mref\u001b[0m\u001b[1;33m(\u001b[0m\u001b[0mwrapped_fn\u001b[0m\u001b[1;33m)\u001b[0m\u001b[1;33m\u001b[0m\u001b[1;33m\u001b[0m\u001b[0m\n\u001b[0;32m    443\u001b[0m \u001b[1;33m\u001b[0m\u001b[0m\n",
      "\u001b[1;32mc:\\python38\\lib\\site-packages\\tensorflow\\python\\keras\\saving\\saving_utils.py\u001b[0m in \u001b[0;36m_wrapped_model\u001b[1;34m(*args)\u001b[0m\n\u001b[0;32m    130\u001b[0m     with base_layer_utils.call_context().enter(\n\u001b[0;32m    131\u001b[0m         model, inputs=inputs, build_graph=False, training=False, saving=True):\n\u001b[1;32m--> 132\u001b[1;33m       \u001b[0moutputs\u001b[0m \u001b[1;33m=\u001b[0m \u001b[0mmodel\u001b[0m\u001b[1;33m(\u001b[0m\u001b[0minputs\u001b[0m\u001b[1;33m,\u001b[0m \u001b[0mtraining\u001b[0m\u001b[1;33m=\u001b[0m\u001b[1;32mFalse\u001b[0m\u001b[1;33m)\u001b[0m\u001b[1;33m\u001b[0m\u001b[1;33m\u001b[0m\u001b[0m\n\u001b[0m\u001b[0;32m    133\u001b[0m \u001b[1;33m\u001b[0m\u001b[0m\n\u001b[0;32m    134\u001b[0m     \u001b[1;31m# Outputs always has to be a flat dict.\u001b[0m\u001b[1;33m\u001b[0m\u001b[1;33m\u001b[0m\u001b[1;33m\u001b[0m\u001b[0m\n",
      "\u001b[1;32mc:\\python38\\lib\\site-packages\\tensorflow\\python\\keras\\engine\\base_layer.py\u001b[0m in \u001b[0;36m__call__\u001b[1;34m(self, *args, **kwargs)\u001b[0m\n\u001b[0;32m    925\u001b[0m                     \u001b[0moutputs\u001b[0m \u001b[1;33m=\u001b[0m \u001b[0mbase_layer_utils\u001b[0m\u001b[1;33m.\u001b[0m\u001b[0mmark_as_return\u001b[0m\u001b[1;33m(\u001b[0m\u001b[0moutputs\u001b[0m\u001b[1;33m,\u001b[0m \u001b[0macd\u001b[0m\u001b[1;33m)\u001b[0m\u001b[1;33m\u001b[0m\u001b[1;33m\u001b[0m\u001b[0m\n\u001b[0;32m    926\u001b[0m                 \u001b[1;32melse\u001b[0m\u001b[1;33m:\u001b[0m\u001b[1;33m\u001b[0m\u001b[1;33m\u001b[0m\u001b[0m\n\u001b[1;32m--> 927\u001b[1;33m                   \u001b[0moutputs\u001b[0m \u001b[1;33m=\u001b[0m \u001b[0mcall_fn\u001b[0m\u001b[1;33m(\u001b[0m\u001b[0mcast_inputs\u001b[0m\u001b[1;33m,\u001b[0m \u001b[1;33m*\u001b[0m\u001b[0margs\u001b[0m\u001b[1;33m,\u001b[0m \u001b[1;33m**\u001b[0m\u001b[0mkwargs\u001b[0m\u001b[1;33m)\u001b[0m\u001b[1;33m\u001b[0m\u001b[1;33m\u001b[0m\u001b[0m\n\u001b[0m\u001b[0;32m    928\u001b[0m \u001b[1;33m\u001b[0m\u001b[0m\n\u001b[0;32m    929\u001b[0m             \u001b[1;32mexcept\u001b[0m \u001b[0merrors\u001b[0m\u001b[1;33m.\u001b[0m\u001b[0mOperatorNotAllowedInGraphError\u001b[0m \u001b[1;32mas\u001b[0m \u001b[0me\u001b[0m\u001b[1;33m:\u001b[0m\u001b[1;33m\u001b[0m\u001b[1;33m\u001b[0m\u001b[0m\n",
      "\u001b[1;32mc:\\python38\\lib\\site-packages\\tensorflow\\python\\keras\\engine\\sequential.py\u001b[0m in \u001b[0;36mcall\u001b[1;34m(self, inputs, training, mask)\u001b[0m\n\u001b[0;32m    275\u001b[0m       \u001b[1;32mif\u001b[0m \u001b[1;32mnot\u001b[0m \u001b[0mself\u001b[0m\u001b[1;33m.\u001b[0m\u001b[0mbuilt\u001b[0m\u001b[1;33m:\u001b[0m\u001b[1;33m\u001b[0m\u001b[1;33m\u001b[0m\u001b[0m\n\u001b[0;32m    276\u001b[0m         \u001b[0mself\u001b[0m\u001b[1;33m.\u001b[0m\u001b[0m_init_graph_network\u001b[0m\u001b[1;33m(\u001b[0m\u001b[0mself\u001b[0m\u001b[1;33m.\u001b[0m\u001b[0minputs\u001b[0m\u001b[1;33m,\u001b[0m \u001b[0mself\u001b[0m\u001b[1;33m.\u001b[0m\u001b[0moutputs\u001b[0m\u001b[1;33m,\u001b[0m \u001b[0mname\u001b[0m\u001b[1;33m=\u001b[0m\u001b[0mself\u001b[0m\u001b[1;33m.\u001b[0m\u001b[0mname\u001b[0m\u001b[1;33m)\u001b[0m\u001b[1;33m\u001b[0m\u001b[1;33m\u001b[0m\u001b[0m\n\u001b[1;32m--> 277\u001b[1;33m       \u001b[1;32mreturn\u001b[0m \u001b[0msuper\u001b[0m\u001b[1;33m(\u001b[0m\u001b[0mSequential\u001b[0m\u001b[1;33m,\u001b[0m \u001b[0mself\u001b[0m\u001b[1;33m)\u001b[0m\u001b[1;33m.\u001b[0m\u001b[0mcall\u001b[0m\u001b[1;33m(\u001b[0m\u001b[0minputs\u001b[0m\u001b[1;33m,\u001b[0m \u001b[0mtraining\u001b[0m\u001b[1;33m=\u001b[0m\u001b[0mtraining\u001b[0m\u001b[1;33m,\u001b[0m \u001b[0mmask\u001b[0m\u001b[1;33m=\u001b[0m\u001b[0mmask\u001b[0m\u001b[1;33m)\u001b[0m\u001b[1;33m\u001b[0m\u001b[1;33m\u001b[0m\u001b[0m\n\u001b[0m\u001b[0;32m    278\u001b[0m \u001b[1;33m\u001b[0m\u001b[0m\n\u001b[0;32m    279\u001b[0m     \u001b[0moutputs\u001b[0m \u001b[1;33m=\u001b[0m \u001b[0minputs\u001b[0m  \u001b[1;31m# handle the corner case where self.layers is empty\u001b[0m\u001b[1;33m\u001b[0m\u001b[1;33m\u001b[0m\u001b[0m\n",
      "\u001b[1;32mc:\\python38\\lib\\site-packages\\tensorflow\\python\\keras\\engine\\network.py\u001b[0m in \u001b[0;36mcall\u001b[1;34m(self, inputs, training, mask)\u001b[0m\n\u001b[0;32m    715\u001b[0m                                 ' implement a `call` method.')\n\u001b[0;32m    716\u001b[0m \u001b[1;33m\u001b[0m\u001b[0m\n\u001b[1;32m--> 717\u001b[1;33m     return self._run_internal_graph(\n\u001b[0m\u001b[0;32m    718\u001b[0m         \u001b[0minputs\u001b[0m\u001b[1;33m,\u001b[0m \u001b[0mtraining\u001b[0m\u001b[1;33m=\u001b[0m\u001b[0mtraining\u001b[0m\u001b[1;33m,\u001b[0m \u001b[0mmask\u001b[0m\u001b[1;33m=\u001b[0m\u001b[0mmask\u001b[0m\u001b[1;33m,\u001b[0m\u001b[1;33m\u001b[0m\u001b[1;33m\u001b[0m\u001b[0m\n\u001b[0;32m    719\u001b[0m         convert_kwargs_to_constants=base_layer_utils.call_context().saving)\n",
      "\u001b[1;32mc:\\python38\\lib\\site-packages\\tensorflow\\python\\keras\\engine\\network.py\u001b[0m in \u001b[0;36m_run_internal_graph\u001b[1;34m(self, inputs, training, mask, convert_kwargs_to_constants)\u001b[0m\n\u001b[0;32m    886\u001b[0m \u001b[1;33m\u001b[0m\u001b[0m\n\u001b[0;32m    887\u001b[0m           \u001b[1;31m# Compute outputs.\u001b[0m\u001b[1;33m\u001b[0m\u001b[1;33m\u001b[0m\u001b[1;33m\u001b[0m\u001b[0m\n\u001b[1;32m--> 888\u001b[1;33m           \u001b[0moutput_tensors\u001b[0m \u001b[1;33m=\u001b[0m \u001b[0mlayer\u001b[0m\u001b[1;33m(\u001b[0m\u001b[0mcomputed_tensors\u001b[0m\u001b[1;33m,\u001b[0m \u001b[1;33m**\u001b[0m\u001b[0mkwargs\u001b[0m\u001b[1;33m)\u001b[0m\u001b[1;33m\u001b[0m\u001b[1;33m\u001b[0m\u001b[0m\n\u001b[0m\u001b[0;32m    889\u001b[0m \u001b[1;33m\u001b[0m\u001b[0m\n\u001b[0;32m    890\u001b[0m           \u001b[1;31m# Update tensor_dict.\u001b[0m\u001b[1;33m\u001b[0m\u001b[1;33m\u001b[0m\u001b[1;33m\u001b[0m\u001b[0m\n",
      "\u001b[1;32mc:\\python38\\lib\\site-packages\\tensorflow\\python\\keras\\engine\\base_layer.py\u001b[0m in \u001b[0;36m__call__\u001b[1;34m(self, *args, **kwargs)\u001b[0m\n\u001b[0;32m    925\u001b[0m                     \u001b[0moutputs\u001b[0m \u001b[1;33m=\u001b[0m \u001b[0mbase_layer_utils\u001b[0m\u001b[1;33m.\u001b[0m\u001b[0mmark_as_return\u001b[0m\u001b[1;33m(\u001b[0m\u001b[0moutputs\u001b[0m\u001b[1;33m,\u001b[0m \u001b[0macd\u001b[0m\u001b[1;33m)\u001b[0m\u001b[1;33m\u001b[0m\u001b[1;33m\u001b[0m\u001b[0m\n\u001b[0;32m    926\u001b[0m                 \u001b[1;32melse\u001b[0m\u001b[1;33m:\u001b[0m\u001b[1;33m\u001b[0m\u001b[1;33m\u001b[0m\u001b[0m\n\u001b[1;32m--> 927\u001b[1;33m                   \u001b[0moutputs\u001b[0m \u001b[1;33m=\u001b[0m \u001b[0mcall_fn\u001b[0m\u001b[1;33m(\u001b[0m\u001b[0mcast_inputs\u001b[0m\u001b[1;33m,\u001b[0m \u001b[1;33m*\u001b[0m\u001b[0margs\u001b[0m\u001b[1;33m,\u001b[0m \u001b[1;33m**\u001b[0m\u001b[0mkwargs\u001b[0m\u001b[1;33m)\u001b[0m\u001b[1;33m\u001b[0m\u001b[1;33m\u001b[0m\u001b[0m\n\u001b[0m\u001b[0;32m    928\u001b[0m \u001b[1;33m\u001b[0m\u001b[0m\n\u001b[0;32m    929\u001b[0m             \u001b[1;32mexcept\u001b[0m \u001b[0merrors\u001b[0m\u001b[1;33m.\u001b[0m\u001b[0mOperatorNotAllowedInGraphError\u001b[0m \u001b[1;32mas\u001b[0m \u001b[0me\u001b[0m\u001b[1;33m:\u001b[0m\u001b[1;33m\u001b[0m\u001b[1;33m\u001b[0m\u001b[0m\n",
      "\u001b[1;32m~\\Research\\AI_research_Summer2020\\repos\\DLBoundary\\main\\models.py\u001b[0m in \u001b[0;36mcall\u001b[1;34m(self, inputs)\u001b[0m\n\u001b[0;32m   1181\u001b[0m     \u001b[1;32mif\u001b[0m \u001b[0mrank\u001b[0m \u001b[1;32mis\u001b[0m \u001b[1;32mnot\u001b[0m \u001b[1;32mNone\u001b[0m \u001b[1;32mand\u001b[0m \u001b[0mrank\u001b[0m \u001b[1;33m>\u001b[0m \u001b[1;36m2\u001b[0m\u001b[1;33m:\u001b[0m\u001b[1;33m\u001b[0m\u001b[1;33m\u001b[0m\u001b[0m\n\u001b[0;32m   1182\u001b[0m       \u001b[1;31m# Broadcasting is required for the inputs.\u001b[0m\u001b[1;33m\u001b[0m\u001b[1;33m\u001b[0m\u001b[1;33m\u001b[0m\u001b[0m\n\u001b[1;32m-> 1183\u001b[1;33m       \u001b[0moutputs\u001b[0m \u001b[1;33m=\u001b[0m \u001b[0mstandard_ops\u001b[0m\u001b[1;33m.\u001b[0m\u001b[0mtensordot\u001b[0m\u001b[1;33m(\u001b[0m\u001b[0minputs\u001b[0m\u001b[1;33m,\u001b[0m \u001b[0mself\u001b[0m\u001b[1;33m.\u001b[0m\u001b[0mkernel\u001b[0m\u001b[1;33m,\u001b[0m \u001b[1;33m[\u001b[0m\u001b[1;33m[\u001b[0m\u001b[0mrank\u001b[0m \u001b[1;33m-\u001b[0m \u001b[1;36m1\u001b[0m\u001b[1;33m]\u001b[0m\u001b[1;33m,\u001b[0m \u001b[1;33m[\u001b[0m\u001b[1;36m0\u001b[0m\u001b[1;33m]\u001b[0m\u001b[1;33m]\u001b[0m\u001b[1;33m)\u001b[0m\u001b[1;33m\u001b[0m\u001b[1;33m\u001b[0m\u001b[0m\n\u001b[0m\u001b[0;32m   1184\u001b[0m       \u001b[1;31m# Reshape the output back to the original ndim of the input.\u001b[0m\u001b[1;33m\u001b[0m\u001b[1;33m\u001b[0m\u001b[1;33m\u001b[0m\u001b[0m\n\u001b[0;32m   1185\u001b[0m       \u001b[1;32mif\u001b[0m \u001b[1;32mnot\u001b[0m \u001b[0mcontext\u001b[0m\u001b[1;33m.\u001b[0m\u001b[0mexecuting_eagerly\u001b[0m\u001b[1;33m(\u001b[0m\u001b[1;33m)\u001b[0m\u001b[1;33m:\u001b[0m\u001b[1;33m\u001b[0m\u001b[1;33m\u001b[0m\u001b[0m\n",
      "\u001b[1;32mc:\\python38\\lib\\site-packages\\tensorflow\\python\\ops\\math_ops.py\u001b[0m in \u001b[0;36mtensordot\u001b[1;34m(a, b, axes, name)\u001b[0m\n\u001b[0;32m   4341\u001b[0m     \u001b[0mb\u001b[0m \u001b[1;33m=\u001b[0m \u001b[0mops\u001b[0m\u001b[1;33m.\u001b[0m\u001b[0mconvert_to_tensor\u001b[0m\u001b[1;33m(\u001b[0m\u001b[0mb\u001b[0m\u001b[1;33m,\u001b[0m \u001b[0mname\u001b[0m\u001b[1;33m=\u001b[0m\u001b[1;34m\"b\"\u001b[0m\u001b[1;33m)\u001b[0m\u001b[1;33m\u001b[0m\u001b[1;33m\u001b[0m\u001b[0m\n\u001b[0;32m   4342\u001b[0m     \u001b[0ma_axes\u001b[0m\u001b[1;33m,\u001b[0m \u001b[0mb_axes\u001b[0m \u001b[1;33m=\u001b[0m \u001b[0m_tensordot_axes\u001b[0m\u001b[1;33m(\u001b[0m\u001b[0ma\u001b[0m\u001b[1;33m,\u001b[0m \u001b[0maxes\u001b[0m\u001b[1;33m)\u001b[0m\u001b[1;33m\u001b[0m\u001b[1;33m\u001b[0m\u001b[0m\n\u001b[1;32m-> 4343\u001b[1;33m     \u001b[0ma_reshape\u001b[0m\u001b[1;33m,\u001b[0m \u001b[0ma_free_dims\u001b[0m\u001b[1;33m,\u001b[0m \u001b[0ma_free_dims_static\u001b[0m \u001b[1;33m=\u001b[0m \u001b[0m_tensordot_reshape\u001b[0m\u001b[1;33m(\u001b[0m\u001b[0ma\u001b[0m\u001b[1;33m,\u001b[0m \u001b[0ma_axes\u001b[0m\u001b[1;33m)\u001b[0m\u001b[1;33m\u001b[0m\u001b[1;33m\u001b[0m\u001b[0m\n\u001b[0m\u001b[0;32m   4344\u001b[0m     b_reshape, b_free_dims, b_free_dims_static = _tensordot_reshape(\n\u001b[0;32m   4345\u001b[0m         b, b_axes, True)\n",
      "\u001b[1;32mc:\\python38\\lib\\site-packages\\tensorflow\\python\\ops\\math_ops.py\u001b[0m in \u001b[0;36m_tensordot_reshape\u001b[1;34m(a, axes, flipped)\u001b[0m\n\u001b[0;32m   4290\u001b[0m         \u001b[0maxes\u001b[0m \u001b[1;33m=\u001b[0m \u001b[0marray_ops\u001b[0m\u001b[1;33m.\u001b[0m\u001b[0mwhere\u001b[0m\u001b[1;33m(\u001b[0m\u001b[0maxes\u001b[0m \u001b[1;33m>=\u001b[0m \u001b[1;36m0\u001b[0m\u001b[1;33m,\u001b[0m \u001b[0maxes\u001b[0m\u001b[1;33m,\u001b[0m \u001b[0maxes\u001b[0m \u001b[1;33m+\u001b[0m \u001b[0mrank_a\u001b[0m\u001b[1;33m)\u001b[0m\u001b[1;33m\u001b[0m\u001b[1;33m\u001b[0m\u001b[0m\n\u001b[0;32m   4291\u001b[0m         \u001b[0mfree\u001b[0m\u001b[1;33m,\u001b[0m \u001b[0m_\u001b[0m \u001b[1;33m=\u001b[0m \u001b[0marray_ops\u001b[0m\u001b[1;33m.\u001b[0m\u001b[0msetdiff1d\u001b[0m\u001b[1;33m(\u001b[0m\u001b[0mrange\u001b[0m\u001b[1;33m(\u001b[0m\u001b[0mrank_a\u001b[0m\u001b[1;33m)\u001b[0m\u001b[1;33m,\u001b[0m \u001b[0maxes\u001b[0m\u001b[1;33m)\u001b[0m\u001b[1;33m\u001b[0m\u001b[1;33m\u001b[0m\u001b[0m\n\u001b[1;32m-> 4292\u001b[1;33m       \u001b[0mfree_dims\u001b[0m \u001b[1;33m=\u001b[0m \u001b[0marray_ops\u001b[0m\u001b[1;33m.\u001b[0m\u001b[0mgather\u001b[0m\u001b[1;33m(\u001b[0m\u001b[0mshape_a\u001b[0m\u001b[1;33m,\u001b[0m \u001b[0mfree\u001b[0m\u001b[1;33m)\u001b[0m\u001b[1;33m\u001b[0m\u001b[1;33m\u001b[0m\u001b[0m\n\u001b[0m\u001b[0;32m   4293\u001b[0m       \u001b[0maxes_dims\u001b[0m \u001b[1;33m=\u001b[0m \u001b[0marray_ops\u001b[0m\u001b[1;33m.\u001b[0m\u001b[0mgather\u001b[0m\u001b[1;33m(\u001b[0m\u001b[0mshape_a\u001b[0m\u001b[1;33m,\u001b[0m \u001b[0maxes\u001b[0m\u001b[1;33m)\u001b[0m\u001b[1;33m\u001b[0m\u001b[1;33m\u001b[0m\u001b[0m\n\u001b[0;32m   4294\u001b[0m       \u001b[0mprod_free_dims\u001b[0m \u001b[1;33m=\u001b[0m \u001b[0mreduce_prod\u001b[0m\u001b[1;33m(\u001b[0m\u001b[0mfree_dims\u001b[0m\u001b[1;33m)\u001b[0m\u001b[1;33m\u001b[0m\u001b[1;33m\u001b[0m\u001b[0m\n",
      "\u001b[1;32mc:\\python38\\lib\\site-packages\\tensorflow\\python\\util\\dispatch.py\u001b[0m in \u001b[0;36mwrapper\u001b[1;34m(*args, **kwargs)\u001b[0m\n\u001b[0;32m    178\u001b[0m     \u001b[1;34m\"\"\"Call target, and fall back on dispatchers if there is a TypeError.\"\"\"\u001b[0m\u001b[1;33m\u001b[0m\u001b[1;33m\u001b[0m\u001b[0m\n\u001b[0;32m    179\u001b[0m     \u001b[1;32mtry\u001b[0m\u001b[1;33m:\u001b[0m\u001b[1;33m\u001b[0m\u001b[1;33m\u001b[0m\u001b[0m\n\u001b[1;32m--> 180\u001b[1;33m       \u001b[1;32mreturn\u001b[0m \u001b[0mtarget\u001b[0m\u001b[1;33m(\u001b[0m\u001b[1;33m*\u001b[0m\u001b[0margs\u001b[0m\u001b[1;33m,\u001b[0m \u001b[1;33m**\u001b[0m\u001b[0mkwargs\u001b[0m\u001b[1;33m)\u001b[0m\u001b[1;33m\u001b[0m\u001b[1;33m\u001b[0m\u001b[0m\n\u001b[0m\u001b[0;32m    181\u001b[0m     \u001b[1;32mexcept\u001b[0m \u001b[1;33m(\u001b[0m\u001b[0mTypeError\u001b[0m\u001b[1;33m,\u001b[0m \u001b[0mValueError\u001b[0m\u001b[1;33m)\u001b[0m\u001b[1;33m:\u001b[0m\u001b[1;33m\u001b[0m\u001b[1;33m\u001b[0m\u001b[0m\n\u001b[0;32m    182\u001b[0m       \u001b[1;31m# Note: convert_to_eager_tensor currently raises a ValueError, not a\u001b[0m\u001b[1;33m\u001b[0m\u001b[1;33m\u001b[0m\u001b[1;33m\u001b[0m\u001b[0m\n",
      "\u001b[1;32mc:\\python38\\lib\\site-packages\\tensorflow\\python\\ops\\array_ops.py\u001b[0m in \u001b[0;36mgather\u001b[1;34m(***failed resolving arguments***)\u001b[0m\n\u001b[0;32m   4522\u001b[0m     \u001b[1;32mreturn\u001b[0m \u001b[0mparams\u001b[0m\u001b[1;33m.\u001b[0m\u001b[0msparse_read\u001b[0m\u001b[1;33m(\u001b[0m\u001b[0mindices\u001b[0m\u001b[1;33m,\u001b[0m \u001b[0mname\u001b[0m\u001b[1;33m=\u001b[0m\u001b[0mname\u001b[0m\u001b[1;33m)\u001b[0m\u001b[1;33m\u001b[0m\u001b[1;33m\u001b[0m\u001b[0m\n\u001b[0;32m   4523\u001b[0m   \u001b[1;32mexcept\u001b[0m \u001b[0mAttributeError\u001b[0m\u001b[1;33m:\u001b[0m\u001b[1;33m\u001b[0m\u001b[1;33m\u001b[0m\u001b[0m\n\u001b[1;32m-> 4524\u001b[1;33m     \u001b[1;32mreturn\u001b[0m \u001b[0mgen_array_ops\u001b[0m\u001b[1;33m.\u001b[0m\u001b[0mgather_v2\u001b[0m\u001b[1;33m(\u001b[0m\u001b[0mparams\u001b[0m\u001b[1;33m,\u001b[0m \u001b[0mindices\u001b[0m\u001b[1;33m,\u001b[0m \u001b[0maxis\u001b[0m\u001b[1;33m,\u001b[0m \u001b[0mname\u001b[0m\u001b[1;33m=\u001b[0m\u001b[0mname\u001b[0m\u001b[1;33m)\u001b[0m\u001b[1;33m\u001b[0m\u001b[1;33m\u001b[0m\u001b[0m\n\u001b[0m\u001b[0;32m   4525\u001b[0m \u001b[1;33m\u001b[0m\u001b[0m\n\u001b[0;32m   4526\u001b[0m \u001b[1;33m\u001b[0m\u001b[0m\n",
      "\u001b[1;32mc:\\python38\\lib\\site-packages\\tensorflow\\python\\ops\\gen_array_ops.py\u001b[0m in \u001b[0;36mgather_v2\u001b[1;34m(params, indices, axis, batch_dims, name)\u001b[0m\n\u001b[0;32m   3758\u001b[0m     \u001b[0mbatch_dims\u001b[0m \u001b[1;33m=\u001b[0m \u001b[1;36m0\u001b[0m\u001b[1;33m\u001b[0m\u001b[1;33m\u001b[0m\u001b[0m\n\u001b[0;32m   3759\u001b[0m   \u001b[0mbatch_dims\u001b[0m \u001b[1;33m=\u001b[0m \u001b[0m_execute\u001b[0m\u001b[1;33m.\u001b[0m\u001b[0mmake_int\u001b[0m\u001b[1;33m(\u001b[0m\u001b[0mbatch_dims\u001b[0m\u001b[1;33m,\u001b[0m \u001b[1;34m\"batch_dims\"\u001b[0m\u001b[1;33m)\u001b[0m\u001b[1;33m\u001b[0m\u001b[1;33m\u001b[0m\u001b[0m\n\u001b[1;32m-> 3760\u001b[1;33m   _, _, _op, _outputs = _op_def_library._apply_op_helper(\n\u001b[0m\u001b[0;32m   3761\u001b[0m         \u001b[1;34m\"GatherV2\"\u001b[0m\u001b[1;33m,\u001b[0m \u001b[0mparams\u001b[0m\u001b[1;33m=\u001b[0m\u001b[0mparams\u001b[0m\u001b[1;33m,\u001b[0m \u001b[0mindices\u001b[0m\u001b[1;33m=\u001b[0m\u001b[0mindices\u001b[0m\u001b[1;33m,\u001b[0m \u001b[0maxis\u001b[0m\u001b[1;33m=\u001b[0m\u001b[0maxis\u001b[0m\u001b[1;33m,\u001b[0m\u001b[1;33m\u001b[0m\u001b[1;33m\u001b[0m\u001b[0m\n\u001b[0;32m   3762\u001b[0m                     batch_dims=batch_dims, name=name)\n",
      "\u001b[1;32mc:\\python38\\lib\\site-packages\\tensorflow\\python\\framework\\op_def_library.py\u001b[0m in \u001b[0;36m_apply_op_helper\u001b[1;34m(op_type_name, name, **keywords)\u001b[0m\n\u001b[0;32m    740\u001b[0m       \u001b[1;31m# Add Op to graph\u001b[0m\u001b[1;33m\u001b[0m\u001b[1;33m\u001b[0m\u001b[1;33m\u001b[0m\u001b[0m\n\u001b[0;32m    741\u001b[0m       \u001b[1;31m# pylint: disable=protected-access\u001b[0m\u001b[1;33m\u001b[0m\u001b[1;33m\u001b[0m\u001b[1;33m\u001b[0m\u001b[0m\n\u001b[1;32m--> 742\u001b[1;33m       op = g._create_op_internal(op_type_name, inputs, dtypes=None,\n\u001b[0m\u001b[0;32m    743\u001b[0m                                  \u001b[0mname\u001b[0m\u001b[1;33m=\u001b[0m\u001b[0mscope\u001b[0m\u001b[1;33m,\u001b[0m \u001b[0minput_types\u001b[0m\u001b[1;33m=\u001b[0m\u001b[0minput_types\u001b[0m\u001b[1;33m,\u001b[0m\u001b[1;33m\u001b[0m\u001b[1;33m\u001b[0m\u001b[0m\n\u001b[0;32m    744\u001b[0m                                  attrs=attr_protos, op_def=op_def)\n",
      "\u001b[1;32mc:\\python38\\lib\\site-packages\\tensorflow\\python\\framework\\func_graph.py\u001b[0m in \u001b[0;36m_create_op_internal\u001b[1;34m(self, op_type, inputs, dtypes, input_types, name, attrs, op_def, compute_device)\u001b[0m\n\u001b[0;32m    591\u001b[0m       \u001b[0minp\u001b[0m \u001b[1;33m=\u001b[0m \u001b[0mself\u001b[0m\u001b[1;33m.\u001b[0m\u001b[0mcapture\u001b[0m\u001b[1;33m(\u001b[0m\u001b[0minp\u001b[0m\u001b[1;33m)\u001b[0m\u001b[1;33m\u001b[0m\u001b[1;33m\u001b[0m\u001b[0m\n\u001b[0;32m    592\u001b[0m       \u001b[0minputs\u001b[0m\u001b[1;33m[\u001b[0m\u001b[0mi\u001b[0m\u001b[1;33m]\u001b[0m \u001b[1;33m=\u001b[0m \u001b[0minp\u001b[0m\u001b[1;33m\u001b[0m\u001b[1;33m\u001b[0m\u001b[0m\n\u001b[1;32m--> 593\u001b[1;33m     return super(FuncGraph, self)._create_op_internal(  # pylint: disable=protected-access\n\u001b[0m\u001b[0;32m    594\u001b[0m         \u001b[0mop_type\u001b[0m\u001b[1;33m,\u001b[0m \u001b[0minputs\u001b[0m\u001b[1;33m,\u001b[0m \u001b[0mdtypes\u001b[0m\u001b[1;33m,\u001b[0m \u001b[0minput_types\u001b[0m\u001b[1;33m,\u001b[0m \u001b[0mname\u001b[0m\u001b[1;33m,\u001b[0m \u001b[0mattrs\u001b[0m\u001b[1;33m,\u001b[0m \u001b[0mop_def\u001b[0m\u001b[1;33m,\u001b[0m\u001b[1;33m\u001b[0m\u001b[1;33m\u001b[0m\u001b[0m\n\u001b[0;32m    595\u001b[0m         compute_device)\n",
      "\u001b[1;32mc:\\python38\\lib\\site-packages\\tensorflow\\python\\framework\\ops.py\u001b[0m in \u001b[0;36m_create_op_internal\u001b[1;34m(self, op_type, inputs, dtypes, input_types, name, attrs, op_def, compute_device)\u001b[0m\n\u001b[0;32m   3317\u001b[0m     \u001b[1;31m# Session.run call cannot occur between creating and mutating the op.\u001b[0m\u001b[1;33m\u001b[0m\u001b[1;33m\u001b[0m\u001b[1;33m\u001b[0m\u001b[0m\n\u001b[0;32m   3318\u001b[0m     \u001b[1;32mwith\u001b[0m \u001b[0mself\u001b[0m\u001b[1;33m.\u001b[0m\u001b[0m_mutation_lock\u001b[0m\u001b[1;33m(\u001b[0m\u001b[1;33m)\u001b[0m\u001b[1;33m:\u001b[0m\u001b[1;33m\u001b[0m\u001b[1;33m\u001b[0m\u001b[0m\n\u001b[1;32m-> 3319\u001b[1;33m       ret = Operation(\n\u001b[0m\u001b[0;32m   3320\u001b[0m           \u001b[0mnode_def\u001b[0m\u001b[1;33m,\u001b[0m\u001b[1;33m\u001b[0m\u001b[1;33m\u001b[0m\u001b[0m\n\u001b[0;32m   3321\u001b[0m           \u001b[0mself\u001b[0m\u001b[1;33m,\u001b[0m\u001b[1;33m\u001b[0m\u001b[1;33m\u001b[0m\u001b[0m\n",
      "\u001b[1;32mc:\\python38\\lib\\site-packages\\tensorflow\\python\\framework\\ops.py\u001b[0m in \u001b[0;36m__init__\u001b[1;34m(self, node_def, g, inputs, output_types, control_inputs, input_types, original_op, op_def)\u001b[0m\n\u001b[0;32m   1814\u001b[0m       \u001b[1;32mif\u001b[0m \u001b[0mop_def\u001b[0m \u001b[1;32mis\u001b[0m \u001b[1;32mNone\u001b[0m\u001b[1;33m:\u001b[0m\u001b[1;33m\u001b[0m\u001b[1;33m\u001b[0m\u001b[0m\n\u001b[0;32m   1815\u001b[0m         \u001b[0mop_def\u001b[0m \u001b[1;33m=\u001b[0m \u001b[0mself\u001b[0m\u001b[1;33m.\u001b[0m\u001b[0m_graph\u001b[0m\u001b[1;33m.\u001b[0m\u001b[0m_get_op_def\u001b[0m\u001b[1;33m(\u001b[0m\u001b[0mnode_def\u001b[0m\u001b[1;33m.\u001b[0m\u001b[0mop\u001b[0m\u001b[1;33m)\u001b[0m\u001b[1;33m\u001b[0m\u001b[1;33m\u001b[0m\u001b[0m\n\u001b[1;32m-> 1816\u001b[1;33m       self._c_op = _create_c_op(self._graph, node_def, inputs,\n\u001b[0m\u001b[0;32m   1817\u001b[0m                                 control_input_ops, op_def)\n\u001b[0;32m   1818\u001b[0m       \u001b[0mname\u001b[0m \u001b[1;33m=\u001b[0m \u001b[0mcompat\u001b[0m\u001b[1;33m.\u001b[0m\u001b[0mas_str\u001b[0m\u001b[1;33m(\u001b[0m\u001b[0mnode_def\u001b[0m\u001b[1;33m.\u001b[0m\u001b[0mname\u001b[0m\u001b[1;33m)\u001b[0m\u001b[1;33m\u001b[0m\u001b[1;33m\u001b[0m\u001b[0m\n",
      "\u001b[1;32mc:\\python38\\lib\\site-packages\\tensorflow\\python\\framework\\ops.py\u001b[0m in \u001b[0;36m_create_c_op\u001b[1;34m(graph, node_def, inputs, control_inputs, op_def)\u001b[0m\n\u001b[0;32m   1625\u001b[0m   \u001b[0minputs\u001b[0m \u001b[1;33m=\u001b[0m \u001b[0m_reconstruct_sequence_inputs\u001b[0m\u001b[1;33m(\u001b[0m\u001b[0mop_def\u001b[0m\u001b[1;33m,\u001b[0m \u001b[0minputs\u001b[0m\u001b[1;33m,\u001b[0m \u001b[0mnode_def\u001b[0m\u001b[1;33m.\u001b[0m\u001b[0mattr\u001b[0m\u001b[1;33m)\u001b[0m\u001b[1;33m\u001b[0m\u001b[1;33m\u001b[0m\u001b[0m\n\u001b[0;32m   1626\u001b[0m   \u001b[1;31m# pylint: disable=protected-access\u001b[0m\u001b[1;33m\u001b[0m\u001b[1;33m\u001b[0m\u001b[1;33m\u001b[0m\u001b[0m\n\u001b[1;32m-> 1627\u001b[1;33m   op_desc = pywrap_tf_session.TF_NewOperation(graph._c_graph,\n\u001b[0m\u001b[0;32m   1628\u001b[0m                                               \u001b[0mcompat\u001b[0m\u001b[1;33m.\u001b[0m\u001b[0mas_str\u001b[0m\u001b[1;33m(\u001b[0m\u001b[0mnode_def\u001b[0m\u001b[1;33m.\u001b[0m\u001b[0mop\u001b[0m\u001b[1;33m)\u001b[0m\u001b[1;33m,\u001b[0m\u001b[1;33m\u001b[0m\u001b[1;33m\u001b[0m\u001b[0m\n\u001b[0;32m   1629\u001b[0m                                               compat.as_str(node_def.name))\n",
      "\u001b[1;31mKeyboardInterrupt\u001b[0m: "
     ]
    }
   ],
   "source": [
    "num_epochs = 100\n",
    "batch_size = num_examples\n",
    "\n",
    "mc.train_models(\n",
    "    batch_size=batch_size,\n",
    "    epochs=num_epochs\n",
    ")\n",
    "\n",
    "# new_model = dense_model_5L()\n",
    "# new_model = load_model(\"checkpoints/chkpt-200.model\")\n",
    "\n",
    "# new_model.predict(mult_logX)\n",
    "#new_model"
   ]
  },
  {
   "cell_type": "markdown",
   "metadata": {},
   "source": [
    "### compare min loss"
   ]
  },
  {
   "cell_type": "code",
   "execution_count": null,
   "metadata": {},
   "outputs": [],
   "source": [
    "models_min_loss, min_loss = mc.compare_min(\"loss\")"
   ]
  },
  {
   "cell_type": "code",
   "execution_count": null,
   "metadata": {
    "scrolled": true
   },
   "outputs": [],
   "source": [
    "models_min_loss"
   ]
  },
  {
   "cell_type": "markdown",
   "metadata": {},
   "source": [
    "## Test Models\n"
   ]
  },
  {
   "cell_type": "code",
   "execution_count": null,
   "metadata": {
    "scrolled": false
   },
   "outputs": [],
   "source": [
    "mc.test_models(use_decoder={\"rnn_model\" : reverse_dictionary})"
   ]
  }
 ],
 "metadata": {
  "kernelspec": {
   "display_name": "Python 3",
   "language": "python",
   "name": "python3"
  },
  "language_info": {
   "codemirror_mode": {
    "name": "ipython",
    "version": 3
   },
   "file_extension": ".py",
   "mimetype": "text/x-python",
   "name": "python",
   "nbconvert_exporter": "python",
   "pygments_lexer": "ipython3",
   "version": "3.8.2"
  }
 },
 "nbformat": 4,
 "nbformat_minor": 4
}
